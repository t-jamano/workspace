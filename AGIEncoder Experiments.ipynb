{
 "cells": [
  {
   "cell_type": "code",
   "execution_count": 1,
   "metadata": {
    "collapsed": false
   },
   "outputs": [
    {
     "name": "stderr",
     "output_type": "stream",
     "text": [
      "Using TensorFlow backend.\n"
     ]
    }
   ],
   "source": [
    "from Models import *\n",
    "from Utils import *\n",
    "from FastModels import *\n",
    "import warnings\n",
    "from livelossplot import PlotLossesKeras\n",
    "# warnings.filterwarnings('ignore')"
   ]
  },
  {
   "cell_type": "code",
   "execution_count": 25,
   "metadata": {
    "collapsed": true
   },
   "outputs": [],
   "source": [
    "df = pd.read_csv(\"/data/honzha/test/agi_vnext2/JulyFlowerIdeal_out.txt\", sep=\"\\t\", header=0, names=['score', 'q', 'd', 'label'])"
   ]
  },
  {
   "cell_type": "code",
   "execution_count": 27,
   "metadata": {
    "collapsed": true
   },
   "outputs": [],
   "source": [
    "from gensim.models import KeyedVectors\n",
    "import sentencepiece as spm\n",
    "\n",
    "max_len = 15\n",
    "enablePadding = True\n",
    "\n",
    "sp = spm.SentencePieceProcessor()\n",
    "sp.Load('/work/data/bpe/en.wiki.bpe.op50000.model')\n",
    "bpe = KeyedVectors.load_word2vec_format(\"/work/data/bpe/en.wiki.bpe.op50000.d200.w2v.bin\", binary=True)\n",
    "bpe.index2word = [''] + bpe.index2word + ['<sos>'] + ['<eos>']  # add empty string \n",
    "nb_words = len(bpe.index2word)\n",
    "# word2index\n",
    "bpe_dict = {bpe.index2word[i]: i for i in range(len(bpe.index2word))}\n",
    "# construct embedding_matrix\n",
    "embedding_matrix = np.concatenate([np.zeros((1, bpe.vector_size)), bpe.vectors, np.zeros((2, bpe.vector_size))]) # add zero vector for empty string (i.e. used for padding)\n",
    "\n",
    "embedding_layer = Embedding(nb_words,\n",
    "                    embedding_matrix.shape[-1],\n",
    "                    weights=[embedding_matrix],\n",
    "                    input_length=max_len,\n",
    "                    trainable=True)"
   ]
  },
  {
   "cell_type": "code",
   "execution_count": 103,
   "metadata": {
    "collapsed": true
   },
   "outputs": [],
   "source": [
    "run = BinaryClassifier(300, 128, nb_words, max_len, embedding_matrix, optimizer=Adam(), enableLSTM=True)\n"
   ]
  },
  {
   "cell_type": "code",
   "execution_count": 111,
   "metadata": {
    "collapsed": false
   },
   "outputs": [],
   "source": [
    "a = run.encoder.predict(x)"
   ]
  },
  {
   "cell_type": "code",
   "execution_count": 122,
   "metadata": {
    "collapsed": false
   },
   "outputs": [
    {
     "data": {
      "text/plain": [
       "array([ 0.18763357,  0.1041089 , -0.00574999, ...,  0.02224936,\n",
       "        0.13253956, -0.03529469], dtype=float32)"
      ]
     },
     "execution_count": 122,
     "metadata": {},
     "output_type": "execute_result"
    }
   ],
   "source": [
    "run.encoder.predict(x).flatten()"
   ]
  },
  {
   "cell_type": "code",
   "execution_count": 163,
   "metadata": {
    "collapsed": false
   },
   "outputs": [],
   "source": [
    "a = np.matmul(run.encoder.predict(x), run.encoder.predict(x).T)"
   ]
  },
  {
   "cell_type": "code",
   "execution_count": 169,
   "metadata": {
    "collapsed": false
   },
   "outputs": [
    {
     "data": {
      "text/plain": [
       "array([[33.076576, 31.544693, 30.20147 , 29.450085],\n",
       "       [31.544693, 39.099506, 33.873688, 31.947266],\n",
       "       [30.20147 , 33.873688, 37.412727, 31.799318],\n",
       "       [29.450085, 31.947266, 31.799318, 33.978188]], dtype=float32)"
      ]
     },
     "execution_count": 169,
     "metadata": {},
     "output_type": "execute_result"
    }
   ],
   "source": [
    "a"
   ]
  },
  {
   "cell_type": "code",
   "execution_count": 178,
   "metadata": {
    "collapsed": false
   },
   "outputs": [
    {
     "data": {
      "text/plain": [
       "4"
      ]
     },
     "execution_count": 178,
     "metadata": {},
     "output_type": "execute_result"
    }
   ],
   "source": [
    "a.shape[0]"
   ]
  },
  {
   "cell_type": "code",
   "execution_count": 183,
   "metadata": {
    "collapsed": false
   },
   "outputs": [
    {
     "name": "stdout",
     "output_type": "stream",
     "text": [
      "[1, 2, 1, 1]\n"
     ]
    }
   ],
   "source": [
    "idx = []\n",
    "mul = np.argsort(a)\n",
    "for i in range(a.shape[0]):\n",
    "    idx.append(mul[i][-1] if mul[i][-1] != i else mul[i][-2])\n",
    "print(idx)"
   ]
  },
  {
   "cell_type": "code",
   "execution_count": 165,
   "metadata": {
    "collapsed": false
   },
   "outputs": [
    {
     "data": {
      "text/plain": [
       "array([0, 1, 2, 3])"
      ]
     },
     "execution_count": 165,
     "metadata": {},
     "output_type": "execute_result"
    }
   ],
   "source": [
    "np.argmax(a, axis=-1)"
   ]
  },
  {
   "cell_type": "code",
   "execution_count": 166,
   "metadata": {
    "collapsed": false
   },
   "outputs": [
    {
     "data": {
      "text/plain": [
       "array([1, 2, 1, 1])"
      ]
     },
     "execution_count": 166,
     "metadata": {},
     "output_type": "execute_result"
    }
   ],
   "source": [
    "np.argsort(a)[:,-2]"
   ]
  },
  {
   "cell_type": "code",
   "execution_count": 160,
   "metadata": {
    "collapsed": false
   },
   "outputs": [
    {
     "data": {
      "text/plain": [
       "array([[41330, 35906, 12272, 25160, 14945, 11931, 48737, 16490, 23305,\n",
       "         2117,  6223,  5714, 29102,  9429, 18672],\n",
       "       [37931, 35373, 24169, 48138, 32376, 34040, 47145, 36399, 35881,\n",
       "        38867, 29953, 23335, 34210, 27985,  4234],\n",
       "       [21541, 18240,  9829, 46909, 46836,  1934,  7101, 35773, 39227,\n",
       "        13905, 42230, 39032, 34761, 35023, 40425],\n",
       "       [11490,  7412, 13850, 44105, 31120, 23094, 47407, 43115,  6013,\n",
       "         7820,  7379, 45588, 46723, 19922,  9155]])"
      ]
     },
     "execution_count": 160,
     "metadata": {},
     "output_type": "execute_result"
    }
   ],
   "source": [
    "x"
   ]
  },
  {
   "cell_type": "code",
   "execution_count": 152,
   "metadata": {
    "collapsed": false
   },
   "outputs": [
    {
     "data": {
      "text/plain": [
       "array([0.5554409 , 0.5815033 , 0.57286173, 0.58253545], dtype=float32)"
      ]
     },
     "execution_count": 152,
     "metadata": {},
     "output_type": "execute_result"
    }
   ],
   "source": [
    "x = np.random.randint(50005, size=(4,15))\n",
    "run.model.predict([x, x]).flatten()"
   ]
  },
  {
   "cell_type": "code",
   "execution_count": 148,
   "metadata": {
    "collapsed": false
   },
   "outputs": [
    {
     "name": "stdout",
     "output_type": "stream",
     "text": [
      "here\n",
      "here\n",
      "here\n",
      "here\n"
     ]
    }
   ],
   "source": [
    "for i in range(0, 1000000, 256):\n",
    "    if i % 256000 == 0:\n",
    "        print(\"here\")"
   ]
  },
  {
   "cell_type": "code",
   "execution_count": 48,
   "metadata": {
    "collapsed": false
   },
   "outputs": [],
   "source": [
    "def get_agi_test_data(filename):\n",
    "\n",
    "    if \"May\" in filename or \"June\" in filename:\n",
    "        # if \"/work/\" in path:\n",
    "        # file_dir = '/data/t-mipha/data/query_similarity_ndcg/%sIdeal.txt' % filename\n",
    "        file_dir = '/data/honzha/test/agi_vnext2/%s' % (filename)\n",
    "        df = pd.read_csv(file_dir, names=[\"score\", \"market\", \"qid\", \"q\", \"label\", \"d\", \"date\"], sep=\"\\t\", header=0, error_bad_lines=False)\n",
    "        df = df.dropna()\n",
    "        y = np.array([0 if i == \"Bad\" else 1 if i == \"Fare\" else 2 for i in df.label.tolist()])\n",
    "\n",
    "        qrel = convert_2_trec(df.q.tolist(), df.d.tolist(), y, True)\n",
    "\n",
    "    elif \"July\" in filename:\n",
    "        file_dir = '/data/honzha/test/agi_vnext2/%s' % (filename)\n",
    "        # file_dir = '/data/chzho/deepqts/test_data/julyflower/julyflower_original.tsv'\n",
    "        df = pd.read_csv(file_dir, names=[\"score\", \"q\", \"d\", \"label\"], sep=\"\\t\", header=0, error_bad_lines=False)\n",
    "        df = df.dropna()\n",
    "        qrel = df.label.values\n",
    "    elif \"vnext\" in filename:\n",
    "        file_dir = '/data/honzha/test/agi_vnext2/%s' % (filename)\n",
    "        # file_dir = '/data/chzho/deepqts/test_data/julyflower/julyflower_original.tsv'\n",
    "        df = pd.read_csv(file_dir, names=[\"score\", \"q\", \"d\", \"mode\", \"label\"], sep=\"\\t\", header=0, error_bad_lines=False)\n",
    "        df = df.dropna()\n",
    "        qrel = df.label.values\n",
    "    elif \"sts\" in filename:\n",
    "\n",
    "        file_dir = '/data/honzha/test/agi_vnext2/%s' % (filename)\n",
    "        df = pd.read_csv(file_dir, sep=\"\\t\",encoding='utf-8',header=0,quoting=3, error_bad_lines=False, names=[\"score\", \"genre\", \"file\", \"year\", \"id\", \"label\",\"q\",\"d\"])\n",
    "        df = df.dropna()\n",
    "        qrel = df.label.values\n",
    "\n",
    "    elif \"quora\" in filename or \"Para\" in filename:\n",
    "        file_dir = '/data/honzha/test/agi_vnext2/%s' % (filename)\n",
    "        df = pd.read_csv(file_dir, sep=\"\\t\",encoding='utf-8',quoting=3,  header=0, error_bad_lines=False, names=[\"score\",\"q\",\"d\",\"label\", \"hashid\"])\n",
    "        df = df.dropna()\n",
    "        qrel = df.label.values\n",
    "\n",
    "    df.q = df.q.astype(str).str.lower()\n",
    "    df.d = df.d.astype(str).str.lower()\n",
    "\n",
    "    return df, qrel"
   ]
  },
  {
   "cell_type": "code",
   "execution_count": 49,
   "metadata": {
    "collapsed": false
   },
   "outputs": [
    {
     "name": "stdout",
     "output_type": "stream",
     "text": [
      "flower_vnext_out.txt\n",
      "MayFlowerIdeal_out.txt\n",
      "sts-dev-strip_out.txt\n",
      "JulyFlowerIdeal_out.txt\n",
      "ParaphraseIdeal_out.txt\n",
      "sts-test-strip_out.txt\n",
      "JuneFlowerIdeal_out.txt\n"
     ]
    },
    {
     "name": "stderr",
     "output_type": "stream",
     "text": [
      "b'Skipping line 19898: expected 7 fields, saw 9\\nSkipping line 20620: expected 7 fields, saw 9\\nSkipping line 38039: expected 7 fields, saw 9\\n'\n"
     ]
    },
    {
     "name": "stdout",
     "output_type": "stream",
     "text": [
      "quora_test_out.txt\n"
     ]
    }
   ],
   "source": [
    "# =================================== Get testing data ==============================================\n",
    "path = \"/work/\"\n",
    "test_set = []\n",
    "datasets = [\"flower_vnext_out.txt\", \"MayFlowerIdeal_out.txt\", \"sts-dev-strip_out.txt\", \"JulyFlowerIdeal_out.txt\", \"ParaphraseIdeal_out.txt\", \"sts-test-strip_out.txt\", \"JuneFlowerIdeal_out.txt\", \"quora_test_out.txt\"]\n",
    "for i in datasets:\n",
    "    print(i)\n",
    "    df, qrel = get_agi_test_data(i)\n",
    "    q_ = parse_texts_bpe(df.q.tolist(), sp, bpe_dict, max_len, enablePadding)\n",
    "    d_ = parse_texts_bpe(df.d.tolist(), sp, bpe_dict, max_len, enablePadding)\n",
    "    test_set.append([q_, d_, qrel, df, i])"
   ]
  },
  {
   "cell_type": "code",
   "execution_count": 101,
   "metadata": {
    "collapsed": false
   },
   "outputs": [],
   "source": [
    "def final_evaluate(run=None, alpha=0):\n",
    "    flower_auc, may_ndcg, june_ndcg, july_auc, quora_auc, para_auc, sts_dev_pcc, sts_test_pcc = 0, 0, 0, 0, 0, 0, 0, 0\n",
    "    for q, d, qrel, df, test_data in test_set:\n",
    "        if run == None:\n",
    "            pred = df.score.values * 0.05\n",
    "        else:\n",
    "            q_ = run.predict(q, batch_size=1024)\n",
    "            d_ = run.predict(d, batch_size=1024)\n",
    "            cosine = CosineSim(q_.shape[-1])\n",
    "            pred = cosine.model.predict([q_, d_]).flatten()\n",
    "            agi_pred = df.score.values\n",
    "            pred = alpha * agi_pred + (1-alpha) * pred\n",
    "\n",
    "        \n",
    "        if test_data in [\"MayFlowerIdeal_out.txt\", \"JuneFlowerIdeal_out.txt\"]:\n",
    "            pred = convert_2_trec(df.q.tolist(), df.d.tolist(), pred, False)\n",
    "            ndcg_score, map_score = ranking_measure(qrel, pred)\n",
    "\n",
    "        if test_data == \"MayFlowerIdeal_out.txt\":\n",
    "            may_ndcg = ndcg_score\n",
    "        elif test_data == \"JuneFlowerIdeal_out.txt\":\n",
    "            june_ndcg = ndcg_score\n",
    "        elif test_data == \"JulyFlowerIdeal_out.txt\":\n",
    "            july_auc = auc(qrel, pred)\n",
    "        elif test_data == \"flower_vnext_out.txt\":\n",
    "            flower_auc = auc(qrel, pred)\n",
    "        elif test_data ==  \"ParaphraseIdeal_out.txt\":\n",
    "            para_auc = auc(qrel, pred)\n",
    "        elif test_data == \"quora_test_out.txt\":\n",
    "            quora_auc = auc(qrel, pred)\n",
    "        elif test_data in [\"sts-dev-strip_out.txt\"]:\n",
    "            sts_dev_pcc = scipy.stats.pearsonr(pred, qrel)[0]\n",
    "        elif test_data in [\"sts-test-strip_out.txt\"]:\n",
    "            sts_test_pcc = scipy.stats.pearsonr(pred, qrel)[0]\n",
    "    return \"%.4f,%.4f,%.4f,%.4f,%.4f,%.4f,%.4f,%.4f\" % (flower_auc, may_ndcg, june_ndcg, july_auc, quora_auc, para_auc, sts_dev_pcc, sts_test_pcc)"
   ]
  },
  {
   "cell_type": "code",
   "execution_count": 93,
   "metadata": {
    "collapsed": false
   },
   "outputs": [
    {
     "data": {
      "text/plain": [
       "'0.8483,0.5222,0.8532,0.6702,0.9231,0.9880,0.8188,0.7735'"
      ]
     },
     "execution_count": 93,
     "metadata": {},
     "output_type": "execute_result"
    }
   ],
   "source": [
    "final_evaluate()"
   ]
  },
  {
   "cell_type": "code",
   "execution_count": 100,
   "metadata": {
    "collapsed": false
   },
   "outputs": [],
   "source": [
    "run = load_model(\"/work/data/models/week10/dssm_aae_s_m2_10M_QQ_ml15_limit1000000_2018_08_26_20:20:25.encoder.h5\")"
   ]
  },
  {
   "cell_type": "code",
   "execution_count": 102,
   "metadata": {
    "collapsed": false
   },
   "outputs": [
    {
     "name": "stdout",
     "output_type": "stream",
     "text": [
      "0.7259,0.4984,0.8330,0.5604,0.7304,0.8867,0.5970,0.5456\n",
      "0.7473,0.5024,0.8370,0.5726,0.7587,0.9110,0.6422,0.5879\n",
      "0.7681,0.5055,0.8398,0.5852,0.7863,0.9310,0.6839,0.6287\n",
      "0.7876,0.5082,0.8423,0.5979,0.8131,0.9475,0.7209,0.6666\n",
      "0.8050,0.5113,0.8443,0.6110,0.8381,0.9603,0.7523,0.7003\n",
      "0.8198,0.5150,0.8469,0.6236,0.8604,0.9700,0.7776,0.7284\n",
      "0.8316,0.5171,0.8495,0.6352,0.8796,0.9770,0.7965,0.7502\n",
      "0.8402,0.5188,0.8508,0.6461,0.8954,0.9819,0.8095,0.7653\n",
      "0.8457,0.5206,0.8520,0.6562,0.9080,0.9852,0.8170,0.7737\n",
      "0.8483,0.5217,0.8531,0.6668,0.9172,0.9871,0.8198,0.7762\n",
      "0.8483,0.5222,0.8532,0.6702,0.9231,0.9880,0.8188,0.7735\n"
     ]
    }
   ],
   "source": [
    "for i in range(11):\n",
    "    print(final_evaluate(run, i * 0.1))"
   ]
  },
  {
   "cell_type": "code",
   "execution_count": null,
   "metadata": {
    "collapsed": true
   },
   "outputs": [],
   "source": []
  }
 ],
 "metadata": {
  "kernelspec": {
   "display_name": "Python 3",
   "language": "python",
   "name": "python3"
  },
  "language_info": {
   "codemirror_mode": {
    "name": "ipython",
    "version": 3
   },
   "file_extension": ".py",
   "mimetype": "text/x-python",
   "name": "python",
   "nbconvert_exporter": "python",
   "pygments_lexer": "ipython3",
   "version": "3.6.0"
  }
 },
 "nbformat": 4,
 "nbformat_minor": 2
}
