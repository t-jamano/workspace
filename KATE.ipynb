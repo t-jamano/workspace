{
 "cells": [
  {
   "cell_type": "code",
   "execution_count": 1,
   "metadata": {
    "collapsed": false
   },
   "outputs": [
    {
     "name": "stderr",
     "output_type": "stream",
     "text": [
      "Using TensorFlow backend.\n"
     ]
    }
   ],
   "source": [
    "from Models import *\n",
    "from Utils import *\n",
    "from FastModels import *\n",
    "import warnings\n",
    "# warnings.filterwarnings('ignore')"
   ]
  },
  {
   "cell_type": "code",
   "execution_count": 2,
   "metadata": {
    "collapsed": true
   },
   "outputs": [],
   "source": [
    "from gensim.models import KeyedVectors\n",
    "import sentencepiece as spm\n",
    "sp = spm.SentencePieceProcessor()\n",
    "sp.Load('/work/data/bpe/en.wiki.bpe.op50000.model')\n",
    "bpe = KeyedVectors.load_word2vec_format(\"/work/data/bpe/en.wiki.bpe.op50000.d200.w2v.bin\", binary=True)\n",
    "bpe2 = KeyedVectors.load_word2vec_format(\"/work/data/bpe/en.wiki.bpe.op50000.d200.w2v.bin\", binary=True)"
   ]
  },
  {
   "cell_type": "code",
   "execution_count": 3,
   "metadata": {
    "collapsed": false
   },
   "outputs": [],
   "source": [
    "bpe_dict = { bpe.index2word[i]: i for i in range(len(bpe.index2word))}"
   ]
  },
  {
   "cell_type": "code",
   "execution_count": 4,
   "metadata": {
    "collapsed": false
   },
   "outputs": [],
   "source": [
    "max_len = 10\n",
    "enablePadding = True\n",
    "nb_words= len(bpe_dict)\n",
    "# run = KATE3D(len(bpe_dict), max_len, bpe.get_keras_embedding(True), [300,128], 2, \"kcomp\")\n",
    "# run.initModel(sp, bpe_dict, bpe.index2word)"
   ]
  },
  {
   "cell_type": "code",
   "execution_count": 5,
   "metadata": {
    "collapsed": false
   },
   "outputs": [
    {
     "name": "stderr",
     "output_type": "stream",
     "text": [
      "b'Skipping line 19898: expected 6 fields, saw 8\\nSkipping line 20620: expected 6 fields, saw 8\\nSkipping line 38039: expected 6 fields, saw 8\\n'\n"
     ]
    }
   ],
   "source": [
    "df_may, qrel_may = get_test_data(\"MayFlower\", \"/work/\")\n",
    "df_june, qrel_june = get_test_data(\"JuneFlower\", \"/work/\")\n",
    "df_july, qrel_july = get_test_data(\"JulyFlower\", \"/work/\")\n",
    "\n",
    "q_may = parse_texts_bpe(df_may.q.tolist(), sp, bpe_dict, max_len, enablePadding)\n",
    "d_may = parse_texts_bpe(df_may.d.tolist(), sp, bpe_dict, max_len, enablePadding)\n",
    "\n",
    "q_june = parse_texts_bpe(df_june.q.tolist(), sp, bpe_dict, max_len, enablePadding)\n",
    "d_june = parse_texts_bpe(df_june.d.tolist(), sp, bpe_dict, max_len, enablePadding)\n",
    "\n",
    "q_july = parse_texts_bpe(df_july.q.tolist(), sp, bpe_dict, max_len, enablePadding)\n",
    "d_july = parse_texts_bpe(df_july.d.tolist(), sp, bpe_dict, max_len, enablePadding)\n",
    "\n",
    "test_set = [[q_may, d_may, qrel_may, df_may, \"MayFlower\"], [q_june, d_june, qrel_june, df_june, \"JuneFlower\"], [q_july, d_july, qrel_july, df_july, \"JulyFlower\"]]\n"
   ]
  },
  {
   "cell_type": "code",
   "execution_count": 6,
   "metadata": {
    "collapsed": false
   },
   "outputs": [],
   "source": [
    "def create_train_data(corpus, max_len, padding=\"pre\"):\n",
    "    x = []\n",
    "    y = []\n",
    "    for query in corpus:\n",
    "        for j in range(len(query)-1):\n",
    "            x.append(query[:j+1])\n",
    "            y.append(query[j+1])\n",
    "            \n",
    "    x = pad_sequences(x, maxlen=max_len, padding=padding)\n",
    "    y = np.array(y)\n",
    "    return x, y"
   ]
  },
  {
   "cell_type": "code",
   "execution_count": 11,
   "metadata": {
    "collapsed": false
   },
   "outputs": [],
   "source": [
    "x_q_july, y_q_july = create_train_data(parse_texts_bpe(df_july.q.tolist(), sp, bpe_dict, max_len, False), max_len)\n",
    "x_d_july, y_d_july = create_train_data(parse_texts_bpe(df_july.d.tolist(), sp, bpe_dict, max_len, False), max_len)\n",
    "x_q_df, y_q_df = create_train_data(parse_texts_bpe(df.q.tolist(), sp, bpe_dict, max_len, False), max_len)"
   ]
  },
  {
   "cell_type": "code",
   "execution_count": 10,
   "metadata": {
    "collapsed": false
   },
   "outputs": [],
   "source": [
    "df = pd.read_csv(\"/work/data/train_data/QueryQueryLog\", nrows=10000, names=[\"q\", \"d\", \"label\"], sep=\"\\t\", header=None, error_bad_lines=False)"
   ]
  },
  {
   "cell_type": "code",
   "execution_count": 7,
   "metadata": {
    "collapsed": false
   },
   "outputs": [],
   "source": [
    "# _q_july = pad_sequences(pad_sequences(q_july, maxlen=max_len+1, padding='pre'), maxlen=max_len, truncating=\"post\")\n",
    "# _d_july = pad_sequences(pad_sequences(d_july, maxlen=max_len+1, padding='pre'), maxlen=max_len, truncating=\"post\")"
   ]
  },
  {
   "cell_type": "code",
   "execution_count": 12,
   "metadata": {
    "collapsed": false
   },
   "outputs": [],
   "source": [
    "q_df = parse_texts_bpe(df.q.tolist(), sp, bpe_dict, max_len, enablePadding=enablePadding)\n",
    "d_df = parse_texts_bpe(df.d.tolist(), sp, bpe_dict, max_len, enablePadding=enablePadding)\n",
    "# q_df_one_hot = to_categorical(q_df, nb_words)\n",
    "# q_df_one_hot = q_df_one_hot.reshape(len(q_df), max_len, nb_words)\n",
    "# _q_df = pad_sequences(pad_sequences(q_df, maxlen=max_len+1, padding='pre'), maxlen=max_len, truncating=\"post\")\n"
   ]
  },
  {
   "cell_type": "code",
   "execution_count": 13,
   "metadata": {
    "collapsed": false
   },
   "outputs": [],
   "source": [
    "q = q_july\n",
    "x = to_categorical(q, nb_words)\n",
    "x = x.reshape(len(q_july), max_len, nb_words)\n",
    "\n",
    "d = d_july\n",
    "y = to_categorical(d, nb_words)\n",
    "y = y.reshape(len(d_july), max_len, nb_words)\n"
   ]
  },
  {
   "cell_type": "code",
   "execution_count": 36,
   "metadata": {
    "collapsed": false
   },
   "outputs": [],
   "source": [
    "run = QueryGenerator(nb_words, max_len, bpe.get_keras_embedding(train_embeddings=True), [300, 128], optimizer=RMSprop(lr=0.01))"
   ]
  },
  {
   "cell_type": "code",
   "execution_count": 13,
   "metadata": {
    "collapsed": true
   },
   "outputs": [],
   "source": [
    "_q_july = pad_sequences(pad_sequences(q_july, maxlen=max_len+1, padding='post'), maxlen=max_len, truncating=\"pre\")\n",
    "_d_july = pad_sequences(pad_sequences(d_july, maxlen=max_len+1, padding='post'), maxlen=max_len, truncating=\"pre\")"
   ]
  },
  {
   "cell_type": "code",
   "execution_count": 14,
   "metadata": {
    "collapsed": true
   },
   "outputs": [],
   "source": [
    "_q_df = pad_sequences(pad_sequences(q_df, maxlen=max_len+1, padding='post'), maxlen=max_len, truncating=\"pre\")"
   ]
  },
  {
   "cell_type": "code",
   "execution_count": 38,
   "metadata": {
    "collapsed": false
   },
   "outputs": [],
   "source": [
    "# x_train = np.concatenate([q_july, d_july])\n",
    "# y_train = np.concatenate([np.expand_dims(q_july, axis=-1), np.expand_dims(d_july, axis=-1)])\n",
    "\n",
    "x_train = q_july\n",
    "y_train = np.expand_dims(q_july, axis=-1)\n",
    "y_train = np.expand_dims(_q_july, axis=-1)\n",
    "\n",
    "# y_train = np.concatenate([np.expand_dims(_q_july, axis=-1), np.expand_dims(_d_july, axis=-1)])"
   ]
  },
  {
   "cell_type": "code",
   "execution_count": 16,
   "metadata": {
    "collapsed": true
   },
   "outputs": [],
   "source": [
    "x_train = q_df\n",
    "# y_train = np.expand_dims(q_df, axis=-1)\n",
    "y_train = np.expand_dims(_q_df, axis=-1)\n",
    "# y_train = q_df"
   ]
  },
  {
   "cell_type": "code",
   "execution_count": 14,
   "metadata": {
    "collapsed": true
   },
   "outputs": [],
   "source": [
    "from keras.layers import Dense, Input, GlobalMaxPooling1D, GlobalAveragePooling1D\n",
    "from keras.layers import Conv1D, MaxPooling1D, Embedding\n",
    "from keras.models import Sequential\n",
    "\n",
    "w2v = Sequential()\n",
    "w2v.add(bpe.get_keras_embedding(train_embeddings=True))\n",
    "w2v.add(GlobalMaxPooling1D())\n",
    "\n",
    "# pred = get_cosine_sim(w2v.predict(q_july), w2v.predict(d_july))\n",
    "# print(auc(qrel_july, pred.flatten()))\n",
    "\n",
    "\n",
    "def eval(epoch, logs):\n",
    "    \n",
    "    loss = logs.get(\"loss\")\n",
    "    val_loss = logs.get(\"val_loss\")\n",
    "    \n",
    "#     may_ndcg, june_ndcg, july_auc = evaluate(run, cosine, test_set)\n",
    "#     print_output = '%s, Epoch %d, [%.1f s], May = %.4f, June = %.4f, July = %.4f, Loss = %.4f, V_Loss = %.4f \\n' % (run.name(), epoch, 0, may_ndcg, june_ndcg, july_auc, loss, val_loss)\n",
    "#     print(print_output)\n",
    "    \n",
    "#     generate_output(run.model.predict(q_july), run.model.predict(d_july))\n",
    "\n",
    "    if hasattr(run, 'generator'):\n",
    "        generate_output(run.generator.predict(q_july), run.generator.predict(d_july))\n",
    "    elif \"seqvae\" in run.name():\n",
    "\n",
    "        generate_output(run.model.predict([q_july, _q_july]), run.model.predict([d_july, _d_july]))\n",
    "    elif \"kate_lstm\" in run.name() or \"vae_lstm\" in run.name():\n",
    "#         sample new query\n",
    "#         generate_output(run.model.predict(q_july)[0], run.model.predict(d_july)[0])\n",
    "        generate_output(run.decoder.predict(run.encoder.predict(q_july)), run.decoder.predict(run.encoder.predict(d_july)))\n",
    "    elif \"naive_vae\" in run.name() or \"nvdm\" in run.name():\n",
    "        print(\"no generated query\")\n",
    "    else:\n",
    "        generate_output(run.model.predict(q_july), run.model.predict(d_july))\n",
    "    \n",
    "    \n",
    "    #       combine with w2v\n",
    "    if run.name() == \"nvdm\":\n",
    "        q = run.encoder\n",
    "#     q = np.concatenate([w2v.predict(q_july), run.encoder.predict(q_july)], axis=-1)\n",
    "#     d = np.concatenate([w2v.predict(d_july), run.encoder.predict(d_july)], axis=-1)\n",
    "    \n",
    "    cosine = CosineSim(q.shape[-1])\n",
    "    \n",
    "    pred = cosine.model.predict([q, d])\n",
    "    print(loss, val_loss, auc(qrel_july, pred.flatten()))\n",
    "    \n",
    "    \n",
    "class QueryGenerator():\n",
    "    \n",
    "    def __init__(self, input_size, max_len, emb, dim, comp_topk=None, ctype=None, epsilon_std=1.0, optimizer=Adadelta(lr=2.), kl_weight=0, cos_weight=1):\n",
    "        \n",
    "        self.input_size = input_size\n",
    "        self.dim = dim\n",
    "        self.emb = emb\n",
    "        self.comp_topk = comp_topk\n",
    "        self.ctype = ctype\n",
    "        self.epsilon_std = epsilon_std\n",
    "        self.max_len = max_len\n",
    "        self.nb_words = input_size\n",
    "        self.optimizer = optimizer\n",
    "        self.kl_weight = kl_weight\n",
    "        self.cos_weight = cos_weight\n",
    "        \n",
    "        self.build()\n",
    "    def name(self):\n",
    "        return \"lstm\"\n",
    "        \n",
    "    def build(self):\n",
    "        \n",
    "        emb = self.emb\n",
    "        emb.masking = True\n",
    "        lstm = LSTM(self.dim[1], return_sequences=True)\n",
    "        dense = Dense(self.nb_words)\n",
    "        \n",
    "        self.model = Sequential([emb, lstm, dense, Activation('softmax')])\n",
    "        self.encoder = Sequential([emb, lstm, GlobalMaxPooling1D()])\n",
    "        \n",
    "        self.model.compile(loss='sparse_categorical_crossentropy', optimizer=self.optimizer)\n",
    "        \n",
    "        \n",
    "        "
   ]
  },
  {
   "cell_type": "code",
   "execution_count": 15,
   "metadata": {
    "collapsed": true
   },
   "outputs": [],
   "source": [
    "class KL_Annealing(Callback):\n",
    "    \n",
    "    def __init__(self, run):\n",
    "        super(KL_Annealing, self).__init__()\n",
    "        \n",
    "        self.run = run\n",
    "        self.kl_inc_rate = 1 / 5000. # set the annealing rate for KL loss\n",
    "        self.cos_inc_rate = 1\n",
    "        self.max_cos_weight = 150.\n",
    "        self.max_kl_weight = 1.\n",
    "\n",
    "    def on_epoch_end(self, epoch, logs=None):\n",
    "        if hasattr(self.run, 'loss_layer'):\n",
    "            self.run.loss_layer.kl_weight = min(self.run.loss_layer.kl_weight + self.kl_inc_rate, self.max_kl_weight)\n",
    "        elif hasattr(self.run, \"kl_weight\"):\n",
    "            self.run.kl_weight = min(self.run.kl_weight + self.kl_inc_rate, self.max_kl_weight)\n",
    "            \n",
    "            if \"kate_lstm\" in self.run.name() or \"vae_lstm\" in self.run.name():\n",
    "                self.run.model.compile(optimizer=self.run.optimizer, loss=[\"sparse_categorical_crossentropy\", self.run.kl_loss])\n",
    "            else:\n",
    "                self.run.model.compile(optimizer=self.run.optimizer, loss=[self.run.vae_loss])\n",
    "\n"
   ]
  },
  {
   "cell_type": "code",
   "execution_count": 16,
   "metadata": {
    "collapsed": false
   },
   "outputs": [],
   "source": [
    "from keras.models import Model\n",
    "from keras.layers import Input\n",
    "from keras.layers import LSTM\n",
    "from keras.layers import Dense\n",
    "from keras.utils.vis_utils import plot_model\n",
    "\n",
    "class SeqVAE():\n",
    "    \n",
    "    def __init__(self, nb_words, max_len, emb, dim, comp_topk=None, ctype=None, epsilon_std=1.0, mode=0, optimizer=Adadelta(lr=2.), enableGAN=False):\n",
    "        \n",
    "        \n",
    "        self.dim = dim\n",
    "        self.comp_topk = comp_topk\n",
    "        self.ctype = ctype\n",
    "        self.epsilon_std = epsilon_std\n",
    "        self.mode = mode\n",
    "        self.nb_words = nb_words\n",
    "        self.max_len = max_len\n",
    "        self.emb = emb\n",
    "        self.enableGAN = enableGAN\n",
    "        self.kl_weight = 0\n",
    "        self.optimizer = optimizer\n",
    "        \n",
    "        self.build()\n",
    "    def name(self):\n",
    "        return \"seqvae%d\" % self.mode\n",
    "    \n",
    "    def sampling(self, args):\n",
    "        z_mean, z_log_var = args\n",
    "        epsilon = K.random_normal(shape=(K.shape(z_mean)[0], self.dim[0]), mean=0.,\\\n",
    "                                  stddev=self.epsilon_std)\n",
    "\n",
    "        return z_mean + K.exp(z_log_var / 2) * epsilon\n",
    "    \n",
    "    def vae_loss(self, x, x_):\n",
    "        \n",
    "        rec_loss =  K.sum(K.sparse_categorical_crossentropy(x, x_), axis=-1)\n",
    "\n",
    "        if self.mode == 0:\n",
    "            kl_loss = - 0.5 * K.sum(1 + self.z_log_var - K.square(self.z_mean) - K.exp(self.z_log_var), axis=-1)\n",
    "            return rec_loss + (self.kl_weight * kl_loss)\n",
    "        elif self.mode == 1:\n",
    "            kl_h_loss = - 0.5 * K.sum(1 + self.h_var - K.square(self.h_mean) - K.exp(self.h_var), axis=-1)\n",
    "            kl_c_loss = - 0.5 * K.sum(1 + self.c_var - K.square(self.c_mean) - K.exp(self.c_var), axis=-1)\n",
    "            return rec_loss + (self.kl_weight * (kl_h_loss + hl_c_loss))\n",
    "    \n",
    "    def build(self):\n",
    "        \n",
    "        encoder_inputs = Input(shape=(self.max_len,))\n",
    "        encoder = LSTM(self.dim[0], return_state=True)\n",
    "        encoder_outputs, state_h, state_c = encoder(self.emb(encoder_inputs))\n",
    "        \n",
    "        if self.mode == 0:\n",
    "            self.z_mean = Dense(self.dim[0])(encoder_outputs)\n",
    "            self.z_log_var = Dense(self.dim[0])(encoder_outputs)\n",
    "\n",
    "            z = Lambda(self.sampling, output_shape=(self.dim[0],))([self.z_mean, self.z_log_var])\n",
    "            encoder_states = [z, z]\n",
    "        elif self.mode == 1:\n",
    "            self.h_mean = Dense(self.dim[0])(state_h)\n",
    "            self.h_var = Dense(self.dim[0])(state_h)\n",
    "            \n",
    "            self.c_mean = Dense(self.dim[0])(state_c)\n",
    "            self.c_var = Dense(self.dim[0])(state_c)\n",
    "\n",
    "            z_h = Lambda(self.sampling, output_shape=(self.dim[0],))([self.h_mean, self.h_var])\n",
    "            z_c = Lambda(self.sampling, output_shape=(self.dim[0],))([self.c_mean, self.c_var])\n",
    "\n",
    "            encoder_states = [z_h, z_c]\n",
    "        \n",
    "        # Set up the decoder, using `encoder_states` as initial state.\n",
    "        decoder_inputs = Input(shape=(self.max_len,))\n",
    "        # We set up our decoder to return full output sequences,\n",
    "        # and to return internal states as well. We don't use the\n",
    "        # return states in the training model, but we will use them in inference.\n",
    "        decoder_lstm = LSTM(self.dim[0], return_sequences=True, return_state=True)\n",
    "        decoder_outputs, _, _ = decoder_lstm(self.emb(decoder_inputs), initial_state=encoder_states)\n",
    "        decoder_dense = Dense(self.nb_words, activation='softmax')\n",
    "        decoder_outputs = decoder_dense(decoder_outputs)\n",
    "        # Define the model that will turn\n",
    "        # `encoder_input_data` & `decoder_input_data` into `decoder_target_data`\n",
    "        self.model = Model([encoder_inputs, decoder_inputs], [decoder_outputs])\n",
    "#         self.model.compile(optimizer=self.optimizer, loss=[\"sparse_categorical_crossentropy\"])\n",
    "        self.model.compile(optimizer=self.optimizer, loss=[self.vae_loss])\n",
    "\n",
    "        self.encoder = Model(encoder_inputs, encoder_outputs)"
   ]
  },
  {
   "cell_type": "code",
   "execution_count": 57,
   "metadata": {
    "collapsed": false
   },
   "outputs": [],
   "source": [
    "run = SeqVAE(nb_words, max_len, bpe.get_keras_embedding(train_embeddings=True), [300, 128], mode=0, optimizer=RMSprop(lr=0.01))"
   ]
  },
  {
   "cell_type": "code",
   "execution_count": 40,
   "metadata": {
    "collapsed": true
   },
   "outputs": [],
   "source": [
    "# Test Data\n",
    "_q_july = pad_sequences(pad_sequences(q_july, maxlen=max_len+1, padding='pre'), maxlen=max_len, truncating=\"post\")\n",
    "_d_july = pad_sequences(pad_sequences(d_july, maxlen=max_len+1, padding='pre'), maxlen=max_len, truncating=\"post\")\n",
    "\n",
    "x_train = [q_july, _q_july]\n",
    "y_train = np.expand_dims(q_july, axis=-1)\n"
   ]
  },
  {
   "cell_type": "code",
   "execution_count": 45,
   "metadata": {
    "collapsed": false
   },
   "outputs": [],
   "source": [
    "run = VAE_LSTM(nb_words, max_len, bpe.get_keras_embedding(train_embeddings=True), [300, 128], kl_weight=0.2, optimizer=RMSprop(lr=0.01))"
   ]
  },
  {
   "cell_type": "code",
   "execution_count": 46,
   "metadata": {
    "collapsed": false
   },
   "outputs": [
    {
     "name": "stdout",
     "output_type": "stream",
     "text": [
      "7968/|/[loss: 6.749, decoded_mean_loss_1: 4.696, decoded_mean_loss_2: 2.054] 100%|| 7968/8000 [00:49<00:00, 322.81it/s]h ives causes        : abbey voc hara hara hara hara hara hara hara activation\n",
      "\n",
      "difference between whe y protein and whe y protein isolate : abbey fresno sharp sharp sharp sharp sharp sharp sharp activation\n",
      "\n",
      "average cost of ky bella      : back activation activation activation activation activation activation activation activation activation\n",
      "\n",
      "mac ular hole surgery recovery      : abbey abbey activation activation activation activation activation activation activation activation\n",
      "\n",
      "kir stin powers        :          ww\n",
      "\n",
      "top capital gains tax rate  2 0 <unk>  :   to to to to to to to to\n",
      "\n",
      " per oid ic table      :  mov mov mov mov mov mov mov mov mov\n",
      "\n",
      "6.742331712722779 5.346508201599121 0.5740621316907203\n",
      "h ives causes        : tar tar smoke smoke smoke smoke smoke tar tar ve\n",
      "\n",
      "difference between whe y protein and whe y protein isolate : tar tar tar tar tar tar tar tar tar tar\n",
      "\n",
      "average cost of ky bella      :   house house house house house house house house\n",
      "\n",
      "mac ular hole surgery recovery      : tar ek ek ek ek ek ek ek ek ek\n",
      "\n",
      "kir stin powers        :  dec dec dec dec dec dec dec dec dec\n",
      "\n",
      "top capital gains tax rate  2 0 <unk>  : ek ek ek ek ek ek ek ek ek ek\n",
      "\n",
      " per oid ic table      : trips ek ek ek ek ek ek ek ek ek\n",
      "\n",
      "7968/|/[loss: 5.030, decoded_mean_loss_1: 4.232, decoded_mean_loss_2: 0.799] 100%|| 7968/8000 [00:39<00:00, 310.18it/s]5.029484869003296 7.185558666229248 0.5506682381195935\n"
     ]
    },
    {
     "ename": "KeyboardInterrupt",
     "evalue": "",
     "output_type": "error",
     "traceback": [
      "\u001b[0;31m---------------------------------------------------------------------------\u001b[0m",
      "\u001b[0;31mKeyboardInterrupt\u001b[0m                         Traceback (most recent call last)",
      "\u001b[0;32m<ipython-input-46-f55cd8d9ca65>\u001b[0m in \u001b[0;36m<module>\u001b[0;34m()\u001b[0m\n\u001b[1;32m      4\u001b[0m \u001b[0my_train\u001b[0m \u001b[0;34m=\u001b[0m \u001b[0mnp\u001b[0m\u001b[0;34m.\u001b[0m\u001b[0mexpand_dims\u001b[0m\u001b[0;34m(\u001b[0m\u001b[0mq_df\u001b[0m\u001b[0;34m,\u001b[0m \u001b[0maxis\u001b[0m\u001b[0;34m=\u001b[0m\u001b[0;34m-\u001b[0m\u001b[0;36m1\u001b[0m\u001b[0;34m)\u001b[0m\u001b[0;34m\u001b[0m\u001b[0m\n\u001b[1;32m      5\u001b[0m \u001b[0;34m\u001b[0m\u001b[0m\n\u001b[0;32m----> 6\u001b[0;31m \u001b[0mhist\u001b[0m \u001b[0;34m=\u001b[0m \u001b[0mrun\u001b[0m\u001b[0;34m.\u001b[0m\u001b[0mmodel\u001b[0m\u001b[0;34m.\u001b[0m\u001b[0mfit\u001b[0m\u001b[0;34m(\u001b[0m\u001b[0mx_train\u001b[0m\u001b[0;34m,\u001b[0m \u001b[0;34m[\u001b[0m\u001b[0my_train\u001b[0m\u001b[0;34m,\u001b[0m \u001b[0my_train\u001b[0m\u001b[0;34m]\u001b[0m\u001b[0;34m,\u001b[0m \u001b[0mepochs\u001b[0m\u001b[0;34m=\u001b[0m\u001b[0;36m50\u001b[0m\u001b[0;34m,\u001b[0m \u001b[0mverbose\u001b[0m\u001b[0;34m=\u001b[0m\u001b[0;36m0\u001b[0m\u001b[0;34m,\u001b[0m \u001b[0mbatch_size\u001b[0m\u001b[0;34m=\u001b[0m\u001b[0;36m32\u001b[0m\u001b[0;34m,\u001b[0m \u001b[0mvalidation_split\u001b[0m\u001b[0;34m=\u001b[0m\u001b[0;36m0.2\u001b[0m\u001b[0;34m,\u001b[0m \u001b[0mcallbacks\u001b[0m\u001b[0;34m=\u001b[0m\u001b[0;34m[\u001b[0m\u001b[0mEarlyStopping\u001b[0m\u001b[0;34m(\u001b[0m\u001b[0mverbose\u001b[0m\u001b[0;34m=\u001b[0m\u001b[0;36m1\u001b[0m\u001b[0;34m,\u001b[0m \u001b[0mpatience\u001b[0m\u001b[0;34m=\u001b[0m\u001b[0;36m5\u001b[0m\u001b[0;34m)\u001b[0m\u001b[0;34m,\u001b[0m\u001b[0mReduceLROnPlateau\u001b[0m\u001b[0;34m(\u001b[0m\u001b[0mverbose\u001b[0m\u001b[0;34m=\u001b[0m\u001b[0;36m1\u001b[0m\u001b[0;34m,\u001b[0m \u001b[0mpatience\u001b[0m\u001b[0;34m=\u001b[0m\u001b[0;36m3\u001b[0m\u001b[0;34m)\u001b[0m\u001b[0;34m,\u001b[0m \u001b[0mLambdaCallback\u001b[0m\u001b[0;34m(\u001b[0m\u001b[0mon_epoch_end\u001b[0m\u001b[0;34m=\u001b[0m\u001b[0meval\u001b[0m\u001b[0;34m)\u001b[0m\u001b[0;34m,\u001b[0m \u001b[0mKL_Annealing\u001b[0m\u001b[0;34m(\u001b[0m\u001b[0mrun\u001b[0m\u001b[0;34m)\u001b[0m\u001b[0;34m,\u001b[0m \u001b[0mTQDMNotebookCallback\u001b[0m\u001b[0;34m(\u001b[0m\u001b[0;34m)\u001b[0m\u001b[0;34m]\u001b[0m\u001b[0;34m)\u001b[0m\u001b[0;34m\u001b[0m\u001b[0m\n\u001b[0m",
      "\u001b[0;32m/home/t-jamano/.local/lib/python3.6/site-packages/keras/engine/training.py\u001b[0m in \u001b[0;36mfit\u001b[0;34m(self, x, y, batch_size, epochs, verbose, callbacks, validation_split, validation_data, shuffle, class_weight, sample_weight, initial_epoch, steps_per_epoch, validation_steps, **kwargs)\u001b[0m\n\u001b[1;32m   1629\u001b[0m                               \u001b[0minitial_epoch\u001b[0m\u001b[0;34m=\u001b[0m\u001b[0minitial_epoch\u001b[0m\u001b[0;34m,\u001b[0m\u001b[0;34m\u001b[0m\u001b[0m\n\u001b[1;32m   1630\u001b[0m                               \u001b[0msteps_per_epoch\u001b[0m\u001b[0;34m=\u001b[0m\u001b[0msteps_per_epoch\u001b[0m\u001b[0;34m,\u001b[0m\u001b[0;34m\u001b[0m\u001b[0m\n\u001b[0;32m-> 1631\u001b[0;31m                               validation_steps=validation_steps)\n\u001b[0m\u001b[1;32m   1632\u001b[0m \u001b[0;34m\u001b[0m\u001b[0m\n\u001b[1;32m   1633\u001b[0m     def evaluate(self, x=None, y=None,\n",
      "\u001b[0;32m/home/t-jamano/.local/lib/python3.6/site-packages/keras/engine/training.py\u001b[0m in \u001b[0;36m_fit_loop\u001b[0;34m(self, f, ins, out_labels, batch_size, epochs, verbose, callbacks, val_f, val_ins, shuffle, callback_metrics, initial_epoch, steps_per_epoch, validation_steps)\u001b[0m\n\u001b[1;32m   1211\u001b[0m                     \u001b[0mbatch_logs\u001b[0m\u001b[0;34m[\u001b[0m\u001b[0;34m'size'\u001b[0m\u001b[0;34m]\u001b[0m \u001b[0;34m=\u001b[0m \u001b[0mlen\u001b[0m\u001b[0;34m(\u001b[0m\u001b[0mbatch_ids\u001b[0m\u001b[0;34m)\u001b[0m\u001b[0;34m\u001b[0m\u001b[0m\n\u001b[1;32m   1212\u001b[0m                     \u001b[0mcallbacks\u001b[0m\u001b[0;34m.\u001b[0m\u001b[0mon_batch_begin\u001b[0m\u001b[0;34m(\u001b[0m\u001b[0mbatch_index\u001b[0m\u001b[0;34m,\u001b[0m \u001b[0mbatch_logs\u001b[0m\u001b[0;34m)\u001b[0m\u001b[0;34m\u001b[0m\u001b[0m\n\u001b[0;32m-> 1213\u001b[0;31m                     \u001b[0mouts\u001b[0m \u001b[0;34m=\u001b[0m \u001b[0mf\u001b[0m\u001b[0;34m(\u001b[0m\u001b[0mins_batch\u001b[0m\u001b[0;34m)\u001b[0m\u001b[0;34m\u001b[0m\u001b[0m\n\u001b[0m\u001b[1;32m   1214\u001b[0m                     \u001b[0;32mif\u001b[0m \u001b[0;32mnot\u001b[0m \u001b[0misinstance\u001b[0m\u001b[0;34m(\u001b[0m\u001b[0mouts\u001b[0m\u001b[0;34m,\u001b[0m \u001b[0mlist\u001b[0m\u001b[0;34m)\u001b[0m\u001b[0;34m:\u001b[0m\u001b[0;34m\u001b[0m\u001b[0m\n\u001b[1;32m   1215\u001b[0m                         \u001b[0mouts\u001b[0m \u001b[0;34m=\u001b[0m \u001b[0;34m[\u001b[0m\u001b[0mouts\u001b[0m\u001b[0;34m]\u001b[0m\u001b[0;34m\u001b[0m\u001b[0m\n",
      "\u001b[0;32m/home/t-jamano/.local/lib/python3.6/site-packages/keras/backend/tensorflow_backend.py\u001b[0m in \u001b[0;36m__call__\u001b[0;34m(self, inputs)\u001b[0m\n\u001b[1;32m   2330\u001b[0m         updated = session.run(self.outputs + [self.updates_op],\n\u001b[1;32m   2331\u001b[0m                               \u001b[0mfeed_dict\u001b[0m\u001b[0;34m=\u001b[0m\u001b[0mfeed_dict\u001b[0m\u001b[0;34m,\u001b[0m\u001b[0;34m\u001b[0m\u001b[0m\n\u001b[0;32m-> 2332\u001b[0;31m                               **self.session_kwargs)\n\u001b[0m\u001b[1;32m   2333\u001b[0m         \u001b[0;32mreturn\u001b[0m \u001b[0mupdated\u001b[0m\u001b[0;34m[\u001b[0m\u001b[0;34m:\u001b[0m\u001b[0mlen\u001b[0m\u001b[0;34m(\u001b[0m\u001b[0mself\u001b[0m\u001b[0;34m.\u001b[0m\u001b[0moutputs\u001b[0m\u001b[0;34m)\u001b[0m\u001b[0;34m]\u001b[0m\u001b[0;34m\u001b[0m\u001b[0m\n\u001b[1;32m   2334\u001b[0m \u001b[0;34m\u001b[0m\u001b[0m\n",
      "\u001b[0;32m/usr/local/anaconda3/lib/python3.6/site-packages/tensorflow/python/client/session.py\u001b[0m in \u001b[0;36mrun\u001b[0;34m(self, fetches, feed_dict, options, run_metadata)\u001b[0m\n\u001b[1;32m    776\u001b[0m     \u001b[0;32mtry\u001b[0m\u001b[0;34m:\u001b[0m\u001b[0;34m\u001b[0m\u001b[0m\n\u001b[1;32m    777\u001b[0m       result = self._run(None, fetches, feed_dict, options_ptr,\n\u001b[0;32m--> 778\u001b[0;31m                          run_metadata_ptr)\n\u001b[0m\u001b[1;32m    779\u001b[0m       \u001b[0;32mif\u001b[0m \u001b[0mrun_metadata\u001b[0m\u001b[0;34m:\u001b[0m\u001b[0;34m\u001b[0m\u001b[0m\n\u001b[1;32m    780\u001b[0m         \u001b[0mproto_data\u001b[0m \u001b[0;34m=\u001b[0m \u001b[0mtf_session\u001b[0m\u001b[0;34m.\u001b[0m\u001b[0mTF_GetBuffer\u001b[0m\u001b[0;34m(\u001b[0m\u001b[0mrun_metadata_ptr\u001b[0m\u001b[0;34m)\u001b[0m\u001b[0;34m\u001b[0m\u001b[0m\n",
      "\u001b[0;32m/usr/local/anaconda3/lib/python3.6/site-packages/tensorflow/python/client/session.py\u001b[0m in \u001b[0;36m_run\u001b[0;34m(self, handle, fetches, feed_dict, options, run_metadata)\u001b[0m\n\u001b[1;32m    980\u001b[0m     \u001b[0;32mif\u001b[0m \u001b[0mfinal_fetches\u001b[0m \u001b[0;32mor\u001b[0m \u001b[0mfinal_targets\u001b[0m\u001b[0;34m:\u001b[0m\u001b[0;34m\u001b[0m\u001b[0m\n\u001b[1;32m    981\u001b[0m       results = self._do_run(handle, final_targets, final_fetches,\n\u001b[0;32m--> 982\u001b[0;31m                              feed_dict_string, options, run_metadata)\n\u001b[0m\u001b[1;32m    983\u001b[0m     \u001b[0;32melse\u001b[0m\u001b[0;34m:\u001b[0m\u001b[0;34m\u001b[0m\u001b[0m\n\u001b[1;32m    984\u001b[0m       \u001b[0mresults\u001b[0m \u001b[0;34m=\u001b[0m \u001b[0;34m[\u001b[0m\u001b[0;34m]\u001b[0m\u001b[0;34m\u001b[0m\u001b[0m\n",
      "\u001b[0;32m/usr/local/anaconda3/lib/python3.6/site-packages/tensorflow/python/client/session.py\u001b[0m in \u001b[0;36m_do_run\u001b[0;34m(self, handle, target_list, fetch_list, feed_dict, options, run_metadata)\u001b[0m\n\u001b[1;32m   1030\u001b[0m     \u001b[0;32mif\u001b[0m \u001b[0mhandle\u001b[0m \u001b[0;32mis\u001b[0m \u001b[0;32mNone\u001b[0m\u001b[0;34m:\u001b[0m\u001b[0;34m\u001b[0m\u001b[0m\n\u001b[1;32m   1031\u001b[0m       return self._do_call(_run_fn, self._session, feed_dict, fetch_list,\n\u001b[0;32m-> 1032\u001b[0;31m                            target_list, options, run_metadata)\n\u001b[0m\u001b[1;32m   1033\u001b[0m     \u001b[0;32melse\u001b[0m\u001b[0;34m:\u001b[0m\u001b[0;34m\u001b[0m\u001b[0m\n\u001b[1;32m   1034\u001b[0m       return self._do_call(_prun_fn, self._session, handle, feed_dict,\n",
      "\u001b[0;32m/usr/local/anaconda3/lib/python3.6/site-packages/tensorflow/python/client/session.py\u001b[0m in \u001b[0;36m_do_call\u001b[0;34m(self, fn, *args)\u001b[0m\n\u001b[1;32m   1037\u001b[0m   \u001b[0;32mdef\u001b[0m \u001b[0m_do_call\u001b[0m\u001b[0;34m(\u001b[0m\u001b[0mself\u001b[0m\u001b[0;34m,\u001b[0m \u001b[0mfn\u001b[0m\u001b[0;34m,\u001b[0m \u001b[0;34m*\u001b[0m\u001b[0margs\u001b[0m\u001b[0;34m)\u001b[0m\u001b[0;34m:\u001b[0m\u001b[0;34m\u001b[0m\u001b[0m\n\u001b[1;32m   1038\u001b[0m     \u001b[0;32mtry\u001b[0m\u001b[0;34m:\u001b[0m\u001b[0;34m\u001b[0m\u001b[0m\n\u001b[0;32m-> 1039\u001b[0;31m       \u001b[0;32mreturn\u001b[0m \u001b[0mfn\u001b[0m\u001b[0;34m(\u001b[0m\u001b[0;34m*\u001b[0m\u001b[0margs\u001b[0m\u001b[0;34m)\u001b[0m\u001b[0;34m\u001b[0m\u001b[0m\n\u001b[0m\u001b[1;32m   1040\u001b[0m     \u001b[0;32mexcept\u001b[0m \u001b[0merrors\u001b[0m\u001b[0;34m.\u001b[0m\u001b[0mOpError\u001b[0m \u001b[0;32mas\u001b[0m \u001b[0me\u001b[0m\u001b[0;34m:\u001b[0m\u001b[0;34m\u001b[0m\u001b[0m\n\u001b[1;32m   1041\u001b[0m       \u001b[0mmessage\u001b[0m \u001b[0;34m=\u001b[0m \u001b[0mcompat\u001b[0m\u001b[0;34m.\u001b[0m\u001b[0mas_text\u001b[0m\u001b[0;34m(\u001b[0m\u001b[0me\u001b[0m\u001b[0;34m.\u001b[0m\u001b[0mmessage\u001b[0m\u001b[0;34m)\u001b[0m\u001b[0;34m\u001b[0m\u001b[0m\n",
      "\u001b[0;32m/usr/local/anaconda3/lib/python3.6/site-packages/tensorflow/python/client/session.py\u001b[0m in \u001b[0;36m_run_fn\u001b[0;34m(session, feed_dict, fetch_list, target_list, options, run_metadata)\u001b[0m\n\u001b[1;32m   1015\u001b[0m                 run_metadata):\n\u001b[1;32m   1016\u001b[0m       \u001b[0;31m# Ensure any changes to the graph are reflected in the runtime.\u001b[0m\u001b[0;34m\u001b[0m\u001b[0;34m\u001b[0m\u001b[0m\n\u001b[0;32m-> 1017\u001b[0;31m       \u001b[0mself\u001b[0m\u001b[0;34m.\u001b[0m\u001b[0m_extend_graph\u001b[0m\u001b[0;34m(\u001b[0m\u001b[0;34m)\u001b[0m\u001b[0;34m\u001b[0m\u001b[0m\n\u001b[0m\u001b[1;32m   1018\u001b[0m       \u001b[0;32mwith\u001b[0m \u001b[0merrors\u001b[0m\u001b[0;34m.\u001b[0m\u001b[0mraise_exception_on_not_ok_status\u001b[0m\u001b[0;34m(\u001b[0m\u001b[0;34m)\u001b[0m \u001b[0;32mas\u001b[0m \u001b[0mstatus\u001b[0m\u001b[0;34m:\u001b[0m\u001b[0;34m\u001b[0m\u001b[0m\n\u001b[1;32m   1019\u001b[0m         return tf_session.TF_Run(session, options,\n",
      "\u001b[0;32m/usr/local/anaconda3/lib/python3.6/site-packages/tensorflow/python/client/session.py\u001b[0m in \u001b[0;36m_extend_graph\u001b[0;34m(self)\u001b[0m\n\u001b[1;32m   1064\u001b[0m         \u001b[0;32mwith\u001b[0m \u001b[0merrors\u001b[0m\u001b[0;34m.\u001b[0m\u001b[0mraise_exception_on_not_ok_status\u001b[0m\u001b[0;34m(\u001b[0m\u001b[0;34m)\u001b[0m \u001b[0;32mas\u001b[0m \u001b[0mstatus\u001b[0m\u001b[0;34m:\u001b[0m\u001b[0;34m\u001b[0m\u001b[0m\n\u001b[1;32m   1065\u001b[0m           tf_session.TF_ExtendGraph(\n\u001b[0;32m-> 1066\u001b[0;31m               self._session, graph_def.SerializeToString(), status)\n\u001b[0m\u001b[1;32m   1067\u001b[0m         \u001b[0mself\u001b[0m\u001b[0;34m.\u001b[0m\u001b[0m_opened\u001b[0m \u001b[0;34m=\u001b[0m \u001b[0;32mTrue\u001b[0m\u001b[0;34m\u001b[0m\u001b[0m\n\u001b[1;32m   1068\u001b[0m \u001b[0;34m\u001b[0m\u001b[0m\n",
      "\u001b[0;31mKeyboardInterrupt\u001b[0m: "
     ]
    }
   ],
   "source": [
    "x_train = q_july\n",
    "y_train = np.expand_dims(q_july, axis=-1)\n",
    "x_train = q_df\n",
    "y_train = np.expand_dims(q_df, axis=-1)\n",
    "\n",
    "hist = run.model.fit(x_train, [y_train, y_train], epochs=50, verbose=0, batch_size=32, validation_split=0.2, callbacks=[EarlyStopping(verbose=1, patience=5),ReduceLROnPlateau(verbose=1, patience=3), LambdaCallback(on_epoch_end=eval), KL_Annealing(run), TQDMNotebookCallback()])"
   ]
  },
  {
   "cell_type": "code",
   "execution_count": 37,
   "metadata": {
    "collapsed": false
   },
   "outputs": [
    {
     "name": "stdout",
     "output_type": "stream",
     "text": [
      "\r",
      "          \r",
      "256/|/[loss: 2.692, decoded_mean_loss_1: 2.692, decoded_mean_loss_2: 0.000]  75%|| 256/340 [00:17<00:03, 26.23it/s]"
     ]
    }
   ],
   "source": [
    "class VAE_LSTM(object):\n",
    "    \n",
    "    def __init__(self, nb_words, max_len, emb, dim, comp_topk=None, ctype=None, epsilon_std=1.0, optimizer=Adadelta(lr=2.), enableGAN=False, kl_weight=0):\n",
    "        self.dim = dim\n",
    "        self.comp_topk = comp_topk\n",
    "        self.ctype = ctype\n",
    "        self.epsilon_std = epsilon_std\n",
    "\n",
    "        self.nb_words = nb_words\n",
    "        self.max_len = max_len\n",
    "        self.emb = emb\n",
    "        self.enableGAN = enableGAN\n",
    "        self.optimizer = optimizer\n",
    "        self.kl_weight = kl_weight\n",
    "        \n",
    "        act = 'tanh'\n",
    "        input_layer = Input(shape=(self.max_len,))\n",
    "        self.embed_layer = emb\n",
    "        self.embed_layer.mask_zero = True\n",
    "        # self.embed_layer.trainable = False\n",
    "#         bilstm = Bidirectional(LSTM(self.dim[0], name='lstm_1'))\n",
    "        bilstm = LSTM(self.dim[0])\n",
    "\n",
    "\n",
    "        hidden_layer1 = Dense(self.dim[0], kernel_initializer='glorot_normal', activation=act)\n",
    "        \n",
    "        h1 = self.embed_layer(input_layer)\n",
    "        h1 = bilstm(h1)\n",
    "        h1 = hidden_layer1(h1)\n",
    "\n",
    "        self.z_mean = Dense(self.dim[1], kernel_initializer='glorot_normal')(h1)\n",
    "        self.z_log_var = Dense(self.dim[1], kernel_initializer='glorot_normal')(h1)\n",
    "\n",
    "        if self.comp_topk != None:\n",
    "            self.z_mean_k = KCompetitive(self.comp_topk, self.ctype)(self.z_mean)\n",
    "            encoded = Lambda(self.sampling, output_shape=(self.dim[1],))([self.z_mean_k, self.z_log_var])\n",
    "        else:\n",
    "            encoded = Lambda(self.sampling, output_shape=(self.dim[1],))([self.z_mean, self.z_log_var])\n",
    "\n",
    "\n",
    "        # we instantiate these layers separately so as to reuse them later\n",
    "        decoder_h = Dense(self.dim[0], kernel_initializer='glorot_normal', activation=act)\n",
    "        # decoder_mean = Dense_tied(self.nb_words, activation='softmax', tied_to=hidden_layer1)\n",
    "        decoder_mean = Dense(self.nb_words, activation='softmax')\n",
    "\n",
    "        h_decoded = decoder_h(encoded)\n",
    "        h_decoded = RepeatVector(self.max_len)(h_decoded)\n",
    "        h_decoded = LSTM(self.dim[0], return_sequences=True, unroll=True)(h_decoded)\n",
    "        x_decoded_mean = TimeDistributed(decoder_mean, name='decoded_mean')(h_decoded)\n",
    "\n",
    "        if self.enableGAN:\n",
    "            self.discriminator = self.build_discriminator()\n",
    "            self.discriminator.compile(loss='binary_crossentropy',\n",
    "                optimizer=optimizer,\n",
    "                metrics=['accuracy'])\n",
    "\n",
    "            validity = self.discriminator(x_decoded_mean)\n",
    "\n",
    "        if self.enableGAN:\n",
    "            self.model = Model(outputs=[x_decoded_mean, validity], inputs=input_layer)\n",
    "        else:\n",
    "            self.model = Model(outputs=[x_decoded_mean, x_decoded_mean], inputs=input_layer)\n",
    "\n",
    "        self.encoder = Model(outputs=self.z_mean, inputs=input_layer)\n",
    "\n",
    "        # build a digit generator that can sample from the learned distribution\n",
    "        decoder_input = Input(shape=(self.dim[1],))\n",
    "        _h_decoded = decoder_h(decoder_input)\n",
    "        _h_decoded = RepeatVector(self.max_len)(_h_decoded)\n",
    "        _h_decoded = LSTM(self.dim[0], return_sequences=True)(_h_decoded)\n",
    "        _x_decoded_mean = TimeDistributed(decoder_mean, name='decoded_mean')(_h_decoded)\n",
    "\n",
    "        self.decoder = Model(outputs=_x_decoded_mean, inputs=decoder_input)\n",
    "\n",
    "\n",
    "\n",
    "        if enableGAN:\n",
    "            self.model.compile(optimizer=self.optimizer, loss=[self.vae_loss, \"binary_crossentropy\"])\n",
    "        else:    \n",
    "            self.model.compile(optimizer=self.optimizer, loss=[\"sparse_categorical_crossentropy\", self.kl_loss])\n",
    "\n",
    "    def name(self):\n",
    "        return \"kate_lstm_k%d\" % self.comp_topk if self.ctype != None else \"vae_lstm\"\n",
    "    def kl_loss(self, x, x_):\n",
    "\n",
    "        kl_loss = - 0.5 * K.sum(1 + self.z_log_var - K.square(self.z_mean) - K.exp(self.z_log_var), axis=-1)\n",
    "\n",
    "        return self.kl_weight * kl_loss\n",
    "\n",
    "\n",
    "\n",
    "    def sampling(self, args):\n",
    "        z_mean, z_log_var = args\n",
    "        epsilon = K.random_normal(shape=(K.shape(z_mean)[0], self.dim[1]), mean=0.,\\\n",
    "                                  stddev=self.epsilon_std)\n",
    "\n",
    "        return z_mean + K.exp(z_log_var / 2) * epsilon"
   ]
  },
  {
   "cell_type": "code",
   "execution_count": 153,
   "metadata": {
    "collapsed": true
   },
   "outputs": [],
   "source": [
    "class QueryGenerator(object):\n",
    "    \n",
    "    def __init__(self, nb_words, max_len, emb, dim, comp_topk=None, ctype=None, epsilon_std=1.0, optimizer=Adadelta(lr=2.), enableGAN=False, kl_weight=0):\n",
    "        self.dim = dim\n",
    "        self.comp_topk = comp_topk\n",
    "        self.ctype = ctype\n",
    "        self.epsilon_std = epsilon_std\n",
    "\n",
    "        self.nb_words = nb_words\n",
    "        self.max_len = max_len\n",
    "        self.emb = emb\n",
    "        self.enableGAN = enableGAN\n",
    "        self.optimizer = optimizer\n",
    "        self.kl_weight = kl_weight\n",
    "        \n",
    "        act = 'tanh'\n",
    "        input_layer = Input(shape=(self.max_len,))\n",
    "        embedding = emb\n",
    "        embedding.mask_zero = True\n",
    "        \n",
    "        # self.embed_layer.trainable = False\n",
    "#         bilstm = Bidirectional(LSTM(self.dim[0], name='lstm_1'))\n",
    "        bilstm = LSTM(self.dim[0])\n",
    "        dense = Dense(self.nb_words, activation=\"sigmoid\")\n",
    "        \n",
    "        pred = dense(bilstm(embedding(input_layer)))\n",
    "        \n",
    "        self.model = Model(input_layer, pred)\n",
    "        # Dropout(0.2),\n",
    "#         self.model = Sequential([embedding, bilstm,  dense])\n",
    "        self.model.compile(optimizer=self.optimizer, loss=\"sparse_categorical_crossentropy\", metrics=[\"acc\"])"
   ]
  },
  {
   "cell_type": "code",
   "execution_count": 159,
   "metadata": {
    "collapsed": false
   },
   "outputs": [],
   "source": [
    "run = QueryGenerator(nb_words, max_len, bpe.get_keras_embedding(True), [512,128], optimizer=RMSprop(lr=0.1))"
   ]
  },
  {
   "cell_type": "code",
   "execution_count": 160,
   "metadata": {
    "collapsed": false
   },
   "outputs": [],
   "source": [
    "df_tokens = set([])\n",
    "for i in x_q_df:\n",
    "    for j in i:\n",
    "        df_tokens.add(j)"
   ]
  },
  {
   "cell_type": "code",
   "execution_count": 161,
   "metadata": {
    "collapsed": true
   },
   "outputs": [],
   "source": [
    "q_july_tokens = set([])\n",
    "for i in x_q_july:\n",
    "    for j in i:\n",
    "        q_july_tokens.add(j)\n",
    "\n",
    "d_july_tokens = set([])\n",
    "for i in x_d_july:\n",
    "    for j in i:\n",
    "        d_july_tokens.add(j)"
   ]
  },
  {
   "cell_type": "code",
   "execution_count": 162,
   "metadata": {
    "collapsed": false
   },
   "outputs": [
    {
     "data": {
      "text/plain": [
       "(17490, 1271, 1140)"
      ]
     },
     "execution_count": 162,
     "metadata": {},
     "output_type": "execute_result"
    }
   ],
   "source": [
    "len(df_tokens), len(q_july_tokens.union(d_july_tokens)), len(df_tokens.intersection(q_july_tokens.union(d_july_tokens)))"
   ]
  },
  {
   "cell_type": "code",
   "execution_count": 164,
   "metadata": {
    "collapsed": false
   },
   "outputs": [
    {
     "name": "stdout",
     "output_type": "stream",
     "text": [
      "Train on 361625 samples, validate on 1714 samples\n",
      "Epoch 1/100\n",
      " - 223s - loss: 11.1880 - acc: 0.0338 - val_loss: 10.6010 - val_acc: 0.0093\n",
      "Epoch 2/100\n",
      " - 221s - loss: 10.5422 - acc: 0.0206 - val_loss: 10.6337 - val_acc: 0.0111\n",
      "Epoch 3/100\n",
      " - 215s - loss: 10.5542 - acc: 0.0200 - val_loss: 10.5873 - val_acc: 0.0187\n",
      "Epoch 4/100\n",
      " - 216s - loss: 10.5103 - acc: 0.0259 - val_loss: 10.5857 - val_acc: 0.0158\n",
      "Epoch 5/100\n",
      " - 218s - loss: 10.5080 - acc: 0.0259 - val_loss: 10.5923 - val_acc: 0.0152\n",
      "Epoch 6/100\n",
      " - 217s - loss: 10.5147 - acc: 0.0251 - val_loss: 10.5781 - val_acc: 0.0158\n",
      "Epoch 7/100\n",
      " - 215s - loss: 10.5061 - acc: 0.0260 - val_loss: 10.5913 - val_acc: 0.0134\n",
      "Epoch 8/100\n",
      " - 217s - loss: 10.5052 - acc: 0.0262 - val_loss: 10.5793 - val_acc: 0.0152\n",
      "Epoch 9/100\n",
      " - 214s - loss: 10.5019 - acc: 0.0265 - val_loss: 10.5745 - val_acc: 0.0146\n",
      "Epoch 10/100\n",
      " - 216s - loss: 10.5031 - acc: 0.0264 - val_loss: 10.5835 - val_acc: 0.0146\n",
      "Epoch 11/100\n",
      " - 215s - loss: 10.5033 - acc: 0.0262 - val_loss: 10.5872 - val_acc: 0.0163\n",
      "Epoch 12/100\n",
      " - 218s - loss: 10.5031 - acc: 0.0266 - val_loss: 10.5762 - val_acc: 0.0152\n",
      "Epoch 13/100\n",
      " - 221s - loss: 10.5018 - acc: 0.0262 - val_loss: 10.5672 - val_acc: 0.0158\n",
      "Epoch 14/100\n",
      " - 224s - loss: 10.5037 - acc: 0.0262 - val_loss: 10.5932 - val_acc: 0.0134\n",
      "Epoch 15/100\n",
      " - 222s - loss: 10.5018 - acc: 0.0266 - val_loss: 10.5788 - val_acc: 0.0158\n",
      "Epoch 16/100\n",
      " - 222s - loss: 10.5029 - acc: 0.0262 - val_loss: 10.5703 - val_acc: 0.0158\n",
      "Epoch 17/100\n",
      "\n",
      "Epoch 00017: reducing learning rate to 0.010000000149011612.\n",
      " - 225s - loss: 10.5021 - acc: 0.0263 - val_loss: 10.5894 - val_acc: 0.0158\n",
      "Epoch 18/100\n",
      " - 225s - loss: 10.4928 - acc: 0.0270 - val_loss: 10.5673 - val_acc: 0.0152\n",
      "Epoch 19/100\n",
      " - 225s - loss: 10.4879 - acc: 0.0272 - val_loss: 10.5671 - val_acc: 0.0152\n",
      "Epoch 20/100\n",
      " - 222s - loss: 10.4858 - acc: 0.0274 - val_loss: 10.5665 - val_acc: 0.0152\n",
      "Epoch 21/100\n",
      " - 223s - loss: 10.4840 - acc: 0.0275 - val_loss: 10.5708 - val_acc: 0.0152\n",
      "Epoch 22/100\n",
      " - 225s - loss: 10.4841 - acc: 0.0275 - val_loss: 10.5701 - val_acc: 0.0152\n",
      "Epoch 23/100\n",
      " - 224s - loss: 10.4826 - acc: 0.0275 - val_loss: 10.5678 - val_acc: 0.0152\n",
      "Epoch 24/100\n",
      "\n",
      "Epoch 00024: reducing learning rate to 0.0009999999776482583.\n",
      " - 224s - loss: 10.4818 - acc: 0.0275 - val_loss: 10.5669 - val_acc: 0.0152\n",
      "Epoch 25/100\n",
      " - 223s - loss: 10.4812 - acc: 0.0276 - val_loss: 10.5679 - val_acc: 0.0152\n",
      "Epoch 26/100\n",
      " - 217s - loss: 10.4812 - acc: 0.0275 - val_loss: 10.5672 - val_acc: 0.0152\n",
      "Epoch 27/100\n",
      "\n",
      "Epoch 00027: reducing learning rate to 9.999999310821295e-05.\n",
      " - 218s - loss: 10.4811 - acc: 0.0276 - val_loss: 10.5680 - val_acc: 0.0152\n",
      "Epoch 28/100\n",
      " - 221s - loss: 10.4811 - acc: 0.0276 - val_loss: 10.5677 - val_acc: 0.0152\n",
      "Epoch 29/100\n",
      " - 216s - loss: 10.4811 - acc: 0.0276 - val_loss: 10.5675 - val_acc: 0.0152\n",
      "Epoch 30/100\n",
      "\n",
      "Epoch 00030: reducing learning rate to 9.999999019782991e-06.\n",
      " - 220s - loss: 10.4811 - acc: 0.0276 - val_loss: 10.5675 - val_acc: 0.0152\n",
      "Epoch 31/100\n",
      " - 217s - loss: 10.4810 - acc: 0.0276 - val_loss: 10.5675 - val_acc: 0.0152\n",
      "Epoch 32/100\n",
      " - 222s - loss: 10.4810 - acc: 0.0276 - val_loss: 10.5675 - val_acc: 0.0152\n",
      "Epoch 33/100\n",
      "\n",
      "Epoch 00033: reducing learning rate to 9.99999883788405e-07.\n",
      " - 221s - loss: 10.4810 - acc: 0.0276 - val_loss: 10.5675 - val_acc: 0.0152\n",
      "Epoch 34/100\n",
      " - 222s - loss: 10.4810 - acc: 0.0276 - val_loss: 10.5675 - val_acc: 0.0152\n",
      "Epoch 35/100\n",
      " - 222s - loss: 10.4810 - acc: 0.0276 - val_loss: 10.5675 - val_acc: 0.0152\n",
      "Epoch 36/100\n",
      "\n",
      "Epoch 00036: reducing learning rate to 9.99999883788405e-08.\n",
      " - 222s - loss: 10.4810 - acc: 0.0276 - val_loss: 10.5675 - val_acc: 0.0152\n",
      "Epoch 37/100\n",
      " - 219s - loss: 10.4810 - acc: 0.0276 - val_loss: 10.5675 - val_acc: 0.0152\n",
      "Epoch 38/100\n",
      " - 220s - loss: 10.4810 - acc: 0.0276 - val_loss: 10.5675 - val_acc: 0.0152\n",
      "Epoch 39/100\n",
      "\n",
      "Epoch 00039: reducing learning rate to 9.999998695775504e-09.\n",
      " - 225s - loss: 10.4810 - acc: 0.0276 - val_loss: 10.5675 - val_acc: 0.0152\n",
      "Epoch 40/100\n",
      " - 222s - loss: 10.4810 - acc: 0.0276 - val_loss: 10.5675 - val_acc: 0.0152\n",
      "Epoch 41/100\n",
      " - 224s - loss: 10.4810 - acc: 0.0276 - val_loss: 10.5675 - val_acc: 0.0152\n",
      "Epoch 42/100\n",
      "\n",
      "Epoch 00042: reducing learning rate to 9.99999905104687e-10.\n",
      " - 223s - loss: 10.4810 - acc: 0.0276 - val_loss: 10.5675 - val_acc: 0.0152\n",
      "Epoch 43/100\n",
      " - 222s - loss: 10.4810 - acc: 0.0276 - val_loss: 10.5675 - val_acc: 0.0152\n",
      "Epoch 44/100\n",
      " - 223s - loss: 10.4810 - acc: 0.0276 - val_loss: 10.5675 - val_acc: 0.0152\n",
      "Epoch 45/100\n",
      "\n",
      "Epoch 00045: reducing learning rate to 9.999998606957661e-11.\n",
      " - 224s - loss: 10.4810 - acc: 0.0276 - val_loss: 10.5675 - val_acc: 0.0152\n",
      "Epoch 46/100\n",
      " - 224s - loss: 10.4810 - acc: 0.0276 - val_loss: 10.5675 - val_acc: 0.0152\n",
      "Epoch 47/100\n",
      " - 223s - loss: 10.4810 - acc: 0.0276 - val_loss: 10.5675 - val_acc: 0.0152\n",
      "Epoch 48/100\n",
      "\n",
      "Epoch 00048: reducing learning rate to 9.99999874573554e-12.\n",
      " - 225s - loss: 10.4810 - acc: 0.0276 - val_loss: 10.5675 - val_acc: 0.0152\n",
      "Epoch 49/100\n",
      " - 222s - loss: 10.4810 - acc: 0.0276 - val_loss: 10.5675 - val_acc: 0.0152\n",
      "Epoch 50/100\n",
      " - 227s - loss: 10.4810 - acc: 0.0276 - val_loss: 10.5675 - val_acc: 0.0152\n",
      "Epoch 51/100\n",
      "\n",
      "Epoch 00051: reducing learning rate to 9.999999092680235e-13.\n",
      " - 228s - loss: 10.4810 - acc: 0.0276 - val_loss: 10.5675 - val_acc: 0.0152\n",
      "Epoch 52/100\n",
      " - 224s - loss: 10.4810 - acc: 0.0276 - val_loss: 10.5675 - val_acc: 0.0152\n",
      "Epoch 53/100\n",
      " - 222s - loss: 10.4810 - acc: 0.0276 - val_loss: 10.5675 - val_acc: 0.0152\n",
      "Epoch 54/100\n",
      "\n",
      "Epoch 00054: reducing learning rate to 9.9999988758398e-14.\n",
      " - 222s - loss: 10.4810 - acc: 0.0276 - val_loss: 10.5675 - val_acc: 0.0152\n",
      "Epoch 55/100\n",
      " - 217s - loss: 10.4810 - acc: 0.0276 - val_loss: 10.5675 - val_acc: 0.0152\n",
      "Epoch 56/100\n",
      " - 222s - loss: 10.4810 - acc: 0.0276 - val_loss: 10.5675 - val_acc: 0.0152\n",
      "Epoch 57/100\n",
      "\n",
      "Epoch 00057: reducing learning rate to 9.999999146890344e-15.\n",
      " - 222s - loss: 10.4810 - acc: 0.0276 - val_loss: 10.5675 - val_acc: 0.0152\n",
      "Epoch 58/100\n"
     ]
    },
    {
     "ename": "KeyboardInterrupt",
     "evalue": "",
     "output_type": "error",
     "traceback": [
      "\u001b[0;31m---------------------------------------------------------------------------\u001b[0m",
      "\u001b[0;31mKeyboardInterrupt\u001b[0m                         Traceback (most recent call last)",
      "\u001b[0;32m<ipython-input-164-c7d09e73f07e>\u001b[0m in \u001b[0;36m<module>\u001b[0;34m()\u001b[0m\n\u001b[0;32m----> 1\u001b[0;31m \u001b[0mrun\u001b[0m\u001b[0;34m.\u001b[0m\u001b[0mmodel\u001b[0m\u001b[0;34m.\u001b[0m\u001b[0mfit\u001b[0m\u001b[0;34m(\u001b[0m\u001b[0mx_q_df\u001b[0m\u001b[0;34m,\u001b[0m \u001b[0my_q_df\u001b[0m\u001b[0;34m,\u001b[0m \u001b[0mvalidation_data\u001b[0m\u001b[0;34m=\u001b[0m\u001b[0;34m(\u001b[0m\u001b[0mx_q_july\u001b[0m\u001b[0;34m,\u001b[0m \u001b[0my_q_july\u001b[0m\u001b[0;34m)\u001b[0m\u001b[0;34m,\u001b[0m \u001b[0mbatch_size\u001b[0m\u001b[0;34m=\u001b[0m\u001b[0;36m256\u001b[0m\u001b[0;34m,\u001b[0m \u001b[0mverbose\u001b[0m\u001b[0;34m=\u001b[0m\u001b[0;36m2\u001b[0m\u001b[0;34m,\u001b[0m \u001b[0mepochs\u001b[0m\u001b[0;34m=\u001b[0m\u001b[0;36m100\u001b[0m\u001b[0;34m,\u001b[0m \u001b[0mcallbacks\u001b[0m\u001b[0;34m=\u001b[0m\u001b[0;34m[\u001b[0m\u001b[0mReduceLROnPlateau\u001b[0m\u001b[0;34m(\u001b[0m\u001b[0mverbose\u001b[0m\u001b[0;34m=\u001b[0m\u001b[0;36m1\u001b[0m\u001b[0;34m,\u001b[0m \u001b[0mpatience\u001b[0m\u001b[0;34m=\u001b[0m\u001b[0;36m3\u001b[0m\u001b[0;34m)\u001b[0m\u001b[0;34m,\u001b[0m \u001b[0mTQDMNotebookCallback\u001b[0m\u001b[0;34m(\u001b[0m\u001b[0;34m)\u001b[0m\u001b[0;34m]\u001b[0m\u001b[0;34m)\u001b[0m\u001b[0;34m\u001b[0m\u001b[0m\n\u001b[0m",
      "\u001b[0;32m/home/t-jamano/.local/lib/python3.6/site-packages/keras/engine/training.py\u001b[0m in \u001b[0;36mfit\u001b[0;34m(self, x, y, batch_size, epochs, verbose, callbacks, validation_split, validation_data, shuffle, class_weight, sample_weight, initial_epoch, steps_per_epoch, validation_steps, **kwargs)\u001b[0m\n\u001b[1;32m   1629\u001b[0m                               \u001b[0minitial_epoch\u001b[0m\u001b[0;34m=\u001b[0m\u001b[0minitial_epoch\u001b[0m\u001b[0;34m,\u001b[0m\u001b[0;34m\u001b[0m\u001b[0m\n\u001b[1;32m   1630\u001b[0m                               \u001b[0msteps_per_epoch\u001b[0m\u001b[0;34m=\u001b[0m\u001b[0msteps_per_epoch\u001b[0m\u001b[0;34m,\u001b[0m\u001b[0;34m\u001b[0m\u001b[0m\n\u001b[0;32m-> 1631\u001b[0;31m                               validation_steps=validation_steps)\n\u001b[0m\u001b[1;32m   1632\u001b[0m \u001b[0;34m\u001b[0m\u001b[0m\n\u001b[1;32m   1633\u001b[0m     def evaluate(self, x=None, y=None,\n",
      "\u001b[0;32m/home/t-jamano/.local/lib/python3.6/site-packages/keras/engine/training.py\u001b[0m in \u001b[0;36m_fit_loop\u001b[0;34m(self, f, ins, out_labels, batch_size, epochs, verbose, callbacks, val_f, val_ins, shuffle, callback_metrics, initial_epoch, steps_per_epoch, validation_steps)\u001b[0m\n\u001b[1;32m   1211\u001b[0m                     \u001b[0mbatch_logs\u001b[0m\u001b[0;34m[\u001b[0m\u001b[0;34m'size'\u001b[0m\u001b[0;34m]\u001b[0m \u001b[0;34m=\u001b[0m \u001b[0mlen\u001b[0m\u001b[0;34m(\u001b[0m\u001b[0mbatch_ids\u001b[0m\u001b[0;34m)\u001b[0m\u001b[0;34m\u001b[0m\u001b[0m\n\u001b[1;32m   1212\u001b[0m                     \u001b[0mcallbacks\u001b[0m\u001b[0;34m.\u001b[0m\u001b[0mon_batch_begin\u001b[0m\u001b[0;34m(\u001b[0m\u001b[0mbatch_index\u001b[0m\u001b[0;34m,\u001b[0m \u001b[0mbatch_logs\u001b[0m\u001b[0;34m)\u001b[0m\u001b[0;34m\u001b[0m\u001b[0m\n\u001b[0;32m-> 1213\u001b[0;31m                     \u001b[0mouts\u001b[0m \u001b[0;34m=\u001b[0m \u001b[0mf\u001b[0m\u001b[0;34m(\u001b[0m\u001b[0mins_batch\u001b[0m\u001b[0;34m)\u001b[0m\u001b[0;34m\u001b[0m\u001b[0m\n\u001b[0m\u001b[1;32m   1214\u001b[0m                     \u001b[0;32mif\u001b[0m \u001b[0;32mnot\u001b[0m \u001b[0misinstance\u001b[0m\u001b[0;34m(\u001b[0m\u001b[0mouts\u001b[0m\u001b[0;34m,\u001b[0m \u001b[0mlist\u001b[0m\u001b[0;34m)\u001b[0m\u001b[0;34m:\u001b[0m\u001b[0;34m\u001b[0m\u001b[0m\n\u001b[1;32m   1215\u001b[0m                         \u001b[0mouts\u001b[0m \u001b[0;34m=\u001b[0m \u001b[0;34m[\u001b[0m\u001b[0mouts\u001b[0m\u001b[0;34m]\u001b[0m\u001b[0;34m\u001b[0m\u001b[0m\n",
      "\u001b[0;32m/home/t-jamano/.local/lib/python3.6/site-packages/keras/backend/tensorflow_backend.py\u001b[0m in \u001b[0;36m__call__\u001b[0;34m(self, inputs)\u001b[0m\n\u001b[1;32m   2330\u001b[0m         updated = session.run(self.outputs + [self.updates_op],\n\u001b[1;32m   2331\u001b[0m                               \u001b[0mfeed_dict\u001b[0m\u001b[0;34m=\u001b[0m\u001b[0mfeed_dict\u001b[0m\u001b[0;34m,\u001b[0m\u001b[0;34m\u001b[0m\u001b[0m\n\u001b[0;32m-> 2332\u001b[0;31m                               **self.session_kwargs)\n\u001b[0m\u001b[1;32m   2333\u001b[0m         \u001b[0;32mreturn\u001b[0m \u001b[0mupdated\u001b[0m\u001b[0;34m[\u001b[0m\u001b[0;34m:\u001b[0m\u001b[0mlen\u001b[0m\u001b[0;34m(\u001b[0m\u001b[0mself\u001b[0m\u001b[0;34m.\u001b[0m\u001b[0moutputs\u001b[0m\u001b[0;34m)\u001b[0m\u001b[0;34m]\u001b[0m\u001b[0;34m\u001b[0m\u001b[0m\n\u001b[1;32m   2334\u001b[0m \u001b[0;34m\u001b[0m\u001b[0m\n",
      "\u001b[0;32m/usr/local/anaconda3/lib/python3.6/site-packages/tensorflow/python/client/session.py\u001b[0m in \u001b[0;36mrun\u001b[0;34m(self, fetches, feed_dict, options, run_metadata)\u001b[0m\n\u001b[1;32m    776\u001b[0m     \u001b[0;32mtry\u001b[0m\u001b[0;34m:\u001b[0m\u001b[0;34m\u001b[0m\u001b[0m\n\u001b[1;32m    777\u001b[0m       result = self._run(None, fetches, feed_dict, options_ptr,\n\u001b[0;32m--> 778\u001b[0;31m                          run_metadata_ptr)\n\u001b[0m\u001b[1;32m    779\u001b[0m       \u001b[0;32mif\u001b[0m \u001b[0mrun_metadata\u001b[0m\u001b[0;34m:\u001b[0m\u001b[0;34m\u001b[0m\u001b[0m\n\u001b[1;32m    780\u001b[0m         \u001b[0mproto_data\u001b[0m \u001b[0;34m=\u001b[0m \u001b[0mtf_session\u001b[0m\u001b[0;34m.\u001b[0m\u001b[0mTF_GetBuffer\u001b[0m\u001b[0;34m(\u001b[0m\u001b[0mrun_metadata_ptr\u001b[0m\u001b[0;34m)\u001b[0m\u001b[0;34m\u001b[0m\u001b[0m\n",
      "\u001b[0;32m/usr/local/anaconda3/lib/python3.6/site-packages/tensorflow/python/client/session.py\u001b[0m in \u001b[0;36m_run\u001b[0;34m(self, handle, fetches, feed_dict, options, run_metadata)\u001b[0m\n\u001b[1;32m    980\u001b[0m     \u001b[0;32mif\u001b[0m \u001b[0mfinal_fetches\u001b[0m \u001b[0;32mor\u001b[0m \u001b[0mfinal_targets\u001b[0m\u001b[0;34m:\u001b[0m\u001b[0;34m\u001b[0m\u001b[0m\n\u001b[1;32m    981\u001b[0m       results = self._do_run(handle, final_targets, final_fetches,\n\u001b[0;32m--> 982\u001b[0;31m                              feed_dict_string, options, run_metadata)\n\u001b[0m\u001b[1;32m    983\u001b[0m     \u001b[0;32melse\u001b[0m\u001b[0;34m:\u001b[0m\u001b[0;34m\u001b[0m\u001b[0m\n\u001b[1;32m    984\u001b[0m       \u001b[0mresults\u001b[0m \u001b[0;34m=\u001b[0m \u001b[0;34m[\u001b[0m\u001b[0;34m]\u001b[0m\u001b[0;34m\u001b[0m\u001b[0m\n",
      "\u001b[0;32m/usr/local/anaconda3/lib/python3.6/site-packages/tensorflow/python/client/session.py\u001b[0m in \u001b[0;36m_do_run\u001b[0;34m(self, handle, target_list, fetch_list, feed_dict, options, run_metadata)\u001b[0m\n\u001b[1;32m   1030\u001b[0m     \u001b[0;32mif\u001b[0m \u001b[0mhandle\u001b[0m \u001b[0;32mis\u001b[0m \u001b[0;32mNone\u001b[0m\u001b[0;34m:\u001b[0m\u001b[0;34m\u001b[0m\u001b[0m\n\u001b[1;32m   1031\u001b[0m       return self._do_call(_run_fn, self._session, feed_dict, fetch_list,\n\u001b[0;32m-> 1032\u001b[0;31m                            target_list, options, run_metadata)\n\u001b[0m\u001b[1;32m   1033\u001b[0m     \u001b[0;32melse\u001b[0m\u001b[0;34m:\u001b[0m\u001b[0;34m\u001b[0m\u001b[0m\n\u001b[1;32m   1034\u001b[0m       return self._do_call(_prun_fn, self._session, handle, feed_dict,\n",
      "\u001b[0;32m/usr/local/anaconda3/lib/python3.6/site-packages/tensorflow/python/client/session.py\u001b[0m in \u001b[0;36m_do_call\u001b[0;34m(self, fn, *args)\u001b[0m\n\u001b[1;32m   1037\u001b[0m   \u001b[0;32mdef\u001b[0m \u001b[0m_do_call\u001b[0m\u001b[0;34m(\u001b[0m\u001b[0mself\u001b[0m\u001b[0;34m,\u001b[0m \u001b[0mfn\u001b[0m\u001b[0;34m,\u001b[0m \u001b[0;34m*\u001b[0m\u001b[0margs\u001b[0m\u001b[0;34m)\u001b[0m\u001b[0;34m:\u001b[0m\u001b[0;34m\u001b[0m\u001b[0m\n\u001b[1;32m   1038\u001b[0m     \u001b[0;32mtry\u001b[0m\u001b[0;34m:\u001b[0m\u001b[0;34m\u001b[0m\u001b[0m\n\u001b[0;32m-> 1039\u001b[0;31m       \u001b[0;32mreturn\u001b[0m \u001b[0mfn\u001b[0m\u001b[0;34m(\u001b[0m\u001b[0;34m*\u001b[0m\u001b[0margs\u001b[0m\u001b[0;34m)\u001b[0m\u001b[0;34m\u001b[0m\u001b[0m\n\u001b[0m\u001b[1;32m   1040\u001b[0m     \u001b[0;32mexcept\u001b[0m \u001b[0merrors\u001b[0m\u001b[0;34m.\u001b[0m\u001b[0mOpError\u001b[0m \u001b[0;32mas\u001b[0m \u001b[0me\u001b[0m\u001b[0;34m:\u001b[0m\u001b[0;34m\u001b[0m\u001b[0m\n\u001b[1;32m   1041\u001b[0m       \u001b[0mmessage\u001b[0m \u001b[0;34m=\u001b[0m \u001b[0mcompat\u001b[0m\u001b[0;34m.\u001b[0m\u001b[0mas_text\u001b[0m\u001b[0;34m(\u001b[0m\u001b[0me\u001b[0m\u001b[0;34m.\u001b[0m\u001b[0mmessage\u001b[0m\u001b[0;34m)\u001b[0m\u001b[0;34m\u001b[0m\u001b[0m\n",
      "\u001b[0;32m/usr/local/anaconda3/lib/python3.6/site-packages/tensorflow/python/client/session.py\u001b[0m in \u001b[0;36m_run_fn\u001b[0;34m(session, feed_dict, fetch_list, target_list, options, run_metadata)\u001b[0m\n\u001b[1;32m   1019\u001b[0m         return tf_session.TF_Run(session, options,\n\u001b[1;32m   1020\u001b[0m                                  \u001b[0mfeed_dict\u001b[0m\u001b[0;34m,\u001b[0m \u001b[0mfetch_list\u001b[0m\u001b[0;34m,\u001b[0m \u001b[0mtarget_list\u001b[0m\u001b[0;34m,\u001b[0m\u001b[0;34m\u001b[0m\u001b[0m\n\u001b[0;32m-> 1021\u001b[0;31m                                  status, run_metadata)\n\u001b[0m\u001b[1;32m   1022\u001b[0m \u001b[0;34m\u001b[0m\u001b[0m\n\u001b[1;32m   1023\u001b[0m     \u001b[0;32mdef\u001b[0m \u001b[0m_prun_fn\u001b[0m\u001b[0;34m(\u001b[0m\u001b[0msession\u001b[0m\u001b[0;34m,\u001b[0m \u001b[0mhandle\u001b[0m\u001b[0;34m,\u001b[0m \u001b[0mfeed_dict\u001b[0m\u001b[0;34m,\u001b[0m \u001b[0mfetch_list\u001b[0m\u001b[0;34m)\u001b[0m\u001b[0;34m:\u001b[0m\u001b[0;34m\u001b[0m\u001b[0m\n",
      "\u001b[0;31mKeyboardInterrupt\u001b[0m: "
     ]
    }
   ],
   "source": [
    "run.model.fit(x_q_df, y_q_df, validation_data=(x_q_july, y_q_july), batch_size=256, verbose=2, epochs=100, callbacks=[ReduceLROnPlateau(verbose=1, patience=3), TQDMNotebookCallback()])"
   ]
  },
  {
   "cell_type": "code",
   "execution_count": 99,
   "metadata": {
    "collapsed": false
   },
   "outputs": [],
   "source": [
    "def pred2query(pred, q, max_len, padding=\"pre\"):\n",
    "    x = []\n",
    "    len_query = [len(i) for i in q]\n",
    "    move = 0\n",
    "#     print(len_query)\n",
    "#     print(pred)\n",
    "    for idx, i in enumerate(len_query):\n",
    "#         print(idx, i, move)\n",
    "        x.append([q[idx][0]] + list(pred[move: move+i-1]))\n",
    "        move = move + i - 1\n",
    "\n",
    "    x = pad_sequences(x, maxlen=max_len, padding=padding)\n",
    "    return x"
   ]
  },
  {
   "cell_type": "code",
   "execution_count": 103,
   "metadata": {
    "collapsed": false
   },
   "outputs": [],
   "source": [
    "gen_q_july = pred2query(np.argmax(run.model.predict(x_q_july), axis=-1), q_july, max_len)\n",
    "gen_d_july = pred2query(np.argmax(run.model.predict(x_d_july), axis=-1), d_july, max_len)"
   ]
  },
  {
   "cell_type": "code",
   "execution_count": 114,
   "metadata": {
    "collapsed": false
   },
   "outputs": [
    {
     "data": {
      "text/plain": [
       "0.45255620538593255"
      ]
     },
     "execution_count": 114,
     "metadata": {},
     "output_type": "execute_result"
    }
   ],
   "source": [
    "cosine = CosineSim(200)\n",
    "pred = cosine.model.predict([w2v.predict(gen_q_july), w2v.predict(gen_d_july)])\n",
    "auc(qrel_july, pred.flatten())"
   ]
  },
  {
   "cell_type": "code",
   "execution_count": 26,
   "metadata": {
    "collapsed": true
   },
   "outputs": [],
   "source": [
    "class VAE_LSTM(object):\n",
    "    \n",
    "    def __init__(self, nb_words, max_len, emb, dim, comp_topk=None, ctype=None, epsilon_std=1.0, optimizer=Adadelta(lr=2.), enableGAN=False, kl_weight=0):\n",
    "        self.dim = dim\n",
    "        self.comp_topk = comp_topk\n",
    "        self.ctype = ctype\n",
    "        self.epsilon_std = epsilon_std\n",
    "\n",
    "        self.nb_words = nb_words\n",
    "        self.max_len = max_len\n",
    "        self.emb = emb\n",
    "        self.enableGAN = enableGAN\n",
    "        self.optimizer = optimizer\n",
    "        self.kl_weight = kl_weight\n",
    "        \n",
    "        act = 'tanh'\n",
    "        input_layer = Input(shape=(self.max_len,))\n",
    "        self.embed_layer = emb\n",
    "#         self.embed_layer.mask_zero = True\n",
    "        # self.embed_layer.trainable = False\n",
    "#         bilstm = Bidirectional(LSTM(self.dim[0], name='lstm_1'))\n",
    "        bilstm = LSTM(self.dim[0], return_sequences=True)\n",
    "\n",
    "\n",
    "        hidden_layer1 = Dense(self.dim[0], activation=act)\n",
    "        \n",
    "        h1 = self.embed_layer(input_layer)\n",
    "        h1 = bilstm(h1)\n",
    "#         h1 = hidden_layer1(h1)\n",
    "\n",
    "        self.z_mean = Dense(self.dim[1])(h1)\n",
    "        self.z_log_var = Dense(self.dim[1])(h1)\n",
    "\n",
    "        if self.comp_topk != None:\n",
    "            self.z_mean_k = KCompetitive(self.comp_topk, self.ctype)(self.z_mean)\n",
    "            encoded = Lambda(self.sampling, output_shape=(self.dim[1],))([self.z_mean_k, self.z_log_var])\n",
    "        else:\n",
    "            encoded = Lambda(self.sampling)([self.z_mean, self.z_log_var])\n",
    "\n",
    "\n",
    "        # we instantiate these layers separately so as to reuse them later\n",
    "        decoder_h = Dense(self.dim[0], activation=act)\n",
    "        # decoder_mean = Dense_tied(self.nb_words, activation='softmax', tied_to=hidden_layer1)\n",
    "        decoder_mean = Dense(self.nb_words, activation='softmax')\n",
    "\n",
    "#         h_decoded = decoder_h(encoded)\n",
    "#         h_decoded = RepeatVector(self.max_len)(h_decoded)\n",
    "        h_decoded = LSTM(self.dim[0], return_sequences=True, unroll=True)(encoded)\n",
    "        x_decoded_mean = TimeDistributed(decoder_mean, name='decoded_mean')(h_decoded)\n",
    "\n",
    "        self.model = Model(outputs=[x_decoded_mean, x_decoded_mean], inputs=input_layer)\n",
    "\n",
    "        self.encoder = Model(outputs=GlobalMaxPooling1D()(self.z_mean), inputs=input_layer)\n",
    "\n",
    "        # build a digit generator that can sample from the learned distribution\n",
    "        decoder_input = Input(shape=(self.dim[1],))\n",
    "        _h_decoded = decoder_h(decoder_input)\n",
    "        _h_decoded = RepeatVector(self.max_len)(_h_decoded)\n",
    "        _h_decoded = LSTM(self.dim[0], return_sequences=True, unroll=True)(_h_decoded)\n",
    "        _x_decoded_mean = TimeDistributed(decoder_mean, name='decoded_mean')(_h_decoded)\n",
    "\n",
    "        self.decoder = Model(outputs=_x_decoded_mean, inputs=decoder_input)\n",
    "\n",
    " \n",
    "        self.model.compile(optimizer=self.optimizer, loss=[\"sparse_categorical_crossentropy\", self.kl_loss])\n",
    "\n",
    "    def name(self):\n",
    "        return \"kate_lstm_k%d\" % self.comp_topk if self.ctype != None else \"vae_lstm\"\n",
    "    \n",
    "    def kl_loss(self, x, x_):\n",
    "\n",
    "        kl_loss = - 0.5 * K.sum(1 + self.z_log_var - K.square(self.z_mean) - K.exp(self.z_log_var), axis=-1)\n",
    "\n",
    "        return self.kl_weight * kl_loss\n",
    "\n",
    "\n",
    "\n",
    "    def sampling(self, args):\n",
    "        z_mean, z_log_var = args\n",
    "        epsilon = K.random_normal(shape=(K.shape(z_mean)[0], self.max_len, self.dim[1]), mean=0.,\\\n",
    "                                  stddev=self.epsilon_std)\n",
    "\n",
    "        return z_mean + K.exp(z_log_var / 2) * epsilon"
   ]
  },
  {
   "cell_type": "code",
   "execution_count": 81,
   "metadata": {
    "collapsed": true
   },
   "outputs": [],
   "source": [
    "class GAN():\n",
    "    def __init__(self, nb_words, max_len, emb, emb2, dim, comp_topk=None, ctype=None, epsilon_std=1.0, optimizer=RMSprop(lr=0.01), enableGAN=False, kl_weight=0):\n",
    "        self.dim = dim\n",
    "        self.comp_topk = comp_topk\n",
    "        self.ctype = ctype\n",
    "        self.epsilon_std = epsilon_std\n",
    "\n",
    "        self.nb_words = nb_words\n",
    "        self.max_len = max_len\n",
    "        self.emb = emb\n",
    "        self.emb2 = emb2\n",
    "        self.enableGAN = enableGAN\n",
    "        self.optimizer = optimizer\n",
    "        self.kl_weight = kl_weight\n",
    "\n",
    "\n",
    "        # Build and compile the discriminator\n",
    "        self.discriminator = self.build_discriminator()\n",
    "        self.discriminator.compile(loss='binary_crossentropy',\n",
    "            optimizer=\"adam\",\n",
    "            metrics=['accuracy'])\n",
    "        \n",
    "        self.discriminator.trainable = False\n",
    "\n",
    "\n",
    "        # Build the generator\n",
    "        self.generator, self.encoder = self.build_generator()\n",
    "\n",
    "        # The generator takes noise as input and generates imgs\n",
    "        z = Input(shape=(self.max_len,))\n",
    "        text = self.generator(z)\n",
    "\n",
    "        # The discriminator takes generated images as input and determines validity\n",
    "        validity = self.discriminator(text)\n",
    "\n",
    "        # The combined model  (stacked generator and discriminator)\n",
    "        # Trains the generator to fool the discriminator\n",
    "        self.model = Model(z, validity)\n",
    "        self.model.compile(loss='binary_crossentropy', optimizer=self.optimizer)\n",
    "\n",
    "\n",
    "    def build_generator(self):\n",
    "        \n",
    "        emb = self.emb\n",
    "        print(emb)\n",
    "        lstm = LSTM(self.dim[1], return_sequences=True)\n",
    "        dense = Dense(self.nb_words)\n",
    "        \n",
    "        generator = Sequential([emb, lstm, dense, Activation('softmax')])\n",
    "        encoder = Sequential([emb, lstm, GlobalMaxPooling1D()])\n",
    "        \n",
    "        generator.compile(optimizer=self.optimizer, loss=[\"sparse_categorical_crossentropy\"])\n",
    "\n",
    "        return generator, encoder\n",
    "\n",
    "    def build_discriminator(self):\n",
    "        \n",
    "        input_layer = Input(shape=(self.max_len, self.nb_words,))\n",
    "        emb = OnehotEmbedding(200, d=2)\n",
    "        lstm = LSTM(self.dim[1])\n",
    "        dense = Dense(1, activation=\"sigmoid\")\n",
    "\n",
    "        h = emb(input_layer)\n",
    "        h = lstm(h)\n",
    "        pred = dense(h)\n",
    "\n",
    "        discriminator = Model(input_layer, pred)\n",
    "        emb.set_weights([bpe2.vectors])\n",
    "\n",
    "        return discriminator\n",
    "\n",
    "    \n",
    "\n",
    "    def sample_images(self, epoch):\n",
    "        r, c = 5, 5\n",
    "        noise = np.random.normal(0, 1, (r * c, self.latent_dim))\n",
    "        gen_imgs = self.generator.predict(noise)\n",
    "\n",
    "        # Rescale images 0 - 1\n",
    "        gen_imgs = 0.5 * gen_imgs + 0.5\n",
    "\n",
    "        fig, axs = plt.subplots(r, c)\n",
    "        cnt = 0\n",
    "        for i in range(r):\n",
    "            for j in range(c):\n",
    "                axs[i,j].imshow(gen_imgs[cnt, :,:,0], cmap='gray')\n",
    "                axs[i,j].axis('off')\n",
    "                cnt += 1\n",
    "        fig.savefig(\"images/%d.png\" % epoch)\n",
    "        plt.close()\n"
   ]
  },
  {
   "cell_type": "code",
   "execution_count": 107,
   "metadata": {
    "collapsed": false
   },
   "outputs": [
    {
     "name": "stdout",
     "output_type": "stream",
     "text": [
      "<keras.layers.embeddings.Embedding object at 0x7fae45412518>\n"
     ]
    }
   ],
   "source": [
    "run = GAN(nb_words, max_len, bpe.get_keras_embedding(train_embeddings=True), bpe2.vectors, [300, 128])"
   ]
  },
  {
   "cell_type": "code",
   "execution_count": 108,
   "metadata": {
    "collapsed": false
   },
   "outputs": [
    {
     "name": "stdout",
     "output_type": "stream",
     "text": [
      "Epoch 1/1\n",
      " - 7s - loss: 6.0898\n",
      "0.4463741688718895\n",
      "Epoch 1/1\n",
      " - 1s - loss: 3.5941\n",
      "0.45538037314594493\n",
      "Epoch 1/1\n",
      " - 1s - loss: 2.5216\n",
      "0.4832440125419734\n",
      "Epoch 1/1\n",
      " - 0s - loss: 1.7184\n",
      "0.47852965376148016\n",
      "Epoch 1/1\n",
      " - 1s - loss: 1.0805\n",
      "0.4709021770553047\n"
     ]
    }
   ],
   "source": [
    "for epoch in range(5):\n",
    "    run.generator.fit(d_july, np.expand_dims(d_july, axis=-1), verbose=2, epochs=1)\n",
    "#     generate_output(run.generator.predict(d_july), run.generator.predict(d_july))\n",
    "    print(gan_eval())"
   ]
  },
  {
   "cell_type": "code",
   "execution_count": 109,
   "metadata": {
    "collapsed": false
   },
   "outputs": [
    {
     "ename": "TypeError",
     "evalue": "list indices must be integers or slices, not numpy.float32",
     "output_type": "error",
     "traceback": [
      "\u001b[0;31m---------------------------------------------------------------------------\u001b[0m",
      "\u001b[0;31mTypeError\u001b[0m                                 Traceback (most recent call last)",
      "\u001b[0;32m<ipython-input-109-010240dad763>\u001b[0m in \u001b[0;36m<module>\u001b[0;34m()\u001b[0m\n\u001b[0;32m----> 1\u001b[0;31m \u001b[0mgenerate_output\u001b[0m\u001b[0;34m(\u001b[0m\u001b[0mrun\u001b[0m\u001b[0;34m.\u001b[0m\u001b[0mgenerator\u001b[0m\u001b[0;34m.\u001b[0m\u001b[0mpredict\u001b[0m\u001b[0;34m(\u001b[0m\u001b[0md_july\u001b[0m\u001b[0;34m)\u001b[0m\u001b[0;34m,\u001b[0m \u001b[0mrun\u001b[0m\u001b[0;34m.\u001b[0m\u001b[0mgenerator\u001b[0m\u001b[0;34m.\u001b[0m\u001b[0mpredict\u001b[0m\u001b[0;34m(\u001b[0m\u001b[0md_july\u001b[0m\u001b[0;34m)\u001b[0m\u001b[0;34m)\u001b[0m\u001b[0;34m\u001b[0m\u001b[0m\n\u001b[0m",
      "\u001b[0;32m<ipython-input-71-f828a62fcec9>\u001b[0m in \u001b[0;36mgenerate_output\u001b[0;34m(x, y)\u001b[0m\n\u001b[1;32m     13\u001b[0m         \u001b[0mgen_q\u001b[0m \u001b[0;34m=\u001b[0m \u001b[0;34m\" \"\u001b[0m\u001b[0;34m.\u001b[0m\u001b[0mjoin\u001b[0m\u001b[0;34m(\u001b[0m\u001b[0;34m[\u001b[0m\u001b[0mbpe\u001b[0m\u001b[0;34m.\u001b[0m\u001b[0mindex2word\u001b[0m\u001b[0;34m[\u001b[0m\u001b[0mt\u001b[0m\u001b[0;34m]\u001b[0m \u001b[0;32mfor\u001b[0m \u001b[0mt\u001b[0m \u001b[0;32min\u001b[0m \u001b[0mi\u001b[0m\u001b[0;34m]\u001b[0m\u001b[0;34m)\u001b[0m\u001b[0;34m\u001b[0m\u001b[0m\n\u001b[1;32m     14\u001b[0m         \u001b[0mgen_d\u001b[0m \u001b[0;34m=\u001b[0m \u001b[0;34m\" \"\u001b[0m\u001b[0;34m.\u001b[0m\u001b[0mjoin\u001b[0m\u001b[0;34m(\u001b[0m\u001b[0;34m[\u001b[0m\u001b[0mbpe\u001b[0m\u001b[0;34m.\u001b[0m\u001b[0mindex2word\u001b[0m\u001b[0;34m[\u001b[0m\u001b[0mt\u001b[0m\u001b[0;34m]\u001b[0m \u001b[0;32mfor\u001b[0m \u001b[0mt\u001b[0m \u001b[0;32min\u001b[0m \u001b[0mj\u001b[0m\u001b[0;34m]\u001b[0m\u001b[0;34m)\u001b[0m\u001b[0;34m\u001b[0m\u001b[0m\n\u001b[0;32m---> 15\u001b[0;31m         \u001b[0mreal_q\u001b[0m \u001b[0;34m=\u001b[0m \u001b[0;34m\" \"\u001b[0m\u001b[0;34m.\u001b[0m\u001b[0mjoin\u001b[0m\u001b[0;34m(\u001b[0m\u001b[0;34m[\u001b[0m\u001b[0mbpe\u001b[0m\u001b[0;34m.\u001b[0m\u001b[0mindex2word\u001b[0m\u001b[0;34m[\u001b[0m\u001b[0mt\u001b[0m\u001b[0;34m]\u001b[0m \u001b[0;32mfor\u001b[0m \u001b[0mt\u001b[0m \u001b[0;32min\u001b[0m \u001b[0mk\u001b[0m\u001b[0;34m]\u001b[0m\u001b[0;34m)\u001b[0m\u001b[0;34m\u001b[0m\u001b[0m\n\u001b[0m\u001b[1;32m     16\u001b[0m         \u001b[0mreal_d\u001b[0m \u001b[0;34m=\u001b[0m \u001b[0;34m\" \"\u001b[0m\u001b[0;34m.\u001b[0m\u001b[0mjoin\u001b[0m\u001b[0;34m(\u001b[0m\u001b[0;34m[\u001b[0m\u001b[0mbpe\u001b[0m\u001b[0;34m.\u001b[0m\u001b[0mindex2word\u001b[0m\u001b[0;34m[\u001b[0m\u001b[0mt\u001b[0m\u001b[0;34m]\u001b[0m \u001b[0;32mfor\u001b[0m \u001b[0mt\u001b[0m \u001b[0;32min\u001b[0m \u001b[0ml\u001b[0m\u001b[0;34m]\u001b[0m\u001b[0;34m)\u001b[0m\u001b[0;34m\u001b[0m\u001b[0m\n\u001b[1;32m     17\u001b[0m \u001b[0;34m\u001b[0m\u001b[0m\n",
      "\u001b[0;32m<ipython-input-71-f828a62fcec9>\u001b[0m in \u001b[0;36m<listcomp>\u001b[0;34m(.0)\u001b[0m\n\u001b[1;32m     13\u001b[0m         \u001b[0mgen_q\u001b[0m \u001b[0;34m=\u001b[0m \u001b[0;34m\" \"\u001b[0m\u001b[0;34m.\u001b[0m\u001b[0mjoin\u001b[0m\u001b[0;34m(\u001b[0m\u001b[0;34m[\u001b[0m\u001b[0mbpe\u001b[0m\u001b[0;34m.\u001b[0m\u001b[0mindex2word\u001b[0m\u001b[0;34m[\u001b[0m\u001b[0mt\u001b[0m\u001b[0;34m]\u001b[0m \u001b[0;32mfor\u001b[0m \u001b[0mt\u001b[0m \u001b[0;32min\u001b[0m \u001b[0mi\u001b[0m\u001b[0;34m]\u001b[0m\u001b[0;34m)\u001b[0m\u001b[0;34m\u001b[0m\u001b[0m\n\u001b[1;32m     14\u001b[0m         \u001b[0mgen_d\u001b[0m \u001b[0;34m=\u001b[0m \u001b[0;34m\" \"\u001b[0m\u001b[0;34m.\u001b[0m\u001b[0mjoin\u001b[0m\u001b[0;34m(\u001b[0m\u001b[0;34m[\u001b[0m\u001b[0mbpe\u001b[0m\u001b[0;34m.\u001b[0m\u001b[0mindex2word\u001b[0m\u001b[0;34m[\u001b[0m\u001b[0mt\u001b[0m\u001b[0;34m]\u001b[0m \u001b[0;32mfor\u001b[0m \u001b[0mt\u001b[0m \u001b[0;32min\u001b[0m \u001b[0mj\u001b[0m\u001b[0;34m]\u001b[0m\u001b[0;34m)\u001b[0m\u001b[0;34m\u001b[0m\u001b[0m\n\u001b[0;32m---> 15\u001b[0;31m         \u001b[0mreal_q\u001b[0m \u001b[0;34m=\u001b[0m \u001b[0;34m\" \"\u001b[0m\u001b[0;34m.\u001b[0m\u001b[0mjoin\u001b[0m\u001b[0;34m(\u001b[0m\u001b[0;34m[\u001b[0m\u001b[0mbpe\u001b[0m\u001b[0;34m.\u001b[0m\u001b[0mindex2word\u001b[0m\u001b[0;34m[\u001b[0m\u001b[0mt\u001b[0m\u001b[0;34m]\u001b[0m \u001b[0;32mfor\u001b[0m \u001b[0mt\u001b[0m \u001b[0;32min\u001b[0m \u001b[0mk\u001b[0m\u001b[0;34m]\u001b[0m\u001b[0;34m)\u001b[0m\u001b[0;34m\u001b[0m\u001b[0m\n\u001b[0m\u001b[1;32m     16\u001b[0m         \u001b[0mreal_d\u001b[0m \u001b[0;34m=\u001b[0m \u001b[0;34m\" \"\u001b[0m\u001b[0;34m.\u001b[0m\u001b[0mjoin\u001b[0m\u001b[0;34m(\u001b[0m\u001b[0;34m[\u001b[0m\u001b[0mbpe\u001b[0m\u001b[0;34m.\u001b[0m\u001b[0mindex2word\u001b[0m\u001b[0;34m[\u001b[0m\u001b[0mt\u001b[0m\u001b[0;34m]\u001b[0m \u001b[0;32mfor\u001b[0m \u001b[0mt\u001b[0m \u001b[0;32min\u001b[0m \u001b[0ml\u001b[0m\u001b[0;34m]\u001b[0m\u001b[0;34m)\u001b[0m\u001b[0;34m\u001b[0m\u001b[0m\n\u001b[1;32m     17\u001b[0m \u001b[0;34m\u001b[0m\u001b[0m\n",
      "\u001b[0;31mTypeError\u001b[0m: list indices must be integers or slices, not numpy.float32"
     ]
    }
   ],
   "source": [
    "generate_output(run.generator.predict(d_july), run.generator.predict(d_july))\n"
   ]
  },
  {
   "cell_type": "code",
   "execution_count": 112,
   "metadata": {
    "collapsed": false
   },
   "outputs": [
    {
     "name": "stdout",
     "output_type": "stream",
     "text": [
      "0 [D loss: 0.748254, acc.: 49.77%] [G loss: 0.520398] AUC: 0.4191\n",
      "1 [D loss: 0.709304, acc.: 49.77%] [G loss: 0.607252] AUC: 0.4221\n",
      "2 [D loss: 0.686104, acc.: 49.77%] [G loss: 0.694397] AUC: 0.4150\n",
      "3 [D loss: 0.677233, acc.: 82.75%] [G loss: 0.768257] AUC: 0.4199\n",
      "4 [D loss: 0.719529, acc.: 35.33%] [G loss: 0.731035] AUC: 0.3982\n"
     ]
    }
   ],
   "source": [
    "# Adversarial ground truths\n",
    "valid = np.ones((len(q_july), 1))\n",
    "fake = np.zeros((len(q_july), 1))\n",
    "\n",
    "for epoch in range(5):\n",
    "\n",
    "    # ---------------------\n",
    "    #  Train Discriminator\n",
    "    # ---------------------\n",
    "\n",
    "    # Select a random batch of images\n",
    "    imgs = x\n",
    "\n",
    "    # Generate a batch of new images\n",
    "    gen_imgs = run.generator.predict(d_july)\n",
    "\n",
    "    # Train the discriminator\n",
    "    d_loss_real = run.discriminator.train_on_batch(imgs, valid)\n",
    "    d_loss_fake = run.discriminator.train_on_batch(gen_imgs, fake)\n",
    "    d_loss = 0.5 * np.add(d_loss_real, d_loss_fake)\n",
    "\n",
    "    # ---------------------\n",
    "    #  Train Generator\n",
    "    # ---------------------\n",
    "\n",
    "#     noise = np.random.normal(0, 1, (batch_size, self.latent_dim))\n",
    "\n",
    "#     # Train the generator (to have the discriminator label samples as valid)\n",
    "    g_loss = run.model.train_on_batch(d_july, valid)\n",
    "\n",
    "#     # Plot the progress\n",
    "    print (\"%d [D loss: %f, acc.: %.2f%%] [G loss: %f] AUC: %.4f\" % (epoch, d_loss[0], 100*d_loss[1], g_loss, gan_eval()))\n",
    "#     generate_output(run.generator.predict(q_july), run.generator.predict(d_july))\n",
    "# For the combined model we will only train the generator\n",
    "#     # If at save interval => save generated image samples\n",
    "#     if epoch % sample_interval == 0:\n",
    "#         self.sample_images(epoch)"
   ]
  },
  {
   "cell_type": "code",
   "execution_count": 104,
   "metadata": {
    "collapsed": false
   },
   "outputs": [],
   "source": [
    "def gan_eval():\n",
    "    #       combine with w2v\n",
    "    q = run.encoder.predict(q_july)\n",
    "    d = run.encoder.predict(d_july)\n",
    "\n",
    "    cosine = CosineSim(q.shape[-1])\n",
    "\n",
    "    pred = cosine.model.predict([q, d])\n",
    "    return auc(qrel_july, pred.flatten())\n",
    "    "
   ]
  },
  {
   "cell_type": "code",
   "execution_count": null,
   "metadata": {
    "collapsed": true
   },
   "outputs": [],
   "source": [
    "class NaiveVAE():\n",
    "    def __init__(self, nb_words, max_len, emb, emb2, dim, comp_topk=None, ctype=None, epsilon_std=1.0, optimizer=RMSprop(lr=0.01), enableGAN=False, kl_weight=0):\n",
    "        self.dim = dim\n",
    "        self.comp_topk = comp_topk\n",
    "        self.ctype = ctype\n",
    "        self.epsilon_std = epsilon_std\n",
    "\n",
    "        self.nb_words = nb_words\n",
    "        self.max_len = max_len\n",
    "        self.emb = emb\n",
    "        self.emb2 = emb2\n",
    "        self.enableGAN = enableGAN\n",
    "        self.optimizer = optimizer\n",
    "        self.kl_weight = kl_weight\n",
    "\n",
    "\n",
    "        # Build and compile the discriminator\n",
    "        self.discriminator = self.build_discriminator()\n",
    "        self.discriminator.compile(loss='binary_crossentropy',\n",
    "            optimizer=\"adam\",\n",
    "            metrics=['accuracy'])\n",
    "        \n",
    "        self.discriminator.trainable = False\n",
    "\n",
    "\n",
    "        # Build the generator\n",
    "        self.generator, self.encoder = self.build_generator()\n",
    "\n",
    "        # The generator takes noise as input and generates imgs\n",
    "        z = Input(shape=(self.max_len,))\n",
    "        text = self.generator(z)\n",
    "\n",
    "        # The discriminator takes generated images as input and determines validity\n",
    "        validity = self.discriminator(text)\n",
    "\n",
    "        # The combined model  (stacked generator and discriminator)\n",
    "        # Trains the generator to fool the discriminator\n",
    "        self.model = Model(z, validity)\n",
    "        self.model.compile(loss='binary_crossentropy', optimizer=self.optimizer)\n",
    "\n",
    "\n",
    "    def build_encoder(self):\n",
    "        \n",
    "        x = Input(shape=(self.max_len,))\n",
    "        emb = self.emb\n",
    "        dense = Dense(self.dim[0])\n",
    "        mean = Dense(self.dim[1])\n",
    "        var = Dense(self.dim[1])\n",
    "        \n",
    "        embed_x = emb(x)\n",
    "        h = dense(embed_x)\n",
    "        \n",
    "        z_mean = mean(h)\n",
    "        z_var = val(h)\n",
    "        \n",
    "        z = Lambda(self.sampling)([z_mean, z_var])\n",
    "        \n",
    "        encoder = Model(input_layer, z_mean)\n",
    "        \n",
    "        generator = Model(input_layer, z)\n",
    "\n",
    "        return generator, encoder\n",
    "\n",
    "\n",
    "    def build_decoder(self):\n",
    "        \n",
    "        input_layer = Input(shape=(self.dim[1],))\n",
    "        \n",
    "        dense = Dense(200 * self.max_len)\n",
    "        \n",
    "        h = Reshape((self.max_len, 200))(dense(input_lauer))\n",
    "        \n",
    "        \n",
    "\n",
    "        \n",
    "        \n",
    "#         generator = Sequential([emb, lstm, dense, Activation('softmax')])\n",
    "#         encoder = Sequential([emb, lstm, GlobalMaxPooling1D()])\n",
    "        \n",
    "#         generator.compile(optimizer=self.optimizer, loss=[\"sparse_categorical_crossentropy\"])\n",
    "\n",
    "        return generator, encoder\n",
    "\n",
    "    def build_discriminator(self):\n",
    "        \n",
    "        input_layer = Input(shape=(self.max_len, self.nb_words,))\n",
    "        emb = OnehotEmbedding(200, d=2)\n",
    "        lstm = LSTM(self.dim[1])\n",
    "        dense = Dense(1, activation=\"sigmoid\")\n",
    "\n",
    "        h = emb(input_layer)\n",
    "        h = lstm(h)\n",
    "        pred = dense(h)\n",
    "\n",
    "        discriminator = Model(input_layer, pred)\n",
    "        emb.set_weights([bpe2.vectors])\n",
    "\n",
    "        return discriminator\n",
    "\n",
    "    \n",
    "\n",
    "    def sample_images(self, epoch):\n",
    "        r, c = 5, 5\n",
    "        noise = np.random.normal(0, 1, (r * c, self.latent_dim))\n",
    "        gen_imgs = self.generator.predict(noise)\n",
    "\n",
    "        # Rescale images 0 - 1\n",
    "        gen_imgs = 0.5 * gen_imgs + 0.5\n",
    "\n",
    "        fig, axs = plt.subplots(r, c)\n",
    "        cnt = 0\n",
    "        for i in range(r):\n",
    "            for j in range(c):\n",
    "                axs[i,j].imshow(gen_imgs[cnt, :,:,0], cmap='gray')\n",
    "                axs[i,j].axis('off')\n",
    "                cnt += 1\n",
    "        fig.savefig(\"images/%d.png\" % epoch)\n",
    "        plt.close()\n",
    "    def sampling(self, args):\n",
    "        z_mean, z_log_var = args\n",
    "        epsilon = K.random_normal(shape=(K.shape(z_mean)[0], self.max_len, self.dim[1]), mean=0.,\\\n",
    "                                  stddev=self.epsilon_std)\n",
    "\n",
    "        return z_mean + K.exp(z_log_var / 2) * epsilon\n"
   ]
  },
  {
   "cell_type": "code",
   "execution_count": 180,
   "metadata": {
    "collapsed": false
   },
   "outputs": [],
   "source": [
    "dim = [300, 128]\n",
    "\n",
    "class NaiveVAE():\n",
    "    def __init__(self):\n",
    "\n",
    "        def sampling(args):\n",
    "            z_mean, z_log_var = args\n",
    "            epsilon = K.random_normal(shape=(K.shape(z_mean)[0], dim[1]), mean=0., stddev=1)\n",
    "\n",
    "            return z_mean + K.exp(z_log_var / 2) * epsilon\n",
    "\n",
    "        x = Input(shape=(max_len,))\n",
    "        emb = bpe.get_keras_embedding(False)\n",
    "        enc_dense = Dense(dim[0])\n",
    "        mean = Dense(dim[1])\n",
    "        var = Dense(dim[1])\n",
    "\n",
    "        embed_x = GlobalMaxPooling1D()(emb(x))\n",
    "        h = enc_dense(embed_x)\n",
    "\n",
    "        z_mean = mean(h)\n",
    "        z_var = var(h)\n",
    "\n",
    "        z = Lambda(sampling)([z_mean, z_var])\n",
    "\n",
    "        dec_dense = Dense(200 * max_len)\n",
    "\n",
    "        _x = Reshape((max_len, 200))(dec_dense(z))\n",
    "        _x = GlobalMaxPooling1D()(_x)\n",
    "\n",
    "#         cos = merge([embed_x, _x], mode=\"mul\")\n",
    "        \n",
    "#         pred = Dense(1, activation=\"sigmoid\")(cos)\n",
    "        \n",
    "        # _x = dec_dense(z)\n",
    "        \n",
    "\n",
    "\n",
    "        \n",
    "        def vae_loss(target, pred):\n",
    "                rec_loss = objectives.cosine(embed_x, _x)\n",
    "                kl_loss = - 0.5 * K.sum(1 + z_var - K.square(z_mean) - K.exp(z_var), axis=-1)\n",
    "\n",
    "                return  rec_loss + (0.5 * kl_loss)\n",
    "\n",
    "\n",
    "        self.model = Model(x, _x)\n",
    "        self.model.compile(optimizer=\"adam\", loss=vae_loss)\n",
    "        self.encoder = Model(x, z)\n",
    "    def name(self):\n",
    "        return \"naive_vae\""
   ]
  },
  {
   "cell_type": "code",
   "execution_count": 181,
   "metadata": {
    "collapsed": false
   },
   "outputs": [],
   "source": [
    "run = NaiveVAE()"
   ]
  },
  {
   "cell_type": "code",
   "execution_count": 182,
   "metadata": {
    "collapsed": false
   },
   "outputs": [
    {
     "name": "stdout",
     "output_type": "stream",
     "text": [
      "no generated query\n",
      "3.8917165615979363 2.3599997232126637 0.5436634125731059\n",
      "no generated query\n",
      "1.7770575817893532 1.5273764965146086 0.5216704841112767\n",
      "no generated query\n",
      "1.0867487325387843 1.105464258859324 0.5146878961062065\n",
      "no generated query\n",
      "0.6749415769296534 0.80384520874467 0.5318997531632903\n",
      "no generated query\n",
      "0.3805125685299144 0.583930259527162 0.5216037714870244\n",
      "no generated query\n",
      "0.16747295470798718 0.4159471503523893 0.5624986101536614\n",
      "no generated query\n",
      "0.011721446365118026 0.2953929998153864 0.5424403477951478\n",
      "no generated query\n",
      "-0.10812742815298193 0.18251057315704433 0.5604527563432586\n",
      "no generated query\n",
      "-0.20703990599688363 0.09362420786258786 0.5429740487891659\n",
      "no generated query\n",
      "-0.2855706036090851 0.012799183123333509 0.4999888812292913\n",
      "no generated query\n",
      "-0.34797983379924996 -0.05801950871597889 0.5505792879539237\n",
      "no generated query\n",
      "-0.40131148240145514 -0.1114757994926253 0.5599635304320755\n",
      "no generated query\n",
      "-0.44407969818395726 -0.16168174702067709 0.566278992194623\n",
      "no generated query\n",
      "-0.4836204847868751 -0.21052874797998472 0.49605283639840775\n",
      "no generated query\n",
      "-0.5169232452616972 -0.243861252138781 0.5549156085303208\n",
      "no generated query\n",
      "-0.5426990298663869 -0.28296542306279027 0.5390602414996998\n",
      "no generated query\n",
      "-0.5673250016044168 -0.3084960150164227 0.5186906535613423\n",
      "no generated query\n",
      "-0.5891494779025808 -0.34267059869544453 0.5204029442504837\n",
      "no generated query\n",
      "-0.6078977037878598 -0.3689274961172148 0.5385487780470991\n",
      "no generated query\n",
      "-0.624708445633159 -0.3947256158950717 0.5679245702595122\n"
     ]
    }
   ],
   "source": [
    "x_train = q_july\n",
    "y_train = np.expand_dims(q_july, axis=-1)\n",
    "# x_train = q_df\n",
    "# y_train = np.expand_dims(q_df, axis=-1)\n",
    "# np.random.randint(2, size=(426,200))\n",
    "hist = run.model.fit(x_train, np.ones(426) , epochs=20, verbose=0, batch_size=32, validation_split=0.2, callbacks=[EarlyStopping(verbose=1, patience=5),ReduceLROnPlateau(verbose=1, patience=3), LambdaCallback(on_epoch_end=eval), TQDMNotebookCallback()])"
   ]
  },
  {
   "cell_type": "code",
   "execution_count": 13,
   "metadata": {
    "collapsed": false
   },
   "outputs": [],
   "source": [
    "class NVDM():\n",
    "    def __init__(self, mode=0):\n",
    "        self.mode = mode\n",
    "        \n",
    "        \n",
    "        dim = [300,200]\n",
    "        X = Input(shape=(nb_words,))\n",
    "        x = Input(shape=(max_len,))\n",
    "        enc_emb = bpe.get_keras_embedding(True)\n",
    "        h1 = Dense(dim[0], activation=\"relu\")\n",
    "        h2 = Dense(dim[0], activation=\"relu\")\n",
    "        mean = Dense(dim[1])\n",
    "        log_var = Dense(dim[1])\n",
    "\n",
    "        if self.mode == 0:\n",
    "            z_mean = mean(h2(h1(X)))\n",
    "            z_log_var = log_var(h2(h1(X)))\n",
    "        elif self.mode == 1:\n",
    "            z_mean = mean(h2(h1(enc_emb(x))))\n",
    "            z_log_var = log_var(h2(h1(enc_emb(x))))\n",
    "\n",
    "\n",
    "        def sampling(args):\n",
    "            z_mean, z_log_var = args\n",
    "            if self.mode == 0:\n",
    "                epsilon = K.random_normal(shape=(K.shape(z_mean)[0], dim[1]), mean=0.,\\\n",
    "                                          stddev=1)\n",
    "            elif self.mode == 1:\n",
    "                epsilon = K.random_normal(shape=(K.shape(z_mean)[0], max_len, dim[1]), mean=0.,\\\n",
    "                                                          stddev=1)\n",
    "            return z_mean + K.exp(z_log_var / 2) * epsilon\n",
    "\n",
    "        \n",
    "        if self.mode == 0:\n",
    "            z = Lambda(sampling, output_shape=(dim[1],))([z_mean, z_log_var])\n",
    "            repeated_z = RepeatVector(max_len)(z)\n",
    "        elif self.mode == 1:\n",
    "            z = Lambda(sampling, output_shape=(max_len, dim[1],))([z_mean, z_log_var])\n",
    "            repeated_z = z\n",
    "\n",
    "        # Decoder\n",
    "        \n",
    "        \n",
    "\n",
    "        dec_emb = bpe2.get_keras_embedding(True)\n",
    "        dec_bias = Embedding(nb_words, 200, embeddings_initializer=\"zeros\")\n",
    "\n",
    "        Rx = dec_emb(x)\n",
    "        bx = dec_bias(x)\n",
    "\n",
    "        _X = merge([merge([repeated_z, Rx], mode=\"mul\"), bx], mode=\"sum\")\n",
    "        _X = Dense(nb_words, activation=\"softmax\")(_X)\n",
    "        \n",
    "        if self.mode == 0:\n",
    "            self.model = Model([X, x], [_X, _X])\n",
    "            self.encoder = Model([X], z_mean)\n",
    "        elif self.mode == 1:\n",
    "            self.model = Model(x, [_X, _X])\n",
    "            self.encoder = Model(x, GlobalMaxPooling1D()(z_mean))\n",
    "            \n",
    "        def kl_loss(X, _X):\n",
    "\n",
    "        #     rec_loss = objectives.sparse_categorical_crossentropy(X, _X)\n",
    "            kl_loss = - 0.5 * K.sum(1 + z_log_var - K.square(z_mean) - K.exp(z_log_var), axis=-1)\n",
    "\n",
    "            return kl_loss\n",
    "\n",
    "        self.model.compile(optimizer=\"adam\", loss=[\"sparse_categorical_crossentropy\", kl_loss])\n",
    "        \n",
    "    def name(self):\n",
    "        \n",
    "        return \"nvdm%d\" % self.mode\n",
    "\n",
    "\n",
    "   "
   ]
  },
  {
   "cell_type": "code",
   "execution_count": 18,
   "metadata": {
    "collapsed": false
   },
   "outputs": [],
   "source": [
    "run = NVDM(mode=1)"
   ]
  },
  {
   "cell_type": "code",
   "execution_count": 15,
   "metadata": {
    "collapsed": false
   },
   "outputs": [],
   "source": [
    "X_q_july = np.zeros((len(q_july), nb_words))\n",
    "for idx, i in enumerate(q_july):\n",
    "    X_q_july[idx, i] = 1\n",
    "x_q_july = q_july\n",
    "x_q_july = np.expand_dims(x_q_july, axis=-1)"
   ]
  },
  {
   "cell_type": "code",
   "execution_count": 16,
   "metadata": {
    "collapsed": false
   },
   "outputs": [],
   "source": [
    "X_d_july = np.zeros((len(d_july), nb_words))\n",
    "for idx, i in enumerate(d_july):\n",
    "    X_d_july[idx, i] = 1\n",
    "x_d_july = d_july\n",
    "x_d_july = np.expand_dims(x_d_july, axis=-1)"
   ]
  },
  {
   "cell_type": "code",
   "execution_count": 28,
   "metadata": {
    "collapsed": true
   },
   "outputs": [],
   "source": [
    "X_df = np.zeros((len(q_df), nb_words))\n",
    "for idx, i in enumerate(q_df):\n",
    "    X_df[idx, i] = 1\n",
    "x_df = q_df\n",
    "y_df = np.expand_dims(x_df, axis=-1)"
   ]
  },
  {
   "cell_type": "code",
   "execution_count": 25,
   "metadata": {
    "collapsed": true
   },
   "outputs": [],
   "source": [
    "# x_df = np.concatenate([q_july, d_july])[:10000]\n",
    "# y_df = np.concatenate([np.expand_dims(q_july, axis=-1), np.expand_dims(d_july, axis=-1)])[:10000]"
   ]
  },
  {
   "cell_type": "code",
   "execution_count": 29,
   "metadata": {
    "collapsed": false
   },
   "outputs": [
    {
     "data": {
      "text/plain": [
       "1000000"
      ]
     },
     "execution_count": 29,
     "metadata": {},
     "output_type": "execute_result"
    }
   ],
   "source": [
    "len(x_df)"
   ]
  },
  {
   "cell_type": "code",
   "execution_count": 31,
   "metadata": {
    "collapsed": false
   },
   "outputs": [],
   "source": []
  },
  {
   "cell_type": "code",
   "execution_count": 33,
   "metadata": {
    "collapsed": false
   },
   "outputs": [
    {
     "data": {
      "text/plain": [
       "array([[ 1200,     3,  4639, ...,     0,     0,     0],\n",
       "       [  713, 14240,  5032, ...,     0,     0,     0],\n",
       "       [ 8562,  2589,  2572, ...,     0,     0,     0],\n",
       "       ...,\n",
       "       [ 4694,  3572,    13, ...,     0,     0,     0],\n",
       "       [19731,  6128,     0, ...,     0,     0,     0],\n",
       "       [  901,  3578,     0, ...,     0,     0,     0]], dtype=int32)"
      ]
     },
     "execution_count": 33,
     "metadata": {},
     "output_type": "execute_result"
    }
   ],
   "source": [
    "x_df[idx]"
   ]
  },
  {
   "cell_type": "code",
   "execution_count": 35,
   "metadata": {
    "collapsed": false
   },
   "outputs": [
    {
     "name": "stdout",
     "output_type": "stream",
     "text": [
      "no generated query\n",
      "0.08481455051898956 0.08543515466153621 0.5099290622428785\n",
      "no generated query\n",
      "0.082918307059341 0.06969341568648815 0.49019324423491734\n",
      "no generated query\n",
      "0.08325616890523169 0.06623094818741083 0.4722475483110587\n",
      "no generated query\n",
      "0.08198393484784497 0.06756213203072547 0.5176566078854322\n",
      "no generated query\n",
      "0.08076373047629992 0.09768212014436722 0.5207698636838711\n",
      "no generated query\n",
      "0.0761272309521834 0.09563448145985604 0.49728701994707464\n",
      "no generated query\n",
      "0.07768686529414522 0.06402832823991776 0.49195001000689365\n",
      "no generated query\n",
      "0.07284428431259261 0.07934074947237968 0.4968422691187262\n",
      "no generated query\n",
      "0.07535207597414653 0.06112613801285625 0.4778514087482487\n",
      "no generated query\n",
      "0.07488689358863565 0.07653127740323544 0.5048700215704152\n"
     ]
    }
   ],
   "source": [
    "# mode = 0\n",
    "# run.model.fit([X_df, x_df], [y_df, y_df], verbose=0, validation_split=0.1, batch_size=32, epochs=20, callbacks=[LambdaCallback(on_epoch_end=eval)])\n",
    "# mode = 1\n",
    "for i in range(10):\n",
    "    idx = np.random.randint(len(x_df), size=10000)\n",
    "    run.model.fit([x_df[idx]], [y_df[idx], y_df[idx]], verbose=0, validation_split=0.1, batch_size=32, epochs=1, callbacks=[TQDMNotebookCallback(), LambdaCallback(on_epoch_end=eval)])"
   ]
  },
  {
   "cell_type": "code",
   "execution_count": null,
   "metadata": {
    "collapsed": true
   },
   "outputs": [],
   "source": [
    "for layer in model.layers:\n",
    "    layer.trainable=False"
   ]
  },
  {
   "cell_type": "code",
   "execution_count": 22,
   "metadata": {
    "collapsed": false
   },
   "outputs": [],
   "source": [
    "def eval(epoch, logs):\n",
    "    \n",
    "    loss = logs.get(\"loss\")\n",
    "    val_loss = logs.get(\"val_loss\")\n",
    "    \n",
    "#     may_ndcg, june_ndcg, july_auc = evaluate(run, cosine, test_set)\n",
    "#     print_output = '%s, Epoch %d, [%.1f s], May = %.4f, June = %.4f, July = %.4f, Loss = %.4f, V_Loss = %.4f \\n' % (run.name(), epoch, 0, may_ndcg, june_ndcg, july_auc, loss, val_loss)\n",
    "#     print(print_output)\n",
    "    \n",
    "#     generate_output(run.model.predict(q_july), run.model.predict(d_july))\n",
    "\n",
    "    if hasattr(run, 'generator'):\n",
    "        generate_output(run.generator.predict(q_july), run.generator.predict(d_july))\n",
    "    elif \"seqvae\" in run.name():\n",
    "\n",
    "        generate_output(run.model.predict([q_july, _q_july]), run.model.predict([d_july, _d_july]))\n",
    "    elif \"kate_lstm\" in run.name() or \"vae_lstm\" in run.name():\n",
    "#         sample new query\n",
    "#         generate_output(run.model.predict(q_july)[0], run.model.predict(d_july)[0])\n",
    "        generate_output(run.decoder.predict(run.encoder.predict(q_july)), run.decoder.predict(run.encoder.predict(d_july)))\n",
    "    elif \"naive_vae\" in run.name() or \"nvdm\" in run.name():\n",
    "        print(\"no generated query\")\n",
    "    else:\n",
    "        generate_output(run.model.predict(q_july), run.model.predict(d_july))\n",
    "    \n",
    "    \n",
    "    #       combine with w2v\n",
    "    if run.name() == \"nvdm0\":\n",
    "        q = run.encoder.predict(X_q_july)\n",
    "        d = run.encoder.predict(X_d_july)\n",
    "    else:\n",
    "        q = run.encoder.predict(q_july)\n",
    "        d = run.encoder.predict(d_july)\n",
    "#     q = np.concatenate([w2v.predict(q_july), run.encoder.predict(q_july)], axis=-1)\n",
    "#     d = np.concatenate([w2v.predict(d_july), run.encoder.predict(d_july)], axis=-1)\n",
    "    \n",
    "    cosine = CosineSim(q.shape[-1])\n",
    "    \n",
    "    pred = cosine.model.predict([q, d])\n",
    "    print(loss, val_loss, auc(qrel_july, pred.flatten()))"
   ]
  },
  {
   "cell_type": "code",
   "execution_count": 36,
   "metadata": {
    "collapsed": true
   },
   "outputs": [],
   "source": [
    "model = Sequential([bpe.get_keras_embedding(True), LSTM(300, return_sequences=True), Dense(nb_words, activation=\"softmax\")])"
   ]
  },
  {
   "cell_type": "code",
   "execution_count": 45,
   "metadata": {
    "collapsed": false
   },
   "outputs": [
    {
     "name": "stdout",
     "output_type": "stream",
     "text": [
      "Epoch 1/10\n",
      "10/10 [==============================] - 1s 104ms/step - loss: 10.8299\n",
      "Epoch 2/10\n",
      "10/10 [==============================] - 0s 9ms/step - loss: 10.8291\n",
      "Epoch 3/10\n",
      "10/10 [==============================] - 0s 9ms/step - loss: 10.8283\n",
      "Epoch 4/10\n",
      "10/10 [==============================] - 0s 8ms/step - loss: 10.8276\n",
      "Epoch 5/10\n",
      "10/10 [==============================] - 0s 9ms/step - loss: 10.8268\n",
      "Epoch 6/10\n",
      "10/10 [==============================] - 0s 8ms/step - loss: 10.8259\n",
      "Epoch 7/10\n",
      "10/10 [==============================] - 0s 9ms/step - loss: 10.8247\n",
      "Epoch 8/10\n",
      "10/10 [==============================] - 0s 9ms/step - loss: 10.8234\n",
      "Epoch 9/10\n",
      "10/10 [==============================] - 0s 9ms/step - loss: 10.8218\n",
      "Epoch 10/10\n",
      "10/10 [==============================] - 0s 9ms/step - loss: 10.8199\n"
     ]
    },
    {
     "data": {
      "text/plain": [
       "<keras.callbacks.History at 0x7fa6e0747208>"
      ]
     },
     "execution_count": 45,
     "metadata": {},
     "output_type": "execute_result"
    }
   ],
   "source": [
    "model.compile(optimizer=\"adam\", loss=\"binary_crossentropy\")\n",
    "model.fit(np.random.randint(nb_words, size=(10, 10)), np.random.randint(3, size=(10,10,nb_words)))"
   ]
  },
  {
   "cell_type": "code",
   "execution_count": 80,
   "metadata": {
    "collapsed": true
   },
   "outputs": [],
   "source": [
    "class VAE_LSTM(object):\n",
    "    \n",
    "    def __init__(self, nb_words, max_len, emb, dim, comp_topk=None, ctype=None, epsilon_std=1.0, optimizer=Adadelta(lr=2.), enableGAN=False, kl_weight=0):\n",
    "        self.dim = dim\n",
    "        self.comp_topk = comp_topk\n",
    "        self.ctype = ctype\n",
    "        self.epsilon_std = epsilon_std\n",
    "\n",
    "        self.nb_words = nb_words\n",
    "        self.max_len = max_len\n",
    "        self.emb = emb\n",
    "        self.enableGAN = enableGAN\n",
    "        self.optimizer = optimizer\n",
    "        self.kl_weight = kl_weight\n",
    "        \n",
    "        act = 'tanh'\n",
    "        \n",
    "        \n",
    "\n",
    "        \n",
    "        input_layer = Input(shape=(self.max_len,))\n",
    "        mask = Masking(mask_value=0)\n",
    "        self.embed_layer = emb\n",
    "#         self.embed_layer = Embedding(nb_words, 200)\n",
    "#         self.embed_layer.mask_zero = True\n",
    "        # self.embed_layer.trainable = False\n",
    "        bilstm = Bidirectional(LSTM(self.dim[0], return_sequences=True))\n",
    "#         bilstm = LSTM(self.dim[0], return_sequences=True)\n",
    "\n",
    "\n",
    "        hidden_layer1 = Dense(self.dim[0], kernel_initializer='glorot_normal', activation=act)\n",
    "        \n",
    "        h1 = self.embed_layer(mask(input_layer))\n",
    "#         h1 = self.embed_layer(input_layer)\n",
    "\n",
    "        h1 = bilstm(h1)\n",
    "#         h1 = hidden_layer1(h1)\n",
    "\n",
    "        self.z_mean = Dense(self.dim[1], kernel_initializer='glorot_normal')(h1)\n",
    "        self.z_log_var = Dense(self.dim[1], kernel_initializer='glorot_normal')(h1)\n",
    "\n",
    "        if self.comp_topk != None:\n",
    "            self.z_mean_k = KCompetitive(self.comp_topk, self.ctype)(self.z_mean)\n",
    "            encoded = Lambda(self.sampling, output_shape=(self.dim[1],))([self.z_mean_k, self.z_log_var])\n",
    "        else:\n",
    "            encoded = Lambda(self.sampling, output_shape=(self.max_len,self.dim[1],))([self.z_mean, self.z_log_var])\n",
    "\n",
    "\n",
    "        # we instantiate these layers separately so as to reuse them later\n",
    "#         decoder_h = Dense(self.dim[0], kernel_initializer='glorot_normal', activation=act)\n",
    "        # decoder_mean = Dense_tied(self.nb_words, activation='softmax', tied_to=hidden_layer1)\n",
    "        decoder_mean = Dense(self.nb_words, activation='softmax')\n",
    "\n",
    "#         h_decoded = decoder_h(encoded)\n",
    "#         h_decoded = RepeatVector(self.max_len)(h_decoded)\n",
    "#         h_decoded = LSTM(self.dim[0], return_sequences=True, unroll=True)(encoded)    \n",
    "        dec_lstm = Bidirectional(LSTM(self.dim[0], return_sequences=True))\n",
    "    \n",
    "        dec_hidden = TimeDistributed(decoder_mean, name='decoded_mean')\n",
    "    \n",
    "        h_decoded = dec_lstm(encoded)\n",
    "        x_decoded_mean = dec_hidden(h_decoded)\n",
    "\n",
    "\n",
    "        self.model = Model(outputs=[x_decoded_mean, x_decoded_mean], inputs=input_layer)\n",
    "\n",
    "        self.encoder1 = Model(outputs=GlobalMaxPooling1D()(encoded), inputs=input_layer)\n",
    "        self.encoder2 = Model(outputs=GlobalAveragePooling1D()(encoded), inputs=input_layer)\n",
    "        self.encoder3 = Model(outputs=GlobalMaxPooling1D()(self.z_mean), inputs=input_layer)\n",
    "        self.encoder4 = Model(outputs=GlobalAveragePooling1D()(self.z_mean), inputs=input_layer)\n",
    "\n",
    "\n",
    "        # build a digit generator that can sample from the learned distribution\n",
    "        decoder_input = Input(shape=(self.max_len, self.dim[1],))\n",
    "        _h_decoded = dec_lstm(decoder_input)\n",
    "        _x_decoded_mean = dec_hidden(_h_decoded)\n",
    "#         _h_decoded = RepeatVector(self.max_len)(decoder_input)\n",
    "#         _h_decoded = Bidirectional(LSTM(self.dim[0], return_sequences=True, unroll=True))(_h_decoded)\n",
    "#         _x_decoded_mean = TimeDistributed(decoder_mean, name='decoded_mean')(_h_decoded)\n",
    "\n",
    "        self.decoder = Model(outputs=_x_decoded_mean, inputs=decoder_input)\n",
    "\n",
    "\n",
    "\n",
    "        if enableGAN:\n",
    "            self.model.compile(optimizer=self.optimizer, loss=[self.vae_loss, \"binary_crossentropy\"])\n",
    "        else:    \n",
    "            self.model.compile(optimizer=self.optimizer, loss=[\"sparse_categorical_crossentropy\", self.kl_loss])\n",
    "\n",
    "    def name(self):\n",
    "        return \"kate_lstm_k%d\" % self.comp_topk if self.ctype != None else \"vae_lstm\"\n",
    "    def kl_loss(self, x, x_):\n",
    "\n",
    "        kl_loss = - 0.5 * K.sum(1 + self.z_log_var - K.square(self.z_mean) - K.exp(self.z_log_var), axis=-1)\n",
    "\n",
    "        return self.kl_weight * kl_loss\n",
    "\n",
    "\n",
    "\n",
    "    def sampling(self, args):\n",
    "        z_mean, z_log_var = args\n",
    "        epsilon = K.random_normal(shape=(K.shape(z_mean)[0], self.max_len, self.dim[1]), mean=0.,\\\n",
    "                                  stddev=self.epsilon_std)\n",
    "\n",
    "        return z_mean + K.exp(z_log_var / 2) * epsilon"
   ]
  },
  {
   "cell_type": "code",
   "execution_count": 81,
   "metadata": {
    "collapsed": false
   },
   "outputs": [],
   "source": [
    "run = VAE_LSTM(nb_words, max_len, bpe.get_keras_embedding(True), [300,128], optimizer=\"RMSProp\", kl_weight=0.1)"
   ]
  },
  {
   "cell_type": "code",
   "execution_count": 82,
   "metadata": {
    "collapsed": false
   },
   "outputs": [
    {
     "data": {
      "text/plain": [
       "array([[  449,   975,   221, ...,     0,     0,     0],\n",
       "       [  449,   975,   221, ...,     0,     0,     0],\n",
       "       [    0,   595, 18412, ...,     0,     0,     0],\n",
       "       ...,\n",
       "       [10850,   723,  2446, ...,     0,     0,     0],\n",
       "       [ 6290,  4540,     0, ...,     0,     0,     0],\n",
       "       [ 6290,  4540,     0, ...,     0,     0,     0]], dtype=int32)"
      ]
     },
     "execution_count": 82,
     "metadata": {},
     "output_type": "execute_result"
    }
   ],
   "source": [
    "q_df"
   ]
  },
  {
   "cell_type": "code",
   "execution_count": null,
   "metadata": {
    "collapsed": false,
    "scrolled": true
   },
   "outputs": [
    {
     "name": "stdout",
     "output_type": "stream",
     "text": [
      "Epoch 1/50\n",
      " - 29s - loss: 4.1548 - decoded_mean_loss_1: 4.0342 - decoded_mean_loss_2: 0.1206\n",
      "Epoch 2/50\n",
      " - 28s - loss: 3.4737 - decoded_mean_loss_1: 3.3227 - decoded_mean_loss_2: 0.1509\n",
      "Epoch 3/50\n",
      " - 28s - loss: 3.2715 - decoded_mean_loss_1: 3.0871 - decoded_mean_loss_2: 0.1843\n",
      "Epoch 4/50\n",
      " - 28s - loss: 3.1025 - decoded_mean_loss_1: 2.8877 - decoded_mean_loss_2: 0.2148\n",
      "Epoch 5/50\n",
      " - 28s - loss: 2.9299 - decoded_mean_loss_1: 2.6905 - decoded_mean_loss_2: 0.2393\n",
      "Epoch 6/50\n",
      " - 28s - loss: 2.7627 - decoded_mean_loss_1: 2.4905 - decoded_mean_loss_2: 0.2722\n",
      "Epoch 7/50\n",
      " - 28s - loss: 2.5891 - decoded_mean_loss_1: 2.2843 - decoded_mean_loss_2: 0.3048\n",
      "Epoch 8/50\n",
      " - 28s - loss: 2.4328 - decoded_mean_loss_1: 2.0996 - decoded_mean_loss_2: 0.3332\n",
      "Epoch 9/50\n",
      " - 28s - loss: 2.2690 - decoded_mean_loss_1: 1.9049 - decoded_mean_loss_2: 0.3640\n",
      "Epoch 10/50\n"
     ]
    }
   ],
   "source": [
    "# for i in range(50):\n",
    "run.model.fit(q_df[:10000], [np.expand_dims(q_df, axis=-1)[:10000], np.expand_dims(q_df, axis=-1)[:10000]], verbose=2, epochs=50)\n",
    "#     generate_output(run.model.predict(q_july)[0], run.model.predict(d_july)[0])\n",
    "    \n",
    "#     generate_output(run.decoder.predict(run.encoder.predict(q_july)), run.deredict(run.encoder.predict(d_july)))\n",
    "    \n"
   ]
  },
  {
   "cell_type": "code",
   "execution_count": 65,
   "metadata": {
    "collapsed": true
   },
   "outputs": [],
   "source": [
    "def generate_output(x, y):\n",
    "\n",
    "#     gen_x = np.argmax(generator.predict([_q_july, encoder.predict(x)]), axis=-1)\n",
    "#     gen_y = np.argmax(generator.predict([_d_july, encoder.predict(y)]), axis=-1)\n",
    "    \n",
    "    gen_x = np.argmax(x, axis=-1)\n",
    "    gen_y = np.argmax(y, axis=-1)\n",
    "\n",
    "    train = []\n",
    "    test = []\n",
    "    count = 0\n",
    "    for i, j, k, l in zip(gen_x, gen_y, q, d):\n",
    "        gen_q = \" \".join([bpe.index2word[t] for t in i])\n",
    "        gen_d = \" \".join([bpe.index2word[t] for t in j])\n",
    "        real_q = \" \".join([bpe.index2word[t] for t in k])\n",
    "        real_d = \" \".join([bpe.index2word[t] for t in l])\n",
    "\n",
    "        train.append(sentence_bleu(real_q, gen_q))\n",
    "        test.append(sentence_bleu(real_d, gen_d))\n",
    "        \n",
    "        \n",
    "        real_q = real_q.replace(\"▁the\", \"\")\n",
    "        real_q = real_q.replace(\"▁\",\"\")\n",
    "        gen_q = gen_q.replace(\"▁the\", \"\")\n",
    "        gen_q = gen_q.replace(\"▁\",\"\")\n",
    "        \n",
    "        \n",
    "        \n",
    "        print(\"%s : %s\\n\" % (real_q, gen_q))\n",
    "#         if count > 5:\n",
    "#             break\n",
    "#         count = count + 1\n",
    "#     print(np.mean(train), np.mean(test))"
   ]
  },
  {
   "cell_type": "code",
   "execution_count": 66,
   "metadata": {
    "collapsed": false
   },
   "outputs": [
    {
     "name": "stdout",
     "output_type": "stream",
     "text": [
      "h ives causes        : samsung rict defence       \n",
      "\n",
      "difference between whe y protein and whe y protein isolate : buddhist forge behavioral y ayed and compound at windows manual\n",
      "\n",
      "average cost of ky bella      : pussy carav of ad stoke     \n",
      "\n",
      "mac ular hole surgery recovery      : card cobras        \n",
      "\n",
      "kir stin powers        : oil arm casino       \n",
      "\n",
      "top capital gains tax rate  2 0 <unk>  : top gun emperors restaurants g  2 0 <unk> \n",
      "\n",
      " per oid ic table      :  gy hinckley y bedroom     \n",
      "\n",
      "warren buffett net worth  2 0 <unk>   : stimulating umo  stretch  2 0 <unk>  \n",
      "\n",
      "how long spaghetti sauce in refriger ator    : how was wig wig in perth gles   \n",
      "\n",
      "how do y make cyn der blocks    : how do after call rear take class   \n",
      "\n",
      "rick ri ordan books       : bamb umo eme program      \n",
      "\n",
      "colon cancer symptoms in women      : delaware fishing symptoms in      \n",
      "\n",
      "jellyfish sting treatment        : pred motor ide       \n",
      "\n",
      "american horror story season  <unk>     : sykes star loans season  <unk>    \n",
      "\n",
      "act for america brigitte gabriel      : financial for amazon ious ord     \n",
      "\n",
      " 2 0 <unk> miss america competition    :  2 0 <unk> sat crane compress   \n",
      "\n",
      "how to get rid of pimp les    : how to find breast to produce score   \n",
      "\n",
      "when to plant daff od il bulbs    : when to cl peters mills og thrice   \n",
      "\n",
      "how do you grill salmon      : how do you expiration calculated     \n",
      "\n",
      "che vy monte carlo       : security pav arm michigan      \n",
      "\n",
      " <unk> ood adi airport      :  <unk> pac breast me     \n",
      "\n",
      "is coal  leading energy source     : is bar  twelve      \n",
      "\n",
      "what does f ** * you mean ?   : what does br cn x t stars you  \n",
      "\n",
      "painful injection in butt ocks      : buddhist vance in medicine ocytosis     \n",
      "\n",
      "lamb orgh ini avent ador      : coal maha umo behavioral michigan     \n",
      "\n",
      "wikipedia bar ret ts es ophagus     : credit herald behavioral app  schedule    \n",
      "\n",
      "apa inte xt citations       : impressive nominee ements opes      \n",
      "\n",
      "car salesman kidnapped        : car wed brack       \n",
      "\n",
      "ad t customer service       : card r uae uk      \n",
      "\n",
      "how old are  rocky mountains     : how bo ch  crossing formed    \n",
      "\n",
      "fi u football        : amanda m paper       \n",
      "\n",
      "a + federal credit union      : a j ersk board right     \n",
      "\n",
      "eye injection for mac ular deg en eration   : herald ija for michael creeks usa en bit  \n",
      "\n",
      "ur anus how far from  sun    : pred maha to report ing     \n",
      "\n",
      "denver broncos  2 0 <unk> football schedule   : pussy maha  2 0 <unk>  calendar  \n",
      "\n",
      "cancer of  bones       : pussy of  avoc      \n",
      "\n",
      "how much do auto dealership drivers make ?   : how much you upgrade string spectrum from die  \n",
      "\n",
      "ic loud for windows       : ic backup for windows      \n",
      "\n",
      "phoenix local time        : wwe survey        \n",
      "\n",
      "signs of a heart attack for men    : sand of a day ues for address   \n",
      "\n",
      "old navy credit card center phone number    : old shack island centre      \n",
      "\n",
      "game of thrones hulu       : game of pharmac chamb      \n",
      "\n",
      "can you paint over water base with oil base  : can you alcohol forest from  i  assessment \n",
      "\n",
      "cl ens ing        : cl io ing       \n",
      "\n",
      "is rice a grain       : is ola a sir      \n",
      "\n",
      "what is dana salary on fox     : what is max polling on adults    \n",
      "\n",
      "boardwalk empire season  <unk>      : buddhist templ season  <unk>     \n",
      "\n",
      "characteristics of observ ant people      : select of bers un score     \n",
      "\n",
      "amber tamb lyn net worth      : two tap eme ia zy     \n",
      "\n",
      "which is a good conductor of electricity    :  is a estate ues of definition   \n",
      "\n",
      "calc u ium carbonate       : jaguar op ore yan      \n",
      "\n",
      "what is att mobile hotspot      : what is tale for commerce s    \n",
      "\n",
      "ant rop omorphic        : pred id ah       \n",
      "\n",
      " <unk> inches equals how many centimeter    :  <unk> 00 ton   den   \n",
      "\n",
      "great white sharks habitat       : top north lodge throat      \n",
      "\n",
      "cost of mining an o unce of gold   : pussy of establishing county full inc    \n",
      "\n",
      "what does you triggered me mean in spanish   : what does do polling when blocker in bullying  \n",
      "\n",
      "drugs used for depression       : select times for ps      \n",
      "\n",
      "shrimp pasta alfredo        : impressive bang wn       \n",
      "\n",
      "kinds of egg plant       : trich of establishing uel      \n",
      "\n",
      "where is my gm ail mail ?    : what is do second mortgage  k   \n",
      "\n",
      "california adventure park        : mini star golf       \n",
      "\n",
      "cal ories in chicken drum stick     : japanese ometric in medicine coconut patterns    \n",
      "\n",
      "google chrome tv        : non mc download       \n",
      "\n",
      "best paint for gour ds      : best hire  grad line     \n",
      "\n",
      "ank yl osing sp ondyl itis     : min eph amy full usa j    \n",
      "\n",
      "worlds most dangerous road       :  wood behavioral ry      \n",
      "\n",
      "author of dr jek yll and mr hyde   : native of with converter eria and and pip  \n",
      "\n",
      " five notes of  pent atonic scale are : :  oxford hinckley of  kuwait hya poem ton lr\n",
      "\n",
      "wh ats  average typing speed     : am ble  guild thrice ang    \n",
      "\n",
      "high blood pressure causes in children     : high depot looked victoria in pa    \n",
      "\n",
      "rewards          : buddhist         \n",
      "\n",
      "dimensions of a soccer goal      : select of a atom eria     \n",
      "\n",
      "confederate capital during civil war      : candy umo ates ates      \n",
      "\n",
      "low blood pressure after surgery      : k cn provider australia      \n",
      "\n",
      "what to do in g ta  <unk>   : what to do in x rib  <unk>  \n",
      "\n",
      "pilot training requirements        : campbell a loans       \n",
      "\n",
      "benefits for veterans        : select for kind       \n",
      "\n",
      "network storage drive        : canada bar line       \n",
      "\n",
      "why is my lawn m ower smoking    : why is do polling b commerce ata   \n",
      "\n",
      "beverly hills md dark circle corre ctor    : impressive pregnant ryan michigan casino singh solutions   \n",
      "\n",
      "apple id password reset       : mini ankle ettes hydro      \n",
      "\n",
      " madness of king george      :  simpsons of sir laun     \n",
      "\n",
      " 2 2 inches to centimeters     :  2 2 ton to sat    \n",
      "\n",
      "professional services as job description      : enterprise health as change afghan     \n",
      "\n",
      "chair rail mold ing       : derry herald king and      \n",
      "\n",
      "yellow teeth to white teeth      :  gazette to hire avoc     \n",
      "\n",
      "best resources for salary range      : best wed for grad ges     \n",
      "\n",
      "who is jon garland wife      : lake is vaughan mills um     \n",
      "\n",
      "tallest water slide in  world     :  from vaughan in      \n",
      "\n",
      "california condor         : art text        \n",
      "\n",
      "leonardo dic ap rio wife name     : impressive corners sa hara ate hes    \n",
      "\n",
      " country that links north and south america   :  great wall hinckley north and estate don  \n",
      "\n",
      "securities in stock market       : cumberland in medicine first      \n",
      "\n",
      "hepatitis b vaccine        : rentals  1       \n",
      "\n",
      "white house black market outlet store     : black le  restaurant throat     \n",
      "\n",
      "history of b        :  of do       \n",
      "\n",
      "easy chicken breast recipes cro ck pot    : easy forward swe    apat   \n",
      "\n",
      "sarah jessica parker movie       : ar cobras cc movie      \n",
      "\n",
      "latin meaning of sil van      : mold machines of bers uel     \n",
      "\n",
      "where do horses race       : when do tp name      \n",
      "\n",
      "annual temperature range ia       : wwe if tl ori      \n",
      "\n",
      "aks foundation         : buddhist templ        \n",
      "\n",
      " 2 0 <unk> h sa max    :  2 0 <unk> j ts world   \n",
      "\n",
      "ps or iasis treatment       : sop is check ella      \n",
      "\n",
      "indianapolis white river state park      : impressive hotel wood galle park     \n",
      "\n",
      "what is  meaning of c in r   : what is  role of do in x  \n",
      "\n",
      "ac ral lent ig inous melan oma progn osis  : ac cobras handbook brick ivers jer ady orang fountain \n",
      "\n",
      "lung cancer after kidney cancer      : pussy gov test licensing      \n",
      "\n",
      "how many yards to a mile     : how was smith  a year    \n",
      "\n",
      "william howard taft        : pred productions casino       \n",
      "\n",
      "eggs in  microwave       : islam in  caribbean      \n",
      "\n",
      "radio city music hall       : lake city start front      \n",
      "\n",
      "super class in java       : jaguar qualifications in 2      \n",
      "\n",
      "dawn of  planet of  apes review   : broughton of   of  avoc clue  \n",
      "\n",
      "adolf hitler         :  cone        \n",
      "\n",
      "actors from  o men      : slate from   galway     \n",
      "\n",
      "causes of lack of communication      : coffee of bers of kuwait     \n",
      "\n",
      "spiritual meaning of  <unk>      : select spa of for <unk>     \n",
      "\n",
      "blood pressure monitor        : port ger pumps       \n",
      "\n",
      "bank of america short sale package     : council of establishing wrestling ation ps    \n",
      "\n",
      "signs of a heart attack for men    : sand of a  script for pa   \n",
      "\n",
      "planet hollywood las vegas       :  duck  ech      \n",
      "\n",
      "signs of a heart attack for men    : parking of for historic hya for bosch   \n",
      "\n",
      "bru ised heel cure       : impressive abdul behavioral grove      \n",
      "\n",
      "central market lancaster        : wwe carav forge       \n",
      "\n",
      "olympic gold medalists for  united states    : coal glass behavioral for  show shields   \n",
      "\n",
      "how does smoking affect your body     : how does grow wig you eat    \n",
      "\n",
      "arcadia university         : buddhist board        \n",
      "\n",
      "pro zac for dogs       : online kup for bankruptcy      \n",
      "\n",
      "david bald acci list of books     : moses corners bang ation of practice    \n",
      "\n",
      "jack of eagles        : moses of bers       \n",
      "\n",
      "hepatitis c         : 1 c        \n",
      "\n",
      "dead liest plane in  world     : train day live in      \n",
      "\n",
      "is my transmission going out      : is s choose urine formed     \n",
      "\n",
      "summary of justification        : survey of bers       \n",
      "\n",
      "clayton county in ga       : broughton county in beer      \n",
      "\n",
      "desk tops windows  1 0     : wwe counselling windows  1 0    \n",
      "\n",
      "cleaning st ains from vinyl siding     : buddhist s deer  archangel uel    \n",
      "\n",
      "sal ton sea history       : chir ston resort       \n",
      "\n",
      "barb ies measurements        : trich ia vehicle       \n",
      "\n",
      "antibiotics follic ul itis       : trich phon ul ert      \n",
      "\n",
      " <unk> honda accord mp g     :  <unk> th study j 2    \n",
      "\n",
      "registering to vote in colorado      : jaguar to cham in cp     \n",
      "\n",
      "when did california become a state     : to did smith mills a ladies    \n",
      "\n",
      "difference between ec g and ek g    : select places windows g and windows x   \n",
      "\n",
      "concordia moor head room and board     : impressive corners plans press and estate    \n",
      "\n",
      "mn minimum wage increase       : jaguar ija wrist wn      \n",
      "\n",
      "what are your interests       : what are you montgomery      \n",
      "\n",
      "joey lawrence         : hornby corners        \n",
      "\n",
      "and so it goes trailer      : and mother  zones number     \n",
      "\n",
      "apple app store iphone       : horror magazine app sem      \n",
      "\n",
      "benedict c umber bat ch      : delaware my ads ile ay     \n",
      "\n",
      "all inclusive cruises        : all akis looked       \n",
      "\n",
      "wal mart locations near me      : days videos defence drive me     \n",
      "\n",
      "cancer ous fib ro ids symptoms     : g breast arm gps hara one    \n",
      "\n",
      "fried chicken in chicago       : buddhist oder in india      \n",
      "\n",
      "tools egyptians used build pyramids      : art tier ate ation announcements     \n",
      "\n",
      "rebecca de morn ay movies      : buddhist y stom on sex     \n",
      "\n",
      "anxiety disorders and ad hd      : ottawa maha and ec jes     \n",
      "\n",
      "lena head ey game of thrones     : seafood national word       \n",
      "\n",
      "powder to put on vom it     : herald to wife on perth with    \n",
      "\n",
      "stockholm syndrome         : coal gazette        \n",
      "\n",
      "where do horses race       : where do polling wrestling      \n",
      "\n",
      "daylight at equator        : stimulating in elle       \n",
      "\n",
      "radio city music hall address      : indian city funeral mot      \n",
      "\n",
      "andy warhol museum        : coal places plans       \n",
      "\n",
      " 2 00 2 toyota tacoma     :  2 0 2 mini ena    \n",
      "\n",
      "employee services portal        : charles jobs licensing       \n",
      "\n",
      "home pages for internet explorer      : city architecture for update creeks     \n",
      "\n",
      "and so it goes trailer      : free mother  zones number     \n",
      "\n",
      "best hand guns for women      : best matt resses for small     \n",
      "\n",
      "im rl definition        : na keyboard net       \n",
      "\n",
      " <unk> bmw z 3      :  <unk> gm y 3     \n",
      "\n",
      "football player kills wife       : usa hand emperors solutions      \n",
      "\n",
      "mel gibson         : cre americana        \n",
      "\n",
      "helen keller achievements        : impressive controls plans       \n",
      "\n",
      "sodium laure th phosphate       : pred ilt es hara      \n",
      "\n",
      "iceland day light        : durham canada park       \n",
      "\n",
      " 2 0 <unk> toyota highland er    :  2 0 <unk> football sat ar   \n",
      "\n",
      "author of dr jek yll and mr hyde   : ancient of st galway ocytosis ing t stoke  \n",
      "\n",
      " <unk> month old lab      :  <unk> 00 dr hammer     \n",
      "\n",
      "definition grie vance        : r queen defence       \n",
      "\n",
      "kendall jenn er last name      : stimulating arm er gate joint     \n",
      "\n",
      "rental trucks to move       : wwe services to notices      \n",
      "\n",
      "le aper d sharks       : light umber os uf      \n",
      "\n",
      "ac ura cars        : ac well home       \n",
      "\n",
      "dancing with  stars       : two and  par      \n",
      "\n",
      "red symbolism         : red nile        \n",
      "\n",
      "next gen science standards       : indian sl uts stations      \n",
      "\n",
      "american horror story season  <unk>     : credit herald king season  <unk>    \n",
      "\n",
      "birmingham england botanical gardens       : horror doctors eau compilation      \n",
      "\n",
      "average cost of ky bella      : pussy ute s ec uel     \n",
      "\n",
      "employer contribution to h sa tax able    : coal places to do out exe full   \n",
      "\n",
      "where is my gm ail mail ?    : where is do polling ues island k   \n",
      "\n",
      "change address on pay pal      : police price for kids loss     \n",
      "\n",
      "air bag recall for honda      : air flow tank for blo     \n",
      "\n",
      "bank of america credit card      :  of european tour centre     \n",
      "\n",
      "all tel wireless        : all akis nell       \n",
      "\n",
      "what does f ** * you mean ?   : what does ch eat 2 you occur k  \n",
      "\n",
      "what kind of name is ko ep ka   : what are of housing  sky youtube ana  \n",
      "\n",
      " 1 st class letter to canada    :  1 <unk> movies print to    \n",
      "\n",
      "num b feet        : buddhist m wrist       \n",
      "\n",
      "family feud halloween        : canada canterbury live       \n",
      "\n",
      " western regions of east asia are    :  simpsons airplane of st galway ton   \n",
      "\n",
      "los cab os        : impressive machines os       \n",
      "\n",
      "is doge dead        : is yol        \n",
      "\n",
      "benedict c umber bat ch age     : buddhist free elle girl ir protocol    \n",
      "\n",
      "food for marijuana plants       : small for kind waterloo      \n",
      "\n",
      "a shed         : a tyres        \n",
      "\n",
      "oven fried green tomatoes       : property arm hotel cept      \n",
      "\n",
      "average cost of ky bella      : pussy carav of  morning     \n",
      "\n",
      "which muscle open jaw       : top meter restaurants orship      \n",
      "\n",
      " <unk> area code       :  <unk> pac code      \n",
      "\n",
      "th iam ine food       : ankle productions ware books      \n",
      "\n",
      "is gay pride parade in nyc  2 0 <unk> : is ola safe feld in plants  2 0 \n",
      "\n",
      "can guinea pigs eat car rots     : can knox upon ception ing prices    \n",
      "\n",
      "virginia federal income tax rate      : amanda aria examples kenya jobs     \n",
      "\n",
      "definition of canceled check       : g of assamese county      \n",
      "\n",
      "how many grams of fat to gain a pound  : how many grow of ham to houston a houston \n",
      "\n",
      "employment agency         : mold det        \n",
      "\n",
      "should you get rental car insurance     : travel you about waterloo ing lyrics    \n",
      "\n",
      "technical college of low country      : delaware hotel of page galway     \n",
      "\n",
      "leonardo dic ap rio wife name     : buddhist scoot ab hara ate field    \n",
      "\n",
      "first  3 numbers of a social security number mean : top  3 race of a us   xi\n",
      "\n",
      "what level does tyn amo evolve     : what do does peters swell reaction    \n",
      "\n",
      "h pyl ori        : j mc arm       \n",
      "\n",
      "is marijuana bad for you      : is hop clue for and     \n",
      "\n",
      "california condor         : pre canterbury        \n",
      "\n",
      "who is harvey milk       : why is vaughan package      \n",
      "\n",
      "list of companies that hire fel ons    : you of industrial cross kay wycombe um   \n",
      "\n",
      "cbs live stream football       : hornby from indiana tour      \n",
      "\n",
      "american eg ale        :  meter ique       \n",
      "\n",
      "phar rell williams desp icable me soundtrack    : stimulating watches field hara hara z ayed   \n",
      "\n",
      "where is james best buried      : where is st on describes     \n",
      "\n",
      " 2 <unk> utah       :  2 <unk> th      \n",
      "\n",
      "flower parts and ir functions      : coal station and wineries machine     \n",
      "\n",
      "p inched nerve in lumb ar region symptoms   : p ikk schedules in archangel ia paintings ang  \n",
      "\n",
      "texas knife laws        : herald pools behavioral       \n",
      "\n",
      "area of triangle calculator       : carav of christianity       \n",
      "\n",
      "how many yards to a mile     : how was sean to a matt    \n",
      "\n",
      "bridge with locks in paris      : coal and licensing in india     \n",
      "\n",
      "snap fitness membership prices       : impressive pre teen gallery      \n",
      "\n",
      "great smoky mountains national park      : indian day live from park     \n",
      "\n",
      "google . com / andro id / dev ice manager : microsoft edge sk ivers ivers br fig usion 000 usion\n",
      "\n",
      "art institute of chicago       : art network of pac      \n",
      "\n",
      "florida georgia line concerts       : ar doctors near itch      \n",
      "\n",
      "internet explorer how to set homepage     : art startups  to print secure    \n",
      "\n",
      "john paul jones musician       : o isc energy spine      \n",
      "\n",
      "seismic retro fit ting       :  maha program field      \n",
      "\n",
      "cause of being dizzy       : delaware of establishing uel      \n",
      "\n",
      "alex rodriguez yankees        : broughton maha plans       \n",
      "\n",
      " weather channel tyler weather      :  bo command itan can     \n",
      "\n",
      "bey once blow lyrics       : sop prog patterns youtube      \n",
      "\n",
      "donna mills actress        : buddhist ived agencies       \n",
      "\n",
      "how to screen shot on a mac    : how to make birth on a ps   \n",
      "\n",
      "removing smoke smell from house      : hornby places behavioral school      \n",
      "\n",
      "why doesn ' t chrome open     : why does restaurant ovo roots au    \n",
      "\n",
      "next gen science standards       : cross admission ride tour      \n",
      "\n",
      "west hollywood college        : west midlands cross       \n",
      "\n",
      " <unk> 2 <unk> 2 <unk>     :  <unk> 2 <unk> 2 <unk>    \n",
      "\n",
      "lord of  rings online      : select of  caribbean online     \n",
      "\n",
      "charlotte county school board       : gold county school centre      \n",
      "\n",
      "average monthly temperatures in dest in beach , florida  : pussy arm wn in structural in hire rice rice \n",
      "\n",
      "average cost of ky bella      : pussy carav of housing morning     \n",
      "\n",
      "is gay pride parade in nyc  2 0 <unk> : is air rail itch in staffordshire  2 0 <unk>\n",
      "\n",
      "zip code in netherlands       : buddhist code in crockett      \n",
      "\n",
      "miller syndrome liss ence ph aly     : impressive machines michigan singh adero singh    \n",
      "\n",
      "first national bank credit card      : select national  day centre     \n",
      "\n",
      "jellyfish sting treatment        : chir motor song       \n",
      "\n",
      "e hl ers dan los vascular life expect ancy  : e bc sk downloads atin moi es id ritis \n",
      "\n",
      "denny sanford premier center seating chart     : stimulating umo program  gallery danville    \n",
      "\n",
      "motorcycle events in florida       : impressive  in england      \n",
      "\n",
      "types of pain relie vers      : if of porth chamb ord     \n",
      "\n",
      "who is  director of train wreck    : lake is  gle of  dancing   \n",
      "\n",
      "gas prices in cincinnati       : pussy opportunity in structural      \n",
      "\n",
      "christopher reeve movies        : christopher cobras online       \n",
      "\n",
      "definition of plain        : 0 of psychology       \n",
      "\n",
      "transitional urine cells        : two gill recipes       \n",
      "\n",
      "what level does tir to uga evolve    : what do does dancing ado stars reaction   \n",
      "\n",
      "so res on roof of mouth     : used lo in days of pretoria    \n",
      "\n",
      "homemade ice cream makers       : jaguar bear vehicle maine      \n",
      "\n",
      "australian language         : delaware china        \n",
      "\n",
      "adolf hitler         : coal maha        \n",
      "\n",
      "national brain tumor society address      : national awards zones powder      \n",
      "\n",
      "can guinea pigs eat car rots     : can ott live nings  address    \n",
      "\n",
      "ben bridge jewelry        : ben wheel behavioral       \n",
      "\n",
      "how to neutral ize battery acid     : how to tale fast fast string    \n",
      "\n",
      "what do kinetic engineer invent      : what do med orchids breach     \n",
      "\n",
      "heartland award         : moses press        \n",
      "\n",
      "paint colors for living room      : christian can for bedroom loss     \n",
      "\n",
      "coconut immune int oler ance symptoms     : buddhist corners umo amy ise ation    \n",
      "\n",
      "crime rate in su w anee ga    : moses rape in ex  anim ation   \n",
      "\n",
      "do dogs get depressed       : do sc up thrice      \n",
      "\n",
      "rod stewart best songs       : tesco umo real lyrics      \n",
      "\n",
      "clog ging shoes        : buddhist corners ox       \n",
      "\n",
      " <unk> 0 <unk> area code     :  <unk> 0 <unk> word     \n",
      "\n",
      "file extension p qr       : file extension v unlimited      \n",
      "\n",
      " <unk> char ar st ics of all living things :  <unk> pac at net et of  alcohol \n",
      "\n",
      "what is brooke hy land doing now    : what is tale sean mills island government   \n",
      "\n",
      "gall blad der location       : islam ilt wood recipes      \n",
      "\n",
      "low cost auto insurance nj      : he onet cleaner  ws     \n",
      "\n",
      "adam          : amanda         \n",
      "\n",
      "what kind of dog was in turner and ho och : what house of tale county in moncton and ere galway\n",
      "\n",
      "vitamin c lip osome encaps ulated     : jaguar i kind bun wn mel    \n",
      "\n",
      "military pay e <unk>       : coal bob s       \n",
      "\n",
      "alaska federal credit union       : seafood umo calgary oak      \n",
      "\n",
      "zy ce name meaning       : buddhist un urs security      \n",
      "\n",
      "gret chen carlson        : impressive counselling franchise       \n",
      "\n",
      "biggest waters lide in  world     : currency lanka plans in      \n",
      "\n",
      "re eb ok human rights award     : un lan aro na ivers entrance    \n",
      "\n",
      "old navy credit card center phone number    : old button trade centre centre     \n",
      "\n",
      "what to do in g ta  <unk>   : what to do in skag way  <unk>  \n",
      "\n",
      "harrisburg airport         : impressive pdf        \n",
      "\n",
      "cp ap machines reviews       : cp phot ettes review      \n",
      "\n",
      "great smoky mountains national park      : top mike bust park park     \n",
      "\n",
      "how many car rots in a cup    : how many  hepatitis in a    \n",
      "\n",
      "college of  oz arks      : college of  supreme script     \n",
      "\n",
      "slow cook er        : coal umo park  video     \n",
      "\n",
      "gift inventory         : herald consolidation        \n",
      "\n",
      "does it take for your body to recover after birth : am ing assamese for your community to perth  alcohol\n",
      "\n",
      "irs contact number for tax returns     : impressive island number for sale scotland    \n",
      "\n",
      "eggs in  microwave       : ben in  supreme      \n",
      "\n",
      "zoe z ald ana       : sykes y ke ry      \n",
      "\n",
      "how to make special brown ies     : how to make birth calculated australia    \n",
      "\n",
      "where is  bahamas located      : station   ype sydney     \n",
      "\n",
      " pilot who landed  plane in  hudson river :  oxford parts laun  vc in  avoc \n",
      "\n",
      "actors from  o men      : impressive west   pussy     \n",
      "\n",
      "native tribes of arizona       : nsw tier of bers      \n",
      "\n",
      " <unk> month old lab      :  <unk> 00 old models     \n",
      "\n",
      "clog ging shoes        : buddhist maha ise       \n",
      "\n",
      "where is my gm ail mail ?    : where is do alcohol ues  can   \n",
      "\n",
      "all tel wireless        : all akis flexible       \n",
      "\n",
      "ow cop ac ab ana ( at  copa ) : ac ars ac para ry manual at  be be\n",
      "\n",
      "biology movies         : ancient movies        \n",
      "\n",
      "list of famous volcanoes       : jobs of alexandria chamb      \n",
      "\n",
      "best diet for belly fat      : best estate for majlis ay     \n",
      "\n",
      "leonardo dic ap rio wife name     : impressive ija para wrist inc field    \n",
      "\n",
      " <unk> lumber ithaca       :  <unk> pac quotes      \n",
      "\n",
      "why constitutional convention is important      : why louise live       \n",
      "\n",
      "mid s omer murders cast      : social to mahon chamb pa     \n",
      "\n",
      "dish network remote control       : buddhist station indiana       \n",
      "\n",
      "tulsa tv stations        : delaware tv systems       \n",
      "\n",
      "sun str ust online banking      : bak asz bryant in uf     \n",
      "\n",
      "i robot ro omba       : we craft joint kep      \n",
      "\n",
      "bipolar  1        : chir  1       \n",
      "\n",
      "drugs used for depression       : wwe road for breaks      \n",
      "\n",
      "acute gall blad der attack symptoms     : seafood umo casino grove field     \n",
      "\n",
      " 2 0 <unk> senate primary election results   :  2 0 <unk> sat print final final  \n",
      "\n",
      "lies my history teacher told      :  do  crossing this     \n",
      "\n",
      "to eat when you get your wisdom teeth taken out : to gean s you get movie twins uzzi once once\n",
      "\n",
      "ruby thro ated humming bird scientific name    : native machines iam hara  shields mare   \n",
      "\n",
      "p inched nerve in lumb ar region symptoms   : p no forum in hampshire ia paintings ang  \n",
      "\n",
      "types of cer ner certifications      : if of bullying ner hya     \n",
      "\n",
      " per oid ic table      :  cp hinckley y      \n",
      "\n",
      "bio examples         : hyper domestic        \n",
      "\n",
      "dream analysis         : wwe deck        \n",
      "\n",
      "boy names with  t      : sign swansea with  ad     \n",
      "\n",
      "amit abh bachchan news       : buddhist ija atan       \n",
      "\n",
      "finding nem o cast       : cruise nominee o ik      \n",
      "\n",
      "hungry hearts         : seafood arm        \n",
      "\n",
      "delta review         :  pre        \n",
      "\n",
      "how to manage who sees your photos on facebook  : how to grow call birth you bn on ps \n",
      "\n",
      "but tern ut squash recipes      : plant ometric ox ets      \n",
      "\n",
      "what does f ** * you mean ?   : what does k alcohol x you update m  \n",
      "\n",
      "how to freeze snow peas      : how to grow orchids calculated     \n",
      "\n",
      "federal fiscal year  <unk>      : mold tier app  <unk>     \n",
      "\n",
      "symptoms of eb ola       : if of bullying court      \n",
      "\n",
      "second highest mountain in  world     : council rape master in      \n",
      "\n",
      "can i gift a car      : can you tools       \n",
      "\n",
      "how do you grill salmon      : how do you expiration calculated in    \n",
      "\n",
      "diabetes and neurop athy       : buddhist and croatia orbital      \n",
      "\n",
      "alec benjamin age        : broughton umo plans       \n",
      "\n",
      "pitt ock mansion        : buddhist ford casino       \n",
      "\n",
      "who are y movie       : why does be season      \n",
      "\n",
      "what det ects autism       : what louise live ord      \n",
      "\n",
      "alec benjamin age        : haunted umo clothing       \n",
      "\n",
      "children s hospital        : social s establishing       \n",
      "\n",
      "home pages for internet explorer      : home awards for sale creeks     \n",
      "\n",
      "great white sharks habitat       : indian wall uts throat      \n",
      "\n",
      "examples of res umes       : select of bers uel      \n",
      "\n",
      "number  <unk> in chinese      : art  <unk> in year     \n",
      "\n",
      "windows developer mode        : windows update update       \n",
      "\n",
      "lazy boy furniture        : pred chain recruitment       \n",
      "\n",
      "cord of wood dimensions       : buddhist of hire ys      \n",
      "\n",
      "letters of john        :  of j       \n",
      "\n",
      "symptoms of bad ram memory      : if of industrial eria communication     \n",
      "\n",
      "all ina health        : all alarm health       \n",
      "\n",
      "states which legal ized marijuana      : currency glass listings compilation adero     \n",
      "\n",
      "super class in java       : herald gov in       \n",
      "\n",
      "secretary of state of michigan      : pred of bers of standards     \n",
      "\n",
      "zy v ox patient assistance program     : ottawa x para bun mel mare    \n",
      "\n",
      "allison transmission         : hornby winfrey        \n",
      "\n",
      "elm hurst memorial hospital       : moses cone umo plans      \n",
      "\n",
      "mid s omer murders cast      : christian to vaughan chamb pa     \n",
      "\n",
      "how to get rid of a plant ers wart  : how to find breast of a matt or chords \n",
      "\n",
      "carrie grant movies        : jaguar xe online       \n",
      "\n",
      "secretary of state of maryland      : hum of bers of kuwait     \n",
      "\n",
      " 3 d printing software      :  <unk> d raspberry t     \n",
      "\n",
      "average monthly temperatures in dest in beach , florida  : pussy port ija in structural a student side report \n",
      "\n",
      "how many sq ft in an acre    : how was grow urn in  block   \n",
      "\n",
      "crime rate in su w anee ga    : graveyard online in namibia w anim ation   \n",
      "\n",
      "up big boy        : live service kids       \n",
      "\n",
      "cro cos mia luc ifer      : rentals sty ettes eme mies     \n",
      "\n",
      "ic d  <unk> for thyroid nod ule   : ic d  <unk> in photos problems restaurants  \n",
      "\n",
      "berkshire hathaway stock        : wwe spa plans       \n",
      "\n",
      "gardening zones in  united states     : coal machines in  philippines uation    \n",
      "\n",
      "cold well banker realty       : ancient wood shots ob      \n",
      "\n",
      "good questions to ask in an interview    : all questions to perth in  fan   \n",
      "\n",
      " pilot who landed  plane in  hudson river :  oxford parts urt  limited in  fits \n",
      "\n",
      " <unk> 2 1 silver dollar value    :  <unk> 2 1 osis fluid p   \n",
      "\n",
      "healthy baked apple slices       : electronic meals bike sculpt      \n",
      "\n",
      "largest all ig tor       : wwe station deep airport      \n",
      "\n",
      "meat loaf singer        : pussy tier policy       \n",
      "\n",
      "free word processor programs       : free gay bosch irus      \n",
      "\n",
      "red hot chili peppers scar tissue     : red louise movement legs fund expire    \n",
      "\n",
      "cal orie per jo ule      : sand ometric j pak gps     \n",
      "\n",
      " 1 00 grams equals how many kilograms   :  1 00 ton realty  or status  \n",
      "\n",
      "kinds of arthritis        : candy of bers       \n",
      "\n",
      "what is  second amendment      : what is  role scripting     \n",
      "\n",
      "fire ant reaction        : city magnesium ottawa       \n",
      "\n",
      "average cost of car  2 0 <unk>   : windows gallery of   2 0 <unk>  \n",
      "\n",
      "police radar how it works      : police choir to australia weeks     \n",
      "\n",
      "average monthly temperatures in dest in beach , florida  : battery ove inf in structural a india shields eria \n",
      "\n",
      "u of a transfer credit      : u of a fy this     \n",
      "\n",
      "where is james best buried      : when is ad on dancing     \n",
      "\n"
     ]
    }
   ],
   "source": [
    "generate_output(run.model.predict(q_july)[0], run.model.predict(d_july)[0])\n"
   ]
  },
  {
   "cell_type": "code",
   "execution_count": 70,
   "metadata": {
    "collapsed": false
   },
   "outputs": [],
   "source": [
    "text = \"1 2 3 4 5\"\n",
    "tmp = []\n",
    "for t in sp.EncodeAsPieces(text):\n",
    "    if not isinstance(t, str):\n",
    "        t = str(t, \"utf-8\")\n",
    "\n",
    "    if t in bpe_dict:\n",
    "        tmp.append(bpe_dict[t])\n",
    "    else:\n",
    "        tmp.append(bpe_dict['<unk>'])"
   ]
  },
  {
   "cell_type": "code",
   "execution_count": 72,
   "metadata": {
    "collapsed": false
   },
   "outputs": [
    {
     "data": {
      "text/plain": [
       "[b'\\xe2\\x96\\x81',\n",
       " b'1',\n",
       " b'\\xe2\\x96\\x81',\n",
       " b'2',\n",
       " b'\\xe2\\x96\\x81',\n",
       " b'3',\n",
       " b'\\xe2\\x96\\x81',\n",
       " b'4',\n",
       " b'\\xe2\\x96\\x81',\n",
       " b'5']"
      ]
     },
     "execution_count": 72,
     "metadata": {},
     "output_type": "execute_result"
    }
   ],
   "source": [
    "sp.EncodeAsPieces(text)"
   ]
  },
  {
   "cell_type": "code",
   "execution_count": 73,
   "metadata": {
    "collapsed": false
   },
   "outputs": [],
   "source": [
    "tmp = np.array([tmp])"
   ]
  },
  {
   "cell_type": "code",
   "execution_count": 76,
   "metadata": {
    "collapsed": false
   },
   "outputs": [
    {
     "data": {
      "text/plain": [
       "array([[[  167, 47368,   167,  5976,   167, 28623,   167, 50508,   167,\n",
       "         50508]],\n",
       "\n",
       "       [[  167, 47368,   167,  5976,   167, 28623,   167, 50508,   167,\n",
       "         50508]]])"
      ]
     },
     "execution_count": 76,
     "metadata": {},
     "output_type": "execute_result"
    }
   ],
   "source": [
    "np.argmax(run.model.predict(tmp), axis=-1)"
   ]
  },
  {
   "cell_type": "code",
   "execution_count": 64,
   "metadata": {
    "collapsed": false
   },
   "outputs": [
    {
     "name": "stdout",
     "output_type": "stream",
     "text": [
      "0.4678333963397008\n",
      "0.4858235673463942\n",
      "0.45882719206564526\n",
      "0.4267606573417243\n",
      "0.4925837799372902\n",
      "0.4986768662856634\n",
      "0.45882719206564526\n",
      "0.4267606573417243\n"
     ]
    }
   ],
   "source": [
    "for i in range(2):\n",
    "    for i in [run.encoder1, run.encoder2, run.encoder3, run.encoder4]:\n",
    "        \n",
    "        __q = i.predict(q_july)\n",
    "        __d = i.predict(d_july)\n",
    "        cosine = CosineSim(__q.shape[-1])\n",
    "        pred = cosine.model.predict([__q, __d])\n",
    "        print(auc(qrel_july, pred.flatten()))"
   ]
  },
  {
   "cell_type": "code",
   "execution_count": null,
   "metadata": {
    "collapsed": true
   },
   "outputs": [],
   "source": []
  },
  {
   "cell_type": "code",
   "execution_count": null,
   "metadata": {
    "collapsed": true
   },
   "outputs": [],
   "source": []
  }
 ],
 "metadata": {
  "kernelspec": {
   "display_name": "Python 3",
   "language": "python",
   "name": "python3"
  },
  "language_info": {
   "codemirror_mode": {
    "name": "ipython",
    "version": 3
   },
   "file_extension": ".py",
   "mimetype": "text/x-python",
   "name": "python",
   "nbconvert_exporter": "python",
   "pygments_lexer": "ipython3",
   "version": "3.6.0"
  },
  "widgets": {
   "state": {
    "004578fa0af44ae1b5a6d36f1bc840dc": {
     "views": [
      {
       "cell_index": 37
      }
     ]
    },
    "004598c5006545339aca6aacdd28cb41": {
     "views": [
      {
       "cell_index": 21
      }
     ]
    },
    "0066a24de35d42d99b80b1d6b8fcd6c1": {
     "views": [
      {
       "cell_index": 29
      }
     ]
    },
    "0072351313b84d15ba67bb0da2851c69": {
     "views": [
      {
       "cell_index": 16
      }
     ]
    },
    "007cca70069f4e09b569b2aa57b19af0": {
     "views": [
      {
       "cell_index": 16
      }
     ]
    },
    "007e7f5a1674499787421fc38b485b1b": {
     "views": [
      {
       "cell_index": 31
      }
     ]
    },
    "0098c650a2de41dea574be9993801c9c": {
     "views": [
      {
       "cell_index": 19
      }
     ]
    },
    "00d5d99a30e24e9bb8e79d93a4ff504d": {
     "views": [
      {
       "cell_index": 37
      }
     ]
    },
    "00d9836297954e66a481dbce7c30492c": {
     "views": [
      {
       "cell_index": 29
      }
     ]
    },
    "00ec3148a7ea49098704987e955851c0": {
     "views": [
      {
       "cell_index": 29
      }
     ]
    },
    "00f70b1e2743414b87e9fc00ff1e99fb": {
     "views": [
      {
       "cell_index": 15
      }
     ]
    },
    "0116af1d31a1422caaff2a9e07d97a9f": {
     "views": [
      {
       "cell_index": 19
      }
     ]
    },
    "0142ad27090848a5921df8c8c5228b5b": {
     "views": [
      {
       "cell_index": 37
      }
     ]
    },
    "014f0a9925124f8d8297d91488f1b128": {
     "views": [
      {
       "cell_index": 54
      }
     ]
    },
    "01df5eccbab244b88a7c09011508c7bf": {
     "views": [
      {
       "cell_index": 37
      }
     ]
    },
    "01edb313e7fc4a4e9875a0d92a38ca4b": {
     "views": [
      {
       "cell_index": 37
      }
     ]
    },
    "0214c303708d4336a7fb5de016ff86d7": {
     "views": [
      {
       "cell_index": 37
      }
     ]
    },
    "021d54f723c649dd8aa41b194fc68102": {
     "views": [
      {
       "cell_index": 31
      }
     ]
    },
    "0259b18098a84ac59e55ed05eef58c0c": {
     "views": [
      {
       "cell_index": 19
      }
     ]
    },
    "029c51b91e8944e68d2f3daa8c9eb270": {
     "views": [
      {
       "cell_index": 29
      }
     ]
    },
    "039ccd2592534314843bffbc5c56f0cf": {
     "views": [
      {
       "cell_index": 27
      }
     ]
    },
    "0418628b7e40467a8c39229aa0a1779b": {
     "views": [
      {
       "cell_index": 29
      }
     ]
    },
    "044710cce4cb482c875409c6d17c003c": {
     "views": [
      {
       "cell_index": 33
      }
     ]
    },
    "0498670eef3a46348eaf78bbfc4f90ef": {
     "views": [
      {
       "cell_index": 16
      }
     ]
    },
    "05578e84838b4620ac029f9aad3efcb9": {
     "views": [
      {
       "cell_index": 19
      }
     ]
    },
    "056c6a37b0f747018e4ae206f4550093": {
     "views": [
      {
       "cell_index": 33
      }
     ]
    },
    "057fb2caa52946ff8640a4e1ec2f85ed": {
     "views": [
      {
       "cell_index": 14
      }
     ]
    },
    "059eaa36063148fbaf23e927073cfa68": {
     "views": [
      {
       "cell_index": 29
      }
     ]
    },
    "05d8aaa1b3ed45539ef9f92c4bff503c": {
     "views": [
      {
       "cell_index": 29
      }
     ]
    },
    "061363609ec9411aa9fe66bc441baacf": {
     "views": [
      {
       "cell_index": 18
      }
     ]
    },
    "06a6e5f00c204a158697875aed495e2e": {
     "views": [
      {
       "cell_index": 33
      }
     ]
    },
    "06a86d0ff4f549db917ae1b31ad8652c": {
     "views": [
      {
       "cell_index": 33
      }
     ]
    },
    "06aa765797524780961f8c5ac4e9a3de": {
     "views": [
      {
       "cell_index": 19
      }
     ]
    },
    "06af085b02524fcea185763362d2a647": {
     "views": [
      {
       "cell_index": 27
      }
     ]
    },
    "06be8e3395954721acbe1662fce8128d": {
     "views": [
      {
       "cell_index": 33
      }
     ]
    },
    "06bebe3e19754e338b1f779e2db418e8": {
     "views": [
      {
       "cell_index": 29
      }
     ]
    },
    "07049f2b9fe7414692a62dcfd1c858f6": {
     "views": [
      {
       "cell_index": 37
      }
     ]
    },
    "07646bbbcb4e48cbb2360b3c515117d1": {
     "views": [
      {
       "cell_index": 33
      }
     ]
    },
    "077cf86e499249d7a3642d7845df2a67": {
     "views": [
      {
       "cell_index": 37
      }
     ]
    },
    "07851b90011b4e93b74f335c899b17c8": {
     "views": [
      {
       "cell_index": 16
      }
     ]
    },
    "07a0e53b890d4da584e54cdd8e37fe01": {
     "views": [
      {
       "cell_index": 37
      }
     ]
    },
    "0819a97c46884562b4168b9829678623": {
     "views": [
      {
       "cell_index": 29
      }
     ]
    },
    "082d6aed4ba44369b0ca672170d93505": {
     "views": [
      {
       "cell_index": 37
      }
     ]
    },
    "084826d7661b4fc185336d03676f4dd2": {
     "views": [
      {
       "cell_index": 33
      }
     ]
    },
    "08694fcdcc9b42dea11733beea72861c": {
     "views": [
      {
       "cell_index": 21
      }
     ]
    },
    "08a5afaf7f6140da8223228b24289a7e": {
     "views": [
      {
       "cell_index": 37
      }
     ]
    },
    "08dfd934e0a64346a5584e7a6a57ec14": {
     "views": [
      {
       "cell_index": 37
      }
     ]
    },
    "0902e10988f24e1e9ada989da792b0ec": {
     "views": [
      {
       "cell_index": 37
      }
     ]
    },
    "091da92119a04d47b6ee6701453190ea": {
     "views": [
      {
       "cell_index": 33
      }
     ]
    },
    "09263e883c314f6191aafe21bc7612b2": {
     "views": [
      {
       "cell_index": 18
      }
     ]
    },
    "092fb34b9aab46e7881b316c5de403b0": {
     "views": [
      {
       "cell_index": 37
      }
     ]
    },
    "094bcfa267e8417e96e86ee7040e8307": {
     "views": [
      {
       "cell_index": 19
      }
     ]
    },
    "0980a006c5c9407dbe4900a253d86124": {
     "views": [
      {
       "cell_index": 21
      }
     ]
    },
    "0981a1f14cab4fe788e9199349f69acb": {
     "views": [
      {
       "cell_index": 29
      }
     ]
    },
    "099f621c020b4abf999a1ebb3a8856fa": {
     "views": [
      {
       "cell_index": 54
      }
     ]
    },
    "09f32f8fdcbc4b7bbaab9df47da20047": {
     "views": [
      {
       "cell_index": 37
      }
     ]
    },
    "09f4f3eedb18436e846c6168c41dee85": {
     "views": [
      {
       "cell_index": 27
      }
     ]
    },
    "0a02f51bb3194e1faa6b9c3fee4acd58": {
     "views": [
      {
       "cell_index": 21
      }
     ]
    },
    "0a2e650dd1a948d3b568c61299d4e517": {
     "views": [
      {
       "cell_index": 19
      }
     ]
    },
    "0a2f055201f34b749c6c63f4d3f4c79c": {
     "views": [
      {
       "cell_index": 33
      }
     ]
    },
    "0ab0fb05de1e4028928e0fbee29b796d": {
     "views": [
      {
       "cell_index": 15
      }
     ]
    },
    "0abb65566d054bd985138394823e6544": {
     "views": [
      {
       "cell_index": 37
      }
     ]
    },
    "0aebbcb8e86c4d93add1ce5b21efa9f4": {
     "views": [
      {
       "cell_index": 31
      }
     ]
    },
    "0af00e2fe0184312871aa7be1d9969a3": {
     "views": [
      {
       "cell_index": 33
      }
     ]
    },
    "0b3f4f49ea2d452c986b8460bbbebe3c": {
     "views": [
      {
       "cell_index": 14
      }
     ]
    },
    "0b6307f73a90471cb43d175c6872275e": {
     "views": [
      {
       "cell_index": 16
      }
     ]
    },
    "0b645ef5234a4df9aa3d22fd7b52b2a8": {
     "views": [
      {
       "cell_index": 51
      }
     ]
    },
    "0b8f2d15fbe94419bb009e422f564cf2": {
     "views": [
      {
       "cell_index": 21
      }
     ]
    },
    "0b9259c15301401282e20ee99ae44362": {
     "views": [
      {
       "cell_index": 37
      }
     ]
    },
    "0bbedb05fcf34259a634770655f656c1": {
     "views": [
      {
       "cell_index": 54
      }
     ]
    },
    "0bfdc2a77b0f4208ae3f1673ce5af4da": {
     "views": [
      {
       "cell_index": 29
      }
     ]
    },
    "0c4c23ef10df41dfb5a500b22021db71": {
     "views": [
      {
       "cell_index": 33
      }
     ]
    },
    "0c7aaf035f1246ea8d9e7f91014671d3": {
     "views": [
      {
       "cell_index": 54
      }
     ]
    },
    "0d0eaa4eb7194cffb7727845e354cbc5": {
     "views": [
      {
       "cell_index": 37
      }
     ]
    },
    "0da84ab1109a4142a68c403c275d9111": {
     "views": [
      {
       "cell_index": 37
      }
     ]
    },
    "0db0d00c0a504a9a944560850cdd04d2": {
     "views": [
      {
       "cell_index": 37
      }
     ]
    },
    "0dbac09b16d34028822c822a41dd5cd4": {
     "views": [
      {
       "cell_index": 37
      }
     ]
    },
    "0df06605398349c9946d408aacbe1da2": {
     "views": [
      {
       "cell_index": 19
      }
     ]
    },
    "0df96394ca8e40e69914e2e564e6422a": {
     "views": [
      {
       "cell_index": 33
      }
     ]
    },
    "0e48fbc774004bf88d9c8fe3df3fa051": {
     "views": [
      {
       "cell_index": 31
      }
     ]
    },
    "0e68b39c9a294d248b36562fbe9a223d": {
     "views": [
      {
       "cell_index": 21
      }
     ]
    },
    "0e834aed22ac4378b069792c6cb16bf4": {
     "views": [
      {
       "cell_index": 37
      }
     ]
    },
    "0eec44b8d2ec467ba7afa9c5a3869997": {
     "views": [
      {
       "cell_index": 37
      }
     ]
    },
    "0f2f19f7660a40b19a3d7a8ad83e299c": {
     "views": [
      {
       "cell_index": 37
      }
     ]
    },
    "0f46c47e8b9040cebf977c3289cf6544": {
     "views": [
      {
       "cell_index": 37
      }
     ]
    },
    "0f6c7017d34a4149b2d90d208a05e679": {
     "views": [
      {
       "cell_index": 54
      }
     ]
    },
    "0f951f5f766f42b4a0435bb41604933f": {
     "views": [
      {
       "cell_index": 51
      }
     ]
    },
    "0fe4109333a34dd09b1fb88921e499b9": {
     "views": [
      {
       "cell_index": 18
      }
     ]
    },
    "1023e43a89c74aa1b2739ac867ab6a92": {
     "views": [
      {
       "cell_index": 37
      }
     ]
    },
    "1036a7316de246b7acd43f8d5062a6c4": {
     "views": [
      {
       "cell_index": 54
      }
     ]
    },
    "10375dd14c3c4edca4dbefb9f3d2cf1f": {
     "views": [
      {
       "cell_index": 16
      }
     ]
    },
    "10940642db7c4a14a339c1533a6f7c3c": {
     "views": [
      {
       "cell_index": 37
      }
     ]
    },
    "11189f06dc6646848bacb56610f1b462": {
     "views": [
      {
       "cell_index": 21
      }
     ]
    },
    "117ba6a052054d0c90d8a77bd085a838": {
     "views": [
      {
       "cell_index": 37
      }
     ]
    },
    "1185ebf8ce754bc38d3899dce78e380a": {
     "views": [
      {
       "cell_index": 32
      }
     ]
    },
    "11aca08fdce746278e489202d79259aa": {
     "views": [
      {
       "cell_index": 37
      }
     ]
    },
    "1241c34588f542feb5f07a7adbfb3bb5": {
     "views": [
      {
       "cell_index": 15
      }
     ]
    },
    "1261bff6719c4679a6ed61102003af4f": {
     "views": [
      {
       "cell_index": 37
      }
     ]
    },
    "127d9442b72f445ca46296bc62129db9": {
     "views": [
      {
       "cell_index": 37
      }
     ]
    },
    "1280962b48c04ea382d083818d5e0252": {
     "views": [
      {
       "cell_index": 37
      }
     ]
    },
    "12cc2e8530d34f01a3921ba542e349d2": {
     "views": [
      {
       "cell_index": 15
      }
     ]
    },
    "12db0ee5d19f47b393bfbb937242bd3c": {
     "views": [
      {
       "cell_index": 31
      }
     ]
    },
    "12fc9fd2b4264791a952968fac39ee51": {
     "views": [
      {
       "cell_index": 33
      }
     ]
    },
    "134462191a86481bbafd437e1ae8bdfc": {
     "views": [
      {
       "cell_index": 37
      }
     ]
    },
    "13f64852c64f4109a61d36d982799768": {
     "views": [
      {
       "cell_index": 37
      }
     ]
    },
    "144813a6d646440ca0ffb303b36e5f35": {
     "views": [
      {
       "cell_index": 15
      }
     ]
    },
    "146ae23acdc24989985528219106487a": {
     "views": [
      {
       "cell_index": 19
      }
     ]
    },
    "14fed4e9bbf146feab1862ee844fa4ac": {
     "views": [
      {
       "cell_index": 37
      }
     ]
    },
    "14fff180686a4ed4b44e319959bc07e2": {
     "views": [
      {
       "cell_index": 19
      }
     ]
    },
    "152573c89b8246358073b79d086b7590": {
     "views": [
      {
       "cell_index": 37
      }
     ]
    },
    "153244bcbc1141158672885d717bfc23": {
     "views": [
      {
       "cell_index": 37
      }
     ]
    },
    "15328ce7d04a49659ecc6096a1b5e49d": {
     "views": [
      {
       "cell_index": 16
      }
     ]
    },
    "158685c69bdf4cba8eb9c675155d9bc2": {
     "views": [
      {
       "cell_index": 54
      }
     ]
    },
    "1587b3d6ac034697a38581eed76f9744": {
     "views": [
      {
       "cell_index": 29
      }
     ]
    },
    "15949b67bb7e4d9090656ee13ad7d762": {
     "views": [
      {
       "cell_index": 33
      }
     ]
    },
    "15a4e6b2cd7c4231bfa25a393353ce18": {
     "views": [
      {
       "cell_index": 37
      }
     ]
    },
    "15c5c1ac814940b6b079323f971a9175": {
     "views": [
      {
       "cell_index": 37
      }
     ]
    },
    "16012e786a8446ff827324d51064b8b5": {
     "views": [
      {
       "cell_index": 37
      }
     ]
    },
    "1635f213c69a4b1180d828c28a51176a": {
     "views": [
      {
       "cell_index": 37
      }
     ]
    },
    "1660cc4a2358499386281e481e84b9d0": {
     "views": [
      {
       "cell_index": 37
      }
     ]
    },
    "17088dc221514993a42a35634f4bae7c": {
     "views": [
      {
       "cell_index": 29
      }
     ]
    },
    "17824c32ea0e47349ccfc3ad5fe1b1b8": {
     "views": [
      {
       "cell_index": 37
      }
     ]
    },
    "17845453decb490d8f48c8202b848622": {
     "views": [
      {
       "cell_index": 37
      }
     ]
    },
    "17de69187c794ae8a77fac336997d71c": {
     "views": [
      {
       "cell_index": 37
      }
     ]
    },
    "18433c368ae843f7bfb1ed02911afdb2": {
     "views": [
      {
       "cell_index": 33
      }
     ]
    },
    "1850670df5354b0eb5cb81caa26a0c4d": {
     "views": [
      {
       "cell_index": 16
      }
     ]
    },
    "18878d9a08924a819223e523ba3d0c34": {
     "views": [
      {
       "cell_index": 37
      }
     ]
    },
    "189da8816f474839a39ae610ed9ccfaa": {
     "views": [
      {
       "cell_index": 16
      }
     ]
    },
    "18a26addb08e4d629b37b101809648cf": {
     "views": [
      {
       "cell_index": 29
      }
     ]
    },
    "18a3d8edb620443c88b7a19ccbfff7e2": {
     "views": [
      {
       "cell_index": 37
      }
     ]
    },
    "18b2a40f186b4791853758c57073ffba": {
     "views": [
      {
       "cell_index": 33
      }
     ]
    },
    "18ce8e82998d4dc4aa275d30b1e3943a": {
     "views": [
      {
       "cell_index": 37
      }
     ]
    },
    "18e9ba85ca6440bab6c519fb1c734cbe": {
     "views": [
      {
       "cell_index": 31
      }
     ]
    },
    "18f2b9a36e66457a9bf65b929c0db538": {
     "views": [
      {
       "cell_index": 33
      }
     ]
    },
    "18fc106becd5427aa56a65f82c3b5fec": {
     "views": [
      {
       "cell_index": 33
      }
     ]
    },
    "190fc9d5bc274c01a0a724c93acbb18c": {
     "views": [
      {
       "cell_index": 33
      }
     ]
    },
    "19ba8590a44047f68a44d9f51653463f": {
     "views": [
      {
       "cell_index": 33
      }
     ]
    },
    "19c87e5e92af4329a895dfd732c615d6": {
     "views": [
      {
       "cell_index": 37
      }
     ]
    },
    "1a0d29847d954d29831b1b5c0b2709c7": {
     "views": [
      {
       "cell_index": 37
      }
     ]
    },
    "1a1f6751ae9e4ae7adea516972833113": {
     "views": [
      {
       "cell_index": 37
      }
     ]
    },
    "1a564a7c766f49cabdf0b74ec00b5842": {
     "views": [
      {
       "cell_index": 27
      }
     ]
    },
    "1a77b75445614e9b983e8da410b41007": {
     "views": [
      {
       "cell_index": 19
      }
     ]
    },
    "1a894a9f19f64e9f9739a230a6928607": {
     "views": [
      {
       "cell_index": 16
      }
     ]
    },
    "1abc44b43c194037a2a1c6caefc79136": {
     "views": [
      {
       "cell_index": 37
      }
     ]
    },
    "1acc1c28138941a0a085da742fc73321": {
     "views": [
      {
       "cell_index": 37
      }
     ]
    },
    "1b389d9be045433fb8898493907fb117": {
     "views": [
      {
       "cell_index": 31
      }
     ]
    },
    "1b747fd214af443c9d5c30006253f8e9": {
     "views": [
      {
       "cell_index": 37
      }
     ]
    },
    "1b88c404af4847c492796907add22a59": {
     "views": [
      {
       "cell_index": 33
      }
     ]
    },
    "1b9684a1831e417492cdb08160db05fd": {
     "views": [
      {
       "cell_index": 37
      }
     ]
    },
    "1bd5c2777e67453996220ad73b9a447c": {
     "views": [
      {
       "cell_index": 29
      }
     ]
    },
    "1be397744e334d84aafa39a462852759": {
     "views": [
      {
       "cell_index": 37
      }
     ]
    },
    "1c3e91506ac0457da61c977c181ca0cc": {
     "views": [
      {
       "cell_index": 21
      }
     ]
    },
    "1c8cbd0b106c48aaa3056bd35f3add7e": {
     "views": [
      {
       "cell_index": 37
      }
     ]
    },
    "1c9d9b4fb2984d12823d39e0a87ada47": {
     "views": [
      {
       "cell_index": 37
      }
     ]
    },
    "1cb90e2d047d48a89e054630152e9390": {
     "views": [
      {
       "cell_index": 31
      }
     ]
    },
    "1cc716a47342468dbb2a4c7cb4918e66": {
     "views": [
      {
       "cell_index": 37
      }
     ]
    },
    "1cfc34e0439546abb14165f86d5dbd2a": {
     "views": [
      {
       "cell_index": 29
      }
     ]
    },
    "1d1e6c1d283e48cda020efc6e05f1dea": {
     "views": [
      {
       "cell_index": 33
      }
     ]
    },
    "1d2d76fcf7734f9a9344bfd5dbd78a5d": {
     "views": [
      {
       "cell_index": 37
      }
     ]
    },
    "1d428ed519ee4de7b02b7d9f145e6929": {
     "views": [
      {
       "cell_index": 21
      }
     ]
    },
    "1d46e35e32d942ada24d21871ff2702a": {
     "views": [
      {
       "cell_index": 29
      }
     ]
    },
    "1d5df405fad24ab59538518876f93a0f": {
     "views": [
      {
       "cell_index": 37
      }
     ]
    },
    "1d7a084df151405d8fac4d4f3a02a44e": {
     "views": [
      {
       "cell_index": 29
      }
     ]
    },
    "1d9786f14c4446b8ab38eec99cc9c7dc": {
     "views": [
      {
       "cell_index": 37
      }
     ]
    },
    "1da64c360b544ea7ba0282c42381a5b1": {
     "views": [
      {
       "cell_index": 14
      }
     ]
    },
    "1e192d8ce09e41aba5827feadeeb8219": {
     "views": [
      {
       "cell_index": 37
      }
     ]
    },
    "1e36a66022984d50bbbf5a5c26b6782b": {
     "views": [
      {
       "cell_index": 37
      }
     ]
    },
    "1e4564b254d74aafb686e676e87f7597": {
     "views": [
      {
       "cell_index": 33
      }
     ]
    },
    "1e6f632e6ff04c3ab7ca89b02eddf0d7": {
     "views": [
      {
       "cell_index": 54
      }
     ]
    },
    "1eac49c409b64da499e959117672da42": {
     "views": [
      {
       "cell_index": 37
      }
     ]
    },
    "1eed14c404d54aa49a3438706f46e5ab": {
     "views": [
      {
       "cell_index": 19
      }
     ]
    },
    "1f07e50716ce4b7a812ba58f6d1e2f6f": {
     "views": [
      {
       "cell_index": 34
      }
     ]
    },
    "1f45ab6736a644d8b8b1217672c059e6": {
     "views": [
      {
       "cell_index": 31
      }
     ]
    },
    "1f8e03904b63404582e4fb5351efc413": {
     "views": [
      {
       "cell_index": 21
      }
     ]
    },
    "1f8f15b16da64cc9b652cc0f2b8da0b8": {
     "views": [
      {
       "cell_index": 39
      }
     ]
    },
    "1fac169092a145cba85a6a6b9d878602": {
     "views": [
      {
       "cell_index": 37
      }
     ]
    },
    "1fb42c0382354698aa54d808c3b5fb40": {
     "views": [
      {
       "cell_index": 37
      }
     ]
    },
    "1ff1020890d04c92a4c8a505c6f44b6a": {
     "views": [
      {
       "cell_index": 29
      }
     ]
    },
    "1fff54c01a5147ffbcc536c1f198bd7e": {
     "views": [
      {
       "cell_index": 16
      }
     ]
    },
    "202911b2bf484202995aee727d64d7ca": {
     "views": [
      {
       "cell_index": 37
      }
     ]
    },
    "203b16e827d34224ac41194e0b6f0095": {
     "views": [
      {
       "cell_index": 33
      }
     ]
    },
    "206fabe9c2994086b5870a290a05fcec": {
     "views": [
      {
       "cell_index": 18
      }
     ]
    },
    "20935be5f8094b5da920ddeb58e534f0": {
     "views": [
      {
       "cell_index": 34
      }
     ]
    },
    "2113595ec963459592126e2918a1921c": {
     "views": [
      {
       "cell_index": 37
      }
     ]
    },
    "2123de350b4d465c979d78474f3fe9e6": {
     "views": [
      {
       "cell_index": 15
      }
     ]
    },
    "2188c3f9a62c476084ee84e81f2e8b8a": {
     "views": [
      {
       "cell_index": 37
      }
     ]
    },
    "2188c833a66845428e1b251679476e1a": {
     "views": [
      {
       "cell_index": 37
      }
     ]
    },
    "21ac84d4845e44c5bc139f4ae8a78ff5": {
     "views": [
      {
       "cell_index": 37
      }
     ]
    },
    "21de8a8b0b384aaba0f70b3133411934": {
     "views": [
      {
       "cell_index": 31
      }
     ]
    },
    "2241d758566b4378ad4a696be4f75016": {
     "views": [
      {
       "cell_index": 33
      }
     ]
    },
    "224b4b3d8ff74f3d806e02ceef669407": {
     "views": [
      {
       "cell_index": 21
      }
     ]
    },
    "2266c52b9cc141efa79f6295a41d8075": {
     "views": [
      {
       "cell_index": 39
      }
     ]
    },
    "22a3d8da82a845f686c9a5ddd25b07e2": {
     "views": [
      {
       "cell_index": 37
      }
     ]
    },
    "22afc0e917c148a69c181a0ac4f2ea58": {
     "views": [
      {
       "cell_index": 37
      }
     ]
    },
    "22d97a00206344ff8d3b4d104f322e4b": {
     "views": [
      {
       "cell_index": 37
      }
     ]
    },
    "22ea5501382842b5b67495b04777f66f": {
     "views": [
      {
       "cell_index": 37
      }
     ]
    },
    "231e8fdeaf5f4a469cc8ade02eeb69ce": {
     "views": [
      {
       "cell_index": 34
      }
     ]
    },
    "23675fc7e2494445b275b8297f742d0d": {
     "views": [
      {
       "cell_index": 19
      }
     ]
    },
    "23b12108594646568125d5736f3b0214": {
     "views": [
      {
       "cell_index": 37
      }
     ]
    },
    "23edfc75565546589a2e2ddab4ab31a5": {
     "views": [
      {
       "cell_index": 18
      }
     ]
    },
    "243f73cc778045e6a7e00689accc0e6f": {
     "views": [
      {
       "cell_index": 29
      }
     ]
    },
    "244008bb6d5644bc88cde443ab50410f": {
     "views": [
      {
       "cell_index": 31
      }
     ]
    },
    "2467e533cef546f1bfa700829f66b7c7": {
     "views": [
      {
       "cell_index": 19
      }
     ]
    },
    "248a374a2e2c4e269ff67fa316c01075": {
     "views": [
      {
       "cell_index": 16
      }
     ]
    },
    "2493be8db5f64ea88fedc3cf0c534f08": {
     "views": [
      {
       "cell_index": 37
      }
     ]
    },
    "24b4ca1dee3a468f9b084eaa2d895cfc": {
     "views": [
      {
       "cell_index": 14
      }
     ]
    },
    "24e31477d487435b95fa8dd8a6a7a7db": {
     "views": [
      {
       "cell_index": 37
      }
     ]
    },
    "25ad5b1a92b947eb89815e6930ba64c1": {
     "views": [
      {
       "cell_index": 29
      }
     ]
    },
    "25b870fb220c453b9a51abafdb43ee85": {
     "views": [
      {
       "cell_index": 19
      }
     ]
    },
    "25d1c42ac72f4c2cb0c24c829f92516e": {
     "views": [
      {
       "cell_index": 37
      }
     ]
    },
    "25eb85e99aa5436fb1393ae30e45c291": {
     "views": [
      {
       "cell_index": 37
      }
     ]
    },
    "262725ebb07b4916bbfc80eae0173bd7": {
     "views": [
      {
       "cell_index": 37
      }
     ]
    },
    "2637d095c9de4c169e3d10e83e4b11b5": {
     "views": [
      {
       "cell_index": 20
      }
     ]
    },
    "26505f38f6f94d678895c107929234ca": {
     "views": [
      {
       "cell_index": 34
      }
     ]
    },
    "26a8bb500fa24fd9b07eaa01735ce373": {
     "views": [
      {
       "cell_index": 37
      }
     ]
    },
    "273f1d6e08db4a73a2357409d2ca5454": {
     "views": [
      {
       "cell_index": 37
      }
     ]
    },
    "274c96563f2f46f08b2d60b2e962c03b": {
     "views": [
      {
       "cell_index": 19
      }
     ]
    },
    "282a7fb8f6ce43b4838049a7cf3270e2": {
     "views": [
      {
       "cell_index": 37
      }
     ]
    },
    "282bd8b592fb48d992a76a6d265bf540": {
     "views": [
      {
       "cell_index": 37
      }
     ]
    },
    "286d476d0fbd46d78ce4f026f5f73a00": {
     "views": [
      {
       "cell_index": 37
      }
     ]
    },
    "29208c69a8bc431e91c0a657d007ead4": {
     "views": [
      {
       "cell_index": 37
      }
     ]
    },
    "29384f610e5d4a34b7fb884746f88561": {
     "views": [
      {
       "cell_index": 19
      }
     ]
    },
    "299fc255d7414701af980a02dc0fb5ad": {
     "views": [
      {
       "cell_index": 18
      }
     ]
    },
    "29a3c109515947df83adcf783ae918d3": {
     "views": [
      {
       "cell_index": 37
      }
     ]
    },
    "29e5a8eb4d9f4a16b0bd8b2003f1fa25": {
     "views": [
      {
       "cell_index": 16
      }
     ]
    },
    "29f2155acd944d39b1d0259890c12cee": {
     "views": [
      {
       "cell_index": 51
      }
     ]
    },
    "2a21686cbf6c41bfbd4f2e01e39062d1": {
     "views": [
      {
       "cell_index": 14
      }
     ]
    },
    "2a2aaab938f8480cbdf6f0f218e2c198": {
     "views": [
      {
       "cell_index": 37
      }
     ]
    },
    "2a3db5875b3e41df809497d0c6b3981a": {
     "views": [
      {
       "cell_index": 33
      }
     ]
    },
    "2a65b69a1d7e46178fad64f3a0ccee91": {
     "views": [
      {
       "cell_index": 33
      }
     ]
    },
    "2a7065a8a71841b2b1382bb2284f7147": {
     "views": [
      {
       "cell_index": 29
      }
     ]
    },
    "2a7e96ec61824d21ab4ad6db296b5282": {
     "views": [
      {
       "cell_index": 15
      }
     ]
    },
    "2aa67e6652da4f4c9a63838a634c684d": {
     "views": [
      {
       "cell_index": 37
      }
     ]
    },
    "2aca12774b1141c591c9b2950af293fe": {
     "views": [
      {
       "cell_index": 37
      }
     ]
    },
    "2b0d77cf632d41a8b3ece3ca55560dab": {
     "views": [
      {
       "cell_index": 15
      }
     ]
    },
    "2b106209951f4378bb9d87e8a28cb4e4": {
     "views": [
      {
       "cell_index": 37
      }
     ]
    },
    "2b38cb66bad949acb3c2f29e2413c24c": {
     "views": [
      {
       "cell_index": 19
      }
     ]
    },
    "2b82d45a12c847f3b1f0f6164ef08f5c": {
     "views": [
      {
       "cell_index": 37
      }
     ]
    },
    "2b856448303f42c8baab946ba1643070": {
     "views": [
      {
       "cell_index": 33
      }
     ]
    },
    "2b94b0963fd24c29b22e911783bf6499": {
     "views": [
      {
       "cell_index": 37
      }
     ]
    },
    "2b9d1e03988c418eab4fe9e8043e5958": {
     "views": [
      {
       "cell_index": 54
      }
     ]
    },
    "2bb93f8088ff485b9ae801c0465b5c80": {
     "views": [
      {
       "cell_index": 14
      }
     ]
    },
    "2be37d6601c546ba81025eab4842e772": {
     "views": [
      {
       "cell_index": 37
      }
     ]
    },
    "2be46ef78a894f4ea4a9c444ad07ec49": {
     "views": [
      {
       "cell_index": 14
      }
     ]
    },
    "2c535b09929d4b5dbd409ec3531a0384": {
     "views": [
      {
       "cell_index": 33
      }
     ]
    },
    "2c92d6ff2f6643ae8e87d935b75ac3b7": {
     "views": [
      {
       "cell_index": 15
      }
     ]
    },
    "2cbfa149f8d145d3aeb65fb5fd09a58b": {
     "views": [
      {
       "cell_index": 37
      }
     ]
    },
    "2ce5be296e064e92bc7cad6c94de6eed": {
     "views": [
      {
       "cell_index": 15
      }
     ]
    },
    "2cf68140acf147d081c12c6bbf5eae40": {
     "views": [
      {
       "cell_index": 21
      }
     ]
    },
    "2d446bd657064d78ab643e04297481d5": {
     "views": [
      {
       "cell_index": 37
      }
     ]
    },
    "2daa8f2387354453ad609594b8fadc16": {
     "views": [
      {
       "cell_index": 31
      }
     ]
    },
    "2dd213ae0ff54b40a711d6a6c9512efe": {
     "views": [
      {
       "cell_index": 37
      }
     ]
    },
    "2def4f4ec03040bdbd65253d6e658b58": {
     "views": [
      {
       "cell_index": 37
      }
     ]
    },
    "2e1f7e248e2b4776a5d34f1a835d473f": {
     "views": [
      {
       "cell_index": 34
      }
     ]
    },
    "2e2bc74c426342efaa1280bd61106a8d": {
     "views": [
      {
       "cell_index": 16
      }
     ]
    },
    "2e56a24a41234325ae118f6e36b20fc7": {
     "views": [
      {
       "cell_index": 37
      }
     ]
    },
    "2e7261c226dd4d979b67dfdac4b9ec3a": {
     "views": [
      {
       "cell_index": 37
      }
     ]
    },
    "2ea79e65936143ae93bc106c00730546": {
     "views": [
      {
       "cell_index": 18
      }
     ]
    },
    "2ee6b39f54ac4153a7cbd42d7a6e9e47": {
     "views": [
      {
       "cell_index": 51
      }
     ]
    },
    "2ee708086903422fa66a1ffdaec069db": {
     "views": [
      {
       "cell_index": 37
      }
     ]
    },
    "2f1a1f75ccd74465a630c2fb82bd3931": {
     "views": [
      {
       "cell_index": 19
      }
     ]
    },
    "2f44744aee2a484ca0292dd8141f2f12": {
     "views": [
      {
       "cell_index": 37
      }
     ]
    },
    "2f637e2cd0ec4123a789ca0ba9d79cce": {
     "views": [
      {
       "cell_index": 19
      }
     ]
    },
    "302df834491f4915b10d1726dc624152": {
     "views": [
      {
       "cell_index": 18
      }
     ]
    },
    "3036ade14d374a45ad2617ac33b1b6d2": {
     "views": [
      {
       "cell_index": 20
      }
     ]
    },
    "30756d4b359945daba228958da56ac61": {
     "views": [
      {
       "cell_index": 31
      }
     ]
    },
    "307f4a933a3d4bbda2683a36ba9cdd42": {
     "views": [
      {
       "cell_index": 37
      }
     ]
    },
    "307f8a739de944eba9cef982eb153b35": {
     "views": [
      {
       "cell_index": 16
      }
     ]
    },
    "30c39a945c6d4f34af8a24b01ee20b86": {
     "views": [
      {
       "cell_index": 19
      }
     ]
    },
    "30ec238657a0458b8807b74b23ebfcd5": {
     "views": [
      {
       "cell_index": 31
      }
     ]
    },
    "30ec2c42c5294558bf8f8e16ed0d5cdf": {
     "views": [
      {
       "cell_index": 37
      }
     ]
    },
    "30f7831f64154aaab7284ed163dde4d1": {
     "views": [
      {
       "cell_index": 18
      }
     ]
    },
    "315b2736c2764a448a06e1cc77de065c": {
     "views": [
      {
       "cell_index": 19
      }
     ]
    },
    "318c2b326831435aa0ef5ca25350816a": {
     "views": [
      {
       "cell_index": 37
      }
     ]
    },
    "319ef3017817489c9e69355f2884b80d": {
     "views": [
      {
       "cell_index": 15
      }
     ]
    },
    "31bd6d8977214eed84104b09155ba404": {
     "views": [
      {
       "cell_index": 21
      }
     ]
    },
    "321d996d249041b38d40add93ee72cf7": {
     "views": [
      {
       "cell_index": 37
      }
     ]
    },
    "3250521e5ead45c6a8355e307ccebfeb": {
     "views": [
      {
       "cell_index": 21
      }
     ]
    },
    "325f0a1bdade44299fec8748d91c9ed7": {
     "views": [
      {
       "cell_index": 29
      }
     ]
    },
    "328ffcd8a65e4d9582f8bbd10b572a4e": {
     "views": [
      {
       "cell_index": 33
      }
     ]
    },
    "33f0906479684dd29393149a9076287b": {
     "views": [
      {
       "cell_index": 37
      }
     ]
    },
    "33fe22f4e4c14729a5f086b6c16faf97": {
     "views": [
      {
       "cell_index": 16
      }
     ]
    },
    "343deeffa07f4992af75f8b286fac7aa": {
     "views": [
      {
       "cell_index": 37
      }
     ]
    },
    "3456ab01d791466bac46e44f5949e9ad": {
     "views": [
      {
       "cell_index": 37
      }
     ]
    },
    "345f903568c5409c8873e0b3d678e6e7": {
     "views": [
      {
       "cell_index": 32
      }
     ]
    },
    "34a17a3377c14101ac9c212cc18eb641": {
     "views": [
      {
       "cell_index": 37
      }
     ]
    },
    "34c163cd53704985ae8ca6201af1f98e": {
     "views": [
      {
       "cell_index": 27
      }
     ]
    },
    "34e0a9b53dc04809b8c206cd240b9d20": {
     "views": [
      {
       "cell_index": 15
      }
     ]
    },
    "34eb7c619cfc41549d7913b0efcef733": {
     "views": [
      {
       "cell_index": 21
      }
     ]
    },
    "34effe4297a94238a371a4c09e1f35b3": {
     "views": [
      {
       "cell_index": 33
      }
     ]
    },
    "350aa82a764843b7858bfd8a84a5532d": {
     "views": [
      {
       "cell_index": 15
      }
     ]
    },
    "352214bba8c44a47beabd26bda5fb54b": {
     "views": [
      {
       "cell_index": 37
      }
     ]
    },
    "357beef909a04eeb8cd40cda1e78aaec": {
     "views": [
      {
       "cell_index": 37
      }
     ]
    },
    "3591ec064fc64b47a5fd7343d4f8e339": {
     "views": [
      {
       "cell_index": 19
      }
     ]
    },
    "35bb6d97f94646e19cd6838b525ed5cd": {
     "views": [
      {
       "cell_index": 37
      }
     ]
    },
    "35bfd237fa67467885cf08ada3f1fbac": {
     "views": [
      {
       "cell_index": 37
      }
     ]
    },
    "35c51bc767fc4e3b82d1cf7a0d42c125": {
     "views": [
      {
       "cell_index": 21
      }
     ]
    },
    "35c957c3fe7f4a1fb8885a92a04a4aed": {
     "views": [
      {
       "cell_index": 21
      }
     ]
    },
    "35e7014fb2494018be0b7fc8d6d275df": {
     "views": [
      {
       "cell_index": 37
      }
     ]
    },
    "3601e11f575548f3aac34cc8bbfb71e9": {
     "views": [
      {
       "cell_index": 37
      }
     ]
    },
    "3624ed63549343099f94b11ab143dbda": {
     "views": [
      {
       "cell_index": 16
      }
     ]
    },
    "363923b034d842b48e0d872a95d0997e": {
     "views": [
      {
       "cell_index": 54
      }
     ]
    },
    "36568abf38bf4b0ead0fb3e982b9b691": {
     "views": [
      {
       "cell_index": 37
      }
     ]
    },
    "365cc64cca9849cfba4d7f6b665f61c5": {
     "views": [
      {
       "cell_index": 20
      }
     ]
    },
    "3664ac3e4f214c66b891404d95cefaa7": {
     "views": [
      {
       "cell_index": 21
      }
     ]
    },
    "36d254ee52c14d6b99b7241db5bddc0c": {
     "views": [
      {
       "cell_index": 21
      }
     ]
    },
    "36fd16f52959422d9da7c6245ccbbf2e": {
     "views": [
      {
       "cell_index": 37
      }
     ]
    },
    "36ffc44f77744b1ab4fc621e6f7f5efb": {
     "views": [
      {
       "cell_index": 37
      }
     ]
    },
    "373723ff6b9a40a7962949fa8491f42e": {
     "views": [
      {
       "cell_index": 37
      }
     ]
    },
    "3743b024bb9d4bdfaf4cf815a7d65887": {
     "views": [
      {
       "cell_index": 37
      }
     ]
    },
    "37666b2f96ab463c85d3e1bb44bd455f": {
     "views": [
      {
       "cell_index": 16
      }
     ]
    },
    "3788d67b0b6b4f39b69845a43a5279dc": {
     "views": [
      {
       "cell_index": 33
      }
     ]
    },
    "37e39c12fd904b1288bcc75696c58a3d": {
     "views": [
      {
       "cell_index": 37
      }
     ]
    },
    "381061ec8de04b1692ff154cf8eba681": {
     "views": [
      {
       "cell_index": 31
      }
     ]
    },
    "382836bc40b641c7a0c23db4bc63dbda": {
     "views": [
      {
       "cell_index": 19
      }
     ]
    },
    "38405eb56f6f4fc7852dc6255e1d68f5": {
     "views": [
      {
       "cell_index": 31
      }
     ]
    },
    "3890dba3f1d645368664d995d3abaaf0": {
     "views": [
      {
       "cell_index": 31
      }
     ]
    },
    "38dcae7a814a4783b2d98b8467f58bfe": {
     "views": [
      {
       "cell_index": 37
      }
     ]
    },
    "390c75c710694d8fb07c7f7e4e8c394d": {
     "views": [
      {
       "cell_index": 37
      }
     ]
    },
    "39726938a6794525900298c7b31cf71f": {
     "views": [
      {
       "cell_index": 37
      }
     ]
    },
    "39a7ad9a37c34e47be4553ba71d80447": {
     "views": [
      {
       "cell_index": 37
      }
     ]
    },
    "39b6a7a0cf184267b312254b5a75537b": {
     "views": [
      {
       "cell_index": 37
      }
     ]
    },
    "39ccc07e822d48f4ad228e3704e538e1": {
     "views": [
      {
       "cell_index": 33
      }
     ]
    },
    "39e88f6c864f4b7b8c56eb116d349d9b": {
     "views": [
      {
       "cell_index": 31
      }
     ]
    },
    "3a029accf6ca436590087a78653d8058": {
     "views": [
      {
       "cell_index": 37
      }
     ]
    },
    "3a3deebf4b3d43078750f7569d9ce36d": {
     "views": [
      {
       "cell_index": 37
      }
     ]
    },
    "3a448cdac950420181c0a2c0d39c575a": {
     "views": [
      {
       "cell_index": 15
      }
     ]
    },
    "3a9396ad16cb4a23b6a54b34ae6b05b6": {
     "views": [
      {
       "cell_index": 29
      }
     ]
    },
    "3a96c52e0e3c4a0b9120096c295467f3": {
     "views": [
      {
       "cell_index": 21
      }
     ]
    },
    "3ae35a3698544762bd9d792e8eaba1de": {
     "views": [
      {
       "cell_index": 34
      }
     ]
    },
    "3ae9a3d1ca7a40f89426d3e01c8a3740": {
     "views": [
      {
       "cell_index": 18
      }
     ]
    },
    "3afcbdbdb89b4e1ab7b075c69ef99c72": {
     "views": [
      {
       "cell_index": 37
      }
     ]
    },
    "3b0df3a61ee044db97c00814a43606ee": {
     "views": [
      {
       "cell_index": 19
      }
     ]
    },
    "3b6c89f349be41dbbc60e5ed287488b4": {
     "views": [
      {
       "cell_index": 37
      }
     ]
    },
    "3b77a7f510a248a591e9f7a8600c3127": {
     "views": [
      {
       "cell_index": 29
      }
     ]
    },
    "3b8710e5362f4e6dbe06dc15d690e52c": {
     "views": [
      {
       "cell_index": 16
      }
     ]
    },
    "3b87379c0b5b41439d09bd423be52a15": {
     "views": [
      {
       "cell_index": 20
      }
     ]
    },
    "3c25492abb034c8da88f6569d52908f8": {
     "views": [
      {
       "cell_index": 37
      }
     ]
    },
    "3c3bca2ceffe44f7b869183c2603b150": {
     "views": [
      {
       "cell_index": 15
      }
     ]
    },
    "3c4ab0c7b4ac4f9ea4b3b8c0354d74d1": {
     "views": [
      {
       "cell_index": 33
      }
     ]
    },
    "3c6d93f3cc2c4bf68366d41c3b5c352e": {
     "views": [
      {
       "cell_index": 19
      }
     ]
    },
    "3cf50bdb718744d999c3eb29dafba30c": {
     "views": [
      {
       "cell_index": 29
      }
     ]
    },
    "3cfbd153921844909e2907054047c15e": {
     "views": [
      {
       "cell_index": 21
      }
     ]
    },
    "3d116c6671a145eda65177d3dbd1b309": {
     "views": [
      {
       "cell_index": 37
      }
     ]
    },
    "3d28670d2df14f5b91a81fa864e7a6d9": {
     "views": [
      {
       "cell_index": 18
      }
     ]
    },
    "3d30713163174cb99863c9ed560cd516": {
     "views": [
      {
       "cell_index": 33
      }
     ]
    },
    "3d957178f155462bbc88ffc890678feb": {
     "views": [
      {
       "cell_index": 19
      }
     ]
    },
    "3dbec9b1d4bc4ea6ad62ec87a41e7a6c": {
     "views": [
      {
       "cell_index": 33
      }
     ]
    },
    "3dd886f589bb4a6c8a298e74fbe2044a": {
     "views": [
      {
       "cell_index": 16
      }
     ]
    },
    "3ddda02d519148f198edf3d5ef5e5708": {
     "views": [
      {
       "cell_index": 33
      }
     ]
    },
    "3e39664bed38434db6296ebbf4d5d8be": {
     "views": [
      {
       "cell_index": 37
      }
     ]
    },
    "3e57d0c3f65e434cab67eec2eb995137": {
     "views": [
      {
       "cell_index": 37
      }
     ]
    },
    "3e76c05a8f6641a494c457e7b018ace9": {
     "views": [
      {
       "cell_index": 16
      }
     ]
    },
    "3e7caadc050643aa8c22f8748c9ec9ed": {
     "views": [
      {
       "cell_index": 37
      }
     ]
    },
    "3ee5039395034ee280327ee6b372c2c7": {
     "views": [
      {
       "cell_index": 19
      }
     ]
    },
    "3eff376b8b394664b7686ad03d8fd424": {
     "views": [
      {
       "cell_index": 21
      }
     ]
    },
    "3f2584a4cd1d43c9bc09240e5908b3d8": {
     "views": [
      {
       "cell_index": 19
      }
     ]
    },
    "3f474b8ad1a54e3fa5f53c331c407373": {
     "views": [
      {
       "cell_index": 37
      }
     ]
    },
    "3f779df193a54b8f8ac7453b6944f8e2": {
     "views": [
      {
       "cell_index": 37
      }
     ]
    },
    "3f91a84661434f05898b490eec32b104": {
     "views": [
      {
       "cell_index": 21
      }
     ]
    },
    "3fe82d9bcc8e478fb9df703d3b9c61ba": {
     "views": [
      {
       "cell_index": 29
      }
     ]
    },
    "403b76c06f2247ac8e596349049889f3": {
     "views": [
      {
       "cell_index": 21
      }
     ]
    },
    "40805335260b451ab48c02a85a1501de": {
     "views": [
      {
       "cell_index": 37
      }
     ]
    },
    "415061f2f30648749b210b5dcdb76c2a": {
     "views": [
      {
       "cell_index": 37
      }
     ]
    },
    "41571b234fd54180b8bdd61f0abcb4b4": {
     "views": [
      {
       "cell_index": 15
      }
     ]
    },
    "4165aa577b5e400abb682c1f0627dd87": {
     "views": [
      {
       "cell_index": 54
      }
     ]
    },
    "416ab0fa963d4a6b949a1d5801ea373f": {
     "views": [
      {
       "cell_index": 37
      }
     ]
    },
    "419f7ff9342e4875bfe62f695b60895d": {
     "views": [
      {
       "cell_index": 33
      }
     ]
    },
    "421d9364d29643fdbc5cf9f464f247d4": {
     "views": [
      {
       "cell_index": 51
      }
     ]
    },
    "424cd41f001d4dc398967b3e69e7ec4d": {
     "views": [
      {
       "cell_index": 34
      }
     ]
    },
    "428e9c66d5bc47da8ac2a96e39e8a282": {
     "views": [
      {
       "cell_index": 37
      }
     ]
    },
    "42a4b735c54349c39c60bcc033598e75": {
     "views": [
      {
       "cell_index": 16
      }
     ]
    },
    "42b31533b9ce4591b580a97a52c9db1b": {
     "views": [
      {
       "cell_index": 19
      }
     ]
    },
    "42d5f1a8dff9448d92491705893a7b0f": {
     "views": [
      {
       "cell_index": 37
      }
     ]
    },
    "431d8630140f424a82919c38ee8a85d2": {
     "views": [
      {
       "cell_index": 19
      }
     ]
    },
    "432a97092b1641d9837294556cec04fb": {
     "views": [
      {
       "cell_index": 37
      }
     ]
    },
    "43c1be1166b54d2187128f221517ac0a": {
     "views": [
      {
       "cell_index": 37
      }
     ]
    },
    "43ed73fe301a4ed39987eafb38c31855": {
     "views": [
      {
       "cell_index": 37
      }
     ]
    },
    "44325df428d44df1ab00add5a5bf8970": {
     "views": [
      {
       "cell_index": 37
      }
     ]
    },
    "4437beef7af14ce59cb19dcd47506123": {
     "views": [
      {
       "cell_index": 37
      }
     ]
    },
    "44505277601042199db7ab9ffe19824c": {
     "views": [
      {
       "cell_index": 37
      }
     ]
    },
    "445ac11b674b465b98d7c8b61a8cb332": {
     "views": [
      {
       "cell_index": 16
      }
     ]
    },
    "446ca11c2a974737bfa3dd55eb9defaf": {
     "views": [
      {
       "cell_index": 37
      }
     ]
    },
    "4475713f91e54713b3a5c99f01e04fd7": {
     "views": [
      {
       "cell_index": 37
      }
     ]
    },
    "44cf4dc67fb6465ea1a3207ebc514f62": {
     "views": [
      {
       "cell_index": 33
      }
     ]
    },
    "44dd4151695a4ec9a676022159f6aee0": {
     "views": [
      {
       "cell_index": 37
      }
     ]
    },
    "4502c8a1bdc24ca5ac236c62a7314be2": {
     "views": [
      {
       "cell_index": 37
      }
     ]
    },
    "452dea9cc2124ae688a028c0995598e7": {
     "views": [
      {
       "cell_index": 32
      }
     ]
    },
    "455dad62994547cba26ce5f19f475bae": {
     "views": [
      {
       "cell_index": 37
      }
     ]
    },
    "45a20e88a8954b3fb269bdfbf42e72ed": {
     "views": [
      {
       "cell_index": 37
      }
     ]
    },
    "45ad209660ab4a759ff60c93671fcab6": {
     "views": [
      {
       "cell_index": 33
      }
     ]
    },
    "460881d6d35f4cacb3aa1173bf26ea72": {
     "views": [
      {
       "cell_index": 9
      }
     ]
    },
    "46409bb216bd497189755ac9483a8abc": {
     "views": [
      {
       "cell_index": 27
      }
     ]
    },
    "46b8388d0ff94a7d94eb297378afb268": {
     "views": [
      {
       "cell_index": 37
      }
     ]
    },
    "46d0eef52b354f5cbcd70299b01a258e": {
     "views": [
      {
       "cell_index": 14
      }
     ]
    },
    "46d2355c9fdf47c685f8c43c83eae5d2": {
     "views": [
      {
       "cell_index": 37
      }
     ]
    },
    "46db35a3ec81479b88a556a4ef37eb0f": {
     "views": [
      {
       "cell_index": 21
      }
     ]
    },
    "46deba69f7ca43089dc7fcc0f05334cb": {
     "views": [
      {
       "cell_index": 33
      }
     ]
    },
    "46f845ddfd2e4ac6b4a25cc45684bab6": {
     "views": [
      {
       "cell_index": 37
      }
     ]
    },
    "4790976dd949437d9f378ac448ff3f1b": {
     "views": [
      {
       "cell_index": 37
      }
     ]
    },
    "4796a8a3bf64403a8f80b81347b027ba": {
     "views": [
      {
       "cell_index": 37
      }
     ]
    },
    "47caca2c4d754a1994389145f3bac23c": {
     "views": [
      {
       "cell_index": 31
      }
     ]
    },
    "47e06ed45f444b21adf64f0246f1e8d7": {
     "views": [
      {
       "cell_index": 37
      }
     ]
    },
    "482b879ad7ff4cf3aa9d966cdcf9de16": {
     "views": [
      {
       "cell_index": 37
      }
     ]
    },
    "48e25ced195f44afa8bf0feae3d76346": {
     "views": [
      {
       "cell_index": 21
      }
     ]
    },
    "48eef2cc771c47d0a40616e3c5337725": {
     "views": [
      {
       "cell_index": 37
      }
     ]
    },
    "49038ff3dd994ee88dd3c5119cfb091e": {
     "views": [
      {
       "cell_index": 54
      }
     ]
    },
    "4946405f10534f0ea413f8c9f72b1624": {
     "views": [
      {
       "cell_index": 54
      }
     ]
    },
    "495926345efe41b29086ec5509c77441": {
     "views": [
      {
       "cell_index": 37
      }
     ]
    },
    "49c6fdcbd85b4019900ff28e5db4b481": {
     "views": [
      {
       "cell_index": 18
      }
     ]
    },
    "49ee049eba1348e08327ffef0d0d1598": {
     "views": [
      {
       "cell_index": 22
      }
     ]
    },
    "4a121c6944b446f2b561333dc2d11129": {
     "views": [
      {
       "cell_index": 37
      }
     ]
    },
    "4a2ed636edfe4a1ebc7f3ad981f58bbb": {
     "views": [
      {
       "cell_index": 13
      }
     ]
    },
    "4a94b2e5f7b740be823a95a197495b31": {
     "views": [
      {
       "cell_index": 37
      }
     ]
    },
    "4a94ce6c4baa4153928b47c7fd89e79d": {
     "views": [
      {
       "cell_index": 19
      }
     ]
    },
    "4aa0ef2c69784530a7cc8bb64617c3c1": {
     "views": [
      {
       "cell_index": 37
      }
     ]
    },
    "4ac95b1bb4cd41b2ad25bf5ce05c4c9f": {
     "views": [
      {
       "cell_index": 37
      }
     ]
    },
    "4b06be2a781b489db9ed68f24687420e": {
     "views": [
      {
       "cell_index": 34
      }
     ]
    },
    "4b167a3bec684573ad4f88ba79b350c3": {
     "views": [
      {
       "cell_index": 37
      }
     ]
    },
    "4ba778916f1c438f9b5c510a39b89121": {
     "views": [
      {
       "cell_index": 37
      }
     ]
    },
    "4c17c5dad157447f8d76cf1e7e19d1a6": {
     "views": [
      {
       "cell_index": 16
      }
     ]
    },
    "4c5d5a58d96e400db9485ac1b2c06d13": {
     "views": [
      {
       "cell_index": 37
      }
     ]
    },
    "4c63241f626e485b873f228379047024": {
     "views": [
      {
       "cell_index": 37
      }
     ]
    },
    "4cae4edd845a42aab06b67122db5b438": {
     "views": [
      {
       "cell_index": 29
      }
     ]
    },
    "4d03ac403c2c4bb6837f7d34282b2f1c": {
     "views": [
      {
       "cell_index": 37
      }
     ]
    },
    "4d3ed158ca644a03828f3d2302b7fbb8": {
     "views": [
      {
       "cell_index": 37
      }
     ]
    },
    "4d7f0d3a88884e088dfd9fcea5d2bd72": {
     "views": [
      {
       "cell_index": 16
      }
     ]
    },
    "4dd1cc99ea194da0a586c6d40fd1c353": {
     "views": [
      {
       "cell_index": 37
      }
     ]
    },
    "4de5b0e4e6d1429fb1001fb4d20e42bf": {
     "views": [
      {
       "cell_index": 37
      }
     ]
    },
    "4e6ce59324af4caca76399f936ed34d1": {
     "views": [
      {
       "cell_index": 33
      }
     ]
    },
    "4e76aae873894d4ebbdea6941d8260c6": {
     "views": [
      {
       "cell_index": 37
      }
     ]
    },
    "4e7a844d6e1e48ab9e566539f3304e77": {
     "views": [
      {
       "cell_index": 37
      }
     ]
    },
    "4e7d6ce96feb4619a45911b37fc9876c": {
     "views": [
      {
       "cell_index": 37
      }
     ]
    },
    "4e97b01e2b0e482bb8c91124e69118f6": {
     "views": [
      {
       "cell_index": 37
      }
     ]
    },
    "4eb1fdcb69dc41d8be6441fb6d49a932": {
     "views": [
      {
       "cell_index": 54
      }
     ]
    },
    "4ec64ada72be404ea9605bf4bcd95eef": {
     "views": [
      {
       "cell_index": 29
      }
     ]
    },
    "4f87de9f4884466eb8c8ae565d7ce245": {
     "views": [
      {
       "cell_index": 37
      }
     ]
    },
    "4f9c0105901c41368114ea5091324561": {
     "views": [
      {
       "cell_index": 33
      }
     ]
    },
    "4fb5328b8b704fd2a27c3027d8326a31": {
     "views": [
      {
       "cell_index": 21
      }
     ]
    },
    "4fca5c3de6cd485497da063914ba8d53": {
     "views": [
      {
       "cell_index": 37
      }
     ]
    },
    "4fd369d8654341ecb85c2a610c776426": {
     "views": [
      {
       "cell_index": 33
      }
     ]
    },
    "4ff704390adf4f95b307c02f3c290cec": {
     "views": [
      {
       "cell_index": 37
      }
     ]
    },
    "5027b660ad2c498c8c458b0128b56892": {
     "views": [
      {
       "cell_index": 22
      }
     ]
    },
    "503ad71bd5b14d24a0a1e8daaec41acf": {
     "views": [
      {
       "cell_index": 29
      }
     ]
    },
    "5065b3e80d174860bc4286a2bb246ce0": {
     "views": [
      {
       "cell_index": 16
      }
     ]
    },
    "5066e53354ba4f428f521a640e756e51": {
     "views": [
      {
       "cell_index": 37
      }
     ]
    },
    "50909e951f6a4800b66e35d4e5d0742c": {
     "views": [
      {
       "cell_index": 29
      }
     ]
    },
    "50964b7f06f04d1d9af5681eba1f6d5d": {
     "views": [
      {
       "cell_index": 33
      }
     ]
    },
    "509943d285ba439a913e5156efdc32cd": {
     "views": [
      {
       "cell_index": 37
      }
     ]
    },
    "50ab329d13734d219567d6df92441ff4": {
     "views": [
      {
       "cell_index": 16
      }
     ]
    },
    "513158c79c7e47dc8a443b27c2e35bd0": {
     "views": [
      {
       "cell_index": 54
      }
     ]
    },
    "516cc96803c24c8184566c3fa09ba75b": {
     "views": [
      {
       "cell_index": 33
      }
     ]
    },
    "518601e58e2d4bf99ee16f2a1918a4e2": {
     "views": [
      {
       "cell_index": 37
      }
     ]
    },
    "5198648dac0c47be8bf5dbf56b27ed03": {
     "views": [
      {
       "cell_index": 19
      }
     ]
    },
    "5198fde929bc498da9e06e1c2550a373": {
     "views": [
      {
       "cell_index": 39
      }
     ]
    },
    "51c2f41a023c47708aa210085098833a": {
     "views": [
      {
       "cell_index": 37
      }
     ]
    },
    "5229c2a4c09c40738d329ca2b53dade3": {
     "views": [
      {
       "cell_index": 54
      }
     ]
    },
    "525b8a68b527488eb249b1ba8c6e56b6": {
     "views": [
      {
       "cell_index": 16
      }
     ]
    },
    "5287a37d3cfa4176bd0d83baa5813c6e": {
     "views": [
      {
       "cell_index": 18
      }
     ]
    },
    "52c6e9a0248c46da8edee0147f9e99c6": {
     "views": [
      {
       "cell_index": 18
      }
     ]
    },
    "52f6366ce93447e794b0a2ce4e462c98": {
     "views": [
      {
       "cell_index": 37
      }
     ]
    },
    "52fe23894e7f4afdaf057492a4a551a6": {
     "views": [
      {
       "cell_index": 37
      }
     ]
    },
    "533d9a1977a44c21aeecffac1d50e7f4": {
     "views": [
      {
       "cell_index": 14
      }
     ]
    },
    "536be97bf19c4fd2bdd75925b69044d3": {
     "views": [
      {
       "cell_index": 28
      }
     ]
    },
    "5370afe9aa064edb9774a28fb2266c97": {
     "views": [
      {
       "cell_index": 37
      }
     ]
    },
    "53fe6908385a4172b82254b2f0f5a23c": {
     "views": [
      {
       "cell_index": 37
      }
     ]
    },
    "5414b0c747e34f55aff872428d0a54fa": {
     "views": [
      {
       "cell_index": 21
      }
     ]
    },
    "54840899d2584e09ac84dac0d047e24f": {
     "views": [
      {
       "cell_index": 29
      }
     ]
    },
    "54928accaa6b47f4938774b047a8f1aa": {
     "views": [
      {
       "cell_index": 16
      }
     ]
    },
    "54a82a768ba84cdc96f1d77d804ea10c": {
     "views": [
      {
       "cell_index": 21
      }
     ]
    },
    "54ea8a0496df42508c15b0968e26c35e": {
     "views": [
      {
       "cell_index": 37
      }
     ]
    },
    "553863d04ee84272853de17cdf9e6179": {
     "views": [
      {
       "cell_index": 16
      }
     ]
    },
    "553c4e8454794aea968efc18c6757178": {
     "views": [
      {
       "cell_index": 21
      }
     ]
    },
    "555a530af09647faab1a98bd0adc4806": {
     "views": [
      {
       "cell_index": 37
      }
     ]
    },
    "557821a5378c4e72a1718d1d61207b98": {
     "views": [
      {
       "cell_index": 18
      }
     ]
    },
    "558bc6940f30492b93caf715ff9223ab": {
     "views": [
      {
       "cell_index": 37
      }
     ]
    },
    "559d45a74c634341ae001d5bb9840766": {
     "views": [
      {
       "cell_index": 37
      }
     ]
    },
    "55a419ca203b49318324587d3b0b798e": {
     "views": [
      {
       "cell_index": 37
      }
     ]
    },
    "55b95a72661146a295404cbf7b42c131": {
     "views": [
      {
       "cell_index": 37
      }
     ]
    },
    "561a8212d1da4aa8927da1df4a0ec4eb": {
     "views": [
      {
       "cell_index": 29
      }
     ]
    },
    "569503da63024f9dbd3ae3944396869f": {
     "views": [
      {
       "cell_index": 16
      }
     ]
    },
    "570fe9902e2745ada70752fe14db97e2": {
     "views": [
      {
       "cell_index": 37
      }
     ]
    },
    "571567197ecd404789486736e90bfd30": {
     "views": [
      {
       "cell_index": 37
      }
     ]
    },
    "57319ac4efce4d8f9c98f86018edb531": {
     "views": [
      {
       "cell_index": 37
      }
     ]
    },
    "574cfc06b96c42afb13b02e208c041c3": {
     "views": [
      {
       "cell_index": 16
      }
     ]
    },
    "576d72e129074a219dc2ef8d391b47d4": {
     "views": [
      {
       "cell_index": 21
      }
     ]
    },
    "57c0a341edda43eaa2b6d82faddeb40a": {
     "views": [
      {
       "cell_index": 31
      }
     ]
    },
    "57c5beb707e640b584fed65032511bed": {
     "views": [
      {
       "cell_index": 18
      }
     ]
    },
    "57d140184cc748ea8395878252375a54": {
     "views": [
      {
       "cell_index": 33
      }
     ]
    },
    "57fc40aa9f494c1086d0e8cc0ed4694d": {
     "views": [
      {
       "cell_index": 37
      }
     ]
    },
    "58287d7d9ed040dea62de829996ceab8": {
     "views": [
      {
       "cell_index": 37
      }
     ]
    },
    "583fbcbc99b441a39ca84c785e4c3280": {
     "views": [
      {
       "cell_index": 37
      }
     ]
    },
    "58554d7566ee4232a29606e64537d82c": {
     "views": [
      {
       "cell_index": 19
      }
     ]
    },
    "586028434068451e82bef4ea2e7c4f48": {
     "views": [
      {
       "cell_index": 37
      }
     ]
    },
    "5868539b6fa0499898d9ba2834eb5cf1": {
     "views": [
      {
       "cell_index": 37
      }
     ]
    },
    "5870607e5084450cbf1c5080a14f6fb8": {
     "views": [
      {
       "cell_index": 37
      }
     ]
    },
    "58a2da9223304054a0ff75f334013ca8": {
     "views": [
      {
       "cell_index": 37
      }
     ]
    },
    "58c0111431aa455399c3c8fe3675d48d": {
     "views": [
      {
       "cell_index": 16
      }
     ]
    },
    "58d10a73c5854b8b9ceb0ec3c65f209c": {
     "views": [
      {
       "cell_index": 29
      }
     ]
    },
    "59075e9f0e6246cb934426fdcccd4494": {
     "views": [
      {
       "cell_index": 21
      }
     ]
    },
    "590b9740acf24469a5ccc3b3e0009d33": {
     "views": [
      {
       "cell_index": 37
      }
     ]
    },
    "590cf49f268546ac85d14fee3a9fd102": {
     "views": [
      {
       "cell_index": 37
      }
     ]
    },
    "59129c4c1767484191533262a0010cc1": {
     "views": [
      {
       "cell_index": 37
      }
     ]
    },
    "59312a6f3ec14e7d91ac622d02fe4f88": {
     "views": [
      {
       "cell_index": 37
      }
     ]
    },
    "5932f86db81f48ed90d70e53e54e43bf": {
     "views": [
      {
       "cell_index": 37
      }
     ]
    },
    "5943ac5f095d482a9401458e5784774f": {
     "views": [
      {
       "cell_index": 37
      }
     ]
    },
    "5952f863631843ab9bd8bb712065d042": {
     "views": [
      {
       "cell_index": 16
      }
     ]
    },
    "59afd8d8119041b89b3c08f6362a44f4": {
     "views": [
      {
       "cell_index": 33
      }
     ]
    },
    "59dc8ddce2774267bc83157a743d6432": {
     "views": [
      {
       "cell_index": 31
      }
     ]
    },
    "5a1804428f6b494aaec8b3383233c35c": {
     "views": [
      {
       "cell_index": 19
      }
     ]
    },
    "5a382afc13dc41c7b2a05cd3695de41b": {
     "views": [
      {
       "cell_index": 37
      }
     ]
    },
    "5a3d2a2a40784dc89f2aa4ed4c449475": {
     "views": [
      {
       "cell_index": 33
      }
     ]
    },
    "5a4b57b6ea364453aadac17471a36129": {
     "views": [
      {
       "cell_index": 16
      }
     ]
    },
    "5a4fc1a9fca147249c56ea4f4b85e53d": {
     "views": [
      {
       "cell_index": 37
      }
     ]
    },
    "5a63f7ca5cce47a98c7e982643fb212e": {
     "views": [
      {
       "cell_index": 51
      }
     ]
    },
    "5aa742c875254051b718346da3149942": {
     "views": [
      {
       "cell_index": 37
      }
     ]
    },
    "5ab1216e4bb649c0b7e1c53f3be780b5": {
     "views": [
      {
       "cell_index": 37
      }
     ]
    },
    "5ac099cb135440bf879996e1436e85e9": {
     "views": [
      {
       "cell_index": 29
      }
     ]
    },
    "5ae1f467a4284529ac8d88b18e8b868d": {
     "views": [
      {
       "cell_index": 19
      }
     ]
    },
    "5b7bed5cde9d420c93f3b7803ba89391": {
     "views": [
      {
       "cell_index": 37
      }
     ]
    },
    "5b8ca0971e624fba9c541721c84f0610": {
     "views": [
      {
       "cell_index": 37
      }
     ]
    },
    "5bbdbe8b5cf34128ad2086992916b8e6": {
     "views": [
      {
       "cell_index": 29
      }
     ]
    },
    "5c5219dc91eb4e0f98f82e2bd2a8a5a5": {
     "views": [
      {
       "cell_index": 37
      }
     ]
    },
    "5c8fe2412fb34401857b9e1d1afe3ef1": {
     "views": [
      {
       "cell_index": 33
      }
     ]
    },
    "5ccd3097ec774e728e3d09f143d06532": {
     "views": [
      {
       "cell_index": 37
      }
     ]
    },
    "5cfd60093421466fb0e2a903e5f7efb7": {
     "views": [
      {
       "cell_index": 54
      }
     ]
    },
    "5d04535dc40043e580b638633c05d7ae": {
     "views": [
      {
       "cell_index": 37
      }
     ]
    },
    "5d0c7e890d104e46bd35a1da285f5393": {
     "views": [
      {
       "cell_index": 31
      }
     ]
    },
    "5d1fa61a253746ddad427e312bcf243c": {
     "views": [
      {
       "cell_index": 16
      }
     ]
    },
    "5e33788087394aa5ad671d1aec642d70": {
     "views": [
      {
       "cell_index": 33
      }
     ]
    },
    "5ed0512a01c24bf7bb0a217b20960393": {
     "views": [
      {
       "cell_index": 37
      }
     ]
    },
    "5ed359bdb2f84042b5b169cb1a96a3f3": {
     "views": [
      {
       "cell_index": 37
      }
     ]
    },
    "5f285bfee8dc453f8fa0ad63296be25c": {
     "views": [
      {
       "cell_index": 16
      }
     ]
    },
    "5f8bb077e5a24538a4ccd79567aa2da6": {
     "views": [
      {
       "cell_index": 15
      }
     ]
    },
    "5fbe4117838540558b8188b719ab814d": {
     "views": [
      {
       "cell_index": 37
      }
     ]
    },
    "5fc163b66863489b94b71bd09eab17e8": {
     "views": [
      {
       "cell_index": 37
      }
     ]
    },
    "5fc27bc7a6644d2b9f8a97b2424e9117": {
     "views": [
      {
       "cell_index": 16
      }
     ]
    },
    "5fe21a80145049ada5a0aa13582a6c8a": {
     "views": [
      {
       "cell_index": 19
      }
     ]
    },
    "603e27d00f8049648498dc115450e5a8": {
     "views": [
      {
       "cell_index": 37
      }
     ]
    },
    "604045293da44a4eb5f5a54c78c5e0ad": {
     "views": [
      {
       "cell_index": 18
      }
     ]
    },
    "604c2af9f0844c0695995f01f1988a28": {
     "views": [
      {
       "cell_index": 37
      }
     ]
    },
    "605ad327e77a46fca491d6231e7180da": {
     "views": [
      {
       "cell_index": 37
      }
     ]
    },
    "606eacb98db64a48b8bb3fe6ff5a2c4a": {
     "views": [
      {
       "cell_index": 21
      }
     ]
    },
    "6103e4af1701405c9ff02d9f1b4a7d12": {
     "views": [
      {
       "cell_index": 37
      }
     ]
    },
    "6121d3eb02e841a896102a96be8eea53": {
     "views": [
      {
       "cell_index": 16
      }
     ]
    },
    "61392705ae634e6ca1a287d9b14fce48": {
     "views": [
      {
       "cell_index": 19
      }
     ]
    },
    "614e546742a642619a51eee3256a08f5": {
     "views": [
      {
       "cell_index": 37
      }
     ]
    },
    "61524d38c9fe4115941f1ff8003b2a6b": {
     "views": [
      {
       "cell_index": 16
      }
     ]
    },
    "6171f7ea790d4dbc8cb97918b81c7204": {
     "views": [
      {
       "cell_index": 19
      }
     ]
    },
    "61807061ff2c47159bbb47a50791db14": {
     "views": [
      {
       "cell_index": 29
      }
     ]
    },
    "61962ba120e5488e9471aa6a2299f966": {
     "views": [
      {
       "cell_index": 37
      }
     ]
    },
    "6199fa67537149a7b99bdb345a269655": {
     "views": [
      {
       "cell_index": 33
      }
     ]
    },
    "61b280eaf7ae4e4fa3e8a19f1b8ee229": {
     "views": [
      {
       "cell_index": 19
      }
     ]
    },
    "61ee1864c5a04e5bb61df539a808aea3": {
     "views": [
      {
       "cell_index": 37
      }
     ]
    },
    "622662de32d244359d8402f934b38a8d": {
     "views": [
      {
       "cell_index": 33
      }
     ]
    },
    "625acc00df2b43699a43b25af91fedf8": {
     "views": [
      {
       "cell_index": 16
      }
     ]
    },
    "632df4f0dbc84a24aae564f7d30ddb07": {
     "views": [
      {
       "cell_index": 37
      }
     ]
    },
    "6340d0ba0dd34cf78c297c44c54d3947": {
     "views": [
      {
       "cell_index": 19
      }
     ]
    },
    "63621696f63340d7b06bca2349407f7a": {
     "views": [
      {
       "cell_index": 37
      }
     ]
    },
    "63d65ff1f2584bf6af5fa4014474f391": {
     "views": [
      {
       "cell_index": 37
      }
     ]
    },
    "640a00c8f6c44ffdb921228ebd373e69": {
     "views": [
      {
       "cell_index": 37
      }
     ]
    },
    "640e407b4ded492aa98c1affb9eb8529": {
     "views": [
      {
       "cell_index": 31
      }
     ]
    },
    "6417a2e991584a58a28a397329ab063f": {
     "views": [
      {
       "cell_index": 54
      }
     ]
    },
    "6459a08c7bad42e1a9ef8164ef3e8e86": {
     "views": [
      {
       "cell_index": 37
      }
     ]
    },
    "648fcbb5c0b1462085b0dd2896a8e59f": {
     "views": [
      {
       "cell_index": 37
      }
     ]
    },
    "64b900c0cebc4532ba489e822f6ab96a": {
     "views": [
      {
       "cell_index": 37
      }
     ]
    },
    "64c41edbc7c94d6bb3c361724864354e": {
     "views": [
      {
       "cell_index": 33
      }
     ]
    },
    "64f4d954f02942d09dd6409e8098db98": {
     "views": [
      {
       "cell_index": 29
      }
     ]
    },
    "65b93b22c5e74d329794bbfe068b8f04": {
     "views": [
      {
       "cell_index": 16
      }
     ]
    },
    "65fa40fbbe6d48af8bab1685ceb396e3": {
     "views": [
      {
       "cell_index": 37
      }
     ]
    },
    "660bfc20308e4ca685aea6411d2d4783": {
     "views": [
      {
       "cell_index": 37
      }
     ]
    },
    "663d5e318b234f3ebb18d4fd0234bed1": {
     "views": [
      {
       "cell_index": 32
      }
     ]
    },
    "664337f3c4c24560b0347f255961f62c": {
     "views": [
      {
       "cell_index": 37
      }
     ]
    },
    "66b91312d35c45bebdb3517dc855e785": {
     "views": [
      {
       "cell_index": 19
      }
     ]
    },
    "66c83386d7aa434492a34639b9e1b070": {
     "views": [
      {
       "cell_index": 21
      }
     ]
    },
    "66d37574cfff4952a48824f1f87f2857": {
     "views": [
      {
       "cell_index": 16
      }
     ]
    },
    "66df06487a214f15b44a5c9fc2f544d5": {
     "views": [
      {
       "cell_index": 37
      }
     ]
    },
    "66fcb004c25d46f18c108b14ede46f17": {
     "views": [
      {
       "cell_index": 37
      }
     ]
    },
    "67948f535e454f6caa0b901316d9c42a": {
     "views": [
      {
       "cell_index": 37
      }
     ]
    },
    "67b8d2a4b93643ed87f8bfaa75585a57": {
     "views": [
      {
       "cell_index": 33
      }
     ]
    },
    "67fdddced10f47d981f8e25c023d7aa9": {
     "views": [
      {
       "cell_index": 19
      }
     ]
    },
    "6824b795188c4d34853375a4a4f76a9b": {
     "views": [
      {
       "cell_index": 18
      }
     ]
    },
    "683cb6e623ed49169440e22e9be5f6e2": {
     "views": [
      {
       "cell_index": 21
      }
     ]
    },
    "68db5544bb9c4c67ab5cb22d140ee37b": {
     "views": [
      {
       "cell_index": 16
      }
     ]
    },
    "68e8264a8fa1423ead3be6664ceaeb2c": {
     "views": [
      {
       "cell_index": 14
      }
     ]
    },
    "68ec2c956e5845cdb11c43a10dac9c96": {
     "views": [
      {
       "cell_index": 16
      }
     ]
    },
    "690b37ee88264b78951309e0daa6bd64": {
     "views": [
      {
       "cell_index": 19
      }
     ]
    },
    "693afb764cc44a1c9a8b7b7fc43fd43c": {
     "views": [
      {
       "cell_index": 37
      }
     ]
    },
    "696590a52414456580bbf7663acc3feb": {
     "views": [
      {
       "cell_index": 37
      }
     ]
    },
    "6a291d6545a843e0bcfeced98533f7b0": {
     "views": [
      {
       "cell_index": 37
      }
     ]
    },
    "6a56b3894bc0490a9496a20f3c6f80be": {
     "views": [
      {
       "cell_index": 37
      }
     ]
    },
    "6a602f59c38c4de489155a2678a938db": {
     "views": [
      {
       "cell_index": 15
      }
     ]
    },
    "6a7718ea375f4ca0914905f1000b6047": {
     "views": [
      {
       "cell_index": 33
      }
     ]
    },
    "6b0f8707f48c4d87ae4540f1f8790559": {
     "views": [
      {
       "cell_index": 37
      }
     ]
    },
    "6b5c8fed5a8b482994bc84a6e5e32c13": {
     "views": [
      {
       "cell_index": 16
      }
     ]
    },
    "6b9596cd18d547c88d6175e899c066fb": {
     "views": [
      {
       "cell_index": 16
      }
     ]
    },
    "6bc6abd5b3fd44e092c7a240e0b73536": {
     "views": [
      {
       "cell_index": 18
      }
     ]
    },
    "6bdcccfbc9bf4b089dcf32b821698c8e": {
     "views": [
      {
       "cell_index": 37
      }
     ]
    },
    "6be00ae4cf4748e68d8dda52f10d2198": {
     "views": [
      {
       "cell_index": 37
      }
     ]
    },
    "6d5473c485244aafa7c580f84a576839": {
     "views": [
      {
       "cell_index": 15
      }
     ]
    },
    "6d6ac4c6540a4827a56585926e181972": {
     "views": [
      {
       "cell_index": 37
      }
     ]
    },
    "6db2e43bfbfc4fa7b8b2f035398e20c4": {
     "views": [
      {
       "cell_index": 37
      }
     ]
    },
    "6e1501b8b21748efa41f9fb796a533cb": {
     "views": [
      {
       "cell_index": 37
      }
     ]
    },
    "6e6e95644c7e4c5eb610e92cd71be350": {
     "views": [
      {
       "cell_index": 18
      }
     ]
    },
    "6e7385a090d644ff92f061d7b145d44e": {
     "views": [
      {
       "cell_index": 19
      }
     ]
    },
    "6ec57a82fdd04d85bdb91fa31f113c83": {
     "views": [
      {
       "cell_index": 37
      }
     ]
    },
    "6ecb19b72de94fe2815d62a6c9dc3b4d": {
     "views": [
      {
       "cell_index": 37
      }
     ]
    },
    "6eea410489b24eeca88f7e02d5b1dd33": {
     "views": [
      {
       "cell_index": 33
      }
     ]
    },
    "6ef9612fd3004a789411451ed29ffffd": {
     "views": [
      {
       "cell_index": 37
      }
     ]
    },
    "6f0da3d5433f462d82483b5a5e3f56a5": {
     "views": [
      {
       "cell_index": 37
      }
     ]
    },
    "6f2c8b71ec204c9c93906c1d7e1b9f03": {
     "views": [
      {
       "cell_index": 37
      }
     ]
    },
    "6f5f00e80d7d41cea7066b0839be8523": {
     "views": [
      {
       "cell_index": 16
      }
     ]
    },
    "6fb827f40b44484dbecf3cc4a8a99589": {
     "views": [
      {
       "cell_index": 37
      }
     ]
    },
    "70629110e56b4a639e4c75a1832b6d34": {
     "views": [
      {
       "cell_index": 37
      }
     ]
    },
    "70c6247c033d45be85d51f8408eeb1da": {
     "views": [
      {
       "cell_index": 19
      }
     ]
    },
    "710bd042ce0a4eb5b560e819ff2125a0": {
     "views": [
      {
       "cell_index": 33
      }
     ]
    },
    "711c551a78ed4f0c9c7f0e1b2e387ef5": {
     "views": [
      {
       "cell_index": 37
      }
     ]
    },
    "712340954e92400dadf988ad3e8c76ca": {
     "views": [
      {
       "cell_index": 37
      }
     ]
    },
    "7136b3a78f0e4ce280ce0483e7a183ca": {
     "views": [
      {
       "cell_index": 37
      }
     ]
    },
    "7168d1558406465c9655df76f84f5360": {
     "views": [
      {
       "cell_index": 37
      }
     ]
    },
    "71aaa0b353b24acb881d62983517075a": {
     "views": [
      {
       "cell_index": 19
      }
     ]
    },
    "71b751ba286647d5996fd396fb454276": {
     "views": [
      {
       "cell_index": 37
      }
     ]
    },
    "71cc2e2753ac4a1399cbb199e7732f91": {
     "views": [
      {
       "cell_index": 37
      }
     ]
    },
    "71ebc0dbce1c4d9e83dfa1fa7c2fb8e0": {
     "views": [
      {
       "cell_index": 33
      }
     ]
    },
    "7219fae6d7954b27a1089ad84cca7dca": {
     "views": [
      {
       "cell_index": 37
      }
     ]
    },
    "721d2a9302ca4ab1ad9ae1aee75acdb6": {
     "views": [
      {
       "cell_index": 37
      }
     ]
    },
    "7293eef77a8c4f219dc28a847bc132fb": {
     "views": [
      {
       "cell_index": 21
      }
     ]
    },
    "73270a0a2f274c679d0a69ed2b10cbfe": {
     "views": [
      {
       "cell_index": 21
      }
     ]
    },
    "738b49a8d5d449e19fe7f0bff4306233": {
     "views": [
      {
       "cell_index": 20
      }
     ]
    },
    "73fff94b6d08432e9a99fc6108388f8e": {
     "views": [
      {
       "cell_index": 37
      }
     ]
    },
    "7413f384377e46b39973c2b8081a7f4e": {
     "views": [
      {
       "cell_index": 19
      }
     ]
    },
    "7452e77741e14413a9a4dec3ab3ea8d1": {
     "views": [
      {
       "cell_index": 37
      }
     ]
    },
    "7497769f2f87457295a59887df51150c": {
     "views": [
      {
       "cell_index": 16
      }
     ]
    },
    "74c8526dc9f14ff699d73c55ad541251": {
     "views": [
      {
       "cell_index": 21
      }
     ]
    },
    "7510d2d62c41483c8e3f2c664ce56299": {
     "views": [
      {
       "cell_index": 21
      }
     ]
    },
    "7514fe5baf49492383eee9fcfeb6e132": {
     "views": [
      {
       "cell_index": 33
      }
     ]
    },
    "753de8556a604f7d880a8c2b92b49600": {
     "views": [
      {
       "cell_index": 37
      }
     ]
    },
    "756c95f203574158a4d6a9ba9131999a": {
     "views": [
      {
       "cell_index": 37
      }
     ]
    },
    "7575cdb21d684479b3d44e7dfe9df083": {
     "views": [
      {
       "cell_index": 29
      }
     ]
    },
    "762c56160e504ea6a075c1d3149d1be2": {
     "views": [
      {
       "cell_index": 37
      }
     ]
    },
    "764d04bccaed4a07bbb8940bb4554dff": {
     "views": [
      {
       "cell_index": 37
      }
     ]
    },
    "76573a58ba9d4bab98a46ca5b6b9e3fe": {
     "views": [
      {
       "cell_index": 18
      }
     ]
    },
    "765da5ba0ca64d5e81cdc66224308097": {
     "views": [
      {
       "cell_index": 21
      }
     ]
    },
    "7697a89e698842f08cffd30fd20fa989": {
     "views": [
      {
       "cell_index": 37
      }
     ]
    },
    "76a1fb12d11a43cbaae0dfafa9c2ce38": {
     "views": [
      {
       "cell_index": 37
      }
     ]
    },
    "76edaaa7c9074dff92f987453e31ca54": {
     "views": [
      {
       "cell_index": 19
      }
     ]
    },
    "774d7891ca3241b3a359481f78b21b41": {
     "views": [
      {
       "cell_index": 37
      }
     ]
    },
    "77508da661e1481ab885a7d525759c22": {
     "views": [
      {
       "cell_index": 31
      }
     ]
    },
    "77853c97dcb747d7b568538899be4bcf": {
     "views": [
      {
       "cell_index": 29
      }
     ]
    },
    "77a7fc421ff9447bae3ce43d6208d7e0": {
     "views": [
      {
       "cell_index": 39
      }
     ]
    },
    "77d7c94fc39443b18ad137951aaa7892": {
     "views": [
      {
       "cell_index": 37
      }
     ]
    },
    "77ef000e073e41659a55360a90a2cf9e": {
     "views": [
      {
       "cell_index": 37
      }
     ]
    },
    "783f6d9451054230936f835875b13315": {
     "views": [
      {
       "cell_index": 21
      }
     ]
    },
    "784f7ca488fe4b4c93f18b5ad103fed4": {
     "views": [
      {
       "cell_index": 33
      }
     ]
    },
    "788c8d3cadbf4d5597feea92ab5b9889": {
     "views": [
      {
       "cell_index": 16
      }
     ]
    },
    "78a355762307484ca8817bf50440c750": {
     "views": [
      {
       "cell_index": 34
      }
     ]
    },
    "78bb7a70b820439f9527b407a9d71756": {
     "views": [
      {
       "cell_index": 29
      }
     ]
    },
    "7935f00be17e4c1ebf519e5707034bd5": {
     "views": [
      {
       "cell_index": 16
      }
     ]
    },
    "79a2c4baee7c49658d1ceb801a167079": {
     "views": [
      {
       "cell_index": 37
      }
     ]
    },
    "79a98fe3d5ea4644a56caf4e99f667f7": {
     "views": [
      {
       "cell_index": 37
      }
     ]
    },
    "7a0dc4574d65465e8d15075a2dfef6c8": {
     "views": [
      {
       "cell_index": 19
      }
     ]
    },
    "7a384db4aa47419aa6018f1122b516c5": {
     "views": [
      {
       "cell_index": 31
      }
     ]
    },
    "7a6e9f8bbb794d709bdc12c2439594b7": {
     "views": [
      {
       "cell_index": 37
      }
     ]
    },
    "7b0efcb0578e4ce693f176460438e6a2": {
     "views": [
      {
       "cell_index": 29
      }
     ]
    },
    "7b54c3ea8771437aa8260d0a9c016652": {
     "views": [
      {
       "cell_index": 37
      }
     ]
    },
    "7b7e950388ba41c48e1ab0f4e00c70e1": {
     "views": [
      {
       "cell_index": 37
      }
     ]
    },
    "7b8392d92d4847c08886c551eb0d5d2b": {
     "views": [
      {
       "cell_index": 37
      }
     ]
    },
    "7b843e41f3e74dcc89241e81a1a0583b": {
     "views": [
      {
       "cell_index": 37
      }
     ]
    },
    "7b9c10dcc8234c4b8bc2811fffed10cc": {
     "views": [
      {
       "cell_index": 37
      }
     ]
    },
    "7c056afb541b49a3b616427cc800861f": {
     "views": [
      {
       "cell_index": 9
      }
     ]
    },
    "7c2c809420c74aa5aeffec819bdf122d": {
     "views": [
      {
       "cell_index": 19
      }
     ]
    },
    "7c30ac0c7cca44e39997789f4413ddc4": {
     "views": [
      {
       "cell_index": 33
      }
     ]
    },
    "7c4ce08306c14604abaa80bae246304f": {
     "views": [
      {
       "cell_index": 37
      }
     ]
    },
    "7c5a6ea416e7495392dc721f42c427bb": {
     "views": [
      {
       "cell_index": 31
      }
     ]
    },
    "7c99e67fe64740d4b78cafbc29d40aec": {
     "views": [
      {
       "cell_index": 37
      }
     ]
    },
    "7ca45b15dacf48438ea2578c03f7f952": {
     "views": [
      {
       "cell_index": 37
      }
     ]
    },
    "7cb99fa1491948e889da0d05cf4c0419": {
     "views": [
      {
       "cell_index": 15
      }
     ]
    },
    "7cf27630bd644939a224df12ac20f474": {
     "views": [
      {
       "cell_index": 37
      }
     ]
    },
    "7d0a0fe017914a54ad6483ed47033a55": {
     "views": [
      {
       "cell_index": 34
      }
     ]
    },
    "7d2569b207854f7aa6377939cbdd758a": {
     "views": [
      {
       "cell_index": 37
      }
     ]
    },
    "7d82d0fa77034f9c9247b555cf65f551": {
     "views": [
      {
       "cell_index": 16
      }
     ]
    },
    "7d8a52b33735488d8bea43f4cf4e1088": {
     "views": [
      {
       "cell_index": 37
      }
     ]
    },
    "7dbf7a72bab744ca8c0fcaa87080a0e5": {
     "views": [
      {
       "cell_index": 19
      }
     ]
    },
    "7dfd257888974991a8bd739528cc4613": {
     "views": [
      {
       "cell_index": 37
      }
     ]
    },
    "7e8edba16a61493394b9665b3de53991": {
     "views": [
      {
       "cell_index": 37
      }
     ]
    },
    "7eb51227b20d4931996641c699ad8051": {
     "views": [
      {
       "cell_index": 37
      }
     ]
    },
    "7ee52fd026f34d78bf2617b92a6da1a3": {
     "views": [
      {
       "cell_index": 37
      }
     ]
    },
    "7ef202396c7146eaa6a37843696655ba": {
     "views": [
      {
       "cell_index": 37
      }
     ]
    },
    "7f45cca73f0e431cab944e229782a4b5": {
     "views": [
      {
       "cell_index": 29
      }
     ]
    },
    "7f4639202c74408f8e7e338e2313cfbf": {
     "views": [
      {
       "cell_index": 37
      }
     ]
    },
    "7f623d8da3924e35896a65e453d818ce": {
     "views": [
      {
       "cell_index": 21
      }
     ]
    },
    "7fe38250d1d24b349669aabbda43449e": {
     "views": [
      {
       "cell_index": 37
      }
     ]
    },
    "80a994910e5840478175ddf34ab60825": {
     "views": [
      {
       "cell_index": 37
      }
     ]
    },
    "80cee36b60a04595869a9a65764465a8": {
     "views": [
      {
       "cell_index": 37
      }
     ]
    },
    "815a8f1be1684c31884f624a930b4368": {
     "views": [
      {
       "cell_index": 14
      }
     ]
    },
    "8173cbeb95b74c42ba3330fbaffa832d": {
     "views": [
      {
       "cell_index": 37
      }
     ]
    },
    "81a0ec3f3ba1491db3be752013cd4691": {
     "views": [
      {
       "cell_index": 37
      }
     ]
    },
    "81b2bdc71e0d4f979912364487c8229c": {
     "views": [
      {
       "cell_index": 19
      }
     ]
    },
    "81be9c95f5754dc697fb73e490fc4f70": {
     "views": [
      {
       "cell_index": 18
      }
     ]
    },
    "81d2d3ce97fa4637874efc78a458d774": {
     "views": [
      {
       "cell_index": 16
      }
     ]
    },
    "823042c752ad4aba87427181debf490d": {
     "views": [
      {
       "cell_index": 20
      }
     ]
    },
    "8257c076e8bb483d8d4effed82ea0c59": {
     "views": [
      {
       "cell_index": 37
      }
     ]
    },
    "82b84605896448e59b06c7b7f3f626f6": {
     "views": [
      {
       "cell_index": 37
      }
     ]
    },
    "834e45c188be48f5b2b88da8ce712542": {
     "views": [
      {
       "cell_index": 20
      }
     ]
    },
    "8385642a86d6486d9e4a7d3cb482411d": {
     "views": [
      {
       "cell_index": 37
      }
     ]
    },
    "839219e2b4d545d295a44527a620f812": {
     "views": [
      {
       "cell_index": 15
      }
     ]
    },
    "839d74033fd2490f94e733fb98f7f663": {
     "views": [
      {
       "cell_index": 19
      }
     ]
    },
    "83c4e73d2ce6450b964ebb0cae3682e0": {
     "views": [
      {
       "cell_index": 54
      }
     ]
    },
    "83d90b1d13d74c6d9a1b6f8a8848c790": {
     "views": [
      {
       "cell_index": 14
      }
     ]
    },
    "83f0211b30bb4eacb5233d00bef66ef6": {
     "views": [
      {
       "cell_index": 37
      }
     ]
    },
    "8415a3e8755540f1bbe0c548f899ff2c": {
     "views": [
      {
       "cell_index": 19
      }
     ]
    },
    "842b0113d10e432bb3c2d6b92958c4ca": {
     "views": [
      {
       "cell_index": 37
      }
     ]
    },
    "8435dd74ce1945a189533a992374a9b0": {
     "views": [
      {
       "cell_index": 19
      }
     ]
    },
    "8436ba37a3bf463eb21aadc75e6f0ed8": {
     "views": [
      {
       "cell_index": 37
      }
     ]
    },
    "84498fda10a14f75befcf16d5319f123": {
     "views": [
      {
       "cell_index": 29
      }
     ]
    },
    "853e6f5a6a4d44ecbf3eaae1103ea7be": {
     "views": [
      {
       "cell_index": 54
      }
     ]
    },
    "8584572a81394d65aff94aa2cd2efc0d": {
     "views": [
      {
       "cell_index": 16
      }
     ]
    },
    "860263233ab542009514325e3c127c0f": {
     "views": [
      {
       "cell_index": 37
      }
     ]
    },
    "86811319a78d44aea9dd21cbb6860105": {
     "views": [
      {
       "cell_index": 21
      }
     ]
    },
    "86fb772933e14b419f2d1ecd085b4a4b": {
     "views": [
      {
       "cell_index": 27
      }
     ]
    },
    "87074b1615dd4d8ebbe72306118282e6": {
     "views": [
      {
       "cell_index": 37
      }
     ]
    },
    "871ac43cb62a4055a7de8ca65777bff0": {
     "views": [
      {
       "cell_index": 37
      }
     ]
    },
    "8728282f49514fc9bf386953fb0df6bb": {
     "views": [
      {
       "cell_index": 37
      }
     ]
    },
    "879048afa7084cb8b42077841cfc1e1f": {
     "views": [
      {
       "cell_index": 33
      }
     ]
    },
    "8793bd2ff3364b2d8901aa38bbaf54da": {
     "views": [
      {
       "cell_index": 15
      }
     ]
    },
    "87af646ad23e41fdbf93fb09a00ab459": {
     "views": [
      {
       "cell_index": 37
      }
     ]
    },
    "87b0642db340476eac7c448216d366e0": {
     "views": [
      {
       "cell_index": 15
      }
     ]
    },
    "87b41aaeac004e0caeb6abe0d596a516": {
     "views": [
      {
       "cell_index": 19
      }
     ]
    },
    "87dde55653144bd39109e19df2859920": {
     "views": [
      {
       "cell_index": 16
      }
     ]
    },
    "87def4dc38514a5abad6e155297078bc": {
     "views": [
      {
       "cell_index": 15
      }
     ]
    },
    "8813226462dd45a3bcb19246b9c78dbb": {
     "views": [
      {
       "cell_index": 31
      }
     ]
    },
    "8844d84aaf22445c9c9c37eae15cc6d3": {
     "views": [
      {
       "cell_index": 37
      }
     ]
    },
    "886e84ec24fa46f28c7f953faafab994": {
     "views": [
      {
       "cell_index": 37
      }
     ]
    },
    "88cd13b8f4ec40f48bf6e84715864751": {
     "views": [
      {
       "cell_index": 37
      }
     ]
    },
    "88e2369076ed4ba2a81e9ce27417eda9": {
     "views": [
      {
       "cell_index": 51
      }
     ]
    },
    "89222643549d45f0a21e6b50781af30c": {
     "views": [
      {
       "cell_index": 37
      }
     ]
    },
    "8954ae8c186b4ae689edd31a0d4b0951": {
     "views": [
      {
       "cell_index": 18
      }
     ]
    },
    "89743cc65fb6492e8efb20be9869db62": {
     "views": [
      {
       "cell_index": 37
      }
     ]
    },
    "897bfce314514634be71e9a313e84d7b": {
     "views": [
      {
       "cell_index": 37
      }
     ]
    },
    "89b95f1acc764b5bb265e38258c29812": {
     "views": [
      {
       "cell_index": 31
      }
     ]
    },
    "89ba2734d4c443809b740d6d0474a452": {
     "views": [
      {
       "cell_index": 20
      }
     ]
    },
    "89c1d4258b564fd4a6f813496571369f": {
     "views": [
      {
       "cell_index": 31
      }
     ]
    },
    "89cc852c07c64213a2e1d9a42336e69a": {
     "views": [
      {
       "cell_index": 37
      }
     ]
    },
    "8a7d20c98ce64f3cbe6d106c6e86ded3": {
     "views": [
      {
       "cell_index": 33
      }
     ]
    },
    "8aa4d0e5e8a8413c871d38b3ff789c94": {
     "views": [
      {
       "cell_index": 37
      }
     ]
    },
    "8aea9256efd84dc99978890384e2e08c": {
     "views": [
      {
       "cell_index": 33
      }
     ]
    },
    "8aeb6550aff84272ac15b92ca74d559c": {
     "views": [
      {
       "cell_index": 18
      }
     ]
    },
    "8b3b6589619c4097ad614f5ee7c5e517": {
     "views": [
      {
       "cell_index": 19
      }
     ]
    },
    "8b5eb3e6ef954bd689def4682ce9f1c5": {
     "views": [
      {
       "cell_index": 33
      }
     ]
    },
    "8be49813411045029daf17added9d3d8": {
     "views": [
      {
       "cell_index": 31
      }
     ]
    },
    "8c7112df7b8d463da3f3fe6f6745b152": {
     "views": [
      {
       "cell_index": 21
      }
     ]
    },
    "8c93b9e66cca4beca8c601104de3c337": {
     "views": [
      {
       "cell_index": 31
      }
     ]
    },
    "8caf2721cce640029666686f88b2617d": {
     "views": [
      {
       "cell_index": 31
      }
     ]
    },
    "8cfac7d96b9043d6816f8a2e6fd00be7": {
     "views": [
      {
       "cell_index": 37
      }
     ]
    },
    "8d86ee88bedc434eb04ffeb4cd4f0667": {
     "views": [
      {
       "cell_index": 37
      }
     ]
    },
    "8db675fcd8f349b1815621bbc379599d": {
     "views": [
      {
       "cell_index": 37
      }
     ]
    },
    "8dcd474b307747cb894a861933cce1ab": {
     "views": [
      {
       "cell_index": 37
      }
     ]
    },
    "8e11134a85df42bd912d6253593ace8c": {
     "views": [
      {
       "cell_index": 37
      }
     ]
    },
    "8e2bf0ac85fb4d979032fafb41a0cd59": {
     "views": [
      {
       "cell_index": 37
      }
     ]
    },
    "8e3387d6d5c64887a369958b21238e28": {
     "views": [
      {
       "cell_index": 19
      }
     ]
    },
    "8e64805e859d4cfa928a956522f2d403": {
     "views": [
      {
       "cell_index": 18
      }
     ]
    },
    "8e952649bddc4c679bd9947927f2d7dc": {
     "views": [
      {
       "cell_index": 21
      }
     ]
    },
    "8eafafa26df24cebb8859f16430a2082": {
     "views": [
      {
       "cell_index": 21
      }
     ]
    },
    "8ebc4d3c962a455d8a5a2c5e93ad1e6a": {
     "views": [
      {
       "cell_index": 37
      }
     ]
    },
    "8ec9cd5a22994e9184fa00fe77e97b9e": {
     "views": [
      {
       "cell_index": 54
      }
     ]
    },
    "8edef3fff79242aca70bd59ebc58ee30": {
     "views": [
      {
       "cell_index": 16
      }
     ]
    },
    "8ee8ea81ae034a12b02d7ee980b084b4": {
     "views": [
      {
       "cell_index": 15
      }
     ]
    },
    "8f3e1f966efc49d591cd0c3d3d44fea0": {
     "views": [
      {
       "cell_index": 16
      }
     ]
    },
    "8f57ab0c05ce4e639331ce3985f7bb25": {
     "views": [
      {
       "cell_index": 34
      }
     ]
    },
    "8f6187fdba4142c4a1c0f2ff4170991c": {
     "views": [
      {
       "cell_index": 51
      }
     ]
    },
    "8f8daac2e01e4492b8d11f830bcbac05": {
     "views": [
      {
       "cell_index": 33
      }
     ]
    },
    "8fb23a222cd147d6831682261ec27850": {
     "views": [
      {
       "cell_index": 29
      }
     ]
    },
    "8fef1b11a8074821860102a6c2c2fa22": {
     "views": [
      {
       "cell_index": 54
      }
     ]
    },
    "8ff5bbbb2e4d464f9c48d5b14aad2639": {
     "views": [
      {
       "cell_index": 31
      }
     ]
    },
    "90268fa1cadf49628c344b388e3a52e7": {
     "views": [
      {
       "cell_index": 16
      }
     ]
    },
    "90916ddd604743928c8d4ca74717220a": {
     "views": [
      {
       "cell_index": 16
      }
     ]
    },
    "90b179cd235e49829c910bed5f7a3391": {
     "views": [
      {
       "cell_index": 21
      }
     ]
    },
    "90c143a1b6b3462ca524b5ab7d5b9b52": {
     "views": [
      {
       "cell_index": 33
      }
     ]
    },
    "90db02c3cd8a4e3095e95792075b5a14": {
     "views": [
      {
       "cell_index": 21
      }
     ]
    },
    "9101415f2ca44b6f81c595427e46e54e": {
     "views": [
      {
       "cell_index": 19
      }
     ]
    },
    "910792da744c4054a1b9f200e579e825": {
     "views": [
      {
       "cell_index": 37
      }
     ]
    },
    "916033180bc3413590aec4f102dc0f6f": {
     "views": [
      {
       "cell_index": 37
      }
     ]
    },
    "91a23d1ebe1a40f0a6f1a93cc0898a81": {
     "views": [
      {
       "cell_index": 29
      }
     ]
    },
    "91aa8f80013c47948c4fcb391e1576ad": {
     "views": [
      {
       "cell_index": 37
      }
     ]
    },
    "91ac1dfa7b8a44d1bad1a18f6c2ffb5b": {
     "views": [
      {
       "cell_index": 18
      }
     ]
    },
    "9246c2f5408843a39776d1188d859418": {
     "views": [
      {
       "cell_index": 37
      }
     ]
    },
    "9275724866ef4140a0e27b85613740b8": {
     "views": [
      {
       "cell_index": 37
      }
     ]
    },
    "928f9c9dd54f4021bc88deff5d40dfb1": {
     "views": [
      {
       "cell_index": 37
      }
     ]
    },
    "93734b2b89ba413e94c98c45858f9f81": {
     "views": [
      {
       "cell_index": 37
      }
     ]
    },
    "939807723e1b47068d3314ff79881706": {
     "views": [
      {
       "cell_index": 21
      }
     ]
    },
    "93deba9a638448489b423f0ef93e3717": {
     "views": [
      {
       "cell_index": 37
      }
     ]
    },
    "93ef9bc5c215421d9617194c5bd42263": {
     "views": [
      {
       "cell_index": 37
      }
     ]
    },
    "941cf1dc70a84a6ab35069355b3f307c": {
     "views": [
      {
       "cell_index": 19
      }
     ]
    },
    "94373e6e46b94777af0f5b5597bd6b67": {
     "views": [
      {
       "cell_index": 16
      }
     ]
    },
    "948b1b5dff1847d6854d98e66a3c2262": {
     "views": [
      {
       "cell_index": 37
      }
     ]
    },
    "94930b50eafb40a4b6bc6267f486d52d": {
     "views": [
      {
       "cell_index": 37
      }
     ]
    },
    "94c25c8927dc4bc8958f0baa679c91e0": {
     "views": [
      {
       "cell_index": 37
      }
     ]
    },
    "95131eb62c3e42a194ad608319e73bcc": {
     "views": [
      {
       "cell_index": 15
      }
     ]
    },
    "9514e3958a30481bac4facba7a5609e0": {
     "views": [
      {
       "cell_index": 37
      }
     ]
    },
    "958d9a8e7c994f0cafe69617a5c2047a": {
     "views": [
      {
       "cell_index": 37
      }
     ]
    },
    "95e00ebade1547298b0e300c990f534a": {
     "views": [
      {
       "cell_index": 37
      }
     ]
    },
    "95e17261e4244f4b81f01592f28cce69": {
     "views": [
      {
       "cell_index": 13
      }
     ]
    },
    "9610fbe329174fa38069546975e046c8": {
     "views": [
      {
       "cell_index": 32
      }
     ]
    },
    "963d7e05bd044f25986d5d21b264924b": {
     "views": [
      {
       "cell_index": 14
      }
     ]
    },
    "96c4ed669de846b1b359e3d43e9fe7d9": {
     "views": [
      {
       "cell_index": 33
      }
     ]
    },
    "974ba06a192e44abae658f1d0ea20e41": {
     "views": [
      {
       "cell_index": 18
      }
     ]
    },
    "974bbe2ee26e46eab4a3a64665dd0955": {
     "views": [
      {
       "cell_index": 33
      }
     ]
    },
    "9866298d03a541ea82639499fb17c727": {
     "views": [
      {
       "cell_index": 31
      }
     ]
    },
    "988444ff471645099765b09953ef48f2": {
     "views": [
      {
       "cell_index": 37
      }
     ]
    },
    "98e75fb404b94c658a6d9eac59075696": {
     "views": [
      {
       "cell_index": 15
      }
     ]
    },
    "991dd83704fd4ce38a0d8417b0e572d5": {
     "views": [
      {
       "cell_index": 31
      }
     ]
    },
    "99556486c740428eb7ed86f386fccd0e": {
     "views": [
      {
       "cell_index": 37
      }
     ]
    },
    "9978fedb39d943ee801391f80b523779": {
     "views": [
      {
       "cell_index": 37
      }
     ]
    },
    "9a0a29364983478b9d4fffe9d2518fe3": {
     "views": [
      {
       "cell_index": 18
      }
     ]
    },
    "9a2922e4af514a9b92d8b772274abe7a": {
     "views": [
      {
       "cell_index": 37
      }
     ]
    },
    "9a37111fd4d4414190254b1779c42fc7": {
     "views": [
      {
       "cell_index": 37
      }
     ]
    },
    "9a857c43d3654e0ea7857ec2c2b5c36d": {
     "views": [
      {
       "cell_index": 37
      }
     ]
    },
    "9a901783beca466aacbca204f4660ab0": {
     "views": [
      {
       "cell_index": 37
      }
     ]
    },
    "9ad6d2e3219f44009407fa78a758dbca": {
     "views": [
      {
       "cell_index": 37
      }
     ]
    },
    "9b529399ef2a4e949b49b1dd8bd88255": {
     "views": [
      {
       "cell_index": 18
      }
     ]
    },
    "9b74f8aff1654521aa2f856bcba5e05a": {
     "views": [
      {
       "cell_index": 16
      }
     ]
    },
    "9b812a2a78ab484a87fa187834bfc62c": {
     "views": [
      {
       "cell_index": 16
      }
     ]
    },
    "9bcb25d5a2d14cc88adda6aa2a357e7e": {
     "views": [
      {
       "cell_index": 37
      }
     ]
    },
    "9be67d4048524746bd1d85849e490b02": {
     "views": [
      {
       "cell_index": 15
      }
     ]
    },
    "9c316eab1d1c4a0aae205fa928c563e1": {
     "views": [
      {
       "cell_index": 54
      }
     ]
    },
    "9c5e98ba7d164711a4f4d5739538fee6": {
     "views": [
      {
       "cell_index": 19
      }
     ]
    },
    "9ca9cde6449a44c29106ac85f28855cf": {
     "views": [
      {
       "cell_index": 14
      }
     ]
    },
    "9d494fd879304c05a1d80b113b16e869": {
     "views": [
      {
       "cell_index": 37
      }
     ]
    },
    "9d55c15d48ae4b0cb844f43023ecbc2d": {
     "views": [
      {
       "cell_index": 18
      }
     ]
    },
    "9d5a78971a124d298fcab35d58f9b567": {
     "views": [
      {
       "cell_index": 37
      }
     ]
    },
    "9ddff06409b34a55a056e546ae2661cb": {
     "views": [
      {
       "cell_index": 19
      }
     ]
    },
    "9e1dfb281bdc41299bcdbc21c2e8f010": {
     "views": [
      {
       "cell_index": 37
      }
     ]
    },
    "9e5782b702b7418f82499d5813f918e9": {
     "views": [
      {
       "cell_index": 19
      }
     ]
    },
    "9e72801ba06a4524a0151c24b0f0f2f2": {
     "views": [
      {
       "cell_index": 37
      }
     ]
    },
    "9eb5a1f651764766beeac8593645a4a5": {
     "views": [
      {
       "cell_index": 15
      }
     ]
    },
    "9ee2441a33d94b5ab1fc60ce405dd753": {
     "views": [
      {
       "cell_index": 13
      }
     ]
    },
    "9ee5a5e2b20f42ce85a97cfa945078b6": {
     "views": [
      {
       "cell_index": 21
      }
     ]
    },
    "9f1ed919c8cf445cbb6fcace22af9362": {
     "views": [
      {
       "cell_index": 14
      }
     ]
    },
    "9f338967d72a4363b2a0dde07834a6e3": {
     "views": [
      {
       "cell_index": 37
      }
     ]
    },
    "9f9dfabcb7584e8ea0176d5723d77b00": {
     "views": [
      {
       "cell_index": 31
      }
     ]
    },
    "a004e880a73f425e8836d4ca338d5783": {
     "views": [
      {
       "cell_index": 14
      }
     ]
    },
    "a04f67cf71f34ff993eb0d22a1270c39": {
     "views": [
      {
       "cell_index": 16
      }
     ]
    },
    "a06f5f42dab141b783390d2881e0bfe2": {
     "views": [
      {
       "cell_index": 29
      }
     ]
    },
    "a081845c0433471fac8e408a0ce19634": {
     "views": [
      {
       "cell_index": 15
      }
     ]
    },
    "a0b024eb841248a8a158417ab70ed67b": {
     "views": [
      {
       "cell_index": 37
      }
     ]
    },
    "a0bc504e1cde49c5923a4fc9cf091ab9": {
     "views": [
      {
       "cell_index": 29
      }
     ]
    },
    "a0cdbccff7324e9d8dcb381d13b6c004": {
     "views": [
      {
       "cell_index": 37
      }
     ]
    },
    "a0fc5f80cf0940948f6f13fc841aff06": {
     "views": [
      {
       "cell_index": 33
      }
     ]
    },
    "a11e27fac1ac4f7786a22b3a677d0e18": {
     "views": [
      {
       "cell_index": 37
      }
     ]
    },
    "a1320ce9288d4319b341b941f0601c16": {
     "views": [
      {
       "cell_index": 34
      }
     ]
    },
    "a213b82f9bc0428dab0571429f287125": {
     "views": [
      {
       "cell_index": 37
      }
     ]
    },
    "a2164c3513c947c693f80b3776f81701": {
     "views": [
      {
       "cell_index": 14
      }
     ]
    },
    "a2179d6715b94dfea4cb4b97d7085808": {
     "views": [
      {
       "cell_index": 37
      }
     ]
    },
    "a2448733a22545fdbc2e4cab8b7d35fc": {
     "views": [
      {
       "cell_index": 33
      }
     ]
    },
    "a2bc876bb2ff4d849e3dbba116540410": {
     "views": [
      {
       "cell_index": 29
      }
     ]
    },
    "a2c97b15d14c4f90aacea1a79a64fd89": {
     "views": [
      {
       "cell_index": 37
      }
     ]
    },
    "a3089026b3d445eb89ea3c830dd594aa": {
     "views": [
      {
       "cell_index": 21
      }
     ]
    },
    "a3339f7ac0d64f00901e293fef79bdf5": {
     "views": [
      {
       "cell_index": 51
      }
     ]
    },
    "a34f0c30b6704bb88af334b9f62779a0": {
     "views": [
      {
       "cell_index": 16
      }
     ]
    },
    "a36cffaa4f8842cf8406a7c83660644a": {
     "views": [
      {
       "cell_index": 14
      }
     ]
    },
    "a37c9cc9d9f9443ca2d929be4f36e55a": {
     "views": [
      {
       "cell_index": 21
      }
     ]
    },
    "a3bf6db9004e4d6b93ea1a1e20868afb": {
     "views": [
      {
       "cell_index": 31
      }
     ]
    },
    "a3da3f85ece5435a87571242e046e741": {
     "views": [
      {
       "cell_index": 37
      }
     ]
    },
    "a40697f169dd4874bacfcbf2b11d0307": {
     "views": [
      {
       "cell_index": 37
      }
     ]
    },
    "a465c1fe84cd4bc0aba21e4a119d0711": {
     "views": [
      {
       "cell_index": 21
      }
     ]
    },
    "a46e1a5e6df54fb6894db575e84a632b": {
     "views": [
      {
       "cell_index": 51
      }
     ]
    },
    "a48879e9b85c4f45abd38f68e2802a28": {
     "views": [
      {
       "cell_index": 33
      }
     ]
    },
    "a4aa097683f54372aeb8436a3e755ad6": {
     "views": [
      {
       "cell_index": 37
      }
     ]
    },
    "a51f5c61ab964e7db405f9c9fc688ea7": {
     "views": [
      {
       "cell_index": 37
      }
     ]
    },
    "a54ce4c8667f44fb950ca5073f9b7a69": {
     "views": [
      {
       "cell_index": 21
      }
     ]
    },
    "a5b3797b8f76492ab88e4a1809f7c715": {
     "views": [
      {
       "cell_index": 37
      }
     ]
    },
    "a5c7d47f963547bfae3bd883173287bf": {
     "views": [
      {
       "cell_index": 21
      }
     ]
    },
    "a5da1f589c8648478da6cae0cb83a495": {
     "views": [
      {
       "cell_index": 21
      }
     ]
    },
    "a6027c6e309a42a780fa136417de96db": {
     "views": [
      {
       "cell_index": 20
      }
     ]
    },
    "a638e9c9fd4f46adbef777c60a8ddbbb": {
     "views": [
      {
       "cell_index": 37
      }
     ]
    },
    "a655f36078434090a7f06669e1aab381": {
     "views": [
      {
       "cell_index": 21
      }
     ]
    },
    "a663b4fd831442bb96d46b3e5b9cc451": {
     "views": [
      {
       "cell_index": 37
      }
     ]
    },
    "a67e87b21300459987a2bb37e21428fd": {
     "views": [
      {
       "cell_index": 33
      }
     ]
    },
    "a6857b29bf23425ba1c40145fe59b3a4": {
     "views": [
      {
       "cell_index": 37
      }
     ]
    },
    "a74e49717ecf4352af4206c6cd3a437b": {
     "views": [
      {
       "cell_index": 21
      }
     ]
    },
    "a7787eb788f34ffa88e0d6bbbcf9bd01": {
     "views": [
      {
       "cell_index": 37
      }
     ]
    },
    "a7d4a7ed5244454190d882b64b74eec3": {
     "views": [
      {
       "cell_index": 37
      }
     ]
    },
    "a823663b73a441b387e026ccae298618": {
     "views": [
      {
       "cell_index": 9
      }
     ]
    },
    "a8455a19222548abb60b806efa022444": {
     "views": [
      {
       "cell_index": 37
      }
     ]
    },
    "a8cc3fd2cd844fa0ac3a6c8fdb070d95": {
     "views": [
      {
       "cell_index": 31
      }
     ]
    },
    "a8dbce3e1e054c479be9829f0c8da3fd": {
     "views": [
      {
       "cell_index": 33
      }
     ]
    },
    "a9d2d3f6c1254e1aab61a12022805991": {
     "views": [
      {
       "cell_index": 54
      }
     ]
    },
    "aa5780164f6c4fdc8cf47e097cd12177": {
     "views": [
      {
       "cell_index": 34
      }
     ]
    },
    "aaab8d6723504d6f97bc08004da38b09": {
     "views": [
      {
       "cell_index": 18
      }
     ]
    },
    "aac4fa6d1d784a3d8b69303901726dd7": {
     "views": [
      {
       "cell_index": 33
      }
     ]
    },
    "aaf6d505c3a7419baf0f2222d5b2b4d3": {
     "views": [
      {
       "cell_index": 54
      }
     ]
    },
    "ab388b29e2694e889526fe94d968e766": {
     "views": [
      {
       "cell_index": 32
      }
     ]
    },
    "ab54601f752b4edb97f9dda41075fbd7": {
     "views": [
      {
       "cell_index": 19
      }
     ]
    },
    "ab92704325cc4ba2ad88cfaddfad6824": {
     "views": [
      {
       "cell_index": 37
      }
     ]
    },
    "abc4c40ad278453fad2355d2f10b7a42": {
     "views": [
      {
       "cell_index": 15
      }
     ]
    },
    "ac8c12d69dbc4febb4bf5f263a897fb1": {
     "views": [
      {
       "cell_index": 31
      }
     ]
    },
    "ade05fff1a86479b81c9697b35174b4c": {
     "views": [
      {
       "cell_index": 39
      }
     ]
    },
    "ae02788a736d467db6e498642ba3662f": {
     "views": [
      {
       "cell_index": 37
      }
     ]
    },
    "ae2095cc3823474d8b25afcbf6266b26": {
     "views": [
      {
       "cell_index": 32
      }
     ]
    },
    "ae5deae41bc2485f97970c2106f05c7d": {
     "views": [
      {
       "cell_index": 37
      }
     ]
    },
    "ae66bcd0e33f4bb88a175dfced6cbe2e": {
     "views": [
      {
       "cell_index": 32
      }
     ]
    },
    "ae70a1a6173a414a9310df857b5b724a": {
     "views": [
      {
       "cell_index": 21
      }
     ]
    },
    "ae7492fb20ef4a18ba57dbff21f6b522": {
     "views": [
      {
       "cell_index": 33
      }
     ]
    },
    "af698e66608e4c549ca2a7ed014cca33": {
     "views": [
      {
       "cell_index": 33
      }
     ]
    },
    "af77543ff34b489c92b323dbda585740": {
     "views": [
      {
       "cell_index": 37
      }
     ]
    },
    "afcdb5c597a34782809c8760a41ebffb": {
     "views": [
      {
       "cell_index": 29
      }
     ]
    },
    "afd9243f6b65429aa6741637d945e28f": {
     "views": [
      {
       "cell_index": 29
      }
     ]
    },
    "afe13d8a44914093a44a9e489349ef1e": {
     "views": [
      {
       "cell_index": 31
      }
     ]
    },
    "afe5e589fd9f4bc4821c0075189cc545": {
     "views": [
      {
       "cell_index": 33
      }
     ]
    },
    "b0398bc122b94db991392404e88a3161": {
     "views": [
      {
       "cell_index": 16
      }
     ]
    },
    "b03f1a873a344a49b39b9815e06182ba": {
     "views": [
      {
       "cell_index": 21
      }
     ]
    },
    "b0f7a0e7a7474ad69a3d4bb2a80ec961": {
     "views": [
      {
       "cell_index": 37
      }
     ]
    },
    "b1834dc15d7b4f31b29abe49d4b9bdbc": {
     "views": [
      {
       "cell_index": 37
      }
     ]
    },
    "b18e1640bbb0433eae0ad79c131a5e29": {
     "views": [
      {
       "cell_index": 31
      }
     ]
    },
    "b1c0f13b56954b98bd9b1b2336758bd0": {
     "views": [
      {
       "cell_index": 37
      }
     ]
    },
    "b1c143342c8942109d6533112ff53504": {
     "views": [
      {
       "cell_index": 16
      }
     ]
    },
    "b1c1656332e242ab87dcac5f5f080465": {
     "views": [
      {
       "cell_index": 15
      }
     ]
    },
    "b23289a350084a16b91ea662e408c3c2": {
     "views": [
      {
       "cell_index": 29
      }
     ]
    },
    "b2419eb10e2448da8518fb3b16e35b1c": {
     "views": [
      {
       "cell_index": 18
      }
     ]
    },
    "b2680a4271fb4e7286c45d514961532a": {
     "views": [
      {
       "cell_index": 33
      }
     ]
    },
    "b290b23babb543b1b80686db79712bd1": {
     "views": [
      {
       "cell_index": 19
      }
     ]
    },
    "b3dfca11f3684d36abec4c04f59695f0": {
     "views": [
      {
       "cell_index": 15
      }
     ]
    },
    "b3e6d77ad0024dc880912acf7ef99dc7": {
     "views": [
      {
       "cell_index": 15
      }
     ]
    },
    "b4101be1b88f4bf5821bf098e4fc1225": {
     "views": [
      {
       "cell_index": 33
      }
     ]
    },
    "b42e5bab139a4567a2cc37d570805bfb": {
     "views": [
      {
       "cell_index": 19
      }
     ]
    },
    "b45d06a8c8aa4585aacc3cdacff36638": {
     "views": [
      {
       "cell_index": 37
      }
     ]
    },
    "b47388abb6f74637b357c7b1f1fa596f": {
     "views": [
      {
       "cell_index": 37
      }
     ]
    },
    "b4e636d0a7f348f390eec27d5ebf532a": {
     "views": [
      {
       "cell_index": 15
      }
     ]
    },
    "b58ad2538aa245088f451f965b7bfa60": {
     "views": [
      {
       "cell_index": 37
      }
     ]
    },
    "b59af1cd24c4446bb5f929ef7c38feaa": {
     "views": [
      {
       "cell_index": 33
      }
     ]
    },
    "b5ee7cc7e8b542e9b717f8a1d9fff934": {
     "views": [
      {
       "cell_index": 37
      }
     ]
    },
    "b612b581016c48a0a37a23c04975b3d3": {
     "views": [
      {
       "cell_index": 37
      }
     ]
    },
    "b65f90a6012545b09710cdf9f6d89928": {
     "views": [
      {
       "cell_index": 37
      }
     ]
    },
    "b664f1d9ff184564811ee9988599fd5b": {
     "views": [
      {
       "cell_index": 31
      }
     ]
    },
    "b67175ce9eb54e6894479c403c145188": {
     "views": [
      {
       "cell_index": 14
      }
     ]
    },
    "b6e52223cc004c8a902893fbff3e3816": {
     "views": [
      {
       "cell_index": 54
      }
     ]
    },
    "b7af8b599cbf4725b02795585b83e696": {
     "views": [
      {
       "cell_index": 37
      }
     ]
    },
    "b7dd9a5d4f584595bece30ff555dfb0c": {
     "views": [
      {
       "cell_index": 19
      }
     ]
    },
    "b7f0135d6ba94feb84b2d0383c1e809b": {
     "views": [
      {
       "cell_index": 31
      }
     ]
    },
    "b815e2d08650428d95f9bec46f22fc1b": {
     "views": [
      {
       "cell_index": 37
      }
     ]
    },
    "b844856f785a486ebc6bda616e5f7e17": {
     "views": [
      {
       "cell_index": 29
      }
     ]
    },
    "b851db33218449c8b145bfdcde41ef05": {
     "views": [
      {
       "cell_index": 37
      }
     ]
    },
    "b8725faed68c4be98de6a8c287abd718": {
     "views": [
      {
       "cell_index": 19
      }
     ]
    },
    "b8920ab3eab747a2943a168b92a1739f": {
     "views": [
      {
       "cell_index": 37
      }
     ]
    },
    "b8e729550aed464986e0fc0785397874": {
     "views": [
      {
       "cell_index": 37
      }
     ]
    },
    "b919a314310f4e8581be7070f5ab459d": {
     "views": [
      {
       "cell_index": 21
      }
     ]
    },
    "b9b12daa6bc747ff942fafa3c032a71d": {
     "views": [
      {
       "cell_index": 37
      }
     ]
    },
    "ba0579dd5c1044c39ee3444d4f9c39d9": {
     "views": [
      {
       "cell_index": 37
      }
     ]
    },
    "ba17bbb3268941bf97948c15925a97c4": {
     "views": [
      {
       "cell_index": 21
      }
     ]
    },
    "ba4178aea476440e8675e40e3c05f497": {
     "views": [
      {
       "cell_index": 18
      }
     ]
    },
    "ba4fb2c466d640ddba8da412a373442f": {
     "views": [
      {
       "cell_index": 34
      }
     ]
    },
    "ba89a8531a0146659f15807bff00368e": {
     "views": [
      {
       "cell_index": 37
      }
     ]
    },
    "bab855e6017f4d668ded9eca6cbc373b": {
     "views": [
      {
       "cell_index": 19
      }
     ]
    },
    "bad6c977779543018c05848de62c34a6": {
     "views": [
      {
       "cell_index": 15
      }
     ]
    },
    "bae56bbcc0c74903a2ede8e76c006e5b": {
     "views": [
      {
       "cell_index": 21
      }
     ]
    },
    "baef50e966cb4951bb3ecada27f6ac97": {
     "views": [
      {
       "cell_index": 37
      }
     ]
    },
    "baf86a90bea74c1693f8420fc81568a6": {
     "views": [
      {
       "cell_index": 37
      }
     ]
    },
    "bb1415084c9944d5b98f7cabc2d848a0": {
     "views": [
      {
       "cell_index": 54
      }
     ]
    },
    "bb15a297e1e74ed49e3ada838ef08650": {
     "views": [
      {
       "cell_index": 19
      }
     ]
    },
    "bb34bd9c76644d68aa7e10b91d9b5840": {
     "views": [
      {
       "cell_index": 54
      }
     ]
    },
    "bb780ff2b746415087a9b20210f0b5bc": {
     "views": [
      {
       "cell_index": 37
      }
     ]
    },
    "bbc9e789e0ea4cc681cb0679ba25f6b4": {
     "views": [
      {
       "cell_index": 21
      }
     ]
    },
    "bc42a6805eda448584b6ca758e2df7d1": {
     "views": [
      {
       "cell_index": 31
      }
     ]
    },
    "bc79a6f7dda1422c8aa0bd73a2a373a8": {
     "views": [
      {
       "cell_index": 29
      }
     ]
    },
    "bc9fe2d1b58d4ffc9f8caedfa3edf9cb": {
     "views": [
      {
       "cell_index": 37
      }
     ]
    },
    "bcb8d31010dc4c89853858f986c50204": {
     "views": [
      {
       "cell_index": 19
      }
     ]
    },
    "bccf5ff0fd2f4c3d9e24dd49873cb7e8": {
     "views": [
      {
       "cell_index": 37
      }
     ]
    },
    "bcd6d85c071b437f876a7461c5a9eae5": {
     "views": [
      {
       "cell_index": 16
      }
     ]
    },
    "bcfc5b1ed4ec44c2a69a87d659d2e0c3": {
     "views": [
      {
       "cell_index": 19
      }
     ]
    },
    "bd26d95684aa41ce8e4c2b05c7bd98d4": {
     "views": [
      {
       "cell_index": 27
      }
     ]
    },
    "bd6b8a5b5fe0449795324ddf3a328ff6": {
     "views": [
      {
       "cell_index": 15
      }
     ]
    },
    "bd86a99fa6144db885278715dc8a551b": {
     "views": [
      {
       "cell_index": 37
      }
     ]
    },
    "bd9e7ec979574b49836a0065542f581a": {
     "views": [
      {
       "cell_index": 37
      }
     ]
    },
    "bde8ae67e8a545cab239fe9a19c3fecf": {
     "views": [
      {
       "cell_index": 37
      }
     ]
    },
    "be3264a114e74e498b56a79fbf08494b": {
     "views": [
      {
       "cell_index": 37
      }
     ]
    },
    "be41bc675a13485aa41d0bef6240e363": {
     "views": [
      {
       "cell_index": 37
      }
     ]
    },
    "be54eac707944b12aad5ddb9fd4239a4": {
     "views": [
      {
       "cell_index": 29
      }
     ]
    },
    "beb08972d6da4bf8bedf23c326c3c270": {
     "views": [
      {
       "cell_index": 37
      }
     ]
    },
    "bed765a522d046c4a03e4ee2554dca3c": {
     "views": [
      {
       "cell_index": 37
      }
     ]
    },
    "beef400b6e87444582ccbf28d3257dc2": {
     "views": [
      {
       "cell_index": 21
      }
     ]
    },
    "befe0e4fe3904d91969a3366681c5bd4": {
     "views": [
      {
       "cell_index": 37
      }
     ]
    },
    "bf21740252464b4db922208ef2a9aac2": {
     "views": [
      {
       "cell_index": 37
      }
     ]
    },
    "bf2be0f272574480bed8d47b713886a3": {
     "views": [
      {
       "cell_index": 37
      }
     ]
    },
    "bf9aef1180c84b17a3cbfe93f881279e": {
     "views": [
      {
       "cell_index": 37
      }
     ]
    },
    "bfbe4dab96ab4a61b41bfa3716c61d94": {
     "views": [
      {
       "cell_index": 21
      }
     ]
    },
    "bfe0bcb867294b78bc1b9eaa612f1686": {
     "views": [
      {
       "cell_index": 18
      }
     ]
    },
    "c052fe5cc64446c08100d2feead5db78": {
     "views": [
      {
       "cell_index": 18
      }
     ]
    },
    "c058fbfb02ef4438a56cc07fb4772873": {
     "views": [
      {
       "cell_index": 37
      }
     ]
    },
    "c08480439ad4446ea7f04404821e76f0": {
     "views": [
      {
       "cell_index": 19
      }
     ]
    },
    "c094453e028a4a739c7f890617b02aa1": {
     "views": [
      {
       "cell_index": 29
      }
     ]
    },
    "c0f723053be84164b0e2d1dc955c0af6": {
     "views": [
      {
       "cell_index": 37
      }
     ]
    },
    "c0fec65132ae4faebd912e84f49ea4fd": {
     "views": [
      {
       "cell_index": 37
      }
     ]
    },
    "c110446656b84a6799a58e975e5a2883": {
     "views": [
      {
       "cell_index": 37
      }
     ]
    },
    "c119c2bf853b4e78906db70e175daab2": {
     "views": [
      {
       "cell_index": 22
      }
     ]
    },
    "c1458f2c47f941148cc8e11c5a2cffb8": {
     "views": [
      {
       "cell_index": 37
      }
     ]
    },
    "c15df179b69b404fb60485001c97578f": {
     "views": [
      {
       "cell_index": 33
      }
     ]
    },
    "c160f284f9f0496cb06cf6f54b12379d": {
     "views": [
      {
       "cell_index": 37
      }
     ]
    },
    "c17e77833f014f1d8664cd3e51118149": {
     "views": [
      {
       "cell_index": 14
      }
     ]
    },
    "c181ff882a484ff491a728f313793cc9": {
     "views": [
      {
       "cell_index": 18
      }
     ]
    },
    "c1a7aa641ef441f385c747b2069f60c0": {
     "views": [
      {
       "cell_index": 15
      }
     ]
    },
    "c1c2db72d59c44d18932470c407adbda": {
     "views": [
      {
       "cell_index": 37
      }
     ]
    },
    "c249325a3e9f495bb35588a89a1533a9": {
     "views": [
      {
       "cell_index": 33
      }
     ]
    },
    "c31812f25f384893ab8788c95da5795f": {
     "views": [
      {
       "cell_index": 37
      }
     ]
    },
    "c318aaa115a4459ebe8570fb1b652a74": {
     "views": [
      {
       "cell_index": 16
      }
     ]
    },
    "c3ddc28f1e114bdb97d3886d439be350": {
     "views": [
      {
       "cell_index": 37
      }
     ]
    },
    "c4017f8f7e914b3a8f7bf873370b9928": {
     "views": [
      {
       "cell_index": 37
      }
     ]
    },
    "c40a44f5aae14d88b02dee3135d7c3a4": {
     "views": [
      {
       "cell_index": 33
      }
     ]
    },
    "c414afcf3e6c4ee1b9e00abb686296f9": {
     "views": [
      {
       "cell_index": 33
      }
     ]
    },
    "c41c889c4ab5452998d9b1b3d6dfa3e5": {
     "views": [
      {
       "cell_index": 37
      }
     ]
    },
    "c48d21194cfe4903b1537215760d89d8": {
     "views": [
      {
       "cell_index": 34
      }
     ]
    },
    "c4b17d16940b4b77b53643606bab465c": {
     "views": [
      {
       "cell_index": 37
      }
     ]
    },
    "c4ee48d5cb864e02a9cac0ca2005ee95": {
     "views": [
      {
       "cell_index": 33
      }
     ]
    },
    "c5167051443040c4af1e04ce8f62e3a1": {
     "views": [
      {
       "cell_index": 19
      }
     ]
    },
    "c5520304beb5408ba4f9d41422ad3ca8": {
     "views": [
      {
       "cell_index": 33
      }
     ]
    },
    "c5927322f42744d88ecbf8b8fe41037d": {
     "views": [
      {
       "cell_index": 31
      }
     ]
    },
    "c59eda8be68c4425805519165b5c3ea5": {
     "views": [
      {
       "cell_index": 21
      }
     ]
    },
    "c5a01331238a4e60a44b9de1b64beea4": {
     "views": [
      {
       "cell_index": 37
      }
     ]
    },
    "c62832f8e3cc46568fc475320e541102": {
     "views": [
      {
       "cell_index": 37
      }
     ]
    },
    "c654ecf0dba94584841f645078798baf": {
     "views": [
      {
       "cell_index": 37
      }
     ]
    },
    "c66324d455634967ac977f0e02ebfc47": {
     "views": [
      {
       "cell_index": 15
      }
     ]
    },
    "c683b69ff69d41018775a938a5fcc365": {
     "views": [
      {
       "cell_index": 37
      }
     ]
    },
    "c6f949cad4c04b0f84dfc00755ff260a": {
     "views": [
      {
       "cell_index": 37
      }
     ]
    },
    "c714f6ae828b4a4d8f1fb58085fe1ae7": {
     "views": [
      {
       "cell_index": 37
      }
     ]
    },
    "c740e756731d445a8e03bbd2f468b368": {
     "views": [
      {
       "cell_index": 31
      }
     ]
    },
    "c774dfefad334479aea08da0ce2afc4b": {
     "views": [
      {
       "cell_index": 29
      }
     ]
    },
    "c7825b56ec484445b5b61a1e3f0243b9": {
     "views": [
      {
       "cell_index": 15
      }
     ]
    },
    "c7e71ddebfb44692be09c07a9854e609": {
     "views": [
      {
       "cell_index": 37
      }
     ]
    },
    "c7eca7d998d04fb7b7493e47a6abd881": {
     "views": [
      {
       "cell_index": 15
      }
     ]
    },
    "c7fd939c494c4bac978496bcd23c0898": {
     "views": [
      {
       "cell_index": 37
      }
     ]
    },
    "c82e45de644d4a508680c4dbed0a5bd4": {
     "views": [
      {
       "cell_index": 16
      }
     ]
    },
    "c837548e793c4d639c735fa04c9e3734": {
     "views": [
      {
       "cell_index": 18
      }
     ]
    },
    "c84b705c55aa431596f93f58fccf4fc2": {
     "views": [
      {
       "cell_index": 19
      }
     ]
    },
    "c8547a2904694e4db6b244768ae6db38": {
     "views": [
      {
       "cell_index": 14
      }
     ]
    },
    "c85d61324e894155a5a0f35a68361aa8": {
     "views": [
      {
       "cell_index": 37
      }
     ]
    },
    "c86b206e26a949e5ac6b4405dd2fd4dd": {
     "views": [
      {
       "cell_index": 37
      }
     ]
    },
    "c8a4405b9ade49f7b871f0412cde78d5": {
     "views": [
      {
       "cell_index": 29
      }
     ]
    },
    "c8ee821121054fbf81c2df1789ccb04a": {
     "views": [
      {
       "cell_index": 13
      }
     ]
    },
    "c8f7d8b264f54cca92df4c61022d1333": {
     "views": [
      {
       "cell_index": 33
      }
     ]
    },
    "c91b56bc23bf48caaafae2aaac7292c8": {
     "views": [
      {
       "cell_index": 37
      }
     ]
    },
    "c947ac519f574e00ab0b0e3aaa7550b6": {
     "views": [
      {
       "cell_index": 34
      }
     ]
    },
    "c97f3a188fb34fd8a69e6d8b48e07513": {
     "views": [
      {
       "cell_index": 37
      }
     ]
    },
    "c99f9b84bde545a6b38611098068a2b7": {
     "views": [
      {
       "cell_index": 37
      }
     ]
    },
    "ca6cd8eccfe04dae9bd5887ed3a4495f": {
     "views": [
      {
       "cell_index": 37
      }
     ]
    },
    "ca8a4684caa04a0ab9a097138275ed59": {
     "views": [
      {
       "cell_index": 37
      }
     ]
    },
    "caa5b0d62d3b4543ab53cf2a557757e6": {
     "views": [
      {
       "cell_index": 37
      }
     ]
    },
    "cb5d294b2e854597b38637344fd9568d": {
     "views": [
      {
       "cell_index": 19
      }
     ]
    },
    "cb92c4e3c912401487421cb2e8388081": {
     "views": [
      {
       "cell_index": 16
      }
     ]
    },
    "cbe019b7ecdc4e88a5198ba6946d5316": {
     "views": [
      {
       "cell_index": 37
      }
     ]
    },
    "cbfa7dd5f8ab44a482474b64fc66fb46": {
     "views": [
      {
       "cell_index": 37
      }
     ]
    },
    "cc121a7bbfd84fd6b46cbf25e54d10fb": {
     "views": [
      {
       "cell_index": 15
      }
     ]
    },
    "cc5dd7fa4fe04e4895878c1e491864c7": {
     "views": [
      {
       "cell_index": 37
      }
     ]
    },
    "cc8855e51b4d4b8b8bdf1c2ad049bd2b": {
     "views": [
      {
       "cell_index": 31
      }
     ]
    },
    "cc8cd729e65944bbbdd24838851f290e": {
     "views": [
      {
       "cell_index": 37
      }
     ]
    },
    "ccb5befca35d4e8bb2965a7e8bd005d8": {
     "views": [
      {
       "cell_index": 29
      }
     ]
    },
    "ccdc09d3b0954f4e9eb034340d5f94c7": {
     "views": [
      {
       "cell_index": 19
      }
     ]
    },
    "cd0825991eb047688953c1648b36c8cd": {
     "views": [
      {
       "cell_index": 34
      }
     ]
    },
    "cd6755ae0b3b4402ba78386e40dc0e00": {
     "views": [
      {
       "cell_index": 37
      }
     ]
    },
    "cde89085254743ce9e99236f1d7d3f48": {
     "views": [
      {
       "cell_index": 37
      }
     ]
    },
    "ce1d11aa96274925bf939890ce2809ab": {
     "views": [
      {
       "cell_index": 37
      }
     ]
    },
    "ce4cbbaab01e47b9893d5dc44eccb754": {
     "views": [
      {
       "cell_index": 19
      }
     ]
    },
    "ced9ff0112354e42bc8e89ad1bd0b3b3": {
     "views": [
      {
       "cell_index": 16
      }
     ]
    },
    "cee67d9c9b9344d9a8904747ee119d70": {
     "views": [
      {
       "cell_index": 37
      }
     ]
    },
    "ceefeee8a1504ea4be7612a209b95928": {
     "views": [
      {
       "cell_index": 19
      }
     ]
    },
    "cf45ccbcaa074de0beb293f939cd13ce": {
     "views": [
      {
       "cell_index": 37
      }
     ]
    },
    "cf591a98ca054e86877ab7f17f0e5662": {
     "views": [
      {
       "cell_index": 37
      }
     ]
    },
    "cf64dcde2c0f421984fa2f8fa8e7e5c9": {
     "views": [
      {
       "cell_index": 37
      }
     ]
    },
    "cf79c322c5f54592975135aa192d61a4": {
     "views": [
      {
       "cell_index": 16
      }
     ]
    },
    "cfa3d8207f9449c3b62bbad4b7f88ed8": {
     "views": [
      {
       "cell_index": 18
      }
     ]
    },
    "cffefd5566dc473ca0dc5c88f28eab91": {
     "views": [
      {
       "cell_index": 37
      }
     ]
    },
    "d058311e4b39444d8c6105bf7952e6f9": {
     "views": [
      {
       "cell_index": 37
      }
     ]
    },
    "d0bce1f4edfd40119e9f3d507c94e429": {
     "views": [
      {
       "cell_index": 19
      }
     ]
    },
    "d133f82ef2494442a6e2a56422764d29": {
     "views": [
      {
       "cell_index": 37
      }
     ]
    },
    "d1a8be2450f34372ab6d551cdc0d250a": {
     "views": [
      {
       "cell_index": 15
      }
     ]
    },
    "d200cba2c569495c84b87d10104cd49f": {
     "views": [
      {
       "cell_index": 16
      }
     ]
    },
    "d23a0c4213c24924974a086956f514db": {
     "views": [
      {
       "cell_index": 37
      }
     ]
    },
    "d29bb01af7304a5598e4900d7045c5f7": {
     "views": [
      {
       "cell_index": 33
      }
     ]
    },
    "d3021d4d6e234b869c4e8f3ec0449b44": {
     "views": [
      {
       "cell_index": 54
      }
     ]
    },
    "d3269ea0c3de4bc3b15898847bf5a9d4": {
     "views": [
      {
       "cell_index": 15
      }
     ]
    },
    "d37d24d66a0c4efa9b356846bdbf16cb": {
     "views": [
      {
       "cell_index": 27
      }
     ]
    },
    "d383a538f835487786d4c02bfc18eca5": {
     "views": [
      {
       "cell_index": 37
      }
     ]
    },
    "d3a02d40cecc4320ac1b43fb01f51fce": {
     "views": [
      {
       "cell_index": 37
      }
     ]
    },
    "d3f3fe26d21e4e6f853fafa7d67829a2": {
     "views": [
      {
       "cell_index": 31
      }
     ]
    },
    "d4177e5c599f48a2ac22c110c38fd2aa": {
     "views": [
      {
       "cell_index": 15
      }
     ]
    },
    "d424604688f245d8a9b471778e8a0acb": {
     "views": [
      {
       "cell_index": 29
      }
     ]
    },
    "d44d9bf3616049b0a26f5be2760169b8": {
     "views": [
      {
       "cell_index": 37
      }
     ]
    },
    "d45759b5a61a4ccbab16fbe01b3d47e1": {
     "views": [
      {
       "cell_index": 37
      }
     ]
    },
    "d46fb4f5cc3e47bba0a1b2d219bbf6a8": {
     "views": [
      {
       "cell_index": 14
      }
     ]
    },
    "d48ee78f26ed403f80bf1e9c93d357a3": {
     "views": [
      {
       "cell_index": 19
      }
     ]
    },
    "d4bd5a1f8ad840c8ad78a591670a8351": {
     "views": [
      {
       "cell_index": 37
      }
     ]
    },
    "d4e764099334471690f40c8c5dbcd814": {
     "views": [
      {
       "cell_index": 37
      }
     ]
    },
    "d543e058551f4bbb8c347de7979a97db": {
     "views": [
      {
       "cell_index": 19
      }
     ]
    },
    "d54955c971494b70a630001cddf4957c": {
     "views": [
      {
       "cell_index": 29
      }
     ]
    },
    "d5a52b9ba9364bd0a9eff28d310b66cd": {
     "views": [
      {
       "cell_index": 16
      }
     ]
    },
    "d6186de4279c400393bf980900aa61c5": {
     "views": [
      {
       "cell_index": 21
      }
     ]
    },
    "d637645c8b8c4c71a24923b964a00f1c": {
     "views": [
      {
       "cell_index": 29
      }
     ]
    },
    "d67188aee19b49b68c879dbaaf44313c": {
     "views": [
      {
       "cell_index": 19
      }
     ]
    },
    "d679e72e6ddb412bb71983e74b442a27": {
     "views": [
      {
       "cell_index": 31
      }
     ]
    },
    "d694b5fc06404f4da4361a8a3c0e86fe": {
     "views": [
      {
       "cell_index": 37
      }
     ]
    },
    "d6d2fbb0bca549c1ad6546b75ab3cfbd": {
     "views": [
      {
       "cell_index": 19
      }
     ]
    },
    "d6e5c9b743ca4c0cbc44ee7acfb5428c": {
     "views": [
      {
       "cell_index": 37
      }
     ]
    },
    "d7574002113f4e568343daa1cf13547f": {
     "views": [
      {
       "cell_index": 15
      }
     ]
    },
    "d77a9104cbbb4b16893075d35d35e829": {
     "views": [
      {
       "cell_index": 33
      }
     ]
    },
    "d796cb0473434db5973a24dd68bd297f": {
     "views": [
      {
       "cell_index": 27
      }
     ]
    },
    "d79ae8783345429fbfd2521541e54317": {
     "views": [
      {
       "cell_index": 21
      }
     ]
    },
    "d7bf00aade814763ad970446317653f1": {
     "views": [
      {
       "cell_index": 37
      }
     ]
    },
    "d7e0e5fb65244fbca4fb3640d3c2b784": {
     "views": [
      {
       "cell_index": 37
      }
     ]
    },
    "d7e2bb189916404c85f23bb9d33939e1": {
     "views": [
      {
       "cell_index": 16
      }
     ]
    },
    "d7f135083a884b9d859502314e9ea6dc": {
     "views": [
      {
       "cell_index": 16
      }
     ]
    },
    "d80de6a311df4c5582f70c970d43743e": {
     "views": [
      {
       "cell_index": 15
      }
     ]
    },
    "d815d1fb8f784877b720fcba446827fa": {
     "views": [
      {
       "cell_index": 37
      }
     ]
    },
    "d8347f44151744b4a7409425fcfb4c1c": {
     "views": [
      {
       "cell_index": 14
      }
     ]
    },
    "d84e1ce4932e453c91d3196b72d7b150": {
     "views": [
      {
       "cell_index": 16
      }
     ]
    },
    "d8cc8031e7dc4e958d5816d14ed2f4b0": {
     "views": [
      {
       "cell_index": 16
      }
     ]
    },
    "d8d66a8243e44b789377b025a1ab685b": {
     "views": [
      {
       "cell_index": 14
      }
     ]
    },
    "d8efe9369a4a442caa1436b444f25633": {
     "views": [
      {
       "cell_index": 37
      }
     ]
    },
    "d8f47afa167943f78da793c6f0749186": {
     "views": [
      {
       "cell_index": 37
      }
     ]
    },
    "d8ff143026e84fc1b478721e5d42626d": {
     "views": [
      {
       "cell_index": 33
      }
     ]
    },
    "d903e2888fe54718a56c61af4a174395": {
     "views": [
      {
       "cell_index": 19
      }
     ]
    },
    "d90cc0870bcb40f79a60bd75546be430": {
     "views": [
      {
       "cell_index": 33
      }
     ]
    },
    "d97eecf0c8734b24bfa868f061131cfb": {
     "views": [
      {
       "cell_index": 37
      }
     ]
    },
    "d9c21532a5844647b582dbb83fcaf5eb": {
     "views": [
      {
       "cell_index": 37
      }
     ]
    },
    "d9e1236bfa2940288b47724be17d1bf1": {
     "views": [
      {
       "cell_index": 31
      }
     ]
    },
    "d9f1c6578f754e5a90146b943e2003fc": {
     "views": [
      {
       "cell_index": 21
      }
     ]
    },
    "d9fb7b1e9ae94ed2a0e23d011ee5f808": {
     "views": [
      {
       "cell_index": 19
      }
     ]
    },
    "d9fff90a87854e5e81fc1a4f6c2f46db": {
     "views": [
      {
       "cell_index": 18
      }
     ]
    },
    "da074276a4624b8cb6cbe5e920726363": {
     "views": [
      {
       "cell_index": 37
      }
     ]
    },
    "da54b026ab7441cdadf2f460000cff27": {
     "views": [
      {
       "cell_index": 15
      }
     ]
    },
    "da6766ba82ac4237b500efec0817c90b": {
     "views": [
      {
       "cell_index": 19
      }
     ]
    },
    "da7d3a685fd04338bc88926ae272f2ac": {
     "views": [
      {
       "cell_index": 37
      }
     ]
    },
    "da808334d407429b91c2e497b629e391": {
     "views": [
      {
       "cell_index": 51
      }
     ]
    },
    "db33df66af1a47848bc4f97ef8d21e6c": {
     "views": [
      {
       "cell_index": 15
      }
     ]
    },
    "db44932d82b547eca0d58d61413d65e0": {
     "views": [
      {
       "cell_index": 18
      }
     ]
    },
    "db479b4335d143c6a65ece93f27bec13": {
     "views": [
      {
       "cell_index": 37
      }
     ]
    },
    "db6bc01cc7324a7b85ec29b153f30129": {
     "views": [
      {
       "cell_index": 18
      }
     ]
    },
    "db8ce9195530412a8bb24ef7eb534139": {
     "views": [
      {
       "cell_index": 27
      }
     ]
    },
    "db9980e2f3824cefaed12da8392b0ae2": {
     "views": [
      {
       "cell_index": 18
      }
     ]
    },
    "dbbe45f3cd25479eb91c7d97a3ff3d43": {
     "views": [
      {
       "cell_index": 34
      }
     ]
    },
    "dbe81f6ba148466893ed676bbc00ce5a": {
     "views": [
      {
       "cell_index": 37
      }
     ]
    },
    "dbf3a77562e7487fb74cbb752489ba8d": {
     "views": [
      {
       "cell_index": 37
      }
     ]
    },
    "dc073efab3cc41cfb9ed0c67acd56d64": {
     "views": [
      {
       "cell_index": 33
      }
     ]
    },
    "dc0d5f101c75417a853199c4291c1cbb": {
     "views": [
      {
       "cell_index": 37
      }
     ]
    },
    "dc4bfb9c9af74a0fa3634ecaadd05cc7": {
     "views": [
      {
       "cell_index": 33
      }
     ]
    },
    "dcb4d21233a8458181d04e7ee2771ae7": {
     "views": [
      {
       "cell_index": 37
      }
     ]
    },
    "dcf90b555e6743bcb6f9584edf337cf7": {
     "views": [
      {
       "cell_index": 37
      }
     ]
    },
    "dd0aff0b6b3c495aae08d70876431d18": {
     "views": [
      {
       "cell_index": 19
      }
     ]
    },
    "dd0dd7858f644f08912f3cc883bf463f": {
     "views": [
      {
       "cell_index": 33
      }
     ]
    },
    "dd4c755d7ff74ea9ad7f36f27a364421": {
     "views": [
      {
       "cell_index": 21
      }
     ]
    },
    "dd68a3c3746a4d77bea9759aad2e7fe1": {
     "views": [
      {
       "cell_index": 33
      }
     ]
    },
    "dda75ac7f6bb47ba92b30adcfeedb6eb": {
     "views": [
      {
       "cell_index": 37
      }
     ]
    },
    "dde4669685ff46588869c8e21773c7ab": {
     "views": [
      {
       "cell_index": 37
      }
     ]
    },
    "dde493b4b94e4501b4c7bcb5a6bd79f6": {
     "views": [
      {
       "cell_index": 16
      }
     ]
    },
    "dde5cdf02f224d07b0c8b0fc6db4b902": {
     "views": [
      {
       "cell_index": 37
      }
     ]
    },
    "ddeabc332a0449b08898cc16b1881713": {
     "views": [
      {
       "cell_index": 37
      }
     ]
    },
    "de17abdb292b4770af7df233dd4b36af": {
     "views": [
      {
       "cell_index": 33
      }
     ]
    },
    "de1f268c3c484d74a5d5f2d7cee6e7b1": {
     "views": [
      {
       "cell_index": 33
      }
     ]
    },
    "de29e989a0924cba8893925565d8b348": {
     "views": [
      {
       "cell_index": 29
      }
     ]
    },
    "de5616a9b052407198e1eb76f9c5aec4": {
     "views": [
      {
       "cell_index": 16
      }
     ]
    },
    "deaafb9be58b426594fc67e31c7e51b2": {
     "views": [
      {
       "cell_index": 37
      }
     ]
    },
    "deb8fb70b4ac435682c72bc737f55454": {
     "views": [
      {
       "cell_index": 27
      }
     ]
    },
    "dee143197d144e41bd7b2d3d7a7b8bbc": {
     "views": [
      {
       "cell_index": 18
      }
     ]
    },
    "df069592c28f440fa1348ce69967060f": {
     "views": [
      {
       "cell_index": 32
      }
     ]
    },
    "df51844e6ef047758c51cdd622fd456c": {
     "views": [
      {
       "cell_index": 37
      }
     ]
    },
    "df629965610a4a6ca4857d396a35371c": {
     "views": [
      {
       "cell_index": 32
      }
     ]
    },
    "df9720ea29254eebb87b2f341bd9c4fd": {
     "views": [
      {
       "cell_index": 37
      }
     ]
    },
    "dfc90e4558034934b1915d5ccb4778af": {
     "views": [
      {
       "cell_index": 29
      }
     ]
    },
    "dfd7f7337e084928b45b004b47f38d65": {
     "views": [
      {
       "cell_index": 33
      }
     ]
    },
    "dffe8b29403f401d9288aa9b2d4eec4e": {
     "views": [
      {
       "cell_index": 37
      }
     ]
    },
    "e005e0f5da994666ad5ef5ecf8369b6b": {
     "views": [
      {
       "cell_index": 37
      }
     ]
    },
    "e042a6f5b9e24bbdbabb4f85c9a553bc": {
     "views": [
      {
       "cell_index": 37
      }
     ]
    },
    "e05528ec84d14a94ae415d9265f7f599": {
     "views": [
      {
       "cell_index": 37
      }
     ]
    },
    "e072c81c9d6349c08108695806227aba": {
     "views": [
      {
       "cell_index": 21
      }
     ]
    },
    "e0fa66a30314415282e5a2db5a4ca1de": {
     "views": [
      {
       "cell_index": 29
      }
     ]
    },
    "e0fd563471594f9e87ef9520b888ee40": {
     "views": [
      {
       "cell_index": 33
      }
     ]
    },
    "e101cb9106014c0aa68e11dbee5f2119": {
     "views": [
      {
       "cell_index": 37
      }
     ]
    },
    "e157322bcd2248cabdb2558b7343b270": {
     "views": [
      {
       "cell_index": 29
      }
     ]
    },
    "e162aad72592493da713cd6198e791e4": {
     "views": [
      {
       "cell_index": 19
      }
     ]
    },
    "e17667aa72e94001949c42130869e783": {
     "views": [
      {
       "cell_index": 19
      }
     ]
    },
    "e1d12ca1721f491a868529a99d7825fd": {
     "views": [
      {
       "cell_index": 29
      }
     ]
    },
    "e1e74654f63345ceb6cfd7a7185fa09a": {
     "views": [
      {
       "cell_index": 37
      }
     ]
    },
    "e20c66e09b7449aba8c5fb9232c5b8de": {
     "views": [
      {
       "cell_index": 37
      }
     ]
    },
    "e269444b59d44a088979cf58358dad4f": {
     "views": [
      {
       "cell_index": 22
      }
     ]
    },
    "e2a626d6f67c40fb8d40cefc3d4a383a": {
     "views": [
      {
       "cell_index": 37
      }
     ]
    },
    "e2be6d0e980642bfbb6a6fcb75c52346": {
     "views": [
      {
       "cell_index": 37
      }
     ]
    },
    "e329f2340f6e45aea7b23b16baa8059b": {
     "views": [
      {
       "cell_index": 16
      }
     ]
    },
    "e3adcdf8fc6d4af693dfe8845de57a74": {
     "views": [
      {
       "cell_index": 21
      }
     ]
    },
    "e3dd4015960043319f2dd1509bccb8bc": {
     "views": [
      {
       "cell_index": 16
      }
     ]
    },
    "e438eb2f01b247d0873722b6c3354176": {
     "views": [
      {
       "cell_index": 31
      }
     ]
    },
    "e490df98da6941b1ba06af608a0e138b": {
     "views": [
      {
       "cell_index": 31
      }
     ]
    },
    "e4e22b9514244851b5893cce96a7f213": {
     "views": [
      {
       "cell_index": 29
      }
     ]
    },
    "e4f009499c484afba4dbcf4bb4d545f0": {
     "views": [
      {
       "cell_index": 37
      }
     ]
    },
    "e50007bbbeac416884f22f5e1853ace4": {
     "views": [
      {
       "cell_index": 29
      }
     ]
    },
    "e52797fe78424e38b6cd6e0f9f35cf5e": {
     "views": [
      {
       "cell_index": 33
      }
     ]
    },
    "e59f98958e1f47bbb491853ceab3ac22": {
     "views": [
      {
       "cell_index": 14
      }
     ]
    },
    "e64900ee81154ac2a8099af610e905a3": {
     "views": [
      {
       "cell_index": 37
      }
     ]
    },
    "e681baee08f044968767238134767813": {
     "views": [
      {
       "cell_index": 37
      }
     ]
    },
    "e6c0c03164cc4b4b8c76981dd7be95e6": {
     "views": [
      {
       "cell_index": 39
      }
     ]
    },
    "e75b4ce9596645fead6f1e697f888c1b": {
     "views": [
      {
       "cell_index": 37
      }
     ]
    },
    "e766bff6d6e84461a48c1f39d83cc04a": {
     "views": [
      {
       "cell_index": 29
      }
     ]
    },
    "e78ad01ed4b94ddfb82f29ec205f97db": {
     "views": [
      {
       "cell_index": 37
      }
     ]
    },
    "e78be0deb86d4310b5e012ce2305dfca": {
     "views": [
      {
       "cell_index": 16
      }
     ]
    },
    "e790eede7ef6463a82c6146ad4b06684": {
     "views": [
      {
       "cell_index": 18
      }
     ]
    },
    "e7d92d2aec5e46c0b6dd2e3282d26e7e": {
     "views": [
      {
       "cell_index": 37
      }
     ]
    },
    "e7f2894a9e334736b5c5f7bec80a2a01": {
     "views": [
      {
       "cell_index": 33
      }
     ]
    },
    "e830668485514c2c98edadb89305f332": {
     "views": [
      {
       "cell_index": 33
      }
     ]
    },
    "e84fd2290118489cad899ba492d788f8": {
     "views": [
      {
       "cell_index": 21
      }
     ]
    },
    "e8a42d4c9fd843a293c0a5c644040736": {
     "views": [
      {
       "cell_index": 37
      }
     ]
    },
    "e8c965c71f4a49bd95d6f9a5fe08f795": {
     "views": [
      {
       "cell_index": 29
      }
     ]
    },
    "e918ae90cab8436e846cbac1a016468f": {
     "views": [
      {
       "cell_index": 51
      }
     ]
    },
    "e91d9eee4d754a48b7c011f1c6a48546": {
     "views": [
      {
       "cell_index": 37
      }
     ]
    },
    "e941819a0b4f48a793b97673e66ac477": {
     "views": [
      {
       "cell_index": 19
      }
     ]
    },
    "e94fcb8c26714881825eb9b2e75b0853": {
     "views": [
      {
       "cell_index": 37
      }
     ]
    },
    "e9a815f8565a4d828dddc2f3cdff7dc3": {
     "views": [
      {
       "cell_index": 19
      }
     ]
    },
    "e9acb1daa79f40e18f82134e86125af9": {
     "views": [
      {
       "cell_index": 37
      }
     ]
    },
    "e9e2d422a48e4866be3b7c5b9873cd51": {
     "views": [
      {
       "cell_index": 21
      }
     ]
    },
    "e9e487ef6eba40a88e1424584a8278dd": {
     "views": [
      {
       "cell_index": 33
      }
     ]
    },
    "e9ea5466e1364457b7b2f16d2cec7083": {
     "views": [
      {
       "cell_index": 37
      }
     ]
    },
    "ea49072343a64ae6b02e8275aa283825": {
     "views": [
      {
       "cell_index": 37
      }
     ]
    },
    "ea526b5c14fb46dfa114e6783f5b622b": {
     "views": [
      {
       "cell_index": 37
      }
     ]
    },
    "ea68469dce7d4324b1d4304cb9bab01a": {
     "views": [
      {
       "cell_index": 51
      }
     ]
    },
    "eab1d60c2f8e4776a18bae451fecf8d9": {
     "views": [
      {
       "cell_index": 37
      }
     ]
    },
    "eab8c547d57a4fd9a121be0ebd083637": {
     "views": [
      {
       "cell_index": 15
      }
     ]
    },
    "eaca93494b7c4601b8bbdc075aaac9d9": {
     "views": [
      {
       "cell_index": 37
      }
     ]
    },
    "eb01dc1db4c1456b857f95f71d9c7572": {
     "views": [
      {
       "cell_index": 16
      }
     ]
    },
    "eb07c13c776b4cd69e53e9dea665119e": {
     "views": [
      {
       "cell_index": 18
      }
     ]
    },
    "eb19a1e3b1c24cd5994e6446f6a8fe14": {
     "views": [
      {
       "cell_index": 15
      }
     ]
    },
    "eb36b84a9fb94d17b24876fb45e99214": {
     "views": [
      {
       "cell_index": 51
      }
     ]
    },
    "eb971a3406414ed4b40e2b3d83b661b7": {
     "views": [
      {
       "cell_index": 15
      }
     ]
    },
    "eba564a278b04865818148c21f69ab2a": {
     "views": [
      {
       "cell_index": 37
      }
     ]
    },
    "ebb9b4ec28fe441e857774648dd5084d": {
     "views": [
      {
       "cell_index": 15
      }
     ]
    },
    "ebce311d73014b25a2b2dc260ec34711": {
     "views": [
      {
       "cell_index": 18
      }
     ]
    },
    "ebeb3ccb893f46778217c59085a6ea74": {
     "views": [
      {
       "cell_index": 51
      }
     ]
    },
    "ebee7e62b70d4f37ad835bf3bc992b93": {
     "views": [
      {
       "cell_index": 31
      }
     ]
    },
    "ebf9d819f0a0438aa72e92ce19f94096": {
     "views": [
      {
       "cell_index": 29
      }
     ]
    },
    "ec41d65e957b409e98f0860a4f1b57f0": {
     "views": [
      {
       "cell_index": 31
      }
     ]
    },
    "eccd8fe59eee48858d2e64866fbd53f2": {
     "views": [
      {
       "cell_index": 18
      }
     ]
    },
    "ed06ae4597b04b4890c70da93ad3e724": {
     "views": [
      {
       "cell_index": 33
      }
     ]
    },
    "ed5e72bd28f141578f66680fd6b31a35": {
     "views": [
      {
       "cell_index": 22
      }
     ]
    },
    "ed9777f712994baab7f28f593b0d641f": {
     "views": [
      {
       "cell_index": 33
      }
     ]
    },
    "edb6c8f8092c4e919acedb904b46ac1e": {
     "views": [
      {
       "cell_index": 37
      }
     ]
    },
    "edd3be2b30c44be1899984d166c73ade": {
     "views": [
      {
       "cell_index": 21
      }
     ]
    },
    "ee0b9575ce4e460086eef69e638b1e19": {
     "views": [
      {
       "cell_index": 37
      }
     ]
    },
    "ee1c502b835b41a981d6acc0582b192d": {
     "views": [
      {
       "cell_index": 37
      }
     ]
    },
    "ee20fc913fee4770a0172950989443c1": {
     "views": [
      {
       "cell_index": 19
      }
     ]
    },
    "ee378efa840145359e0f8f62f562a214": {
     "views": [
      {
       "cell_index": 19
      }
     ]
    },
    "ee3dd6c096444fe3a8844ef963b3b201": {
     "views": [
      {
       "cell_index": 37
      }
     ]
    },
    "ee5c7d864de647ed83e3e1e4fc240c17": {
     "views": [
      {
       "cell_index": 31
      }
     ]
    },
    "ee9f01d3f28140609eed2b564fcfc3b8": {
     "views": [
      {
       "cell_index": 37
      }
     ]
    },
    "eea25e5b87744dbbb3bb62bc1e31e9f7": {
     "views": [
      {
       "cell_index": 21
      }
     ]
    },
    "eebdc7022364492f8d608e6793b5bf6d": {
     "views": [
      {
       "cell_index": 15
      }
     ]
    },
    "eeedad6afa2346c7bcfb095810ab9b64": {
     "views": [
      {
       "cell_index": 16
      }
     ]
    },
    "eefa47186e7e42b19061eb4dd1939fb0": {
     "views": [
      {
       "cell_index": 18
      }
     ]
    },
    "ef048d29992d4ac5b40a6f3ba3333bb3": {
     "views": [
      {
       "cell_index": 37
      }
     ]
    },
    "ef55bd0a70744a59b25901b6e828d716": {
     "views": [
      {
       "cell_index": 21
      }
     ]
    },
    "ef5f3491e57d4a6a81f0a47e4077e662": {
     "views": [
      {
       "cell_index": 15
      }
     ]
    },
    "ef906151e7e348698c0b4a07b1690313": {
     "views": [
      {
       "cell_index": 33
      }
     ]
    },
    "eff989dc6df04153a2d577bb539480a4": {
     "views": [
      {
       "cell_index": 19
      }
     ]
    },
    "f01bbfdab43644b2b94bc5f4bf42c866": {
     "views": [
      {
       "cell_index": 37
      }
     ]
    },
    "f09092529983441ea76c9e64dc1f6b31": {
     "views": [
      {
       "cell_index": 33
      }
     ]
    },
    "f09feeaa11034bca91f68ab9012f1ba7": {
     "views": [
      {
       "cell_index": 15
      }
     ]
    },
    "f0e89e7896b9468e8c1ae362ad251283": {
     "views": [
      {
       "cell_index": 37
      }
     ]
    },
    "f1100187d52545e8ba5b13e075fa3931": {
     "views": [
      {
       "cell_index": 37
      }
     ]
    },
    "f15321e2f6844c309ecd58aa184a5b98": {
     "views": [
      {
       "cell_index": 16
      }
     ]
    },
    "f177604df0f44c95b9350f85f6751019": {
     "views": [
      {
       "cell_index": 29
      }
     ]
    },
    "f19af506aa80445b93caed8cba60ad38": {
     "views": [
      {
       "cell_index": 16
      }
     ]
    },
    "f1a66c7b2d244a48b89c394e3ff7c40c": {
     "views": [
      {
       "cell_index": 54
      }
     ]
    },
    "f1c960d0f49441e4a9927578f48c8ffd": {
     "views": [
      {
       "cell_index": 19
      }
     ]
    },
    "f1d33a6c211c4b6d86d9f2532076c592": {
     "views": [
      {
       "cell_index": 37
      }
     ]
    },
    "f2919a42640f40fd8f59070b4844d6b5": {
     "views": [
      {
       "cell_index": 19
      }
     ]
    },
    "f2bc52f7ead14769b95038f6d08c9ac1": {
     "views": [
      {
       "cell_index": 21
      }
     ]
    },
    "f2c0a48fc6184205bc1246f1966a7b69": {
     "views": [
      {
       "cell_index": 33
      }
     ]
    },
    "f329b3f713f94754afffd2f018218c5f": {
     "views": [
      {
       "cell_index": 16
      }
     ]
    },
    "f38b42c11a32415c9b28f4318cfaa717": {
     "views": [
      {
       "cell_index": 14
      }
     ]
    },
    "f3f298f216d849b0ace5c3f0ca3b539a": {
     "views": [
      {
       "cell_index": 37
      }
     ]
    },
    "f3f74069451141c0a55ee44207350600": {
     "views": [
      {
       "cell_index": 21
      }
     ]
    },
    "f42f16a88aef4e6499c605253c1d7e0d": {
     "views": [
      {
       "cell_index": 14
      }
     ]
    },
    "f45036809d944795828419aab7cdb368": {
     "views": [
      {
       "cell_index": 37
      }
     ]
    },
    "f4721c5884a14146bc554c92a744ded1": {
     "views": [
      {
       "cell_index": 14
      }
     ]
    },
    "f482072bc10141618b8e16df1088bed6": {
     "views": [
      {
       "cell_index": 37
      }
     ]
    },
    "f488dcd0d0c54203a3a16b035deeccfc": {
     "views": [
      {
       "cell_index": 33
      }
     ]
    },
    "f4cdd4b4b0224fa192bf856d05714705": {
     "views": [
      {
       "cell_index": 21
      }
     ]
    },
    "f4deb90e15434526849d81b8e24d232b": {
     "views": [
      {
       "cell_index": 37
      }
     ]
    },
    "f4e009a823f94eb38b4bf3b3c94a711d": {
     "views": [
      {
       "cell_index": 37
      }
     ]
    },
    "f50e30dd9d6b45ec9231a121193756ab": {
     "views": [
      {
       "cell_index": 31
      }
     ]
    },
    "f58045d3ec0640c6b376173e2528a4b7": {
     "views": [
      {
       "cell_index": 37
      }
     ]
    },
    "f5e174d1e2b243489940ed77edf45ead": {
     "views": [
      {
       "cell_index": 37
      }
     ]
    },
    "f5ee3bdd3a45433f8370899d0671c867": {
     "views": [
      {
       "cell_index": 19
      }
     ]
    },
    "f66864fd5b764d789ffe3772cec635fc": {
     "views": [
      {
       "cell_index": 37
      }
     ]
    },
    "f6813f6bf85f448fb12724cf0e74bf1c": {
     "views": [
      {
       "cell_index": 37
      }
     ]
    },
    "f75dd8124a1b4acea36777a278d75f22": {
     "views": [
      {
       "cell_index": 21
      }
     ]
    },
    "f7973b2f8ef7431a9353b5b62d8d6e9c": {
     "views": [
      {
       "cell_index": 19
      }
     ]
    },
    "f79c2c74d7de4f68a68025bc5db1c4fa": {
     "views": [
      {
       "cell_index": 37
      }
     ]
    },
    "f7c0db5ffa034ee9b7bc9dd178dc294e": {
     "views": [
      {
       "cell_index": 37
      }
     ]
    },
    "f7c51afd087040b0a466bd8209c4b739": {
     "views": [
      {
       "cell_index": 16
      }
     ]
    },
    "f7eed0d0f3934be29bc1813220e8d3bf": {
     "views": [
      {
       "cell_index": 37
      }
     ]
    },
    "f813338814f449388852df7b75787184": {
     "views": [
      {
       "cell_index": 31
      }
     ]
    },
    "f85144409fe34c6b84813e47c2a9c9d5": {
     "views": [
      {
       "cell_index": 19
      }
     ]
    },
    "f87dcb3095a0466cbcaa459382556498": {
     "views": [
      {
       "cell_index": 37
      }
     ]
    },
    "f898e41e10f8422e99832624bfad2782": {
     "views": [
      {
       "cell_index": 37
      }
     ]
    },
    "f89f98480b4f4314a89a5848a70f1aa2": {
     "views": [
      {
       "cell_index": 19
      }
     ]
    },
    "f934f03c02b04fdaa18711e33758a4dd": {
     "views": [
      {
       "cell_index": 14
      }
     ]
    },
    "f94d9630a15f41f88034bdbaa87dd80f": {
     "views": [
      {
       "cell_index": 37
      }
     ]
    },
    "f9766a18bf57412b945b6e902eed3ac3": {
     "views": [
      {
       "cell_index": 37
      }
     ]
    },
    "f99fde12628e419b9977072f5ba85113": {
     "views": [
      {
       "cell_index": 15
      }
     ]
    },
    "f9a310f7c41d4ef892feed2513a9f1e2": {
     "views": [
      {
       "cell_index": 37
      }
     ]
    },
    "f9ed8944f98b4d259db8307a7a0091f2": {
     "views": [
      {
       "cell_index": 37
      }
     ]
    },
    "f9faae701e7f4f28a01a81aadd6b297d": {
     "views": [
      {
       "cell_index": 37
      }
     ]
    },
    "fa71574775124f71a497d898caff7d85": {
     "views": [
      {
       "cell_index": 37
      }
     ]
    },
    "faaf321bd97242629b03e195652f8859": {
     "views": [
      {
       "cell_index": 34
      }
     ]
    },
    "faba797d00974ddf9d501c0bfd7c09af": {
     "views": [
      {
       "cell_index": 37
      }
     ]
    },
    "fad722312b1045058fc4c10a68b16573": {
     "views": [
      {
       "cell_index": 37
      }
     ]
    },
    "fb214f80b654451b935cec64801f6af8": {
     "views": [
      {
       "cell_index": 37
      }
     ]
    },
    "fb84f5a8e7604df692d5d6722f203fb9": {
     "views": [
      {
       "cell_index": 37
      }
     ]
    },
    "fba2873e6270465ea688c41caa8c80d3": {
     "views": [
      {
       "cell_index": 34
      }
     ]
    },
    "fba4b0dc19b34bd8b1fe02f75f56a049": {
     "views": [
      {
       "cell_index": 9
      }
     ]
    },
    "fbbda773213f4c7797bba609f5c5f7e3": {
     "views": [
      {
       "cell_index": 37
      }
     ]
    },
    "fbe2556800de499dab599df38cb6c465": {
     "views": [
      {
       "cell_index": 37
      }
     ]
    },
    "fc0557fefaef46639144079268a94959": {
     "views": [
      {
       "cell_index": 15
      }
     ]
    },
    "fc0c60c0dffe45febedbbb169c067923": {
     "views": [
      {
       "cell_index": 37
      }
     ]
    },
    "fc114ec231174a28b98a50bf655c593c": {
     "views": [
      {
       "cell_index": 37
      }
     ]
    },
    "fc2e34a0c2324b9ebe2ac0dee83d07d5": {
     "views": [
      {
       "cell_index": 37
      }
     ]
    },
    "fc2f8c9a3e564769bbde53d55b8b8e2a": {
     "views": [
      {
       "cell_index": 33
      }
     ]
    },
    "fc4e9dee06d84596bcd2f13811524ffe": {
     "views": [
      {
       "cell_index": 18
      }
     ]
    },
    "fc661382231d43248d69734fa68bdf7e": {
     "views": [
      {
       "cell_index": 16
      }
     ]
    },
    "fc9beef31f60489aae4590f9d9fbc493": {
     "views": [
      {
       "cell_index": 16
      }
     ]
    },
    "fd9580c078ce4b70a19a21d8d1d1b385": {
     "views": [
      {
       "cell_index": 18
      }
     ]
    },
    "fdd6da94052b4cf3bef57f61c7388063": {
     "views": [
      {
       "cell_index": 31
      }
     ]
    },
    "fe139d4fd94d43149e99d132170c5223": {
     "views": [
      {
       "cell_index": 37
      }
     ]
    },
    "fe44ca12d7cf4b89bd278d0b7f98e529": {
     "views": [
      {
       "cell_index": 19
      }
     ]
    },
    "fe6bceca00cb42cdbd0910adeb5d2215": {
     "views": [
      {
       "cell_index": 51
      }
     ]
    },
    "fe6ddeff9e2f49ea96e92f2e30d052ec": {
     "views": [
      {
       "cell_index": 37
      }
     ]
    },
    "feae807dc3424d509c188c23e0307cf5": {
     "views": [
      {
       "cell_index": 16
      }
     ]
    },
    "fece9567d2cb4a6e91f4e354c304bcd0": {
     "views": [
      {
       "cell_index": 21
      }
     ]
    },
    "fef1776a2fa547cb85ae78aa4760c964": {
     "views": [
      {
       "cell_index": 37
      }
     ]
    },
    "ff2d60ced43b4817b3ba3c6ae3c36149": {
     "views": [
      {
       "cell_index": 37
      }
     ]
    },
    "ff4ebb6488ab4009b69b088a3f261676": {
     "views": [
      {
       "cell_index": 31
      }
     ]
    },
    "ff570d953de74a9295e8bd705387c7a8": {
     "views": [
      {
       "cell_index": 37
      }
     ]
    },
    "ff66a687b4c84dd9886698863c0b8b94": {
     "views": [
      {
       "cell_index": 21
      }
     ]
    },
    "ffa29883edf447f082439716ceae322a": {
     "views": [
      {
       "cell_index": 29
      }
     ]
    },
    "ffc74224ad3a4f7ba82306e037b4408d": {
     "views": [
      {
       "cell_index": 37
      }
     ]
    },
    "ffe10ac12b294d44b9eb1a9633d8a864": {
     "views": [
      {
       "cell_index": 21
      }
     ]
    },
    "fff22966ff89454a91f9ea33dbeab867": {
     "views": [
      {
       "cell_index": 19
      }
     ]
    }
   },
   "version": "1.2.0"
  }
 },
 "nbformat": 4,
 "nbformat_minor": 2
}
