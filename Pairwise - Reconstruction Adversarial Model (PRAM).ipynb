{
 "cells": [
  {
   "cell_type": "code",
   "execution_count": 1,
   "metadata": {
    "collapsed": false
   },
   "outputs": [
    {
     "name": "stderr",
     "output_type": "stream",
     "text": [
      "Using TensorFlow backend.\n"
     ]
    }
   ],
   "source": [
    "from Models import *\n",
    "from Utils import *\n",
    "from FastModels import *\n",
    "import warnings\n",
    "from livelossplot import PlotLossesKeras\n",
    "# warnings.filterwarnings('ignore')\n",
    "\n",
    "from gensim.models import KeyedVectors\n",
    "import sentencepiece as spm\n",
    "\n",
    "max_len = 15\n",
    "enablePadding = True\n",
    "\n",
    "sp = spm.SentencePieceProcessor()\n",
    "sp.Load('/work/data/bpe/en.wiki.bpe.op50000.model')\n",
    "bpe = KeyedVectors.load_word2vec_format(\"/work/data/bpe/en.wiki.bpe.op50000.d200.w2v.bin\", binary=True)\n",
    "bpe.index2word = [''] + bpe.index2word + ['<sos>'] + ['<eos>']  # add empty string \n",
    "nb_words = len(bpe.index2word)\n",
    "# word2index\n",
    "bpe_dict = {bpe.index2word[i]: i for i in range(len(bpe.index2word))}\n",
    "# construct embedding_matrix\n",
    "embedding_matrix = np.concatenate([np.zeros((1, bpe.vector_size)), bpe.vectors, np.zeros((2, bpe.vector_size))]) # add zero vector for empty string (i.e. used for padding)\n",
    "\n",
    "embedding_layer = Embedding(nb_words,\n",
    "                    embedding_matrix.shape[-1],\n",
    "                    weights=[embedding_matrix],\n",
    "                    input_length=max_len,\n",
    "                    trainable=True)"
   ]
  },
  {
   "cell_type": "code",
   "execution_count": 310,
   "metadata": {
    "collapsed": false
   },
   "outputs": [],
   "source": [
    "class AAE():\n",
    "    \n",
    "    def __init__(self, nb_words, max_len, embedding_matrix, dim, optimizer=Adam(), mode=1,enableWasserstein=False, enableBOW=False, enableS2S=False):\n",
    "        self.dim = dim\n",
    "        self.nb_words = nb_words\n",
    "        self.max_len = max_len\n",
    "        self.embedding_matrix = embedding_matrix\n",
    "        self.optimizer = optimizer\n",
    "        self.enableWasserstein = enableWasserstein\n",
    "        self.enableS2S = enableS2S\n",
    "        self.mode = 1\n",
    "        self.enableBOW = enableBOW\n",
    "        \n",
    "        self.hidden_dim = self.dim[0]\n",
    "        self.latent_dim = self.dim[1]\n",
    "\n",
    "\n",
    "\n",
    "        self.build()\n",
    "\n",
    "    def build(self):\n",
    "        \n",
    "        self.ae, self.gs_encoder, self.encoder = self.build_ae()\n",
    "        \n",
    "        self.discriminator = self.build_gs_discriminator()\n",
    "        \n",
    "        inputs = self.ae.inputs\n",
    "        \n",
    "        rec_pred = self.ae(inputs)\n",
    "        aae_penalty = self.discriminator(self.gs_encoder(inputs[0]))\n",
    "        \n",
    "        self.discriminator.compile(optimizer=self.optimizer, loss=\"binary_crossentropy\", metrics=['accuracy'])\n",
    "        self.model = Model(inputs, [rec_pred, aae_penalty])\n",
    "        self.discriminator.trainable = False\n",
    "        self.model.compile(optimizer=self.optimizer, loss=[\"sparse_categorical_crossentropy\", \"binary_crossentropy\"], loss_weights=[1, 1e-3])\n",
    "        \n",
    "        \n",
    "    def wasserstein_loss(self, y_true, y_pred):\n",
    "        return K.mean(y_true * y_pred)\n",
    "    \n",
    "    def build_ae(self):\n",
    "\n",
    "        encoder_inputs = Input(shape=(self.max_len,))\n",
    "        self.encoder_embedding = Embedding(self.nb_words,\n",
    "                                        self.embedding_matrix.shape[-1],\n",
    "                                        weights=[self.embedding_matrix],\n",
    "                                        input_length=self.max_len,\n",
    "                                        name=\"enc_embedding\",\n",
    "                                        mask_zero=True,\n",
    "                                        trainable=True)\n",
    "\n",
    "        self.encoder_lstm = GRU(self.hidden_dim, return_state=True, name=\"enc_gru\")\n",
    "\n",
    "        x = self.encoder_embedding(encoder_inputs)\n",
    "        _, self.state = self.encoder_lstm(x)\n",
    "\n",
    "        self.mean = Dense(self.latent_dim)\n",
    "        self.var = Dense(self.latent_dim)\n",
    "\n",
    "        state_mean = self.mean(self.state)\n",
    "        state_var = self.var(self.state)\n",
    "\n",
    "        state_z = Lambda(self.sampling, name=\"kl\")([state_mean, state_var])\n",
    "\n",
    "\n",
    "        decoder_inputs = Input(shape=(self.max_len,), name=\"dec_input\")\n",
    "\n",
    "        self.latent2hidden = Dense(self.hidden_dim)\n",
    "        self.decoder_lstm = GRU(self.hidden_dim, return_sequences=True)\n",
    "        self.decoder_dense = Dense(self.nb_words, activation='softmax' if not self.enableWasserstein else \"linear\", name=\"rec\")\n",
    "        self.decoder_embedding = Embedding(self.nb_words,\n",
    "                                        self.embedding_matrix.shape[-1],\n",
    "                                        weights=[self.embedding_matrix],\n",
    "                                        input_length=self.max_len,\n",
    "                                        name=\"dec_embedding\",\n",
    "                                        mask_zero=True,\n",
    "                                        trainable=True)\n",
    "        \n",
    "        x = self.decoder_embedding(decoder_inputs)\n",
    "        decoder_outputs = self.decoder_lstm(x, initial_state=self.latent2hidden(state_z))\n",
    "        rec_outputs = self.decoder_dense(decoder_outputs)\n",
    "\n",
    "        return Model([encoder_inputs, decoder_inputs], rec_outputs), Model(encoder_inputs, state_z), Model(encoder_inputs, self.state)\n",
    "    \n",
    "    def build_gs_discriminator(self):\n",
    "        \n",
    "        inputs = Input((self.latent_dim,), name=\"gs_dis_input\")\n",
    "        \n",
    "        dense1 = Dense(self.hidden_dim, name=\"dis_dense1\")\n",
    "        dense2 = Dense(self.latent_dim, name=\"dis_dense2\")\n",
    "        dense3 = Dense(1, activation=\"sigmoid\" if not self.enableWasserstein else \"linear\")\n",
    "\n",
    "        outputs = dense3(dense2(dense1(inputs)))\n",
    "        \n",
    "        return Model(inputs, outputs)\n",
    "    \n",
    "    def sampling(self, args):\n",
    "        z_mean, z_log_var = args\n",
    "        epsilon = K.random_normal(shape=(K.shape(z_mean)[0], K.shape(z_mean)[1]), mean=0.,\\\n",
    "                                  stddev=1)\n",
    "        return z_mean + K.exp(z_log_var / 2) * epsilon \n",
    "\n",
    "    def name(self):\n",
    "        return \"aae\" % self.mode if not self.enableWasserstein else \"wae\"\n",
    "\n",
    "\n"
   ]
  },
  {
   "cell_type": "code",
   "execution_count": 314,
   "metadata": {
    "collapsed": false
   },
   "outputs": [
    {
     "ename": "TypeError",
     "evalue": "unsupported operand type(s) for +: 'NoneType' and 'int'",
     "output_type": "error",
     "traceback": [
      "\u001b[0;31m---------------------------------------------------------------------------\u001b[0m",
      "\u001b[0;31mTypeError\u001b[0m                                 Traceback (most recent call last)",
      "\u001b[0;32m<ipython-input-314-f0cfaa18b032>\u001b[0m in \u001b[0;36m<module>\u001b[0;34m()\u001b[0m\n\u001b[1;32m      1\u001b[0m \u001b[0;31m# K.clear_session()\u001b[0m\u001b[0;34m\u001b[0m\u001b[0;34m\u001b[0m\u001b[0m\n\u001b[0;32m----> 2\u001b[0;31m \u001b[0mrun\u001b[0m \u001b[0;34m=\u001b[0m \u001b[0mAAE\u001b[0m\u001b[0;34m(\u001b[0m\u001b[0mnb_words\u001b[0m\u001b[0;34m,\u001b[0m \u001b[0mmax_len\u001b[0m\u001b[0;34m,\u001b[0m \u001b[0membedding_matrix\u001b[0m\u001b[0;34m,\u001b[0m \u001b[0;34m[\u001b[0m\u001b[0;36m2\u001b[0m\u001b[0;34m,\u001b[0m\u001b[0;36m1\u001b[0m\u001b[0;34m]\u001b[0m\u001b[0;34m)\u001b[0m\u001b[0;34m\u001b[0m\u001b[0m\n\u001b[0m",
      "\u001b[0;32m<ipython-input-310-b8e73d3f7d66>\u001b[0m in \u001b[0;36m__init__\u001b[0;34m(self, nb_words, max_len, embedding_matrix, dim, optimizer, mode, enableWasserstein, enableBOW, enableS2S)\u001b[0m\n\u001b[1;32m     17\u001b[0m \u001b[0;34m\u001b[0m\u001b[0m\n\u001b[1;32m     18\u001b[0m \u001b[0;34m\u001b[0m\u001b[0m\n\u001b[0;32m---> 19\u001b[0;31m         \u001b[0mself\u001b[0m\u001b[0;34m.\u001b[0m\u001b[0mbuild\u001b[0m\u001b[0;34m(\u001b[0m\u001b[0;34m)\u001b[0m\u001b[0;34m\u001b[0m\u001b[0m\n\u001b[0m\u001b[1;32m     20\u001b[0m \u001b[0;34m\u001b[0m\u001b[0m\n\u001b[1;32m     21\u001b[0m     \u001b[0;32mdef\u001b[0m \u001b[0mbuild\u001b[0m\u001b[0;34m(\u001b[0m\u001b[0mself\u001b[0m\u001b[0;34m)\u001b[0m\u001b[0;34m:\u001b[0m\u001b[0;34m\u001b[0m\u001b[0m\n",
      "\u001b[0;32m<ipython-input-310-b8e73d3f7d66>\u001b[0m in \u001b[0;36mbuild\u001b[0;34m(self)\u001b[0m\n\u001b[1;32m     21\u001b[0m     \u001b[0;32mdef\u001b[0m \u001b[0mbuild\u001b[0m\u001b[0;34m(\u001b[0m\u001b[0mself\u001b[0m\u001b[0;34m)\u001b[0m\u001b[0;34m:\u001b[0m\u001b[0;34m\u001b[0m\u001b[0m\n\u001b[1;32m     22\u001b[0m \u001b[0;34m\u001b[0m\u001b[0m\n\u001b[0;32m---> 23\u001b[0;31m         \u001b[0mself\u001b[0m\u001b[0;34m.\u001b[0m\u001b[0mae\u001b[0m\u001b[0;34m,\u001b[0m \u001b[0mself\u001b[0m\u001b[0;34m.\u001b[0m\u001b[0mgs_encoder\u001b[0m\u001b[0;34m,\u001b[0m \u001b[0mself\u001b[0m\u001b[0;34m.\u001b[0m\u001b[0mencoder\u001b[0m \u001b[0;34m=\u001b[0m \u001b[0mself\u001b[0m\u001b[0;34m.\u001b[0m\u001b[0mbuild_ae\u001b[0m\u001b[0;34m(\u001b[0m\u001b[0;34m)\u001b[0m\u001b[0;34m\u001b[0m\u001b[0m\n\u001b[0m\u001b[1;32m     24\u001b[0m \u001b[0;34m\u001b[0m\u001b[0m\n\u001b[1;32m     25\u001b[0m         \u001b[0mself\u001b[0m\u001b[0;34m.\u001b[0m\u001b[0mdiscriminator\u001b[0m \u001b[0;34m=\u001b[0m \u001b[0mself\u001b[0m\u001b[0;34m.\u001b[0m\u001b[0mbuild_gs_discriminator\u001b[0m\u001b[0;34m(\u001b[0m\u001b[0;34m)\u001b[0m\u001b[0;34m\u001b[0m\u001b[0m\n",
      "\u001b[0;32m<ipython-input-310-b8e73d3f7d66>\u001b[0m in \u001b[0;36mbuild_ae\u001b[0;34m(self)\u001b[0m\n\u001b[1;32m     78\u001b[0m \u001b[0;34m\u001b[0m\u001b[0m\n\u001b[1;32m     79\u001b[0m         \u001b[0mx\u001b[0m \u001b[0;34m=\u001b[0m \u001b[0mself\u001b[0m\u001b[0;34m.\u001b[0m\u001b[0mdecoder_embedding\u001b[0m\u001b[0;34m(\u001b[0m\u001b[0mdecoder_inputs\u001b[0m\u001b[0;34m)\u001b[0m\u001b[0;34m\u001b[0m\u001b[0m\n\u001b[0;32m---> 80\u001b[0;31m         \u001b[0mdecoder_outputs\u001b[0m \u001b[0;34m=\u001b[0m \u001b[0mself\u001b[0m\u001b[0;34m.\u001b[0m\u001b[0mdecoder_lstm\u001b[0m\u001b[0;34m(\u001b[0m\u001b[0mx\u001b[0m\u001b[0;34m,\u001b[0m \u001b[0minitial_state\u001b[0m\u001b[0;34m=\u001b[0m\u001b[0mself\u001b[0m\u001b[0;34m.\u001b[0m\u001b[0mlatent2hidden\u001b[0m\u001b[0;34m(\u001b[0m\u001b[0mstate_z\u001b[0m\u001b[0;34m)\u001b[0m\u001b[0;34m)\u001b[0m\u001b[0;34m\u001b[0m\u001b[0m\n\u001b[0m\u001b[1;32m     81\u001b[0m         \u001b[0mrec_outputs\u001b[0m \u001b[0;34m=\u001b[0m \u001b[0mself\u001b[0m\u001b[0;34m.\u001b[0m\u001b[0mdecoder_dense\u001b[0m\u001b[0;34m(\u001b[0m\u001b[0mdecoder_outputs\u001b[0m\u001b[0;34m)\u001b[0m\u001b[0;34m\u001b[0m\u001b[0m\n\u001b[1;32m     82\u001b[0m \u001b[0;34m\u001b[0m\u001b[0m\n",
      "\u001b[0;32m/home/t-jamano/.local/lib/python3.6/site-packages/keras/engine/topology.py\u001b[0m in \u001b[0;36m__call__\u001b[0;34m(self, inputs, **kwargs)\u001b[0m\n\u001b[1;32m    574\u001b[0m                                          '`layer.build(batch_input_shape)`')\n\u001b[1;32m    575\u001b[0m                 \u001b[0;32mif\u001b[0m \u001b[0mlen\u001b[0m\u001b[0;34m(\u001b[0m\u001b[0minput_shapes\u001b[0m\u001b[0;34m)\u001b[0m \u001b[0;34m==\u001b[0m \u001b[0;36m1\u001b[0m\u001b[0;34m:\u001b[0m\u001b[0;34m\u001b[0m\u001b[0m\n\u001b[0;32m--> 576\u001b[0;31m                     \u001b[0mself\u001b[0m\u001b[0;34m.\u001b[0m\u001b[0mbuild\u001b[0m\u001b[0;34m(\u001b[0m\u001b[0minput_shapes\u001b[0m\u001b[0;34m[\u001b[0m\u001b[0;36m0\u001b[0m\u001b[0;34m]\u001b[0m\u001b[0;34m)\u001b[0m\u001b[0;34m\u001b[0m\u001b[0m\n\u001b[0m\u001b[1;32m    577\u001b[0m                 \u001b[0;32melse\u001b[0m\u001b[0;34m:\u001b[0m\u001b[0;34m\u001b[0m\u001b[0m\n\u001b[1;32m    578\u001b[0m                     \u001b[0mself\u001b[0m\u001b[0;34m.\u001b[0m\u001b[0mbuild\u001b[0m\u001b[0;34m(\u001b[0m\u001b[0minput_shapes\u001b[0m\u001b[0;34m)\u001b[0m\u001b[0;34m\u001b[0m\u001b[0m\n",
      "\u001b[0;32m/home/t-jamano/.local/lib/python3.6/site-packages/keras/layers/core.py\u001b[0m in \u001b[0;36mbuild\u001b[0;34m(self, input_shape)\u001b[0m\n\u001b[1;32m    828\u001b[0m                                       \u001b[0mname\u001b[0m\u001b[0;34m=\u001b[0m\u001b[0;34m'kernel'\u001b[0m\u001b[0;34m,\u001b[0m\u001b[0;34m\u001b[0m\u001b[0m\n\u001b[1;32m    829\u001b[0m                                       \u001b[0mregularizer\u001b[0m\u001b[0;34m=\u001b[0m\u001b[0mself\u001b[0m\u001b[0;34m.\u001b[0m\u001b[0mkernel_regularizer\u001b[0m\u001b[0;34m,\u001b[0m\u001b[0;34m\u001b[0m\u001b[0m\n\u001b[0;32m--> 830\u001b[0;31m                                       constraint=self.kernel_constraint)\n\u001b[0m\u001b[1;32m    831\u001b[0m         \u001b[0;32mif\u001b[0m \u001b[0mself\u001b[0m\u001b[0;34m.\u001b[0m\u001b[0muse_bias\u001b[0m\u001b[0;34m:\u001b[0m\u001b[0;34m\u001b[0m\u001b[0m\n\u001b[1;32m    832\u001b[0m             self.bias = self.add_weight(shape=(self.units,),\n",
      "\u001b[0;32m/home/t-jamano/.local/lib/python3.6/site-packages/keras/legacy/interfaces.py\u001b[0m in \u001b[0;36mwrapper\u001b[0;34m(*args, **kwargs)\u001b[0m\n\u001b[1;32m     85\u001b[0m                 warnings.warn('Update your `' + object_name +\n\u001b[1;32m     86\u001b[0m                               '` call to the Keras 2 API: ' + signature, stacklevel=2)\n\u001b[0;32m---> 87\u001b[0;31m             \u001b[0;32mreturn\u001b[0m \u001b[0mfunc\u001b[0m\u001b[0;34m(\u001b[0m\u001b[0;34m*\u001b[0m\u001b[0margs\u001b[0m\u001b[0;34m,\u001b[0m \u001b[0;34m**\u001b[0m\u001b[0mkwargs\u001b[0m\u001b[0;34m)\u001b[0m\u001b[0;34m\u001b[0m\u001b[0m\n\u001b[0m\u001b[1;32m     88\u001b[0m         \u001b[0mwrapper\u001b[0m\u001b[0;34m.\u001b[0m\u001b[0m_original_function\u001b[0m \u001b[0;34m=\u001b[0m \u001b[0mfunc\u001b[0m\u001b[0;34m\u001b[0m\u001b[0m\n\u001b[1;32m     89\u001b[0m         \u001b[0;32mreturn\u001b[0m \u001b[0mwrapper\u001b[0m\u001b[0;34m\u001b[0m\u001b[0m\n",
      "\u001b[0;32m/home/t-jamano/.local/lib/python3.6/site-packages/keras/engine/topology.py\u001b[0m in \u001b[0;36madd_weight\u001b[0;34m(self, name, shape, dtype, initializer, regularizer, trainable, constraint)\u001b[0m\n\u001b[1;32m    395\u001b[0m         \u001b[0;32mif\u001b[0m \u001b[0mdtype\u001b[0m \u001b[0;32mis\u001b[0m \u001b[0;32mNone\u001b[0m\u001b[0;34m:\u001b[0m\u001b[0;34m\u001b[0m\u001b[0m\n\u001b[1;32m    396\u001b[0m             \u001b[0mdtype\u001b[0m \u001b[0;34m=\u001b[0m \u001b[0mK\u001b[0m\u001b[0;34m.\u001b[0m\u001b[0mfloatx\u001b[0m\u001b[0;34m(\u001b[0m\u001b[0;34m)\u001b[0m\u001b[0;34m\u001b[0m\u001b[0m\n\u001b[0;32m--> 397\u001b[0;31m         weight = K.variable(initializer(shape),\n\u001b[0m\u001b[1;32m    398\u001b[0m                             \u001b[0mdtype\u001b[0m\u001b[0;34m=\u001b[0m\u001b[0mdtype\u001b[0m\u001b[0;34m,\u001b[0m\u001b[0;34m\u001b[0m\u001b[0m\n\u001b[1;32m    399\u001b[0m                             \u001b[0mname\u001b[0m\u001b[0;34m=\u001b[0m\u001b[0mname\u001b[0m\u001b[0;34m,\u001b[0m\u001b[0;34m\u001b[0m\u001b[0m\n",
      "\u001b[0;32m/home/t-jamano/.local/lib/python3.6/site-packages/keras/initializers.py\u001b[0m in \u001b[0;36m__call__\u001b[0;34m(self, shape, dtype)\u001b[0m\n\u001b[1;32m    202\u001b[0m             \u001b[0mscale\u001b[0m \u001b[0;34m/=\u001b[0m \u001b[0mmax\u001b[0m\u001b[0;34m(\u001b[0m\u001b[0;36m1.\u001b[0m\u001b[0;34m,\u001b[0m \u001b[0mfan_out\u001b[0m\u001b[0;34m)\u001b[0m\u001b[0;34m\u001b[0m\u001b[0m\n\u001b[1;32m    203\u001b[0m         \u001b[0;32melse\u001b[0m\u001b[0;34m:\u001b[0m\u001b[0;34m\u001b[0m\u001b[0m\n\u001b[0;32m--> 204\u001b[0;31m             \u001b[0mscale\u001b[0m \u001b[0;34m/=\u001b[0m \u001b[0mmax\u001b[0m\u001b[0;34m(\u001b[0m\u001b[0;36m1.\u001b[0m\u001b[0;34m,\u001b[0m \u001b[0mfloat\u001b[0m\u001b[0;34m(\u001b[0m\u001b[0mfan_in\u001b[0m \u001b[0;34m+\u001b[0m \u001b[0mfan_out\u001b[0m\u001b[0;34m)\u001b[0m \u001b[0;34m/\u001b[0m \u001b[0;36m2\u001b[0m\u001b[0;34m)\u001b[0m\u001b[0;34m\u001b[0m\u001b[0m\n\u001b[0m\u001b[1;32m    205\u001b[0m         \u001b[0;32mif\u001b[0m \u001b[0mself\u001b[0m\u001b[0;34m.\u001b[0m\u001b[0mdistribution\u001b[0m \u001b[0;34m==\u001b[0m \u001b[0;34m'normal'\u001b[0m\u001b[0;34m:\u001b[0m\u001b[0;34m\u001b[0m\u001b[0m\n\u001b[1;32m    206\u001b[0m             \u001b[0mstddev\u001b[0m \u001b[0;34m=\u001b[0m \u001b[0mnp\u001b[0m\u001b[0;34m.\u001b[0m\u001b[0msqrt\u001b[0m\u001b[0;34m(\u001b[0m\u001b[0mscale\u001b[0m\u001b[0;34m)\u001b[0m\u001b[0;34m\u001b[0m\u001b[0m\n",
      "\u001b[0;31mTypeError\u001b[0m: unsupported operand type(s) for +: 'NoneType' and 'int'"
     ]
    }
   ],
   "source": [
    "# K.clear_session()\n",
    "run = AAE(nb_words, max_len, embedding_matrix, [2,1])\n"
   ]
  },
  {
   "cell_type": "code",
   "execution_count": 327,
   "metadata": {
    "collapsed": false
   },
   "outputs": [
    {
     "name": "stdout",
     "output_type": "stream",
     "text": [
      "CPU times: user 20 ms, sys: 0 ns, total: 20 ms\n",
      "Wall time: 16.7 ms\n"
     ]
    }
   ],
   "source": [
    "%%time\n",
    "x = np.random.randint(nb_words, size=(256, 15))\n",
    "x_ = np.zeros((256, nb_words))\n",
    "y = np.ones((256, 2))\n",
    "y[:, 0] = 1\n",
    "for i, j in enumerate(x):\n",
    "    x_[i][j] = 1\n",
    "    \n",
    "x_ = np.expand_dims(x, axis=-1)\n"
   ]
  },
  {
   "cell_type": "code",
   "execution_count": 331,
   "metadata": {
    "collapsed": false
   },
   "outputs": [],
   "source": [
    "old = all_weights(run.model)"
   ]
  },
  {
   "cell_type": "code",
   "execution_count": 328,
   "metadata": {
    "collapsed": false
   },
   "outputs": [
    {
     "data": {
      "text/plain": [
       "<keras.callbacks.History at 0x7f67d450deb8>"
      ]
     },
     "execution_count": 328,
     "metadata": {},
     "output_type": "execute_result"
    }
   ],
   "source": [
    "run.model.fit([x,x], [x_, z], verbose=0, batch_size=64)"
   ]
  },
  {
   "cell_type": "code",
   "execution_count": 323,
   "metadata": {
    "collapsed": false
   },
   "outputs": [
    {
     "data": {
      "text/plain": [
       "[7.6545115, 0.5234375]"
      ]
     },
     "execution_count": 323,
     "metadata": {},
     "output_type": "execute_result"
    }
   ],
   "source": [
    "yy = np.random.randint(nb_words, size=(256, 100))\n",
    "z = np.random.randint(2, size=(256))\n",
    "run.discriminator.train_on_batch(yy, z)"
   ]
  },
  {
   "cell_type": "code",
   "execution_count": 329,
   "metadata": {
    "collapsed": false
   },
   "outputs": [],
   "source": [
    "new = run.discriminator.get_weights()"
   ]
  },
  {
   "cell_type": "code",
   "execution_count": 333,
   "metadata": {
    "collapsed": false
   },
   "outputs": [
    {
     "data": {
      "text/plain": [
       "False"
      ]
     },
     "execution_count": 333,
     "metadata": {},
     "output_type": "execute_result"
    }
   ],
   "source": [
    "old == new"
   ]
  },
  {
   "cell_type": "code",
   "execution_count": 309,
   "metadata": {
    "collapsed": false
   },
   "outputs": [
    {
     "name": "stdout",
     "output_type": "stream",
     "text": [
      "Initial Weights\n",
      "G: [[-1.3648417, -1.1097677], [0.0], [0.7505046, -0.022380948], [0.0, 0.0]]\n",
      "D: [[-0.75828314, -1.1783319], [0.0], [1.1859695, 0.23665011], [0.0, 0.0]]\n",
      "A : [[-1.3648417, -1.1097677], [0.0], [0.7505046, -0.022380948], [0.0, 0.0], [-0.75828314, -1.1783319], [0.0], [1.1859695, 0.23665011], [0.0, 0.0]]\n",
      "after training D --- D and D in A changed\n",
      "G: [[-1.3648417, -1.1097677], [0.0], [0.7505046, -0.022380948], [0.0, 0.0]]\n",
      "D: [[-0.7526134, -1.1682525], [0.017999575], [1.1735275, 0.23064853], [0.013865177, 0.0065746866]]\n",
      "A : [[-1.3648417, -1.1097677], [0.0], [0.7505046, -0.022380948], [0.0, 0.0], [-0.7526134, -1.1682525], [0.017999575], [1.1735275, 0.23064853], [0.013865177, 0.0065746866]]\n",
      "after training A --- D didn't changed!\n",
      "G: [[-1.3615896, -1.1104604], [0.0024672896], [0.7453306, -0.030412478], [0.0034840428, 0.0054081436]]\n",
      "D: [[-0.7526134, -1.1682525], [0.017999575], [1.1735275, 0.23064853], [0.013865177, 0.0065746866]]\n",
      "A : [[-1.3615896, -1.1104604], [0.0024672896], [0.7453306, -0.030412478], [0.0034840428, 0.0054081436], [-0.7526134, -1.1682525], [0.017999575], [1.1735275, 0.23064853], [0.013865177, 0.0065746866]]\n",
      "after training D\n",
      "G: [[-1.3615896, -1.1104604], [0.0024672896], [0.7453306, -0.030412478], [0.0034840428, 0.0054081436]]\n",
      "D: [[-0.73907167, -1.1535101], [0.04033909], [1.1520368, 0.22287682], [0.031605504, 0.013168076]]\n",
      "A : [[-1.3615896, -1.1104604], [0.0024672896], [0.7453306, -0.030412478], [0.0034840428, 0.0054081436], [-0.73907167, -1.1535101], [0.04033909], [1.1520368, 0.22287682], [0.031605504, 0.013168076]]\n",
      "after training A\n",
      "G: [[-1.3552265, -1.1018164], [0.009046588], [0.7175888, -0.07371067], [0.013444968, 0.020954711]]\n",
      "D: [[-0.73907167, -1.1535101], [0.04033909], [1.1520368, 0.22287682], [0.031605504, 0.013168076]]\n",
      "A : [[-1.3552265, -1.1018164], [0.009046588], [0.7175888, -0.07371067], [0.013444968, 0.020954711], [-0.73907167, -1.1535101], [0.04033909], [1.1520368, 0.22287682], [0.031605504, 0.013168076]]\n"
     ]
    }
   ],
   "source": [
    "import numpy as np\n",
    "from keras.models import Sequential\n",
    "from keras.engine.topology import Input, Container\n",
    "from keras.engine.training import Model\n",
    "from keras.layers.core import Dense\n",
    "\n",
    "def all_weights(m):\n",
    "    return [list(w.reshape((-1))) for w in m.get_weights()]\n",
    "\n",
    "def random_fit(m):\n",
    "    x1 = np.random.random(10).reshape((5, 2))\n",
    "    y1 = np.random.random(10).reshape((5, 2))\n",
    "    m.fit(x1, y1, verbose=False)\n",
    "\n",
    "np.random.seed(100)\n",
    "\n",
    "# Discriminator model\n",
    "x = in_x = Input((2, ))\n",
    "x = Dense(1)(x)\n",
    "x = Dense(2)(x)\n",
    "model_D = Model(in_x, x)\n",
    "\n",
    "# Compile D\n",
    "model_D.compile(optimizer=\"sgd\", loss=\"mse\")\n",
    "\n",
    "# Generator model\n",
    "x = in_x = Input((2, ))\n",
    "x = Dense(1)(x)\n",
    "x = Dense(2)(x)\n",
    "model_G = Model(in_x, x)\n",
    "\n",
    "# Adversarial model\n",
    "model_A = Sequential()\n",
    "model_A.add(model_G)\n",
    "model_A.add(model_D)\n",
    "\n",
    "# Compile A \n",
    "model_D.trainable = False # set D in A \"trainable=False\"\n",
    "model_A.compile(optimizer=\"sgd\", loss=\"mse\")\n",
    "\n",
    "# Watch which weights are updated by model.fit\n",
    "print(\"Initial Weights\")\n",
    "print(\"G: %s\" % all_weights(model_G))\n",
    "print(\"D: %s\" % all_weights(model_D))\n",
    "print(\"A : %s\" % all_weights(model_A))\n",
    "\n",
    "random_fit(model_D)\n",
    "\n",
    "print \n",
    "print(\"after training D --- D and D in A changed\")\n",
    "print(\"G: %s\" % all_weights(model_G))\n",
    "print(\"D: %s\" % all_weights(model_D))\n",
    "print(\"A : %s\" % all_weights(model_A))\n",
    "\n",
    "random_fit(model_A)\n",
    "\n",
    "print \n",
    "print(\"after training A --- D didn't changed!\")\n",
    "print(\"G: %s\" % all_weights(model_G))\n",
    "print(\"D: %s\" % all_weights(model_D))\n",
    "print(\"A : %s\" % all_weights(model_A))\n",
    "\n",
    "\n",
    "random_fit(model_D)\n",
    "print \n",
    "print(\"after training D\")\n",
    "print(\"G: %s\" % all_weights(model_G))\n",
    "print(\"D: %s\" % all_weights(model_D))\n",
    "print(\"A : %s\" % all_weights(model_A))\n",
    "\n",
    "random_fit(model_A)\n",
    "\n",
    "print\n",
    "print(\"after training A\")\n",
    "print(\"G: %s\" % all_weights(model_G))\n",
    "print(\"D: %s\" % all_weights(model_D))\n",
    "print(\"A : %s\" % all_weights(model_A))\n"
   ]
  },
  {
   "cell_type": "code",
   "execution_count": null,
   "metadata": {
    "collapsed": true
   },
   "outputs": [],
   "source": []
  }
 ],
 "metadata": {
  "kernelspec": {
   "display_name": "Python 3",
   "language": "python",
   "name": "python3"
  },
  "language_info": {
   "codemirror_mode": {
    "name": "ipython",
    "version": 3
   },
   "file_extension": ".py",
   "mimetype": "text/x-python",
   "name": "python",
   "nbconvert_exporter": "python",
   "pygments_lexer": "ipython3",
   "version": "3.6.0"
  }
 },
 "nbformat": 4,
 "nbformat_minor": 2
}
