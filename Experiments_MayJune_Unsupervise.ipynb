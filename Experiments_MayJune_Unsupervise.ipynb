{
 "cells": [
  {
   "cell_type": "code",
   "execution_count": 1,
   "metadata": {
    "collapsed": false
   },
   "outputs": [
    {
     "name": "stderr",
     "output_type": "stream",
     "text": [
      "Using TensorFlow backend.\n"
     ]
    }
   ],
   "source": [
    "from Models import *\n",
    "from Utils import *\n",
    "import warnings\n",
    "warnings.filterwarnings('ignore')"
   ]
  },
  {
   "cell_type": "code",
   "execution_count": 5,
   "metadata": {
    "collapsed": false
   },
   "outputs": [],
   "source": [
    "# load pre-trained trigram\n",
    "tokeniser = L3wTransformer()\n",
    "tokeniser = tokeniser.load(\"/work/data/trigram/%s\" % \"2M_50k_trigram\")"
   ]
  },
  {
   "cell_type": "code",
   "execution_count": 164,
   "metadata": {
    "collapsed": true
   },
   "outputs": [],
   "source": [
    "df_july, qrel_july = get_test_data(\"JulyFlower\")"
   ]
  },
  {
   "cell_type": "code",
   "execution_count": 165,
   "metadata": {
    "collapsed": false
   },
   "outputs": [
    {
     "data": {
      "text/plain": [
       "['hives causes',\n",
       " 'difference between whey protein and whey protein isolate',\n",
       " 'average cost of kybella',\n",
       " 'macular hole surgery recovery',\n",
       " 'kirstin powers',\n",
       " 'top capital gains tax rate 2017',\n",
       " 'the peroidic table',\n",
       " 'warren buffett net worth 2014',\n",
       " 'how long spaghetti sauce in refrigerator',\n",
       " 'how do they make cynder blocks',\n",
       " 'rick riordan books',\n",
       " 'colon cancer symptoms in women',\n",
       " 'jellyfish sting treatment',\n",
       " 'american horror story season 4',\n",
       " 'act for america brigitte gabriel',\n",
       " '2015 miss america competition',\n",
       " 'how to get rid of pimples',\n",
       " 'when to plant daffodil bulbs',\n",
       " 'how do you grill salmon',\n",
       " 'chevy monte carlo',\n",
       " 'AGIGoodadi airport',\n",
       " 'is coal the leading energy source',\n",
       " 'what does f*** you mean?',\n",
       " 'painful injection in buttocks',\n",
       " 'lamborghini aventador',\n",
       " 'wikipedia barretts esophagus',\n",
       " 'apa intext citations',\n",
       " 'car salesman kidnapped',\n",
       " 'adt customer service',\n",
       " 'how old are the rocky mountains',\n",
       " 'fiu football',\n",
       " 'a+ federal credit union',\n",
       " 'eye injection for macular degeneration',\n",
       " 'uranus how far from the sun',\n",
       " 'denver broncos 2014 football schedule',\n",
       " 'cancer of the bones',\n",
       " 'how much do auto dealership drivers make?',\n",
       " 'icloud for windows',\n",
       " 'phoenix local time',\n",
       " 'signs of a heartattack for men',\n",
       " 'old navy credit card center phone number',\n",
       " 'game of thrones hulu',\n",
       " 'can you paint over water base with oil base',\n",
       " 'clensing',\n",
       " 'is rice a grain',\n",
       " 'what is dana salary on fox',\n",
       " 'boardwalk empire season 5',\n",
       " 'characteristics of observant people',\n",
       " 'amber tamblyn net worth',\n",
       " 'which is a good conductor of electricity',\n",
       " 'calcuium carbonate',\n",
       " 'what is att mobile hotspot',\n",
       " 'antropomorphic',\n",
       " '4 inches equals how many centimeter',\n",
       " 'great white sharks habitat',\n",
       " 'cost of mining an ounce of gold',\n",
       " 'what does you triggered me mean in spanish',\n",
       " 'drugs used for depression',\n",
       " 'shrimp pasta alfredo',\n",
       " 'kinds of eggplant',\n",
       " 'where is my gmail mail?',\n",
       " 'california adventure park',\n",
       " 'calories in chicken drumstick',\n",
       " 'google chrome tv',\n",
       " 'best paint for gourds',\n",
       " 'ankylosing spondylitis',\n",
       " 'worlds most dangerous road',\n",
       " 'author of dr jekyll and mr hyde',\n",
       " 'the five notes of the pentatonic scale are:',\n",
       " 'whats the average typing speed',\n",
       " 'high blood pressure causes in children',\n",
       " 'rewards',\n",
       " 'dimensions of a soccer goal',\n",
       " 'confederate capital during civil war',\n",
       " 'low blood pressure after surgery',\n",
       " 'what to do in gta 6',\n",
       " 'pilot training requirements',\n",
       " 'benefits for veterans',\n",
       " 'network storage drive',\n",
       " 'why is my lawnmower smoking',\n",
       " 'beverly hills md dark circle corrector',\n",
       " 'apple id password reset',\n",
       " 'the madness of king george',\n",
       " '22 inches to centimeters',\n",
       " 'professional services as job description',\n",
       " 'chair rail molding',\n",
       " 'yellow teeth to white teeth',\n",
       " 'best resources for salary range',\n",
       " 'who is jon garland wife',\n",
       " 'tallest water slide in the world',\n",
       " 'california condor',\n",
       " 'leonardo dicaprio wife name',\n",
       " 'the country that links north and south america',\n",
       " 'securities in stock market',\n",
       " 'hepatitis b vaccine',\n",
       " 'white house black market outlet store',\n",
       " 'history of b',\n",
       " 'easy chicken breast recipes crock pot',\n",
       " 'sarah jessica parker movie',\n",
       " 'latin meaning of silvan',\n",
       " 'where do horses race',\n",
       " 'annual temperature range ia',\n",
       " 'aks foundation',\n",
       " '2014 hsa max',\n",
       " 'psoriasis treatment',\n",
       " 'indianapolis white river state park',\n",
       " 'what is the meaning of c in r',\n",
       " 'acral lentiginous melanoma prognosis',\n",
       " 'lung cancer after kidney cancer',\n",
       " 'how many yards to a mile',\n",
       " 'william howard taft',\n",
       " 'eggs in the microwave',\n",
       " 'radio city music hall',\n",
       " 'super class in java',\n",
       " 'dawn of the planet of the apes review',\n",
       " 'adolf hitler',\n",
       " 'actors from the omen',\n",
       " 'causes of lack of communication',\n",
       " 'spiritual meaning of 6',\n",
       " 'blood pressure monitor',\n",
       " 'bank of america short sale package',\n",
       " 'signs of a heartattack for men',\n",
       " 'planet hollywood las vegas',\n",
       " 'signs of a heartattack for men',\n",
       " 'bruised heel cure',\n",
       " 'central market lancaster',\n",
       " 'olympic gold medalists for the united states',\n",
       " 'how does smoking affect your body',\n",
       " 'arcadia university',\n",
       " 'prozac for dogs',\n",
       " 'david baldacci list of books',\n",
       " 'jack of eagles',\n",
       " 'hepatitis c',\n",
       " 'deadliest plane in the world',\n",
       " 'is my transmission going out',\n",
       " 'summary of justification',\n",
       " 'clayton county in ga',\n",
       " 'desktops windows 10',\n",
       " 'cleaning stains from vinyl siding',\n",
       " 'salton sea history',\n",
       " 'barbies measurements',\n",
       " 'antibiotics folliculitis',\n",
       " '1999 honda accord mpg',\n",
       " 'registering to vote in colorado',\n",
       " 'when did california become a state',\n",
       " 'difference between ecg and ekg',\n",
       " 'concordia moorhead room and board',\n",
       " 'mn minimum wage increase',\n",
       " 'what are your interests',\n",
       " 'joey lawrence',\n",
       " 'and so it goes trailer',\n",
       " 'apple app store iphone',\n",
       " 'benedict cumberbatch',\n",
       " 'all inclusive cruises',\n",
       " 'walmart locations near me',\n",
       " 'cancerous fibroids symptoms',\n",
       " 'fried chicken in chicago',\n",
       " 'tools egyptians used build pyramids',\n",
       " 'rebecca de mornay movies',\n",
       " 'anxiety disorders and adhd',\n",
       " 'lena headey game of thrones',\n",
       " 'powder to put on vomit',\n",
       " 'stockholm syndrome',\n",
       " 'where do horses race',\n",
       " 'daylight at equator',\n",
       " 'radio city music hall address',\n",
       " 'andy warhol museum',\n",
       " '2002 toyota tacoma',\n",
       " 'employee services portal',\n",
       " 'homepages for internet explorer',\n",
       " 'and so it goes trailer',\n",
       " 'best handguns for women',\n",
       " 'imrl definition',\n",
       " '1998 bmw z3',\n",
       " 'football player kills wife',\n",
       " 'mel gibson',\n",
       " 'helen keller achievements',\n",
       " 'sodium laureth phosphate',\n",
       " 'iceland day light',\n",
       " '2015 toyota highlander',\n",
       " 'author of dr jekyll and mr hyde',\n",
       " '5 month old lab',\n",
       " 'definition grievance',\n",
       " 'kendall jenner last name',\n",
       " 'rental trucks to move',\n",
       " 'leaperd sharks',\n",
       " 'acura cars',\n",
       " 'dancing with the stars',\n",
       " 'red symbolism',\n",
       " 'next gen science standards',\n",
       " 'american horror story season 4',\n",
       " 'birmingham england botanical gardens',\n",
       " 'average cost of kybella',\n",
       " 'employer contribution to hsa taxable',\n",
       " 'where is my gmail mail?',\n",
       " 'change address on paypal',\n",
       " 'airbag recall for honda',\n",
       " 'bank of america credit card',\n",
       " 'alltel wireless',\n",
       " 'what does f*** you mean?',\n",
       " 'what kind of name is koepka',\n",
       " '1st class letter to canada',\n",
       " 'numb feet',\n",
       " 'family feud halloween',\n",
       " 'the western regions of east asia are',\n",
       " 'los cabos',\n",
       " 'is doge dead',\n",
       " 'benedict cumberbatch age',\n",
       " 'food for marijuana plants',\n",
       " 'a shed',\n",
       " 'oven fried green tomatoes',\n",
       " 'average cost of kybella',\n",
       " 'which muscle open jaw',\n",
       " '646 area code',\n",
       " 'thiamine food',\n",
       " 'when is gay pride parade in nyc 2018',\n",
       " 'can guinea pigs eat carrots',\n",
       " 'virginia federal income tax rate',\n",
       " 'definition of canceled check',\n",
       " 'how many grams of fat to gain a pound',\n",
       " 'employment agency',\n",
       " 'should you get rental car insurance',\n",
       " 'technical college of lowcountry',\n",
       " 'leonardo dicaprio wife name',\n",
       " 'what is the first 3 numbers of a social security number mean',\n",
       " 'what level does tynamo evolve',\n",
       " 'h pylori',\n",
       " 'is marijuana bad for you',\n",
       " 'california condor',\n",
       " 'who is harvey milk',\n",
       " 'list of companies that hire felons',\n",
       " 'cbs live stream football',\n",
       " 'american egale',\n",
       " 'pharrell williams despicable me soundtrack',\n",
       " 'where is james best buried',\n",
       " '211 utah',\n",
       " 'flower parts and their functions',\n",
       " 'pinched nerve in lumbar region symptoms',\n",
       " 'texas knife laws',\n",
       " 'area of triangle calculator',\n",
       " 'how many yards to a mile',\n",
       " 'bridge with locks in paris',\n",
       " 'snap fitness membership prices',\n",
       " 'great smoky mountains national park',\n",
       " 'google.com/android/device manager',\n",
       " 'art institute of chicago',\n",
       " 'florida georgia line concerts',\n",
       " 'internet explorer how to set homepage',\n",
       " 'john paul jones musician',\n",
       " 'seismic retrofitting',\n",
       " 'cause of being dizzy',\n",
       " 'alex rodriguez yankees',\n",
       " 'the weather channel tyler weather',\n",
       " 'beyonce blow lyrics',\n",
       " 'donna mills actress',\n",
       " 'how to screen shot on a mac',\n",
       " 'removing smoke smell from house',\n",
       " \"why doesn't chrome open\",\n",
       " 'next gen science standards',\n",
       " 'west hollywood college',\n",
       " '4294967295',\n",
       " 'lord of the rings online',\n",
       " 'charlotte county school board',\n",
       " 'average monthly temperatures in destin beach, florida',\n",
       " 'average cost of kybella',\n",
       " 'when is gay pride parade in nyc 2017',\n",
       " 'zip code in netherlands',\n",
       " 'miller syndrome lissencephaly',\n",
       " 'first national bank credit card',\n",
       " 'jellyfish sting treatment',\n",
       " 'ehlers danlos vascular life expectancy',\n",
       " 'denny sanford premier center seating chart',\n",
       " 'motorcycle events in florida',\n",
       " 'types of pain relievers',\n",
       " 'who is the director of trainwreck',\n",
       " 'gas prices in cincinnati',\n",
       " 'christopher reeve movies',\n",
       " 'definition of plain',\n",
       " 'transitional urine cells',\n",
       " 'what level does tirtouga evolve',\n",
       " 'sores on roof of mouth',\n",
       " 'homemade ice cream makers',\n",
       " 'australian language',\n",
       " 'adolf hitler',\n",
       " 'national brain tumor society address',\n",
       " 'can guinea pigs eat carrots',\n",
       " 'ben bridge jewelry',\n",
       " 'how to neutralize battery acid',\n",
       " 'what do kinetic engineer invent',\n",
       " 'heartland award',\n",
       " 'paint colors for living room',\n",
       " 'coconut immune intolerance symptoms',\n",
       " 'crime rate in suwanee ga',\n",
       " 'do dogs get depressed',\n",
       " 'rod stewart best songs',\n",
       " 'clogging shoes',\n",
       " '407 area code',\n",
       " 'file extension pqr',\n",
       " '8 chararstics of all living things',\n",
       " 'what is brooke hyland doing now',\n",
       " 'gallbladder location',\n",
       " 'low cost auto insurance nj',\n",
       " 'adam',\n",
       " 'what kind of dog was in turner and hooch',\n",
       " 'vitamin c liposome encapsulated',\n",
       " 'military pay e7',\n",
       " 'alaska federal credit union',\n",
       " 'zyce name meaning',\n",
       " 'gretchen carlson',\n",
       " 'biggest waterslide in the world',\n",
       " 'reebok human rights award',\n",
       " 'old navy credit card center phone number',\n",
       " 'what to do in gta 5',\n",
       " 'harrisburg airport',\n",
       " 'cpap machines reviews',\n",
       " 'great smoky mountains national park',\n",
       " 'how many carrots in a cup',\n",
       " 'college of the ozarks',\n",
       " 'slow cooker',\n",
       " 'gift inventory',\n",
       " 'how long does it take for your body to recover after birth',\n",
       " 'irs contact number for tax returns',\n",
       " 'eggs in the microwave',\n",
       " 'zoe zaldana',\n",
       " 'how to make special brownies',\n",
       " 'where is the bahamas located',\n",
       " 'the pilot who landed the plane in the hudson river',\n",
       " 'actors from the omen',\n",
       " 'native tribes of arizona',\n",
       " '5 month old lab',\n",
       " 'clogging shoes',\n",
       " 'where is my gmail mail?',\n",
       " 'alltel wireless',\n",
       " 'barry manilow copacabana (at the copa)',\n",
       " 'biology movies',\n",
       " 'list of famous volcanoes',\n",
       " 'best diet for belly fat',\n",
       " 'leonardo dicaprio wife name',\n",
       " '84 lumber ithaca',\n",
       " 'why constitutional convention is important',\n",
       " 'midsomer murders cast',\n",
       " 'dish network remote control',\n",
       " 'tulsa tv stations',\n",
       " 'sunstrust online banking',\n",
       " 'irobot roomba',\n",
       " 'bipolar 1',\n",
       " 'drugs used for depression',\n",
       " 'acute gallbladder attack symptoms',\n",
       " '2014 senate primary election results',\n",
       " 'lies my history teacher told',\n",
       " 'what to eat when you get your wisdom teeth taken out',\n",
       " 'ruby throated humming bird scientific name',\n",
       " 'pinched nerve in lumbar region symptoms',\n",
       " 'types of cerner certifications',\n",
       " 'the peroidic table',\n",
       " 'bio examples',\n",
       " 'dream analysis',\n",
       " 'boy names with the t',\n",
       " 'amitabh bachchan news',\n",
       " 'finding nemo cast',\n",
       " 'hungry hearts',\n",
       " 'delta review',\n",
       " 'how to manage who sees your photos on facebook',\n",
       " 'butternut squash recipes',\n",
       " 'what does f*** you mean?',\n",
       " 'how to freeze snow peas',\n",
       " 'federal fiscal year 17',\n",
       " 'symptoms of ebola',\n",
       " 'second highest mountain in the world',\n",
       " 'can i gift a car',\n",
       " 'how do you grill salmon',\n",
       " 'diabetes and neuropathy',\n",
       " 'alec benjamin age',\n",
       " 'pittock mansion',\n",
       " 'who are they movie',\n",
       " 'what detects autism',\n",
       " 'alec benjamin age',\n",
       " 'childrens hospital',\n",
       " 'homepages for internet explorer',\n",
       " 'great white sharks habitat',\n",
       " 'examples of resumes',\n",
       " 'number 8 in chinese',\n",
       " 'windows developer mode',\n",
       " 'lazyboy furniture',\n",
       " 'cord of wood dimensions',\n",
       " 'letters of john',\n",
       " 'symptoms of bad ram memory',\n",
       " 'allina health',\n",
       " 'states which legalized marijuana',\n",
       " 'super class in java',\n",
       " 'secretary of state of michigan',\n",
       " 'zyvox patient assistance program',\n",
       " 'allison transmission',\n",
       " 'elmhurst memorial hospital',\n",
       " 'midsomer murders cast',\n",
       " 'how to get rid of a planters wart',\n",
       " 'carrie grant movies',\n",
       " 'secretary of state of maryland',\n",
       " '3d printing software',\n",
       " 'average monthly temperatures in destin beach, florida',\n",
       " 'how many sq ft in an acre',\n",
       " 'crime rate in suwanee ga',\n",
       " 'up big boy',\n",
       " 'crocosmia lucifer',\n",
       " 'icd 9 for thyroid nodule',\n",
       " 'berkshire hathaway stock',\n",
       " 'gardening zones in the united states',\n",
       " 'coldwell banker realty',\n",
       " 'good questions to ask in an interview',\n",
       " 'the pilot who landed the plane in the hudson river',\n",
       " '1921 silver dollar value',\n",
       " 'healthy baked apple slices',\n",
       " 'largest alligtor',\n",
       " 'meat loaf singer',\n",
       " 'free word processor programs',\n",
       " 'red hot chili peppers scar tissue',\n",
       " 'calorie per joule',\n",
       " '100 grams equals how many kilograms',\n",
       " 'kinds of arthritis',\n",
       " 'what is the second amendment',\n",
       " 'fire ant reaction',\n",
       " 'average cost of car 2017',\n",
       " 'police radar how it works',\n",
       " 'average monthly temperatures in destin beach, florida',\n",
       " 'u of a transfer credit',\n",
       " 'where is james best buried']"
      ]
     },
     "execution_count": 165,
     "metadata": {},
     "output_type": "execute_result"
    }
   ],
   "source": [
    "df_july.q.tolist()"
   ]
  },
  {
   "cell_type": "code",
   "execution_count": 168,
   "metadata": {
    "collapsed": false
   },
   "outputs": [
    {
     "data": {
      "text/plain": [
       "[49881, 0, 2095, 1972, 36, 6450, 6450, 49881, 0]"
      ]
     },
     "execution_count": 168,
     "metadata": {},
     "output_type": "execute_result"
    }
   ],
   "source": [
    "import sentencepiece as spm\n",
    "s = spm.SentencePieceProcessor()\n",
    "s.Load('/work/data/bpe/en.wiki.bpe.op50000.model')\n",
    "s.EncodeAsIds(\"I love you ddddd 9\")"
   ]
  },
  {
   "cell_type": "code",
   "execution_count": 211,
   "metadata": {
    "collapsed": false
   },
   "outputs": [],
   "source": [
    "import sentencepiece as spm\n",
    "sp = spm.SentencePieceProcessor()\n",
    "sp.Load('/work/data/bpe/en.wiki.bpe.op50000.model')\n",
    "text = \"test this one\""
   ]
  },
  {
   "cell_type": "code",
   "execution_count": 227,
   "metadata": {
    "collapsed": true
   },
   "outputs": [],
   "source": [
    "q = []\n",
    "for text in df_july.q.tolist():\n",
    "    q.append([model.index2word.index(t) if t in model.index2word else model.index2word.index('<unk>') for t in sp.EncodeAsPieces(text)])\n",
    "q = pad_sequences(q, 10)"
   ]
  },
  {
   "cell_type": "code",
   "execution_count": 228,
   "metadata": {
    "collapsed": true
   },
   "outputs": [],
   "source": [
    "d = []\n",
    "for text in df_july.d.tolist():\n",
    "    d.append([model.index2word.index(t) if t in model.index2word else model.index2word.index('<unk>') for t in sp.EncodeAsPieces(text)])\n",
    "\n",
    "d = pad_sequences(d, 10)"
   ]
  },
  {
   "cell_type": "code",
   "execution_count": 231,
   "metadata": {
    "collapsed": true
   },
   "outputs": [],
   "source": [
    "from keras.layers import Dense, Input, GlobalMaxPooling1D, GlobalAveragePooling1D\n",
    "from keras.layers import Conv1D, MaxPooling1D, Embedding\n",
    "from keras.models import Sequential\n",
    "\n",
    "w2v = Sequential()\n",
    "w2v.add(model.get_keras_embedding(train_embeddings=False))\n",
    "w2v.add(GlobalAveragePooling1D())\n",
    "\n",
    "pred = get_cosine_sim(w2v.predict(q), w2v.predict(d))\n"
   ]
  },
  {
   "cell_type": "code",
   "execution_count": 232,
   "metadata": {
    "collapsed": false
   },
   "outputs": [
    {
     "data": {
      "text/plain": [
       "0.5321666036602992"
      ]
     },
     "execution_count": 232,
     "metadata": {},
     "output_type": "execute_result"
    }
   ],
   "source": [
    "auc(df_july.label.values, pred)"
   ]
  },
  {
   "cell_type": "code",
   "execution_count": 233,
   "metadata": {
    "collapsed": false
   },
   "outputs": [
    {
     "data": {
      "text/plain": [
       "True"
      ]
     },
     "execution_count": 233,
     "metadata": {},
     "output_type": "execute_result"
    }
   ],
   "source": [
    "\"BPE\" in \"50K_BPE\""
   ]
  },
  {
   "cell_type": "code",
   "execution_count": 97,
   "metadata": {
    "collapsed": true
   },
   "outputs": [],
   "source": [
    "from gensim.models import KeyedVectors\n",
    "model = KeyedVectors.load_word2vec_format(\"/work/data/bpe/en.wiki.bpe.op50000.d200.w2v.bin\", binary=True)"
   ]
  },
  {
   "cell_type": "code",
   "execution_count": 10,
   "metadata": {
    "collapsed": true
   },
   "outputs": [],
   "source": [
    "cosine = CosineSim(feature_num=nb_words)"
   ]
  },
  {
   "cell_type": "code",
   "execution_count": 13,
   "metadata": {
    "collapsed": false
   },
   "outputs": [
    {
     "data": {
      "text/plain": [
       "0.5060819675776647"
      ]
     },
     "execution_count": 13,
     "metadata": {},
     "output_type": "execute_result"
    }
   ],
   "source": [
    "pred = cosine.model.predict([q_july, d_july]).flatten()\n",
    "auc(qrel_july, pred)"
   ]
  },
  {
   "cell_type": "code",
   "execution_count": 3,
   "metadata": {
    "collapsed": false,
    "scrolled": true
   },
   "outputs": [
    {
     "name": "stdout",
     "output_type": "stream",
     "text": [
      "NDCG: 0.795042\n",
      "MAP: 0.690643\n"
     ]
    }
   ],
   "source": [
    "\n",
    "pred = cosine.model.predict([q_test, d_test])\n",
    "pred = convert_2_trec(df_test.q.tolist(), df_test.d.tolist(), pred, isQrel=False)\n",
    "evaluate(qrel, pred)"
   ]
  },
  {
   "cell_type": "code",
   "execution_count": 36,
   "metadata": {
    "collapsed": false
   },
   "outputs": [],
   "source": [
    "from keras.preprocessing.text import Tokenizer\n",
    "from keras.preprocessing.sequence import pad_sequences\n",
    "\n",
    "MAX_NB_WORDS = 100000\n",
    "MAX_SEQUENCE_LENGTH = 30\n",
    "\n",
    "# tokenizer = Tokenizer(num_words=MAX_NB_WORDS)\n",
    "# tokenizer.fit_on_texts(texts)\n",
    "# sequences = tokenizer.texts_to_sequences(texts)\n",
    "\n",
    "def get_pretrain_w2v(tokeniser, nb_words):\n",
    "    \n",
    "    with open(r\"/data/t-mipha/data/agi_encoder/v4/universal/embedding_dict.pkl\", \"rb\") as input_file:\n",
    "        embeddings_index = pickle.load(input_file)\n",
    "    \n",
    "    \n",
    "    emb_dim = len(embeddings_index['test'])\n",
    "    \n",
    "    word_index = tokeniser.word_index\n",
    "    print('Found %s unique tokens.' % len(word_index))\n",
    "    nb_words = min(nb_words, len(word_index) + 1)\n",
    "    \n",
    "    embedding_matrix = np.zeros((nb_words, emb_dim))\n",
    "    for word, i in word_index.items():\n",
    "        if i >= nb_words:\n",
    "            continue\n",
    "        embedding_vector = embeddings_index.get(word)\n",
    "        if embedding_vector is not None:\n",
    "            # words not found in embedding index will be all-zeros.\n",
    "            embedding_matrix[i] = embedding_vector\n",
    "\n",
    "    return embedding_matrix, nb_words, emb_dim\n"
   ]
  },
  {
   "cell_type": "code",
   "execution_count": 37,
   "metadata": {
    "collapsed": false
   },
   "outputs": [
    {
     "name": "stdout",
     "output_type": "stream",
     "text": [
      "Found 382057 unique tokens.\n"
     ]
    }
   ],
   "source": [
    "embedding_matrix, nb_words, emb_dim = get_pretrain_w2v(tokeniser, nb_words)"
   ]
  },
  {
   "cell_type": "code",
   "execution_count": 206,
   "metadata": {
    "collapsed": true
   },
   "outputs": [],
   "source": [
    "model.get_keras_embedding?"
   ]
  },
  {
   "cell_type": "code",
   "execution_count": 42,
   "metadata": {
    "collapsed": false
   },
   "outputs": [
    {
     "name": "stdout",
     "output_type": "stream",
     "text": [
      "NDCG: 0.517653\n",
      "MAP: 0.500053\n"
     ]
    }
   ],
   "source": [
    "from keras.layers import Dense, Input, GlobalMaxPooling1D, GlobalAveragePooling1D\n",
    "from keras.layers import Conv1D, MaxPooling1D, Embedding\n",
    "from keras.models import Sequential\n",
    "\n",
    "\n",
    "# load pre-trained word embeddings into an Embedding layer\n",
    "# note that we set trainable = False so as to keep the embeddings fixed\n",
    "embedding_layer = Embedding(nb_words,\n",
    "                            emb_dim,\n",
    "                            weights=[embedding_matrix],\n",
    "                            input_length=max_len,\n",
    "                            trainable=False)\n",
    "\n",
    "w2v = Sequential()\n",
    "w2v.add(embedding_layer)\n",
    "w2v.add(GlobalAveragePooling1D())\n",
    "\n",
    "pred = get_cosine_sim(w2v.predict(q_test), w2v.predict(d_test))\n",
    "pred = convert_2_trec(df_test.q.tolist(), df_test.d.tolist(), pred, False)\n",
    "evaluate(qrel, pred)"
   ]
  },
  {
   "cell_type": "code",
   "execution_count": 41,
   "metadata": {
    "collapsed": false
   },
   "outputs": [],
   "source": []
  },
  {
   "cell_type": "code",
   "execution_count": null,
   "metadata": {
    "collapsed": true
   },
   "outputs": [],
   "source": [
    "class VAE_DSSM():\n",
    "\n",
    "    def __init__(self, hidden_dim=300, latent_dim=128, nb_words=50005, activation=\"relu\", emb=None):\n",
    "\n",
    "        self.hidden_dim = hidden_dim\n",
    "        self.latent_dim = latent_dim\n",
    "        self.nb_words = nb_words\n",
    "        self.activation = activation\n",
    "\n",
    "\n",
    "        x = Input(shape=(self.nb_words,))\n",
    "        \n",
    "        emb = emb\n",
    "        \n",
    "        lstm = LSTM(self.hidden_dim)\n",
    "\n",
    "        emb_x = lstm(emb(x))\n",
    "\n",
    "        vae_loss, encoded = self.build_encoder(emb_x)\n",
    "        self.encoder = Model(x, encoded)\n",
    "\n",
    "        encoded_input = Input(shape=(self.latent_dim,))\n",
    "\n",
    "        decoded = self.build_decoder(encoded_input)\n",
    "        self.decoder = Model(encoded_input, decoded)\n",
    "\n",
    "        self.model = Model(x, self.build_decoder(encoded))\n",
    "\n",
    "        self.model.compile(optimizer='Adam',\n",
    "                                 loss=vae_loss)\n",
    "        \n",
    "    def build_encoder(self, z):\n",
    "\n",
    "\n",
    "        def sampling(args):\n",
    "            z_mean_, z_log_var_ = args\n",
    "            batch_size = K.shape(z_mean_)[0]\n",
    "            latent_dim = K.shape(z_mean_)[1]\n",
    "            epsilon = K.random_normal(shape=(batch_size, latent_dim), mean=0., stddev=1)\n",
    "            return z_mean_ + K.exp(z_log_var_ / 2) * epsilon\n",
    "\n",
    "        z_mean = Dense(self.latent_dim, name='z_mean', activation='linear')(z)\n",
    "        z_log_var = Dense(self.latent_dim, name='z_log_var', activation='linear')(z)\n",
    "\n",
    "        def vae_loss(x, x_decoded_mean):\n",
    "            x = K.flatten(x)\n",
    "            x_decoded_mean = K.flatten(x_decoded_mean)\n",
    "            xent_loss = objectives.binary_crossentropy(x, x_decoded_mean)\n",
    "            kl_loss = - 0.5 * K.mean(1 + z_log_var - K.square(z_mean) - K.exp(z_log_var), axis=-1)\n",
    "            return xent_loss + kl_loss\n",
    "\n",
    "        return (vae_loss, Lambda(sampling, output_shape=(self.latent_dim,), name='lambda')([z_mean, z_log_var]))\n",
    "    \n",
    "    def build_decoder(self, encoded):\n",
    "\n",
    "        h = Dense(self.hidden_dim, activation=self.activation)(encoded)\n",
    "        decoded = Dense(self.nb_words, activation='sigmoid', name='decoded_mean')(h)\n",
    "        \n",
    "        return decoded\n",
    "\n",
    "    def get_name(self):\n",
    "        return \"vae_dssm_h%d_l%d_w%d_%s\" % (self.hidden_dim, self.latent_dim, self.nb_words, self.activation)\n",
    "\n",
    "\n",
    "    def batch_generator(self, reader, train_data, tokeniser, batch_size, max_len, nb_words):\n",
    "        while True:\n",
    "            for df in reader:\n",
    "                q = df.q.tolist()\n",
    "                if train_data == \"1M_EN_QQ_log\":\n",
    "                    d = [i.split(\"<sep>\")[0] for i in df.d.tolist()]\n",
    "                else:\n",
    "                    d = df.d.tolist()\n",
    "                \n",
    "                q = pad_sequences(tokeniser.texts_to_sequences(q), maxlen=max_len)\n",
    "                \n",
    "                q_one_hot = np.zeros((batch_size, nb_words))\n",
    "                for i in range(len(q)):\n",
    "                    q_one_hot[i][q[i]] = 1\n",
    "                    \n",
    "                \n",
    "                yield q_one_hot, q_one_hot"
   ]
  }
 ],
 "metadata": {
  "kernelspec": {
   "display_name": "Python 3",
   "language": "python",
   "name": "python3"
  },
  "language_info": {
   "codemirror_mode": {
    "name": "ipython",
    "version": 3
   },
   "file_extension": ".py",
   "mimetype": "text/x-python",
   "name": "python",
   "nbconvert_exporter": "python",
   "pygments_lexer": "ipython3",
   "version": "3.6.0"
  }
 },
 "nbformat": 4,
 "nbformat_minor": 2
}
