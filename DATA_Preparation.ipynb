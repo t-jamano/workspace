{
 "cells": [
  {
   "cell_type": "code",
   "execution_count": 1,
   "metadata": {
    "collapsed": false
   },
   "outputs": [
    {
     "name": "stderr",
     "output_type": "stream",
     "text": [
      "Using TensorFlow backend.\n"
     ]
    }
   ],
   "source": [
    "from Models import *\n",
    "from Utils import *\n",
    "import warnings\n",
    "# warnings.filterwarnings('ignore')"
   ]
  },
  {
   "cell_type": "code",
   "execution_count": 2,
   "metadata": {
    "collapsed": false
   },
   "outputs": [],
   "source": [
    "from gensim.models import KeyedVectors\n",
    "import sentencepiece as spm\n",
    "sp = spm.SentencePieceProcessor()\n",
    "sp.Load('/work/data/bpe/en.wiki.bpe.op50000.model')\n",
    "bpe = KeyedVectors.load_word2vec_format(\"/work/data/bpe/en.wiki.bpe.op50000.d200.w2v.bin\", binary=True)"
   ]
  },
  {
   "cell_type": "code",
   "execution_count": 3,
   "metadata": {
    "collapsed": false
   },
   "outputs": [],
   "source": [
    "df = pd.read_csv(\"/work/data/train_data/30M_QD.txt\", nrows=100000, usecols=[0,1,2], names=[\"label\",\"q\", \"d\"], sep=\"\\t\", header=None, error_bad_lines=False)\n"
   ]
  },
  {
   "cell_type": "code",
   "execution_count": 72,
   "metadata": {
    "collapsed": true
   },
   "outputs": [],
   "source": [
    "bpe_dict = { bpe.index2word[i]: i for i in range(len(bpe.index2word))}"
   ]
  },
  {
   "cell_type": "code",
   "execution_count": 8,
   "metadata": {
    "collapsed": false
   },
   "outputs": [
    {
     "name": "stderr",
     "output_type": "stream",
     "text": [
      "b'Skipping line 19898: expected 6 fields, saw 8\\nSkipping line 20620: expected 6 fields, saw 8\\nSkipping line 38039: expected 6 fields, saw 8\\n'\n"
     ]
    }
   ],
   "source": [
    "df_may, qrel_may = get_test_data(\"MayFlower\")\n",
    "df_june, qrel_june = get_test_data(\"JuneFlower\")\n",
    "df_july, qrel_july = get_test_data(\"JulyFlower\")\n"
   ]
  },
  {
   "cell_type": "code",
   "execution_count": 13,
   "metadata": {
    "collapsed": false
   },
   "outputs": [],
   "source": [
    "max_len = 10\n",
    "enablePadding = True\n",
    "\n",
    "q_may = parse_texts_bpe(df_may.q.tolist(), sp, bpe_dict, max_len, enablePadding)\n",
    "d_may = parse_texts_bpe(df_may.d.tolist(), sp, bpe_dict, max_len, enablePadding)\n",
    "\n",
    "q_june = parse_texts_bpe(df_june.q.tolist(), sp, bpe_dict, max_len, enablePadding)\n",
    "d_june = parse_texts_bpe(df_june.d.tolist(), sp, bpe_dict, max_len, enablePadding)\n",
    "\n",
    "\n",
    "q_july = parse_texts_bpe(df_july.q.tolist(), sp, bpe_dict, max_len, enablePadding)\n",
    "d_july = parse_texts_bpe(df_july.d.tolist(), sp, bpe_dict, max_len, enablePadding)\n",
    "\n"
   ]
  },
  {
   "cell_type": "code",
   "execution_count": 94,
   "metadata": {
    "collapsed": false
   },
   "outputs": [],
   "source": [
    "count = 0\n",
    "for i in q_june:\n",
    "    for j in i:\n",
    "        if j == bpe_dict['<unk>']:\n",
    "            count = count + 1\n"
   ]
  },
  {
   "cell_type": "code",
   "execution_count": 95,
   "metadata": {
    "collapsed": false
   },
   "outputs": [
    {
     "data": {
      "text/plain": [
       "397970"
      ]
     },
     "execution_count": 95,
     "metadata": {},
     "output_type": "execute_result"
    }
   ],
   "source": [
    "np.sum([len(i) for i in q_june])"
   ]
  },
  {
   "cell_type": "code",
   "execution_count": 96,
   "metadata": {
    "collapsed": false
   },
   "outputs": [
    {
     "data": {
      "text/plain": [
       "2736"
      ]
     },
     "execution_count": 96,
     "metadata": {},
     "output_type": "execute_result"
    }
   ],
   "source": [
    "count"
   ]
  },
  {
   "cell_type": "code",
   "execution_count": 97,
   "metadata": {
    "collapsed": false
   },
   "outputs": [],
   "source": [
    "from keras.layers import Dense, Input, GlobalMaxPooling1D, GlobalAveragePooling1D\n",
    "from keras.layers import Conv1D, MaxPooling1D, Embedding\n",
    "from keras.models import Sequential\n",
    "\n",
    "w2v = Sequential()\n",
    "w2v.add(bpe.get_keras_embedding(train_embeddings=False))\n",
    "w2v.add(GlobalAveragePooling1D())\n",
    "\n",
    "pred = get_cosine_sim(w2v.predict(q_july), w2v.predict(d_july))\n"
   ]
  },
  {
   "cell_type": "code",
   "execution_count": 98,
   "metadata": {
    "collapsed": false
   },
   "outputs": [
    {
     "data": {
      "text/plain": [
       "0.5321666036602992"
      ]
     },
     "execution_count": 98,
     "metadata": {},
     "output_type": "execute_result"
    }
   ],
   "source": [
    "auc(df_july.label.values, pred)"
   ]
  },
  {
   "cell_type": "code",
   "execution_count": 3,
   "metadata": {
    "collapsed": false
   },
   "outputs": [
    {
     "name": "stdout",
     "output_type": "stream",
     "text": [
      "CPU times: user 22min 23s, sys: 1min 22s, total: 23min 46s\n",
      "Wall time: 29min 14s\n"
     ]
    }
   ],
   "source": [
    "%%time\n",
    "count = 0\n",
    "file = open(\"/work/workspace/Texygen/data/1M_Query_GAN\", \"a+\") \n",
    "with open (\"/data/chzho/deepqts/train_data/unifiedclick/join_oneyearsample_2B_training_all_top10\", \"r\") as myfile:\n",
    "    for line in myfile:\n",
    "        s = line.split(\"\\t\")\n",
    "        market = s[5]\n",
    "        if \"en-\" not in market:\n",
    "            continue\n",
    "        \n",
    "#         re.sub(r'\\W+', ' ', s[1].lower())\n",
    "#         file.write(\"%s\\t%s\\t%s\\n\" % (s[0], re.sub(r'\\W+', ' ', s[1].lower()), re.sub(r'\\W+', ' ', s[3].lower())))\n",
    "\n",
    "        count = count + 1\n",
    "\n",
    "        if count > 1000000:\n",
    "            break\n",
    "        break\n",
    "file.close()"
   ]
  },
  {
   "cell_type": "code",
   "execution_count": 4,
   "metadata": {
    "collapsed": false
   },
   "outputs": [
    {
     "name": "stdout",
     "output_type": "stream",
     "text": [
      "Epoch 1/3\n",
      "32/32 [==============================] - 1s 23ms/step - loss: 11.5255\b\b\b\b\b\b\b\b\b\b\b\b\b\b\b\b\b\b\b\b\b\b\b\b\b\b\b\b\b\b\b\b\b\b\b\b\b\b\b\b\b\b\b\b\b\b\b\b\b\b\b\b\b\b\b\b\b\b\b\n",
      "Epoch 2/3\n",
      "32/32 [==============================] - 0s 182us/step - loss: 11.4506\b\b\b\b\b\b\b\b\b\b\b\b\b\b\b\b\b\b\b\b\b\b\b\b\b\b\b\b\b\b\b\b\b\b\b\b\b\b\b\b\b\b\b\b\b\b\b\b\b\b\b\b\b\b\b\b\b\b\n",
      "Epoch 3/3\n",
      "32/32 [==============================] - 0s 190us/step - loss: 11.4304\b\b\b\b\b\b\b\b\b\b\b\b\b\b\b\b\b\b\b\b\b\b\b\b\b\b\b\b\b\b\b\b\b\b\b\b\b\b\b\b\b\b\b\b\b\b\b\b\b\b\b\b\b\b\b\b\b\b\n"
     ]
    },
    {
     "data": {
      "text/plain": [
       "<keras.callbacks.History at 0x7f0c6d626c88>"
      ]
     },
     "execution_count": 4,
     "metadata": {},
     "output_type": "execute_result"
    }
   ],
   "source": [
    "import keras\n",
    "import numpy as np\n",
    "\n",
    "model = keras.Sequential()\n",
    "model.add(keras.layers.Dense(10, input_shape=(5, 6)))\n",
    "\n",
    "model.compile(optimizer='adam',\n",
    "              loss='sparse_categorical_crossentropy')\n",
    "\n",
    "x_data = np.random.random((32, 5, 6))\n",
    "y_data = np.random.randint(0, 9, size=(32,5,1))\n",
    "\n",
    "model.fit(x=x_data, y=y_data, batch_size=16, epochs=3)"
   ]
  },
  {
   "cell_type": "code",
   "execution_count": 68,
   "metadata": {
    "collapsed": false
   },
   "outputs": [
    {
     "name": "stdout",
     "output_type": "stream",
     "text": [
      "CPU times: user 27 s, sys: 376 ms, total: 27.4 s\n",
      "Wall time: 27.6 s\n"
     ]
    }
   ],
   "source": [
    "%%time\n",
    "count = 0\n",
    "file = open(\"/work/data/train_data/QueryQueryLog\", \"a+\") \n",
    "query = []\n",
    "with open (\"/work/data/train_data/1M_EN_QQ_log\", \"r\") as myfile:\n",
    "    for line in myfile:\n",
    "        s = line.replace(\"\\n\", \"\").split(\"\\t\")\n",
    "#         print(line)\n",
    "        if len(s) < 2:\n",
    "            continue\n",
    "        tmp = s[1].split(\"<sep>\")\n",
    "        \n",
    "        __ = re.sub(r'\\W+', ' ', s[0].lower())\n",
    "        for i in tmp:\n",
    "            _ = re.sub(r'\\W+', ' ', i.lower())\n",
    "            \n",
    "            file.write(__+\"\\t\"+_+\"\\t1\\n\")\n",
    "        \n",
    "file.close()"
   ]
  },
  {
   "cell_type": "code",
   "execution_count": null,
   "metadata": {
    "collapsed": true
   },
   "outputs": [],
   "source": [
    "%%time\n",
    "count = 0\n",
    "file = open(\"/work/data/train_data/QueryLogBPE\", \"a+\") \n",
    "query = []\n",
    "with open (\"/work/data/train_data/1M_EN_QQ_log\", \"r\") as myfile:\n",
    "    for line in myfile:\n",
    "        s = line.replace(\"\\n\", \"\").split(\"\\t\")\n",
    "#         print(line)\n",
    "        if len(s) < 2:\n",
    "            continue\n",
    "        tmp = s[1].split(\"<sep>\")\n",
    "        \n",
    "        __ = re.sub(r'\\W+', ' ', s[0].lower())\n",
    "        for i in tmp:\n",
    "            _ = re.sub(r'\\W+', ' ', i.lower())\n",
    "            \n",
    "            file.write(__+\"\\t\"+_+\"\\t1\\n\")\n",
    "        \n",
    "file.close()"
   ]
  },
  {
   "cell_type": "code",
   "execution_count": 42,
   "metadata": {
    "collapsed": true
   },
   "outputs": [],
   "source": [
    "df = pd.read_csv(\"/work/data/train_data/QueryLog\", names=[\"q\"], sep=\"\\t\", header=None, error_bad_lines=False)\n"
   ]
  },
  {
   "cell_type": "code",
   "execution_count": 65,
   "metadata": {
    "collapsed": false
   },
   "outputs": [
    {
     "name": "stdout",
     "output_type": "stream",
     "text": [
      "CPU times: user 1min 41s, sys: 696 ms, total: 1min 42s\n",
      "Wall time: 1min 41s\n"
     ]
    }
   ],
   "source": [
    "%%time\n",
    "df_bpe_token = set([])\n",
    "for i in df.q.tolist():\n",
    "    for j in sp.EncodeAsPieces(i):\n",
    "        df_bpe_token.add(j)\n"
   ]
  },
  {
   "cell_type": "code",
   "execution_count": 124,
   "metadata": {
    "collapsed": false
   },
   "outputs": [
    {
     "data": {
      "text/plain": [
       "561556"
      ]
     },
     "execution_count": 124,
     "metadata": {},
     "output_type": "execute_result"
    }
   ],
   "source": [
    "len(df_token)"
   ]
  },
  {
   "cell_type": "code",
   "execution_count": 45,
   "metadata": {
    "collapsed": false
   },
   "outputs": [],
   "source": [
    "df_token = set([])\n",
    "july_token = set([])\n",
    "\n",
    "for i in df.q.tolist():\n",
    "    for j in i.split():\n",
    "        df_token.add(j)\n"
   ]
  },
  {
   "cell_type": "code",
   "execution_count": 47,
   "metadata": {
    "collapsed": false
   },
   "outputs": [
    {
     "name": "stderr",
     "output_type": "stream",
     "text": [
      "b'Skipping line 19898: expected 6 fields, saw 8\\nSkipping line 20620: expected 6 fields, saw 8\\nSkipping line 38039: expected 6 fields, saw 8\\n'\n"
     ]
    }
   ],
   "source": [
    "df_may, qrel_may = get_test_data(\"MayFlower\", \"/work/\")\n",
    "df_june, qrel_june = get_test_data(\"JuneFlower\", \"/work/\")\n",
    "df_july, qrel_july = get_test_data(\"JulyFlower\", \"/work/\")"
   ]
  },
  {
   "cell_type": "code",
   "execution_count": 64,
   "metadata": {
    "collapsed": false
   },
   "outputs": [
    {
     "name": "stdout",
     "output_type": "stream",
     "text": [
      "Term Overlap between train and test dataset. QueryLog\n",
      "12853\n",
      "9648\n",
      "13351\n",
      "8799\n",
      "1372\n",
      "1310\n"
     ]
    }
   ],
   "source": [
    "print(\"Term Overlap between train and test dataset. QueryLog\")\n",
    "for a in [df_may, df_june, df_july]:\n",
    "    token = set([])\n",
    "    for i in a.q.tolist() + a.d.tolist():\n",
    "        for j in i.split():\n",
    "            token.add(j)\n",
    "    print(len(token))\n",
    "    print(len(df_token.intersection(token)))"
   ]
  },
  {
   "cell_type": "code",
   "execution_count": 66,
   "metadata": {
    "collapsed": false
   },
   "outputs": [
    {
     "name": "stdout",
     "output_type": "stream",
     "text": [
      "BPE tokens overlap between train and test dataset. QueryLog\n",
      "11276\n",
      "10734\n",
      "10280\n",
      "10162\n",
      "1556\n",
      "1525\n"
     ]
    }
   ],
   "source": [
    "print(\"BPE tokens overlap between train and test dataset. QueryLog\")\n",
    "for a in [df_may, df_june, df_july]:\n",
    "    token = set([])\n",
    "    for i in a.q.tolist() + a.d.tolist():\n",
    "        for j in sp.EncodeAsPieces(i):\n",
    "            token.add(j)\n",
    "    print(len(token))\n",
    "    print(len(df_bpe_token.intersection(token)))"
   ]
  },
  {
   "cell_type": "code",
   "execution_count": 69,
   "metadata": {
    "collapsed": true
   },
   "outputs": [],
   "source": [
    "df = pd.read_csv(\"/work/data/train_data/QueryLog\", names=[\"q\"], sep=\"\\t\", header=None, error_bad_lines=False)"
   ]
  },
  {
   "cell_type": "code",
   "execution_count": 74,
   "metadata": {
    "collapsed": false
   },
   "outputs": [
    {
     "name": "stdout",
     "output_type": "stream",
     "text": [
      "CPU times: user 2min 40s, sys: 1.76 s, total: 2min 42s\n",
      "Wall time: 2min 40s\n"
     ]
    }
   ],
   "source": [
    "%%time\n",
    "q_df = parse_texts_bpe(df.q.tolist(), sp, bpe_dict, 5, enablePadding=True)\n"
   ]
  },
  {
   "cell_type": "code",
   "execution_count": 95,
   "metadata": {
    "collapsed": false
   },
   "outputs": [],
   "source": [
    "x_test_reconstructed = np.random.randint(5, size=(1,5, 5))\n",
    "sent_idx = 0\n",
    "reconstructed_indexes = np.apply_along_axis(np.argmax, 1, x_test_reconstructed[sent_idx])\n"
   ]
  },
  {
   "cell_type": "code",
   "execution_count": 96,
   "metadata": {
    "collapsed": false
   },
   "outputs": [
    {
     "data": {
      "text/plain": [
       "array([4, 2, 2, 2, 0])"
      ]
     },
     "execution_count": 96,
     "metadata": {},
     "output_type": "execute_result"
    }
   ],
   "source": [
    "reconstructed_indexes"
   ]
  },
  {
   "cell_type": "code",
   "execution_count": 97,
   "metadata": {
    "collapsed": false
   },
   "outputs": [
    {
     "data": {
      "text/plain": [
       "array([[[3, 0, 0, 2, 4],\n",
       "        [2, 3, 4, 1, 1],\n",
       "        [1, 1, 2, 0, 2],\n",
       "        [0, 2, 4, 2, 1],\n",
       "        [4, 0, 3, 0, 4]]])"
      ]
     },
     "execution_count": 97,
     "metadata": {},
     "output_type": "execute_result"
    }
   ],
   "source": [
    "x_test_reconstructed"
   ]
  },
  {
   "cell_type": "code",
   "execution_count": 90,
   "metadata": {
    "collapsed": true
   },
   "outputs": [],
   "source": [
    "np.apply_along_axis?"
   ]
  },
  {
   "cell_type": "code",
   "execution_count": 119,
   "metadata": {
    "collapsed": false
   },
   "outputs": [],
   "source": [
    "a = np.random.randint(10, size=(1,4, 3))\n",
    "gen_y = np.argmax(a, axis=-1)\n"
   ]
  },
  {
   "cell_type": "code",
   "execution_count": 120,
   "metadata": {
    "collapsed": false
   },
   "outputs": [
    {
     "data": {
      "text/plain": [
       "array([[1, 0, 1, 0]])"
      ]
     },
     "execution_count": 120,
     "metadata": {},
     "output_type": "execute_result"
    }
   ],
   "source": [
    "gen_y"
   ]
  },
  {
   "cell_type": "code",
   "execution_count": 121,
   "metadata": {
    "collapsed": false
   },
   "outputs": [
    {
     "data": {
      "text/plain": [
       "array([1, 0, 1, 0])"
      ]
     },
     "execution_count": 121,
     "metadata": {},
     "output_type": "execute_result"
    }
   ],
   "source": [
    "np.apply_along_axis(np.argmax, 1, a[0])"
   ]
  },
  {
   "cell_type": "code",
   "execution_count": 122,
   "metadata": {
    "collapsed": false
   },
   "outputs": [
    {
     "data": {
      "text/plain": [
       "array([[[2, 7, 6],\n",
       "        [7, 5, 4],\n",
       "        [1, 3, 0],\n",
       "        [9, 5, 5]]])"
      ]
     },
     "execution_count": 122,
     "metadata": {},
     "output_type": "execute_result"
    }
   ],
   "source": [
    "a"
   ]
  },
  {
   "cell_type": "code",
   "execution_count": null,
   "metadata": {
    "collapsed": true
   },
   "outputs": [],
   "source": []
  }
 ],
 "metadata": {
  "kernelspec": {
   "display_name": "Python 3",
   "language": "python",
   "name": "python3"
  },
  "language_info": {
   "codemirror_mode": {
    "name": "ipython",
    "version": 3
   },
   "file_extension": ".py",
   "mimetype": "text/x-python",
   "name": "python",
   "nbconvert_exporter": "python",
   "pygments_lexer": "ipython3",
   "version": "3.6.0"
  }
 },
 "nbformat": 4,
 "nbformat_minor": 2
}
