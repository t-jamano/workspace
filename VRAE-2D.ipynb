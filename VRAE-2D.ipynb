{
 "cells": [
  {
   "cell_type": "code",
   "execution_count": 17,
   "metadata": {
    "collapsed": false
   },
   "outputs": [
    {
     "name": "stderr",
     "output_type": "stream",
     "text": [
      "b'Skipping line 19898: expected 6 fields, saw 8\\nSkipping line 20620: expected 6 fields, saw 8\\nSkipping line 38039: expected 6 fields, saw 8\\n'\n"
     ]
    },
    {
     "name": "stdout",
     "output_type": "stream",
     "text": [
      "Training Tokeniser\n"
     ]
    }
   ],
   "source": [
    "import tensorflow as tf\n",
    "config = tf.ConfigProto()\n",
    "config.gpu_options.per_process_gpu_memory_fraction = 0.5\n",
    "config.gpu_options.allow_growth = True\n",
    "session = tf.Session(config=config)\n",
    "\n",
    "import os\n",
    "import warnings\n",
    "warnings.filterwarnings('ignore')\n",
    "os.environ['TF_CPP_MIN_LOG_LEVEL'] = '3' \n",
    "\n",
    "\n",
    "from keras_tqdm import TQDMNotebookCallback\n",
    "from keras_tqdm import TQDMCallback\n",
    "\n",
    "from Utils import *\n",
    "from Models import *\n",
    "\n",
    "q_train, d_train, y_train, q_test, d_test, y_test, qrel, df, df_test, max_len, nb_words, tokeniser = get_data(sup_train_data=\"1M_qq_log\", test_data=\"JuneFlower\", tokenize= \"trigram\")\n",
    "\n",
    "\n",
    "\n",
    "\n"
   ]
  },
  {
   "cell_type": "code",
   "execution_count": 19,
   "metadata": {
    "collapsed": false
   },
   "outputs": [],
   "source": [
    "# import math\n",
    "# x = np.arange(113)\n",
    "# batch_size = 512\n",
    "# for i in range(math.ceil(len(q_train)/batch_size)):\n",
    "#     a = q_train[i*batch_size:(i+1)*batch_size]\n",
    "#     print(a.shape)"
   ]
  },
  {
   "cell_type": "code",
   "execution_count": 22,
   "metadata": {
    "collapsed": false
   },
   "outputs": [],
   "source": [
    "class VRAE_2D():\n",
    "    def __init__(self, vocab_size=50000, max_length=300, latent_rep_size=50):\n",
    "        self.encoder = None\n",
    "        self.decoder = None\n",
    "        self.sentiment_predictor = None\n",
    "        self.autoencoder = None\n",
    "        \n",
    "        self.max_length = max_length\n",
    "        self.vocab_size = vocab_size\n",
    "        self.latent_rep_size = latent_rep_size\n",
    "\n",
    "        x = Input(shape=(max_length,))\n",
    "        self.x_embed = Embedding(vocab_size, 100, input_length=max_length, mask_zero=True)(x)\n",
    "\n",
    "        vae_loss, encoded = self._build_encoder(self.x_embed, latent_rep_size=latent_rep_size, max_length=max_length)\n",
    "        self.encoder = Model(x, encoded)\n",
    "\n",
    "        encoded_input = Input(shape=(latent_rep_size,))\n",
    "\n",
    "        decoded = self._build_decoder(encoded_input, vocab_size, max_length)\n",
    "        self.decoder = Model(encoded_input, decoded)\n",
    "\n",
    "        self.model = Model(x, self._build_decoder(encoded, vocab_size, max_length))\n",
    "\n",
    "        self.model.compile(optimizer='Adam',\n",
    "                                 loss=vae_loss)\n",
    "        \n",
    "    def _build_encoder(self, x, latent_rep_size=200, max_length=300, epsilon_std=0.01):\n",
    "        h = LSTM(200, name='lstm_1')(x)\n",
    "\n",
    "\n",
    "        def sampling(args):\n",
    "            z_mean_, z_log_var_ = args\n",
    "            batch_size = K.shape(z_mean_)[0]\n",
    "            epsilon = K.random_normal(shape=(batch_size, latent_rep_size), mean=0., stddev=epsilon_std)\n",
    "            return z_mean_ + K.exp(z_log_var_ / 2) * epsilon\n",
    "\n",
    "        z_mean = Dense(latent_rep_size, name='z_mean', activation='linear')(h)\n",
    "        z_log_var = Dense(latent_rep_size, name='z_log_var', activation='linear')(h)\n",
    "\n",
    "        def vae_loss(x, x_decoded_mean):\n",
    "            x = K.flatten(x)\n",
    "            x_decoded_mean = K.flatten(x_decoded_mean)\n",
    "            xent_loss = max_length * objectives.binary_crossentropy(x, x_decoded_mean)\n",
    "            kl_loss = - 0.5 * K.mean(1 + z_log_var - K.square(z_mean) - K.exp(z_log_var), axis=-1)\n",
    "            return xent_loss + kl_loss\n",
    "\n",
    "        return (vae_loss, Lambda(sampling, output_shape=(latent_rep_size,), name='lambda')([z_mean, z_log_var]))\n",
    "    \n",
    "    def _build_decoder(self, encoded, vocab_size, max_length):\n",
    "        \n",
    "        repeated_context = RepeatVector(max_length)(encoded)\n",
    "        h = LSTM(200, return_sequences=True, name='dec_lstm_1')(repeated_context)\n",
    "        decoded = TimeDistributed(Dense(vocab_size, activation='softmax'), name='decoded_mean')(h)\n",
    "\n",
    "        return decoded\n",
    "\n"
   ]
  },
  {
   "cell_type": "code",
   "execution_count": 33,
   "metadata": {
    "collapsed": false
   },
   "outputs": [
    {
     "name": "stdout",
     "output_type": "stream",
     "text": [
      "Start training the model\n",
      "Epoch 1/1\n",
      " - 3s - loss: 0.0048\n",
      "NDCG: 0.752148\n",
      "MAP: 0.637589\n"
     ]
    }
   ],
   "source": [
    "print(\"Start training the model\")\n",
    "latent_dim = 100\n",
    "batch_size = 64\n",
    "vae = VRAE_2D(nb_words, max_len, latent_dim)  \n",
    "cosine = CosineSim(latent_dim)\n",
    "\n",
    "file_dir = '/data/t-mipha/data/agi_encoder/v4/universal/CLICKED_QQ_EN_universal_train_1M.txt'\n",
    "\n",
    "reader = pd.read_csv(file_dir, chunksize=batch_size, iterator=True, usecols=[0,1], names=[\"q\", \"d\"], sep=\"\\t\", header=None, error_bad_lines=False)\n",
    "\n",
    "def sent_generator(reader, tokeniser, batch_size, max_len, nb_words):\n",
    "    for df in reader:\n",
    "        q = pad_sequences(tokeniser.texts_to_sequences(df.q.tolist()), maxlen=max_len)\n",
    "\n",
    "        q_one_hot = to_categorical(q, nb_words)   \n",
    "        q_one_hot = q_one_hot.reshape(batch_size, max_len, nb_words)\n",
    "        \n",
    "        \n",
    "        yield q, q_one_hot\n",
    "\n",
    "        \n",
    "vae.model.fit_generator(sent_generator(reader, tokeniser, batch_size, max_len, nb_words), steps_per_epoch=1, epochs=1, verbose=2, callbacks=[TQDMNotebookCallback()])       \n",
    "pred = cosine.model.predict([vae.encoder.predict(q_test), vae.encoder.predict(d_test)])\n",
    "pred = convert_2_trec(df_test.q.tolist(), df_test.d.tolist(), pred, False)\n",
    "evaluate(qrel, pred)       "
   ]
  },
  {
   "cell_type": "code",
   "execution_count": null,
   "metadata": {
    "collapsed": true
   },
   "outputs": [],
   "source": []
  }
 ],
 "metadata": {
  "kernelspec": {
   "display_name": "Python 3",
   "language": "python",
   "name": "python3"
  },
  "language_info": {
   "codemirror_mode": {
    "name": "ipython",
    "version": 3
   },
   "file_extension": ".py",
   "mimetype": "text/x-python",
   "name": "python",
   "nbconvert_exporter": "python",
   "pygments_lexer": "ipython3",
   "version": "3.6.0"
  },
  "widgets": {
   "state": {
    "02df72dad0b34274a1d6d3fea45760f0": {
     "views": [
      {
       "cell_index": 3
      }
     ]
    },
    "0b9549e0c006469a8be48f78ac1349fc": {
     "views": [
      {
       "cell_index": 3
      }
     ]
    },
    "2a7f4a2293974986ba785cce24420141": {
     "views": [
      {
       "cell_index": 3
      }
     ]
    },
    "7b5503bc9655404f88799b669aedb28c": {
     "views": [
      {
       "cell_index": 3
      }
     ]
    },
    "7c288f1b72d24f34b94f33e8e1daa7de": {
     "views": [
      {
       "cell_index": 3
      }
     ]
    },
    "a9cb277c6b334b129b2e1d711fdd7003": {
     "views": [
      {
       "cell_index": 3
      }
     ]
    },
    "aaf03c7a943a44a5826c0effe2b7dd6f": {
     "views": [
      {
       "cell_index": 3
      }
     ]
    },
    "b344186eb29e48c78e8cdd4251e2162c": {
     "views": [
      {
       "cell_index": 3
      }
     ]
    },
    "e132a87939a041a2a0b1a1d8cc1f0405": {
     "views": [
      {
       "cell_index": 3
      }
     ]
    }
   },
   "version": "1.2.0"
  }
 },
 "nbformat": 4,
 "nbformat_minor": 2
}
